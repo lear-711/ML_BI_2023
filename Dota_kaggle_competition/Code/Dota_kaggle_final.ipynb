{
 "cells": [
  {
   "attachments": {},
   "cell_type": "markdown",
   "id": "16f57c4c",
   "metadata": {
    "papermill": {
     "duration": 0.044486,
     "end_time": "2022-02-13T23:28:22.423626",
     "exception": false,
     "start_time": "2022-02-13T23:28:22.379140",
     "status": "completed"
    },
    "tags": []
   },
   "source": [
    "# <center> Предсказание победителя в Dota 2\n",
    "<center> <img src=\"https://meduza.io/impro/YnJZAHUW6WHz_JQm1uRPkTql_qAhbfxt3oFJLGH7CJg/fill/980/0/ce/1/aHR0cHM6Ly9tZWR1/emEuaW8vaW1hZ2Uv/YXR0YWNobWVudHMv/aW1hZ2VzLzAwNy8x/NTcvNjk1L29yaWdp/bmFsL0tMVThLbUti/ZG5pSzlibDA0Wmlw/WXcuanBn.webp\" width=\"700\" height=\"700\">"
   ]
  },
  {
   "attachments": {},
   "cell_type": "markdown",
   "id": "c6476116",
   "metadata": {
    "papermill": {
     "duration": 0.042953,
     "end_time": "2022-02-13T23:28:22.510310",
     "exception": false,
     "start_time": "2022-02-13T23:28:22.467357",
     "status": "completed"
    },
    "tags": []
   },
   "source": [
    "[Почитать подбробнее](https://meduza.io/feature/2021/10/19/rossiyskaya-komanda-vyigrala-chempionat-mira-po-dota-2-i-poluchila-18-millionov-dollarov-postoyte-otkuda-takie-dengi-neuzheli-igrat-v-dotu-tak-slozhno)"
   ]
  },
  {
   "attachments": {},
   "cell_type": "markdown",
   "id": "c641b6a4",
   "metadata": {
    "papermill": {
     "duration": 0.042954,
     "end_time": "2022-02-13T23:28:22.598330",
     "exception": false,
     "start_time": "2022-02-13T23:28:22.555376",
     "status": "completed"
    },
    "tags": []
   },
   "source": [
    "#### [Оригинальная статья](https://arxiv.org/pdf/2106.01782.pdf)\n",
    "    \n",
    "### Начало\n",
    "\n",
    "Посмотрим на готовые признаки и сделаем первую посылку. \n",
    "\n",
    "1. [Описание данных](#Описание-данных)\n",
    "2. [Описание признаков](#Описание-признаков)\n",
    "3. [Наша первая модель](#Наша-первая-модель)\n",
    "4. [Посылка](#Посылка)\n",
    "\n",
    "### Первые шаги на пути в датасайенс\n",
    "\n",
    "5. [Кросс-валидация](#Кросс-валидация)\n",
    "6. [Что есть в json файлах?](#Что-есть-в-json-файлах?)\n",
    "7. [Feature engineering](#Feature-engineering)"
   ]
  },
  {
   "attachments": {},
   "cell_type": "markdown",
   "id": "f2f73276",
   "metadata": {
    "papermill": {
     "duration": 0.045141,
     "end_time": "2022-02-13T23:28:22.688388",
     "exception": false,
     "start_time": "2022-02-13T23:28:22.643247",
     "status": "completed"
    },
    "tags": []
   },
   "source": [
    "### Импорты"
   ]
  },
  {
   "cell_type": "code",
   "execution_count": 1,
   "id": "7f4f3d02",
   "metadata": {
    "execution": {
     "iopub.execute_input": "2022-02-13T23:28:22.779257Z",
     "iopub.status.busy": "2022-02-13T23:28:22.778075Z",
     "iopub.status.idle": "2022-02-13T23:28:24.258416Z",
     "shell.execute_reply": "2022-02-13T23:28:24.257521Z",
     "shell.execute_reply.started": "2022-02-13T22:54:24.504400Z"
    },
    "papermill": {
     "duration": 1.526998,
     "end_time": "2022-02-13T23:28:24.258607",
     "exception": false,
     "start_time": "2022-02-13T23:28:22.731609",
     "status": "completed"
    },
    "tags": []
   },
   "outputs": [],
   "source": [
    "import os\n",
    "import json\n",
    "import pandas as pd\n",
    "import datetime\n",
    "import warnings\n",
    "import seaborn as sns\n",
    "import matplotlib.pyplot as plt\n",
    "from sklearn.model_selection import train_test_split, ShuffleSplit, cross_val_score, GridSearchCV\n",
    "from sklearn.ensemble import RandomForestClassifier\n",
    "from sklearn.metrics import roc_auc_score, accuracy_score\n",
    "\n",
    "%matplotlib inline"
   ]
  },
  {
   "cell_type": "code",
   "execution_count": 2,
   "id": "f80c0104",
   "metadata": {
    "execution": {
     "iopub.execute_input": "2022-02-13T23:28:24.349946Z",
     "iopub.status.busy": "2022-02-13T23:28:24.349155Z",
     "iopub.status.idle": "2022-02-13T23:28:24.354489Z",
     "shell.execute_reply": "2022-02-13T23:28:24.353950Z",
     "shell.execute_reply.started": "2022-02-13T22:54:27.968328Z"
    },
    "papermill": {
     "duration": 0.051811,
     "end_time": "2022-02-13T23:28:24.354647",
     "exception": false,
     "start_time": "2022-02-13T23:28:24.302836",
     "status": "completed"
    },
    "tags": []
   },
   "outputs": [],
   "source": [
    "SEED = 10801\n",
    "sns.set_style(style=\"whitegrid\")\n",
    "plt.rcParams[\"figure.figsize\"] = 12, 8\n",
    "warnings.filterwarnings(\"ignore\")"
   ]
  },
  {
   "attachments": {},
   "cell_type": "markdown",
   "id": "0e4a7481",
   "metadata": {
    "papermill": {
     "duration": 0.042707,
     "end_time": "2022-02-13T23:28:24.441767",
     "exception": false,
     "start_time": "2022-02-13T23:28:24.399060",
     "status": "completed"
    },
    "tags": []
   },
   "source": [
    "## <left>Описание данных\n",
    "\n",
    "Файлы:\n",
    "\n",
    "- `sample_submission.csv`: пример файла-посылки\n",
    "- `train_raw_data.jsonl`, `test_raw_data.jsonl`: \"сырые\" данные \n",
    "- `train_data.csv`, `test_data.csv`: признаки, созданные авторами\n",
    "- `train_targets.csv`: результаты тренировочных игр"
   ]
  },
  {
   "attachments": {},
   "cell_type": "markdown",
   "id": "8f0fa0db",
   "metadata": {
    "papermill": {
     "duration": 0.042685,
     "end_time": "2022-02-13T23:28:24.527617",
     "exception": false,
     "start_time": "2022-02-13T23:28:24.484932",
     "status": "completed"
    },
    "tags": []
   },
   "source": [
    "## <left>Описание признаков\n",
    "    \n",
    "Набор простых признаков, описывающих игроков и команды в целом"
   ]
  },
  {
   "cell_type": "code",
   "execution_count": 3,
   "id": "d4292cbf",
   "metadata": {
    "execution": {
     "iopub.execute_input": "2022-02-13T23:28:24.621037Z",
     "iopub.status.busy": "2022-02-13T23:28:24.617940Z",
     "iopub.status.idle": "2022-02-13T23:28:25.955763Z",
     "shell.execute_reply": "2022-02-13T23:28:25.955019Z",
     "shell.execute_reply.started": "2022-02-13T22:54:30.336618Z"
    },
    "papermill": {
     "duration": 1.383765,
     "end_time": "2022-02-13T23:28:25.955912",
     "exception": false,
     "start_time": "2022-02-13T23:28:24.572147",
     "status": "completed"
    },
    "tags": []
   },
   "outputs": [],
   "source": [
    "PATH_TO_DATA = \"./\"\n",
    "\n",
    "df_train_features = pd.read_csv(os.path.join(PATH_TO_DATA, \n",
    "                                             \"train_data.csv\"), \n",
    "                                    index_col=\"match_id_hash\")\n",
    "df_train_targets = pd.read_csv(os.path.join(PATH_TO_DATA, \n",
    "                                            \"train_targets.csv\"), \n",
    "                                   index_col=\"match_id_hash\")"
   ]
  },
  {
   "cell_type": "code",
   "execution_count": 4,
   "id": "1915e22d",
   "metadata": {
    "execution": {
     "iopub.execute_input": "2022-02-13T23:28:26.051436Z",
     "iopub.status.busy": "2022-02-13T23:28:26.050453Z",
     "iopub.status.idle": "2022-02-13T23:28:26.054853Z",
     "shell.execute_reply": "2022-02-13T23:28:26.055390Z",
     "shell.execute_reply.started": "2022-02-13T22:54:33.105218Z"
    },
    "papermill": {
     "duration": 0.055919,
     "end_time": "2022-02-13T23:28:26.055573",
     "exception": false,
     "start_time": "2022-02-13T23:28:25.999654",
     "status": "completed"
    },
    "tags": []
   },
   "outputs": [
    {
     "data": {
      "text/plain": [
       "(31698, 245)"
      ]
     },
     "execution_count": 4,
     "metadata": {},
     "output_type": "execute_result"
    }
   ],
   "source": [
    "df_train_features.shape"
   ]
  },
  {
   "cell_type": "code",
   "execution_count": 5,
   "id": "40e1cb44",
   "metadata": {
    "execution": {
     "iopub.execute_input": "2022-02-13T23:28:26.154088Z",
     "iopub.status.busy": "2022-02-13T23:28:26.153391Z",
     "iopub.status.idle": "2022-02-13T23:28:26.173095Z",
     "shell.execute_reply": "2022-02-13T23:28:26.173612Z",
     "shell.execute_reply.started": "2022-02-13T22:54:34.150651Z"
    },
    "papermill": {
     "duration": 0.073611,
     "end_time": "2022-02-13T23:28:26.173793",
     "exception": false,
     "start_time": "2022-02-13T23:28:26.100182",
     "status": "completed"
    },
    "tags": []
   },
   "outputs": [
    {
     "data": {
      "text/html": [
       "<div>\n",
       "<style scoped>\n",
       "    .dataframe tbody tr th:only-of-type {\n",
       "        vertical-align: middle;\n",
       "    }\n",
       "\n",
       "    .dataframe tbody tr th {\n",
       "        vertical-align: top;\n",
       "    }\n",
       "\n",
       "    .dataframe thead th {\n",
       "        text-align: right;\n",
       "    }\n",
       "</style>\n",
       "<table border=\"1\" class=\"dataframe\">\n",
       "  <thead>\n",
       "    <tr style=\"text-align: right;\">\n",
       "      <th></th>\n",
       "      <th>game_time</th>\n",
       "      <th>game_mode</th>\n",
       "      <th>lobby_type</th>\n",
       "      <th>objectives_len</th>\n",
       "      <th>chat_len</th>\n",
       "      <th>r1_hero_id</th>\n",
       "      <th>r1_kills</th>\n",
       "      <th>r1_deaths</th>\n",
       "      <th>r1_assists</th>\n",
       "      <th>r1_denies</th>\n",
       "      <th>...</th>\n",
       "      <th>d5_stuns</th>\n",
       "      <th>d5_creeps_stacked</th>\n",
       "      <th>d5_camps_stacked</th>\n",
       "      <th>d5_rune_pickups</th>\n",
       "      <th>d5_firstblood_claimed</th>\n",
       "      <th>d5_teamfight_participation</th>\n",
       "      <th>d5_towers_killed</th>\n",
       "      <th>d5_roshans_killed</th>\n",
       "      <th>d5_obs_placed</th>\n",
       "      <th>d5_sen_placed</th>\n",
       "    </tr>\n",
       "    <tr>\n",
       "      <th>match_id_hash</th>\n",
       "      <th></th>\n",
       "      <th></th>\n",
       "      <th></th>\n",
       "      <th></th>\n",
       "      <th></th>\n",
       "      <th></th>\n",
       "      <th></th>\n",
       "      <th></th>\n",
       "      <th></th>\n",
       "      <th></th>\n",
       "      <th></th>\n",
       "      <th></th>\n",
       "      <th></th>\n",
       "      <th></th>\n",
       "      <th></th>\n",
       "      <th></th>\n",
       "      <th></th>\n",
       "      <th></th>\n",
       "      <th></th>\n",
       "      <th></th>\n",
       "      <th></th>\n",
       "    </tr>\n",
       "  </thead>\n",
       "  <tbody>\n",
       "    <tr>\n",
       "      <th>b9c57c450ce74a2af79c9ce96fac144d</th>\n",
       "      <td>658</td>\n",
       "      <td>4</td>\n",
       "      <td>0</td>\n",
       "      <td>3</td>\n",
       "      <td>10</td>\n",
       "      <td>15</td>\n",
       "      <td>7</td>\n",
       "      <td>2</td>\n",
       "      <td>0</td>\n",
       "      <td>7</td>\n",
       "      <td>...</td>\n",
       "      <td>0.000000</td>\n",
       "      <td>0</td>\n",
       "      <td>0</td>\n",
       "      <td>0</td>\n",
       "      <td>0</td>\n",
       "      <td>0.00</td>\n",
       "      <td>0</td>\n",
       "      <td>0</td>\n",
       "      <td>0</td>\n",
       "      <td>0</td>\n",
       "    </tr>\n",
       "    <tr>\n",
       "      <th>6db558535151ea18ca70a6892197db41</th>\n",
       "      <td>21</td>\n",
       "      <td>23</td>\n",
       "      <td>0</td>\n",
       "      <td>0</td>\n",
       "      <td>0</td>\n",
       "      <td>101</td>\n",
       "      <td>0</td>\n",
       "      <td>0</td>\n",
       "      <td>0</td>\n",
       "      <td>0</td>\n",
       "      <td>...</td>\n",
       "      <td>0.000000</td>\n",
       "      <td>0</td>\n",
       "      <td>0</td>\n",
       "      <td>0</td>\n",
       "      <td>0</td>\n",
       "      <td>0.00</td>\n",
       "      <td>0</td>\n",
       "      <td>0</td>\n",
       "      <td>0</td>\n",
       "      <td>0</td>\n",
       "    </tr>\n",
       "    <tr>\n",
       "      <th>19c39fe2af2b547e48708ca005c6ae74</th>\n",
       "      <td>160</td>\n",
       "      <td>22</td>\n",
       "      <td>7</td>\n",
       "      <td>0</td>\n",
       "      <td>0</td>\n",
       "      <td>57</td>\n",
       "      <td>0</td>\n",
       "      <td>0</td>\n",
       "      <td>0</td>\n",
       "      <td>1</td>\n",
       "      <td>...</td>\n",
       "      <td>0.000000</td>\n",
       "      <td>0</td>\n",
       "      <td>0</td>\n",
       "      <td>0</td>\n",
       "      <td>0</td>\n",
       "      <td>0.00</td>\n",
       "      <td>0</td>\n",
       "      <td>0</td>\n",
       "      <td>0</td>\n",
       "      <td>0</td>\n",
       "    </tr>\n",
       "    <tr>\n",
       "      <th>c96d629dc0c39f0c616d1949938a6ba6</th>\n",
       "      <td>1016</td>\n",
       "      <td>22</td>\n",
       "      <td>0</td>\n",
       "      <td>1</td>\n",
       "      <td>0</td>\n",
       "      <td>119</td>\n",
       "      <td>0</td>\n",
       "      <td>3</td>\n",
       "      <td>3</td>\n",
       "      <td>5</td>\n",
       "      <td>...</td>\n",
       "      <td>8.264696</td>\n",
       "      <td>0</td>\n",
       "      <td>0</td>\n",
       "      <td>3</td>\n",
       "      <td>0</td>\n",
       "      <td>0.25</td>\n",
       "      <td>0</td>\n",
       "      <td>0</td>\n",
       "      <td>3</td>\n",
       "      <td>0</td>\n",
       "    </tr>\n",
       "    <tr>\n",
       "      <th>156c88bff4e9c4668b0f53df3d870f1b</th>\n",
       "      <td>582</td>\n",
       "      <td>22</td>\n",
       "      <td>7</td>\n",
       "      <td>2</td>\n",
       "      <td>2</td>\n",
       "      <td>12</td>\n",
       "      <td>3</td>\n",
       "      <td>1</td>\n",
       "      <td>2</td>\n",
       "      <td>9</td>\n",
       "      <td>...</td>\n",
       "      <td>15.762911</td>\n",
       "      <td>3</td>\n",
       "      <td>1</td>\n",
       "      <td>0</td>\n",
       "      <td>1</td>\n",
       "      <td>0.50</td>\n",
       "      <td>0</td>\n",
       "      <td>0</td>\n",
       "      <td>3</td>\n",
       "      <td>0</td>\n",
       "    </tr>\n",
       "  </tbody>\n",
       "</table>\n",
       "<p>5 rows × 245 columns</p>\n",
       "</div>"
      ],
      "text/plain": [
       "                                  game_time  game_mode  lobby_type  \\\n",
       "match_id_hash                                                        \n",
       "b9c57c450ce74a2af79c9ce96fac144d        658          4           0   \n",
       "6db558535151ea18ca70a6892197db41         21         23           0   \n",
       "19c39fe2af2b547e48708ca005c6ae74        160         22           7   \n",
       "c96d629dc0c39f0c616d1949938a6ba6       1016         22           0   \n",
       "156c88bff4e9c4668b0f53df3d870f1b        582         22           7   \n",
       "\n",
       "                                  objectives_len  chat_len  r1_hero_id  \\\n",
       "match_id_hash                                                            \n",
       "b9c57c450ce74a2af79c9ce96fac144d               3        10          15   \n",
       "6db558535151ea18ca70a6892197db41               0         0         101   \n",
       "19c39fe2af2b547e48708ca005c6ae74               0         0          57   \n",
       "c96d629dc0c39f0c616d1949938a6ba6               1         0         119   \n",
       "156c88bff4e9c4668b0f53df3d870f1b               2         2          12   \n",
       "\n",
       "                                  r1_kills  r1_deaths  r1_assists  r1_denies  \\\n",
       "match_id_hash                                                                  \n",
       "b9c57c450ce74a2af79c9ce96fac144d         7          2           0          7   \n",
       "6db558535151ea18ca70a6892197db41         0          0           0          0   \n",
       "19c39fe2af2b547e48708ca005c6ae74         0          0           0          1   \n",
       "c96d629dc0c39f0c616d1949938a6ba6         0          3           3          5   \n",
       "156c88bff4e9c4668b0f53df3d870f1b         3          1           2          9   \n",
       "\n",
       "                                  ...   d5_stuns  d5_creeps_stacked  \\\n",
       "match_id_hash                     ...                                 \n",
       "b9c57c450ce74a2af79c9ce96fac144d  ...   0.000000                  0   \n",
       "6db558535151ea18ca70a6892197db41  ...   0.000000                  0   \n",
       "19c39fe2af2b547e48708ca005c6ae74  ...   0.000000                  0   \n",
       "c96d629dc0c39f0c616d1949938a6ba6  ...   8.264696                  0   \n",
       "156c88bff4e9c4668b0f53df3d870f1b  ...  15.762911                  3   \n",
       "\n",
       "                                  d5_camps_stacked  d5_rune_pickups  \\\n",
       "match_id_hash                                                         \n",
       "b9c57c450ce74a2af79c9ce96fac144d                 0                0   \n",
       "6db558535151ea18ca70a6892197db41                 0                0   \n",
       "19c39fe2af2b547e48708ca005c6ae74                 0                0   \n",
       "c96d629dc0c39f0c616d1949938a6ba6                 0                3   \n",
       "156c88bff4e9c4668b0f53df3d870f1b                 1                0   \n",
       "\n",
       "                                  d5_firstblood_claimed  \\\n",
       "match_id_hash                                             \n",
       "b9c57c450ce74a2af79c9ce96fac144d                      0   \n",
       "6db558535151ea18ca70a6892197db41                      0   \n",
       "19c39fe2af2b547e48708ca005c6ae74                      0   \n",
       "c96d629dc0c39f0c616d1949938a6ba6                      0   \n",
       "156c88bff4e9c4668b0f53df3d870f1b                      1   \n",
       "\n",
       "                                  d5_teamfight_participation  \\\n",
       "match_id_hash                                                  \n",
       "b9c57c450ce74a2af79c9ce96fac144d                        0.00   \n",
       "6db558535151ea18ca70a6892197db41                        0.00   \n",
       "19c39fe2af2b547e48708ca005c6ae74                        0.00   \n",
       "c96d629dc0c39f0c616d1949938a6ba6                        0.25   \n",
       "156c88bff4e9c4668b0f53df3d870f1b                        0.50   \n",
       "\n",
       "                                  d5_towers_killed  d5_roshans_killed  \\\n",
       "match_id_hash                                                           \n",
       "b9c57c450ce74a2af79c9ce96fac144d                 0                  0   \n",
       "6db558535151ea18ca70a6892197db41                 0                  0   \n",
       "19c39fe2af2b547e48708ca005c6ae74                 0                  0   \n",
       "c96d629dc0c39f0c616d1949938a6ba6                 0                  0   \n",
       "156c88bff4e9c4668b0f53df3d870f1b                 0                  0   \n",
       "\n",
       "                                  d5_obs_placed  d5_sen_placed  \n",
       "match_id_hash                                                   \n",
       "b9c57c450ce74a2af79c9ce96fac144d              0              0  \n",
       "6db558535151ea18ca70a6892197db41              0              0  \n",
       "19c39fe2af2b547e48708ca005c6ae74              0              0  \n",
       "c96d629dc0c39f0c616d1949938a6ba6              3              0  \n",
       "156c88bff4e9c4668b0f53df3d870f1b              3              0  \n",
       "\n",
       "[5 rows x 245 columns]"
      ]
     },
     "execution_count": 5,
     "metadata": {},
     "output_type": "execute_result"
    }
   ],
   "source": [
    "df_train_features.head()"
   ]
  },
  {
   "attachments": {},
   "cell_type": "markdown",
   "id": "6f099b25",
   "metadata": {
    "papermill": {
     "duration": 0.043707,
     "end_time": "2022-02-13T23:28:26.261790",
     "exception": false,
     "start_time": "2022-02-13T23:28:26.218083",
     "status": "completed"
    },
    "tags": []
   },
   "source": [
    "Имеем ~32 тысячи наблюдений, каждое из которых характеризуется уникальным `match_id_hash` (захэшированное id матча), и 245 признаков. `game_time` показывает момент времени, в который получены эти данные. То есть по сути это не длительность самого матча, а например, его середина, таким образом, в итоге мы сможем получить модель, которая будет предсказывать вероятность победы каждой из команд в течение матча (хорошо подходит для букмекеров)."
   ]
  },
  {
   "attachments": {},
   "cell_type": "markdown",
   "id": "04f52918",
   "metadata": {
    "papermill": {
     "duration": 0.043619,
     "end_time": "2022-02-13T23:28:26.350788",
     "exception": false,
     "start_time": "2022-02-13T23:28:26.307169",
     "status": "completed"
    },
    "tags": []
   },
   "source": [
    "Нас интересует поле `radiant_win` (так называется одна из команд, вторая - dire). Остальные колоки здесь по сути получены из \"будущего\" и есть только для тренировочных данных, поэтому на них можно просто посмотреть)."
   ]
  },
  {
   "cell_type": "code",
   "execution_count": 6,
   "id": "25bdf202",
   "metadata": {
    "execution": {
     "iopub.execute_input": "2022-02-13T23:28:26.444111Z",
     "iopub.status.busy": "2022-02-13T23:28:26.442619Z",
     "iopub.status.idle": "2022-02-13T23:28:26.453906Z",
     "shell.execute_reply": "2022-02-13T23:28:26.454413Z",
     "shell.execute_reply.started": "2022-02-13T22:54:36.171466Z"
    },
    "papermill": {
     "duration": 0.059594,
     "end_time": "2022-02-13T23:28:26.454584",
     "exception": false,
     "start_time": "2022-02-13T23:28:26.394990",
     "status": "completed"
    },
    "tags": []
   },
   "outputs": [
    {
     "data": {
      "text/html": [
       "<div>\n",
       "<style scoped>\n",
       "    .dataframe tbody tr th:only-of-type {\n",
       "        vertical-align: middle;\n",
       "    }\n",
       "\n",
       "    .dataframe tbody tr th {\n",
       "        vertical-align: top;\n",
       "    }\n",
       "\n",
       "    .dataframe thead th {\n",
       "        text-align: right;\n",
       "    }\n",
       "</style>\n",
       "<table border=\"1\" class=\"dataframe\">\n",
       "  <thead>\n",
       "    <tr style=\"text-align: right;\">\n",
       "      <th></th>\n",
       "      <th>game_time</th>\n",
       "      <th>radiant_win</th>\n",
       "      <th>duration</th>\n",
       "      <th>time_remaining</th>\n",
       "      <th>next_roshan_team</th>\n",
       "    </tr>\n",
       "    <tr>\n",
       "      <th>match_id_hash</th>\n",
       "      <th></th>\n",
       "      <th></th>\n",
       "      <th></th>\n",
       "      <th></th>\n",
       "      <th></th>\n",
       "    </tr>\n",
       "  </thead>\n",
       "  <tbody>\n",
       "    <tr>\n",
       "      <th>b9c57c450ce74a2af79c9ce96fac144d</th>\n",
       "      <td>658</td>\n",
       "      <td>True</td>\n",
       "      <td>1154</td>\n",
       "      <td>496</td>\n",
       "      <td>NaN</td>\n",
       "    </tr>\n",
       "    <tr>\n",
       "      <th>6db558535151ea18ca70a6892197db41</th>\n",
       "      <td>21</td>\n",
       "      <td>True</td>\n",
       "      <td>1503</td>\n",
       "      <td>1482</td>\n",
       "      <td>Radiant</td>\n",
       "    </tr>\n",
       "    <tr>\n",
       "      <th>19c39fe2af2b547e48708ca005c6ae74</th>\n",
       "      <td>160</td>\n",
       "      <td>False</td>\n",
       "      <td>2063</td>\n",
       "      <td>1903</td>\n",
       "      <td>NaN</td>\n",
       "    </tr>\n",
       "    <tr>\n",
       "      <th>c96d629dc0c39f0c616d1949938a6ba6</th>\n",
       "      <td>1016</td>\n",
       "      <td>True</td>\n",
       "      <td>2147</td>\n",
       "      <td>1131</td>\n",
       "      <td>Radiant</td>\n",
       "    </tr>\n",
       "    <tr>\n",
       "      <th>156c88bff4e9c4668b0f53df3d870f1b</th>\n",
       "      <td>582</td>\n",
       "      <td>False</td>\n",
       "      <td>1927</td>\n",
       "      <td>1345</td>\n",
       "      <td>Dire</td>\n",
       "    </tr>\n",
       "  </tbody>\n",
       "</table>\n",
       "</div>"
      ],
      "text/plain": [
       "                                  game_time  radiant_win  duration  \\\n",
       "match_id_hash                                                        \n",
       "b9c57c450ce74a2af79c9ce96fac144d        658         True      1154   \n",
       "6db558535151ea18ca70a6892197db41         21         True      1503   \n",
       "19c39fe2af2b547e48708ca005c6ae74        160        False      2063   \n",
       "c96d629dc0c39f0c616d1949938a6ba6       1016         True      2147   \n",
       "156c88bff4e9c4668b0f53df3d870f1b        582        False      1927   \n",
       "\n",
       "                                  time_remaining next_roshan_team  \n",
       "match_id_hash                                                      \n",
       "b9c57c450ce74a2af79c9ce96fac144d             496              NaN  \n",
       "6db558535151ea18ca70a6892197db41            1482          Radiant  \n",
       "19c39fe2af2b547e48708ca005c6ae74            1903              NaN  \n",
       "c96d629dc0c39f0c616d1949938a6ba6            1131          Radiant  \n",
       "156c88bff4e9c4668b0f53df3d870f1b            1345             Dire  "
      ]
     },
     "execution_count": 6,
     "metadata": {},
     "output_type": "execute_result"
    }
   ],
   "source": [
    "df_train_targets.head()"
   ]
  },
  {
   "attachments": {},
   "cell_type": "markdown",
   "id": "0fc0b99a",
   "metadata": {
    "papermill": {
     "duration": 0.046788,
     "end_time": "2022-02-13T23:28:26.547845",
     "exception": false,
     "start_time": "2022-02-13T23:28:26.501057",
     "status": "completed"
    },
    "tags": []
   },
   "source": [
    "## <left>Наша первая модель"
   ]
  },
  {
   "cell_type": "code",
   "execution_count": 7,
   "id": "c45f2076",
   "metadata": {
    "execution": {
     "iopub.execute_input": "2022-02-13T23:28:26.647577Z",
     "iopub.status.busy": "2022-02-13T23:28:26.645040Z",
     "iopub.status.idle": "2022-02-13T23:28:26.671991Z",
     "shell.execute_reply": "2022-02-13T23:28:26.672585Z",
     "shell.execute_reply.started": "2022-02-13T22:54:39.221703Z"
    },
    "papermill": {
     "duration": 0.078234,
     "end_time": "2022-02-13T23:28:26.672769",
     "exception": false,
     "start_time": "2022-02-13T23:28:26.594535",
     "status": "completed"
    },
    "tags": []
   },
   "outputs": [],
   "source": [
    "X = df_train_features.values\n",
    "y = df_train_targets[\"radiant_win\"].values.astype(\"int8\")"
   ]
  },
  {
   "cell_type": "code",
   "execution_count": 8,
   "id": "5c3c1a2b",
   "metadata": {
    "execution": {
     "iopub.execute_input": "2022-02-13T23:28:26.771678Z",
     "iopub.status.busy": "2022-02-13T23:28:26.768845Z",
     "iopub.status.idle": "2022-02-13T23:28:26.870676Z",
     "shell.execute_reply": "2022-02-13T23:28:26.871233Z",
     "shell.execute_reply.started": "2022-02-13T22:54:39.486872Z"
    },
    "papermill": {
     "duration": 0.152481,
     "end_time": "2022-02-13T23:28:26.871414",
     "exception": false,
     "start_time": "2022-02-13T23:28:26.718933",
     "status": "completed"
    },
    "tags": []
   },
   "outputs": [],
   "source": [
    "X_train, X_valid, y_train, y_valid = train_test_split(X, y, \n",
    "                                                      test_size=0.3, \n",
    "                                                      random_state=SEED)"
   ]
  },
  {
   "attachments": {},
   "cell_type": "markdown",
   "id": "e85f261b",
   "metadata": {
    "papermill": {
     "duration": 0.04485,
     "end_time": "2022-02-13T23:28:26.961156",
     "exception": false,
     "start_time": "2022-02-13T23:28:26.916306",
     "status": "completed"
    },
    "tags": []
   },
   "source": [
    "#### Обучим случайный лес"
   ]
  },
  {
   "cell_type": "code",
   "execution_count": 9,
   "id": "60b3f67e",
   "metadata": {
    "execution": {
     "iopub.execute_input": "2022-02-13T23:28:27.054420Z",
     "iopub.status.busy": "2022-02-13T23:28:27.053634Z",
     "iopub.status.idle": "2022-02-13T23:28:36.072462Z",
     "shell.execute_reply": "2022-02-13T23:28:36.072928Z",
     "shell.execute_reply.started": "2022-02-13T22:55:21.167897Z"
    },
    "papermill": {
     "duration": 9.067224,
     "end_time": "2022-02-13T23:28:36.073116",
     "exception": false,
     "start_time": "2022-02-13T23:28:27.005892",
     "status": "completed"
    },
    "tags": []
   },
   "outputs": [
    {
     "name": "stdout",
     "output_type": "stream",
     "text": [
      "CPU times: user 17.4 s, sys: 180 ms, total: 17.6 s\n",
      "Wall time: 2.1 s\n"
     ]
    },
    {
     "data": {
      "text/html": [
       "<style>#sk-container-id-1 {color: black;background-color: white;}#sk-container-id-1 pre{padding: 0;}#sk-container-id-1 div.sk-toggleable {background-color: white;}#sk-container-id-1 label.sk-toggleable__label {cursor: pointer;display: block;width: 100%;margin-bottom: 0;padding: 0.3em;box-sizing: border-box;text-align: center;}#sk-container-id-1 label.sk-toggleable__label-arrow:before {content: \"▸\";float: left;margin-right: 0.25em;color: #696969;}#sk-container-id-1 label.sk-toggleable__label-arrow:hover:before {color: black;}#sk-container-id-1 div.sk-estimator:hover label.sk-toggleable__label-arrow:before {color: black;}#sk-container-id-1 div.sk-toggleable__content {max-height: 0;max-width: 0;overflow: hidden;text-align: left;background-color: #f0f8ff;}#sk-container-id-1 div.sk-toggleable__content pre {margin: 0.2em;color: black;border-radius: 0.25em;background-color: #f0f8ff;}#sk-container-id-1 input.sk-toggleable__control:checked~div.sk-toggleable__content {max-height: 200px;max-width: 100%;overflow: auto;}#sk-container-id-1 input.sk-toggleable__control:checked~label.sk-toggleable__label-arrow:before {content: \"▾\";}#sk-container-id-1 div.sk-estimator input.sk-toggleable__control:checked~label.sk-toggleable__label {background-color: #d4ebff;}#sk-container-id-1 div.sk-label input.sk-toggleable__control:checked~label.sk-toggleable__label {background-color: #d4ebff;}#sk-container-id-1 input.sk-hidden--visually {border: 0;clip: rect(1px 1px 1px 1px);clip: rect(1px, 1px, 1px, 1px);height: 1px;margin: -1px;overflow: hidden;padding: 0;position: absolute;width: 1px;}#sk-container-id-1 div.sk-estimator {font-family: monospace;background-color: #f0f8ff;border: 1px dotted black;border-radius: 0.25em;box-sizing: border-box;margin-bottom: 0.5em;}#sk-container-id-1 div.sk-estimator:hover {background-color: #d4ebff;}#sk-container-id-1 div.sk-parallel-item::after {content: \"\";width: 100%;border-bottom: 1px solid gray;flex-grow: 1;}#sk-container-id-1 div.sk-label:hover label.sk-toggleable__label {background-color: #d4ebff;}#sk-container-id-1 div.sk-serial::before {content: \"\";position: absolute;border-left: 1px solid gray;box-sizing: border-box;top: 0;bottom: 0;left: 50%;z-index: 0;}#sk-container-id-1 div.sk-serial {display: flex;flex-direction: column;align-items: center;background-color: white;padding-right: 0.2em;padding-left: 0.2em;position: relative;}#sk-container-id-1 div.sk-item {position: relative;z-index: 1;}#sk-container-id-1 div.sk-parallel {display: flex;align-items: stretch;justify-content: center;background-color: white;position: relative;}#sk-container-id-1 div.sk-item::before, #sk-container-id-1 div.sk-parallel-item::before {content: \"\";position: absolute;border-left: 1px solid gray;box-sizing: border-box;top: 0;bottom: 0;left: 50%;z-index: -1;}#sk-container-id-1 div.sk-parallel-item {display: flex;flex-direction: column;z-index: 1;position: relative;background-color: white;}#sk-container-id-1 div.sk-parallel-item:first-child::after {align-self: flex-end;width: 50%;}#sk-container-id-1 div.sk-parallel-item:last-child::after {align-self: flex-start;width: 50%;}#sk-container-id-1 div.sk-parallel-item:only-child::after {width: 0;}#sk-container-id-1 div.sk-dashed-wrapped {border: 1px dashed gray;margin: 0 0.4em 0.5em 0.4em;box-sizing: border-box;padding-bottom: 0.4em;background-color: white;}#sk-container-id-1 div.sk-label label {font-family: monospace;font-weight: bold;display: inline-block;line-height: 1.2em;}#sk-container-id-1 div.sk-label-container {text-align: center;}#sk-container-id-1 div.sk-container {/* jupyter's `normalize.less` sets `[hidden] { display: none; }` but bootstrap.min.css set `[hidden] { display: none !important; }` so we also need the `!important` here to be able to override the default hidden behavior on the sphinx rendered scikit-learn.org. See: https://github.com/scikit-learn/scikit-learn/issues/21755 */display: inline-block !important;position: relative;}#sk-container-id-1 div.sk-text-repr-fallback {display: none;}</style><div id=\"sk-container-id-1\" class=\"sk-top-container\"><div class=\"sk-text-repr-fallback\"><pre>RandomForestClassifier(max_depth=7, n_estimators=300, n_jobs=-1,\n",
       "                       random_state=10801)</pre><b>In a Jupyter environment, please rerun this cell to show the HTML representation or trust the notebook. <br />On GitHub, the HTML representation is unable to render, please try loading this page with nbviewer.org.</b></div><div class=\"sk-container\" hidden><div class=\"sk-item\"><div class=\"sk-estimator sk-toggleable\"><input class=\"sk-toggleable__control sk-hidden--visually\" id=\"sk-estimator-id-1\" type=\"checkbox\" checked><label for=\"sk-estimator-id-1\" class=\"sk-toggleable__label sk-toggleable__label-arrow\">RandomForestClassifier</label><div class=\"sk-toggleable__content\"><pre>RandomForestClassifier(max_depth=7, n_estimators=300, n_jobs=-1,\n",
       "                       random_state=10801)</pre></div></div></div></div></div>"
      ],
      "text/plain": [
       "RandomForestClassifier(max_depth=7, n_estimators=300, n_jobs=-1,\n",
       "                       random_state=10801)"
      ]
     },
     "execution_count": 9,
     "metadata": {},
     "output_type": "execute_result"
    }
   ],
   "source": [
    "%%time\n",
    "rf_model = RandomForestClassifier(n_estimators=300, max_depth=7, n_jobs=-1, random_state=SEED)\n",
    "rf_model.fit(X_train, y_train)"
   ]
  },
  {
   "attachments": {},
   "cell_type": "markdown",
   "id": "0f5721ec",
   "metadata": {
    "papermill": {
     "duration": 0.045583,
     "end_time": "2022-02-13T23:28:36.165966",
     "exception": false,
     "start_time": "2022-02-13T23:28:36.120383",
     "status": "completed"
    },
    "tags": []
   },
   "source": [
    "#### Сделаем предсказания и оценим качество на отложенной части данных"
   ]
  },
  {
   "cell_type": "code",
   "execution_count": 10,
   "id": "eb9b4d92",
   "metadata": {
    "execution": {
     "iopub.execute_input": "2022-02-13T23:28:36.261354Z",
     "iopub.status.busy": "2022-02-13T23:28:36.260637Z",
     "iopub.status.idle": "2022-02-13T23:28:36.574159Z",
     "shell.execute_reply": "2022-02-13T23:28:36.573534Z",
     "shell.execute_reply.started": "2022-02-13T22:55:33.749369Z"
    },
    "papermill": {
     "duration": 0.362593,
     "end_time": "2022-02-13T23:28:36.574368",
     "exception": false,
     "start_time": "2022-02-13T23:28:36.211775",
     "status": "completed"
    },
    "tags": []
   },
   "outputs": [],
   "source": [
    "y_pred = rf_model.predict_proba(X_valid)[:, 1]"
   ]
  },
  {
   "cell_type": "code",
   "execution_count": 11,
   "id": "00ed6f11",
   "metadata": {
    "execution": {
     "iopub.execute_input": "2022-02-13T23:28:36.672682Z",
     "iopub.status.busy": "2022-02-13T23:28:36.671834Z",
     "iopub.status.idle": "2022-02-13T23:28:36.680646Z",
     "shell.execute_reply": "2022-02-13T23:28:36.680073Z",
     "shell.execute_reply.started": "2022-02-13T22:55:34.515933Z"
    },
    "papermill": {
     "duration": 0.060422,
     "end_time": "2022-02-13T23:28:36.680786",
     "exception": false,
     "start_time": "2022-02-13T23:28:36.620364",
     "status": "completed"
    },
    "tags": []
   },
   "outputs": [
    {
     "name": "stdout",
     "output_type": "stream",
     "text": [
      "ROC-AUC score на отложенной части: 0.7754387258058622\n"
     ]
    }
   ],
   "source": [
    "valid_score = roc_auc_score(y_valid, y_pred)\n",
    "print(\"ROC-AUC score на отложенной части:\", valid_score)"
   ]
  },
  {
   "attachments": {},
   "cell_type": "markdown",
   "id": "a6d13bd6",
   "metadata": {
    "papermill": {
     "duration": 0.045999,
     "end_time": "2022-02-13T23:28:36.773926",
     "exception": false,
     "start_time": "2022-02-13T23:28:36.727927",
     "status": "completed"
    },
    "tags": []
   },
   "source": [
    "Посмотрим на accuracy:"
   ]
  },
  {
   "cell_type": "code",
   "execution_count": 12,
   "id": "2cdbade0",
   "metadata": {
    "execution": {
     "iopub.execute_input": "2022-02-13T23:28:36.872122Z",
     "iopub.status.busy": "2022-02-13T23:28:36.871439Z",
     "iopub.status.idle": "2022-02-13T23:28:36.877567Z",
     "shell.execute_reply": "2022-02-13T23:28:36.877051Z",
     "shell.execute_reply.started": "2022-02-13T22:55:46.570239Z"
    },
    "papermill": {
     "duration": 0.057673,
     "end_time": "2022-02-13T23:28:36.877714",
     "exception": false,
     "start_time": "2022-02-13T23:28:36.820041",
     "status": "completed"
    },
    "tags": []
   },
   "outputs": [
    {
     "name": "stdout",
     "output_type": "stream",
     "text": [
      "Accuracy score (p > 0.5) на отложенной части: 0.6885383806519453\n"
     ]
    }
   ],
   "source": [
    "valid_accuracy = accuracy_score(y_valid, y_pred > 0.5)\n",
    "print(\"Accuracy score (p > 0.5) на отложенной части:\", valid_accuracy)"
   ]
  },
  {
   "attachments": {},
   "cell_type": "markdown",
   "id": "d5365cd4",
   "metadata": {
    "papermill": {
     "duration": 0.046013,
     "end_time": "2022-02-13T23:28:36.970038",
     "exception": false,
     "start_time": "2022-02-13T23:28:36.924025",
     "status": "completed"
    },
    "tags": []
   },
   "source": [
    "## <left>Посылка"
   ]
  },
  {
   "cell_type": "code",
   "execution_count": 13,
   "id": "bd38d6a2",
   "metadata": {
    "execution": {
     "iopub.execute_input": "2022-02-13T23:28:37.066588Z",
     "iopub.status.busy": "2022-02-13T23:28:37.065534Z",
     "iopub.status.idle": "2022-02-13T23:28:37.589671Z",
     "shell.execute_reply": "2022-02-13T23:28:37.589074Z",
     "shell.execute_reply.started": "2022-02-13T22:55:54.636469Z"
    },
    "papermill": {
     "duration": 0.573434,
     "end_time": "2022-02-13T23:28:37.589831",
     "exception": false,
     "start_time": "2022-02-13T23:28:37.016397",
     "status": "completed"
    },
    "tags": []
   },
   "outputs": [],
   "source": [
    "df_test_features = pd.read_csv(os.path.join(PATH_TO_DATA, \"test_data.csv\"), \n",
    "                                   index_col=\"match_id_hash\")\n",
    "\n",
    "X_test = df_test_features.values\n",
    "y_test_pred = rf_model.predict_proba(X_test)[:, 1]\n",
    "\n",
    "df_submission = pd.DataFrame({\"radiant_win_prob\": y_test_pred}, \n",
    "                                 index=df_test_features.index)"
   ]
  },
  {
   "cell_type": "code",
   "execution_count": 14,
   "id": "5e99d73e",
   "metadata": {
    "execution": {
     "iopub.execute_input": "2022-02-13T23:28:37.693733Z",
     "iopub.status.busy": "2022-02-13T23:28:37.693041Z",
     "iopub.status.idle": "2022-02-13T23:28:37.732667Z",
     "shell.execute_reply": "2022-02-13T23:28:37.731983Z",
     "shell.execute_reply.started": "2022-02-13T22:55:58.549750Z"
    },
    "papermill": {
     "duration": 0.09114,
     "end_time": "2022-02-13T23:28:37.732839",
     "exception": false,
     "start_time": "2022-02-13T23:28:37.641699",
     "status": "completed"
    },
    "tags": []
   },
   "outputs": [
    {
     "name": "stdout",
     "output_type": "stream",
     "text": [
      "Файл посылки сохранен, как: submission_2023-04-11_19-05-52.csv\n"
     ]
    }
   ],
   "source": [
    "submission_filename = \"submission_{}.csv\".format(\n",
    "    datetime.datetime.now().strftime(\"%Y-%m-%d_%H-%M-%S\"))\n",
    "df_submission.to_csv(submission_filename)\n",
    "print(\"Файл посылки сохранен, как: {}\".format(submission_filename))"
   ]
  },
  {
   "attachments": {},
   "cell_type": "markdown",
   "id": "970c57d2",
   "metadata": {
    "papermill": {
     "duration": 0.046122,
     "end_time": "2022-02-13T23:28:37.825794",
     "exception": false,
     "start_time": "2022-02-13T23:28:37.779672",
     "status": "completed"
    },
    "tags": []
   },
   "source": [
    "## <left>Кросс-валидация"
   ]
  },
  {
   "attachments": {},
   "cell_type": "markdown",
   "id": "0abb6bd1",
   "metadata": {
    "papermill": {
     "duration": 0.047147,
     "end_time": "2022-02-13T23:28:37.919675",
     "exception": false,
     "start_time": "2022-02-13T23:28:37.872528",
     "status": "completed"
    },
    "tags": []
   },
   "source": [
    "Во многих случаях кросс-валидация оказывается лучше простого разбиения на test и train. Воспользуемся `ShuffleSplit` чтобы создать 5 70%/30% наборов данных."
   ]
  },
  {
   "cell_type": "code",
   "execution_count": 15,
   "id": "b68ddc30",
   "metadata": {
    "execution": {
     "iopub.execute_input": "2022-02-13T23:28:38.018868Z",
     "iopub.status.busy": "2022-02-13T23:28:38.018165Z",
     "iopub.status.idle": "2022-02-13T23:28:38.021030Z",
     "shell.execute_reply": "2022-02-13T23:28:38.020500Z",
     "shell.execute_reply.started": "2022-02-13T22:56:24.879618Z"
    },
    "papermill": {
     "duration": 0.054303,
     "end_time": "2022-02-13T23:28:38.021177",
     "exception": false,
     "start_time": "2022-02-13T23:28:37.966874",
     "status": "completed"
    },
    "tags": []
   },
   "outputs": [],
   "source": [
    "cv = ShuffleSplit(n_splits=5, test_size=0.3, random_state=SEED)"
   ]
  },
  {
   "cell_type": "code",
   "execution_count": 16,
   "id": "4cc9956c",
   "metadata": {
    "execution": {
     "iopub.execute_input": "2022-02-13T23:28:38.124812Z",
     "iopub.status.busy": "2022-02-13T23:28:38.123342Z",
     "iopub.status.idle": "2022-02-13T23:29:32.720410Z",
     "shell.execute_reply": "2022-02-13T23:29:32.720941Z",
     "shell.execute_reply.started": "2022-02-13T22:56:42.398744Z"
    },
    "papermill": {
     "duration": 54.652614,
     "end_time": "2022-02-13T23:29:32.721125",
     "exception": false,
     "start_time": "2022-02-13T23:28:38.068511",
     "status": "completed"
    },
    "tags": []
   },
   "outputs": [
    {
     "name": "stdout",
     "output_type": "stream",
     "text": [
      "CPU times: user 2.88 s, sys: 550 ms, total: 3.43 s\n",
      "Wall time: 13.2 s\n"
     ]
    }
   ],
   "source": [
    "%%time\n",
    "rf_model = RandomForestClassifier(n_estimators=300, max_depth=7, n_jobs=-1, random_state=SEED)\n",
    "cv_scores_rf = cross_val_score(rf_model, X, y, cv=cv, scoring=\"roc_auc\")"
   ]
  },
  {
   "cell_type": "code",
   "execution_count": 17,
   "id": "3d3b2f48",
   "metadata": {
    "execution": {
     "iopub.execute_input": "2022-02-13T23:29:32.819094Z",
     "iopub.status.busy": "2022-02-13T23:29:32.818432Z",
     "iopub.status.idle": "2022-02-13T23:29:32.823613Z",
     "shell.execute_reply": "2022-02-13T23:29:32.824240Z",
     "shell.execute_reply.started": "2022-02-13T22:57:33.757348Z"
    },
    "papermill": {
     "duration": 0.056037,
     "end_time": "2022-02-13T23:29:32.824411",
     "exception": false,
     "start_time": "2022-02-13T23:29:32.768374",
     "status": "completed"
    },
    "tags": []
   },
   "outputs": [
    {
     "data": {
      "text/plain": [
       "array([0.77543873, 0.77343884, 0.76649967, 0.7722681 , 0.77246001])"
      ]
     },
     "execution_count": 17,
     "metadata": {},
     "output_type": "execute_result"
    }
   ],
   "source": [
    "cv_scores_rf"
   ]
  },
  {
   "cell_type": "code",
   "execution_count": 18,
   "id": "dea80846",
   "metadata": {
    "execution": {
     "iopub.execute_input": "2022-02-13T23:29:32.923448Z",
     "iopub.status.busy": "2022-02-13T23:29:32.922737Z",
     "iopub.status.idle": "2022-02-13T23:29:32.928466Z",
     "shell.execute_reply": "2022-02-13T23:29:32.927601Z",
     "shell.execute_reply.started": "2022-02-13T22:57:38.647385Z"
    },
    "papermill": {
     "duration": 0.056776,
     "end_time": "2022-02-13T23:29:32.928669",
     "exception": false,
     "start_time": "2022-02-13T23:29:32.871893",
     "status": "completed"
    },
    "tags": []
   },
   "outputs": [
    {
     "name": "stdout",
     "output_type": "stream",
     "text": [
      "Среднее значение ROC-AUC на кросс-валидации: 0.7720210676055513\n"
     ]
    }
   ],
   "source": [
    "print(f\"Среднее значение ROC-AUC на кросс-валидации: {cv_scores_rf.mean()}\")"
   ]
  },
  {
   "attachments": {},
   "cell_type": "markdown",
   "id": "c2aaeffb",
   "metadata": {
    "papermill": {
     "duration": 0.04757,
     "end_time": "2022-02-13T23:29:33.025145",
     "exception": false,
     "start_time": "2022-02-13T23:29:32.977575",
     "status": "completed"
    },
    "tags": []
   },
   "source": [
    "## <left>Что есть в json файлах?"
   ]
  },
  {
   "attachments": {},
   "cell_type": "markdown",
   "id": "aecd52bf",
   "metadata": {
    "papermill": {
     "duration": 0.048776,
     "end_time": "2022-02-13T23:29:33.122475",
     "exception": false,
     "start_time": "2022-02-13T23:29:33.073699",
     "status": "completed"
    },
    "tags": []
   },
   "source": [
    "Описание сырых данных можно найти в `train_matches.jsonl` и `test_matches.jsonl`. Каждый файл содержит одну запись для каждого матча в [JSON](https://en.wikipedia.org/wiki/JSON) формате. Его легко превратить в питоновский объект при помощи метода `json.loads`."
   ]
  },
  {
   "cell_type": "code",
   "execution_count": 19,
   "id": "0641a25a",
   "metadata": {
    "execution": {
     "iopub.execute_input": "2022-02-13T23:29:33.224143Z",
     "iopub.status.busy": "2022-02-13T23:29:33.223346Z",
     "iopub.status.idle": "2022-02-13T23:29:33.684926Z",
     "shell.execute_reply": "2022-02-13T23:29:33.684347Z",
     "shell.execute_reply.started": "2022-02-13T22:57:44.043572Z"
    },
    "papermill": {
     "duration": 0.514659,
     "end_time": "2022-02-13T23:29:33.685074",
     "exception": false,
     "start_time": "2022-02-13T23:29:33.170415",
     "status": "completed"
    },
    "tags": []
   },
   "outputs": [],
   "source": [
    "with open(os.path.join(PATH_TO_DATA, \"train_raw_data.jsonl\")) as fin:\n",
    "    # прочтем 419 строку\n",
    "    for i in range(419):\n",
    "        line = fin.readline()\n",
    "    \n",
    "    # переведем JSON в питоновский словарь \n",
    "    match = json.loads(line)"
   ]
  },
  {
   "cell_type": "code",
   "execution_count": 20,
   "id": "39e2200a",
   "metadata": {
    "execution": {
     "iopub.execute_input": "2022-02-13T23:29:33.789538Z",
     "iopub.status.busy": "2022-02-13T23:29:33.788717Z",
     "iopub.status.idle": "2022-02-13T23:29:33.792009Z",
     "shell.execute_reply": "2022-02-13T23:29:33.792529Z",
     "shell.execute_reply.started": "2022-02-13T22:57:45.161882Z"
    },
    "papermill": {
     "duration": 0.057975,
     "end_time": "2022-02-13T23:29:33.792713",
     "exception": false,
     "start_time": "2022-02-13T23:29:33.734738",
     "status": "completed"
    },
    "tags": []
   },
   "outputs": [
    {
     "data": {
      "text/plain": [
       "(0, 5, 5)"
      ]
     },
     "execution_count": 20,
     "metadata": {},
     "output_type": "execute_result"
    }
   ],
   "source": [
    "player = match[\"players\"][9]\n",
    "player[\"kills\"], player[\"deaths\"], player[\"assists\"]"
   ]
  },
  {
   "attachments": {},
   "cell_type": "markdown",
   "id": "fe823f4a",
   "metadata": {
    "papermill": {
     "duration": 0.047795,
     "end_time": "2022-02-13T23:29:33.888962",
     "exception": false,
     "start_time": "2022-02-13T23:29:33.841167",
     "status": "completed"
    },
    "tags": []
   },
   "source": [
    "KDA - может быть неплохим признаком, этот показатель считается как:\n",
    "    \n",
    "<center>$KDA = \\frac{K + A}{D}$"
   ]
  },
  {
   "attachments": {},
   "cell_type": "markdown",
   "id": "e37e21f7",
   "metadata": {
    "papermill": {
     "duration": 0.047726,
     "end_time": "2022-02-13T23:29:33.984909",
     "exception": false,
     "start_time": "2022-02-13T23:29:33.937183",
     "status": "completed"
    },
    "tags": []
   },
   "source": [
    "Информация о количестве использованных способностей:"
   ]
  },
  {
   "cell_type": "code",
   "execution_count": 21,
   "id": "ea96871b",
   "metadata": {
    "execution": {
     "iopub.execute_input": "2022-02-13T23:29:34.088460Z",
     "iopub.status.busy": "2022-02-13T23:29:34.087529Z",
     "iopub.status.idle": "2022-02-13T23:29:34.091718Z",
     "shell.execute_reply": "2022-02-13T23:29:34.091168Z",
     "shell.execute_reply.started": "2022-02-13T22:57:47.094707Z"
    },
    "papermill": {
     "duration": 0.058567,
     "end_time": "2022-02-13T23:29:34.091868",
     "exception": false,
     "start_time": "2022-02-13T23:29:34.033301",
     "status": "completed"
    },
    "tags": []
   },
   "outputs": [
    {
     "data": {
      "text/plain": [
       "{'treant_living_armor': 52, 'treant_leech_seed': 5, 'treant_overgrowth': 5}"
      ]
     },
     "execution_count": 21,
     "metadata": {},
     "output_type": "execute_result"
    }
   ],
   "source": [
    "player[\"ability_uses\"]"
   ]
  },
  {
   "cell_type": "code",
   "execution_count": 22,
   "id": "1f7d34a8",
   "metadata": {
    "execution": {
     "iopub.execute_input": "2022-02-13T23:29:34.201476Z",
     "iopub.status.busy": "2022-02-13T23:29:34.200495Z",
     "iopub.status.idle": "2022-02-13T23:29:34.636952Z",
     "shell.execute_reply": "2022-02-13T23:29:34.637463Z",
     "shell.execute_reply.started": "2022-02-13T22:57:52.249048Z"
    },
    "papermill": {
     "duration": 0.497079,
     "end_time": "2022-02-13T23:29:34.637657",
     "exception": false,
     "start_time": "2022-02-13T23:29:34.140578",
     "status": "completed"
    },
    "tags": []
   },
   "outputs": [
    {
     "data": {
      "image/png": "[encoded data removed]",
      "text/plain": [
       "<Figure size 1200x800 with 1 Axes>"
      ]
     },
     "metadata": {},
     "output_type": "display_data"
    }
   ],
   "source": [
    "for i, player in enumerate(match[\"players\"]):\n",
    "    plt.plot(player[\"times\"], player[\"xp_t\"], label=str(i+1))\n",
    "\n",
    "plt.legend()\n",
    "plt.xlabel(\"Time, s\")\n",
    "plt.ylabel(\"XP\")\n",
    "plt.title(\"XP change for all players\");"
   ]
  },
  {
   "attachments": {},
   "cell_type": "markdown",
   "id": "1e2cdc67",
   "metadata": {
    "papermill": {
     "duration": 0.052753,
     "end_time": "2022-02-13T23:29:34.742623",
     "exception": false,
     "start_time": "2022-02-13T23:29:34.689870",
     "status": "completed"
    },
    "tags": []
   },
   "source": [
    "#### Сделаем чтение файла с сырыми данными и добавление новых признаков удобным"
   ]
  },
  {
   "attachments": {},
   "cell_type": "markdown",
   "id": "db5c559a",
   "metadata": {
    "papermill": {
     "duration": 0.051195,
     "end_time": "2022-02-13T23:29:34.845611",
     "exception": false,
     "start_time": "2022-02-13T23:29:34.794416",
     "status": "completed"
    },
    "tags": []
   },
   "source": [
    "В этот раз для чтение `json` файлов лучше использовать библиотеку `ujson`, иначе все будет слишком долго :("
   ]
  },
  {
   "cell_type": "code",
   "execution_count": 23,
   "id": "9432965a",
   "metadata": {
    "execution": {
     "iopub.execute_input": "2022-02-13T23:29:34.952234Z",
     "iopub.status.busy": "2022-02-13T23:29:34.951534Z",
     "iopub.status.idle": "2022-02-13T23:29:34.966771Z",
     "shell.execute_reply": "2022-02-13T23:29:34.966081Z",
     "shell.execute_reply.started": "2022-02-13T22:57:54.823795Z"
    },
    "papermill": {
     "duration": 0.069503,
     "end_time": "2022-02-13T23:29:34.966941",
     "exception": false,
     "start_time": "2022-02-13T23:29:34.897438",
     "status": "completed"
    },
    "tags": []
   },
   "outputs": [],
   "source": [
    "try:\n",
    "    import ujson as json\n",
    "except ModuleNotFoundError:\n",
    "    import json\n",
    "    print (\"Подумайте об установке ujson, чтобы работать с JSON объектами быстрее\")\n",
    "    \n",
    "try:\n",
    "    from tqdm.notebook import tqdm\n",
    "except ModuleNotFoundError:\n",
    "    tqdm_notebook = lambda x: x\n",
    "    print (\"Подумайте об установке tqdm, чтобы следить за прогрессом\")\n",
    "\n",
    "    \n",
    "def read_matches(matches_file, total_matches=31698, n_matches_to_read=None):\n",
    "    \"\"\"\n",
    "    Аргуент\n",
    "    -------\n",
    "    matches_file: JSON файл с сырыми данными\n",
    "    \n",
    "    Результат\n",
    "    ---------\n",
    "    Возвращает записи о каждом матче\n",
    "    \"\"\"\n",
    "    \n",
    "    if n_matches_to_read is None:\n",
    "        n_matches_to_read = total_matches\n",
    "        \n",
    "    c = 0\n",
    "    with open(matches_file) as fin:\n",
    "        for line in tqdm(fin, total=total_matches):\n",
    "            if c >= n_matches_to_read:\n",
    "                break\n",
    "            else:\n",
    "                c += 1\n",
    "                yield json.loads(line)"
   ]
  },
  {
   "attachments": {},
   "cell_type": "markdown",
   "id": "4699bd3b",
   "metadata": {
    "papermill": {
     "duration": 0.052275,
     "end_time": "2022-02-13T23:29:35.070860",
     "exception": false,
     "start_time": "2022-02-13T23:29:35.018585",
     "status": "completed"
    },
    "tags": []
   },
   "source": [
    "#### Чтение данных в цикле\n",
    "\n",
    "Чтение всех данных занимает 1-2 минуты, поэтому для начала можно попробовать следующее:\n",
    "\n",
    "1. Читать 10-50 игр\n",
    "2. Написать код для работы с этими JSON объектами\n",
    "3. Убедиться, что все работает\n",
    "4. Запустить код на всем датасете\n",
    "5. Сохранить результат в `pickle` файл, чтобы в следующий раз не переделывать все заново"
   ]
  },
  {
   "attachments": {},
   "cell_type": "markdown",
   "id": "8dcea62e",
   "metadata": {
    "papermill": {
     "duration": 0.051565,
     "end_time": "2022-02-13T23:29:35.175139",
     "exception": false,
     "start_time": "2022-02-13T23:29:35.123574",
     "status": "completed"
    },
    "tags": []
   },
   "source": [
    "## <left>Feature engineering"
   ]
  },
  {
   "attachments": {},
   "cell_type": "markdown",
   "id": "5c7fbf57",
   "metadata": {
    "papermill": {
     "duration": 0.051315,
     "end_time": "2022-02-13T23:29:35.278664",
     "exception": false,
     "start_time": "2022-02-13T23:29:35.227349",
     "status": "completed"
    },
    "tags": []
   },
   "source": [
    "Напишем функцию, которая поможет нам легче добавлять новые признаки."
   ]
  },
  {
   "cell_type": "code",
   "execution_count": 24,
   "id": "36781f7d",
   "metadata": {
    "execution": {
     "iopub.execute_input": "2022-02-13T23:29:35.392115Z",
     "iopub.status.busy": "2022-02-13T23:29:35.391360Z",
     "iopub.status.idle": "2022-02-13T23:29:35.393224Z",
     "shell.execute_reply": "2022-02-13T23:29:35.393803Z",
     "shell.execute_reply.started": "2022-02-13T22:57:58.423089Z"
    },
    "papermill": {
     "duration": 0.063047,
     "end_time": "2022-02-13T23:29:35.393977",
     "exception": false,
     "start_time": "2022-02-13T23:29:35.330930",
     "status": "completed"
    },
    "tags": []
   },
   "outputs": [],
   "source": [
    "def add_new_features(df_features, matches_file):\n",
    "    \"\"\"\n",
    "    Аргументы\n",
    "    -------\n",
    "    df_features: таблица с данными\n",
    "    matches_file: JSON файл с сырыми данными\n",
    "    \n",
    "    Результат\n",
    "    ---------\n",
    "    Добавляет новые признаки в таблицу\n",
    "    \"\"\"\n",
    "    \n",
    "    for match in read_matches(matches_file):\n",
    "        match_id_hash = match['match_id_hash']\n",
    "\n",
    "        # Посчитаем количество разрушенных вышек обеими командами\n",
    "        radiant_tower_kills = 0\n",
    "        dire_tower_kills = 0\n",
    "        for objective in match[\"objectives\"]:\n",
    "            if objective[\"type\"] == \"CHAT_MESSAGE_TOWER_KILL\":\n",
    "                if objective[\"team\"] == 2:\n",
    "                    radiant_tower_kills += 1\n",
    "                if objective[\"team\"] == 3:\n",
    "                    dire_tower_kills += 1\n",
    "\n",
    "        df_features.loc[match_id_hash, \"radiant_tower_kills\"] = radiant_tower_kills\n",
    "        df_features.loc[match_id_hash, \"dire_tower_kills\"] = dire_tower_kills\n",
    "        df_features.loc[match_id_hash, \"diff_tower_kills\"] = radiant_tower_kills - dire_tower_kills\n",
    "        \n",
    "        \n",
    "        \n",
    "        \n",
    "        # ... (/¯◡ ‿ ◡)/¯☆*:・ﾟ добавляем новые признаки ..."
   ]
  },
  {
   "cell_type": "code",
   "execution_count": 25,
   "id": "d83efaaa",
   "metadata": {
    "execution": {
     "iopub.execute_input": "2022-02-13T23:29:35.500607Z",
     "iopub.status.busy": "2022-02-13T23:29:35.499947Z",
     "iopub.status.idle": "2022-02-13T23:31:15.695377Z",
     "shell.execute_reply": "2022-02-13T23:31:15.695887Z",
     "shell.execute_reply.started": "2022-02-13T22:58:02.081870Z"
    },
    "papermill": {
     "duration": 100.250385,
     "end_time": "2022-02-13T23:31:15.696073",
     "exception": false,
     "start_time": "2022-02-13T23:29:35.445688",
     "status": "completed"
    },
    "tags": []
   },
   "outputs": [
    {
     "data": {
      "application/vnd.jupyter.widget-view+json": {
       "model_id": "ad38547f9825449b9a50e8fa129f5627",
       "version_major": 2,
       "version_minor": 0
      },
      "text/plain": [
       "  0%|          | 0/31698 [00:00<?, ?it/s]"
      ]
     },
     "metadata": {},
     "output_type": "display_data"
    }
   ],
   "source": [
    "# Скопируем таблицу с признаками\n",
    "df_train_features_extended = df_train_features.copy()\n",
    "\n",
    "# Добавим новые\n",
    "add_new_features(df_train_features_extended, \n",
    "                 os.path.join(PATH_TO_DATA, \n",
    "                              \"train_raw_data.jsonl\"))"
   ]
  },
  {
   "cell_type": "code",
   "execution_count": 26,
   "id": "caa6fa3b",
   "metadata": {
    "execution": {
     "iopub.execute_input": "2022-02-13T23:31:15.806982Z",
     "iopub.status.busy": "2022-02-13T23:31:15.805915Z",
     "iopub.status.idle": "2022-02-13T23:31:15.829554Z",
     "shell.execute_reply": "2022-02-13T23:31:15.830087Z",
     "shell.execute_reply.started": "2022-02-13T23:00:24.658661Z"
    },
    "papermill": {
     "duration": 0.08167,
     "end_time": "2022-02-13T23:31:15.830290",
     "exception": false,
     "start_time": "2022-02-13T23:31:15.748620",
     "status": "completed"
    },
    "tags": []
   },
   "outputs": [
    {
     "data": {
      "text/html": [
       "<div>\n",
       "<style scoped>\n",
       "    .dataframe tbody tr th:only-of-type {\n",
       "        vertical-align: middle;\n",
       "    }\n",
       "\n",
       "    .dataframe tbody tr th {\n",
       "        vertical-align: top;\n",
       "    }\n",
       "\n",
       "    .dataframe thead th {\n",
       "        text-align: right;\n",
       "    }\n",
       "</style>\n",
       "<table border=\"1\" class=\"dataframe\">\n",
       "  <thead>\n",
       "    <tr style=\"text-align: right;\">\n",
       "      <th></th>\n",
       "      <th>game_time</th>\n",
       "      <th>game_mode</th>\n",
       "      <th>lobby_type</th>\n",
       "      <th>objectives_len</th>\n",
       "      <th>chat_len</th>\n",
       "      <th>r1_hero_id</th>\n",
       "      <th>r1_kills</th>\n",
       "      <th>r1_deaths</th>\n",
       "      <th>r1_assists</th>\n",
       "      <th>r1_denies</th>\n",
       "      <th>...</th>\n",
       "      <th>d5_rune_pickups</th>\n",
       "      <th>d5_firstblood_claimed</th>\n",
       "      <th>d5_teamfight_participation</th>\n",
       "      <th>d5_towers_killed</th>\n",
       "      <th>d5_roshans_killed</th>\n",
       "      <th>d5_obs_placed</th>\n",
       "      <th>d5_sen_placed</th>\n",
       "      <th>radiant_tower_kills</th>\n",
       "      <th>dire_tower_kills</th>\n",
       "      <th>diff_tower_kills</th>\n",
       "    </tr>\n",
       "    <tr>\n",
       "      <th>match_id_hash</th>\n",
       "      <th></th>\n",
       "      <th></th>\n",
       "      <th></th>\n",
       "      <th></th>\n",
       "      <th></th>\n",
       "      <th></th>\n",
       "      <th></th>\n",
       "      <th></th>\n",
       "      <th></th>\n",
       "      <th></th>\n",
       "      <th></th>\n",
       "      <th></th>\n",
       "      <th></th>\n",
       "      <th></th>\n",
       "      <th></th>\n",
       "      <th></th>\n",
       "      <th></th>\n",
       "      <th></th>\n",
       "      <th></th>\n",
       "      <th></th>\n",
       "      <th></th>\n",
       "    </tr>\n",
       "  </thead>\n",
       "  <tbody>\n",
       "    <tr>\n",
       "      <th>b9c57c450ce74a2af79c9ce96fac144d</th>\n",
       "      <td>658</td>\n",
       "      <td>4</td>\n",
       "      <td>0</td>\n",
       "      <td>3</td>\n",
       "      <td>10</td>\n",
       "      <td>15</td>\n",
       "      <td>7</td>\n",
       "      <td>2</td>\n",
       "      <td>0</td>\n",
       "      <td>7</td>\n",
       "      <td>...</td>\n",
       "      <td>0</td>\n",
       "      <td>0</td>\n",
       "      <td>0.00</td>\n",
       "      <td>0</td>\n",
       "      <td>0</td>\n",
       "      <td>0</td>\n",
       "      <td>0</td>\n",
       "      <td>2.0</td>\n",
       "      <td>0.0</td>\n",
       "      <td>2.0</td>\n",
       "    </tr>\n",
       "    <tr>\n",
       "      <th>6db558535151ea18ca70a6892197db41</th>\n",
       "      <td>21</td>\n",
       "      <td>23</td>\n",
       "      <td>0</td>\n",
       "      <td>0</td>\n",
       "      <td>0</td>\n",
       "      <td>101</td>\n",
       "      <td>0</td>\n",
       "      <td>0</td>\n",
       "      <td>0</td>\n",
       "      <td>0</td>\n",
       "      <td>...</td>\n",
       "      <td>0</td>\n",
       "      <td>0</td>\n",
       "      <td>0.00</td>\n",
       "      <td>0</td>\n",
       "      <td>0</td>\n",
       "      <td>0</td>\n",
       "      <td>0</td>\n",
       "      <td>0.0</td>\n",
       "      <td>0.0</td>\n",
       "      <td>0.0</td>\n",
       "    </tr>\n",
       "    <tr>\n",
       "      <th>19c39fe2af2b547e48708ca005c6ae74</th>\n",
       "      <td>160</td>\n",
       "      <td>22</td>\n",
       "      <td>7</td>\n",
       "      <td>0</td>\n",
       "      <td>0</td>\n",
       "      <td>57</td>\n",
       "      <td>0</td>\n",
       "      <td>0</td>\n",
       "      <td>0</td>\n",
       "      <td>1</td>\n",
       "      <td>...</td>\n",
       "      <td>0</td>\n",
       "      <td>0</td>\n",
       "      <td>0.00</td>\n",
       "      <td>0</td>\n",
       "      <td>0</td>\n",
       "      <td>0</td>\n",
       "      <td>0</td>\n",
       "      <td>0.0</td>\n",
       "      <td>0.0</td>\n",
       "      <td>0.0</td>\n",
       "    </tr>\n",
       "    <tr>\n",
       "      <th>c96d629dc0c39f0c616d1949938a6ba6</th>\n",
       "      <td>1016</td>\n",
       "      <td>22</td>\n",
       "      <td>0</td>\n",
       "      <td>1</td>\n",
       "      <td>0</td>\n",
       "      <td>119</td>\n",
       "      <td>0</td>\n",
       "      <td>3</td>\n",
       "      <td>3</td>\n",
       "      <td>5</td>\n",
       "      <td>...</td>\n",
       "      <td>3</td>\n",
       "      <td>0</td>\n",
       "      <td>0.25</td>\n",
       "      <td>0</td>\n",
       "      <td>0</td>\n",
       "      <td>3</td>\n",
       "      <td>0</td>\n",
       "      <td>0.0</td>\n",
       "      <td>0.0</td>\n",
       "      <td>0.0</td>\n",
       "    </tr>\n",
       "    <tr>\n",
       "      <th>156c88bff4e9c4668b0f53df3d870f1b</th>\n",
       "      <td>582</td>\n",
       "      <td>22</td>\n",
       "      <td>7</td>\n",
       "      <td>2</td>\n",
       "      <td>2</td>\n",
       "      <td>12</td>\n",
       "      <td>3</td>\n",
       "      <td>1</td>\n",
       "      <td>2</td>\n",
       "      <td>9</td>\n",
       "      <td>...</td>\n",
       "      <td>0</td>\n",
       "      <td>1</td>\n",
       "      <td>0.50</td>\n",
       "      <td>0</td>\n",
       "      <td>0</td>\n",
       "      <td>3</td>\n",
       "      <td>0</td>\n",
       "      <td>0.0</td>\n",
       "      <td>1.0</td>\n",
       "      <td>-1.0</td>\n",
       "    </tr>\n",
       "  </tbody>\n",
       "</table>\n",
       "<p>5 rows × 248 columns</p>\n",
       "</div>"
      ],
      "text/plain": [
       "                                  game_time  game_mode  lobby_type  \\\n",
       "match_id_hash                                                        \n",
       "b9c57c450ce74a2af79c9ce96fac144d        658          4           0   \n",
       "6db558535151ea18ca70a6892197db41         21         23           0   \n",
       "19c39fe2af2b547e48708ca005c6ae74        160         22           7   \n",
       "c96d629dc0c39f0c616d1949938a6ba6       1016         22           0   \n",
       "156c88bff4e9c4668b0f53df3d870f1b        582         22           7   \n",
       "\n",
       "                                  objectives_len  chat_len  r1_hero_id  \\\n",
       "match_id_hash                                                            \n",
       "b9c57c450ce74a2af79c9ce96fac144d               3        10          15   \n",
       "6db558535151ea18ca70a6892197db41               0         0         101   \n",
       "19c39fe2af2b547e48708ca005c6ae74               0         0          57   \n",
       "c96d629dc0c39f0c616d1949938a6ba6               1         0         119   \n",
       "156c88bff4e9c4668b0f53df3d870f1b               2         2          12   \n",
       "\n",
       "                                  r1_kills  r1_deaths  r1_assists  r1_denies  \\\n",
       "match_id_hash                                                                  \n",
       "b9c57c450ce74a2af79c9ce96fac144d         7          2           0          7   \n",
       "6db558535151ea18ca70a6892197db41         0          0           0          0   \n",
       "19c39fe2af2b547e48708ca005c6ae74         0          0           0          1   \n",
       "c96d629dc0c39f0c616d1949938a6ba6         0          3           3          5   \n",
       "156c88bff4e9c4668b0f53df3d870f1b         3          1           2          9   \n",
       "\n",
       "                                  ...  d5_rune_pickups  d5_firstblood_claimed  \\\n",
       "match_id_hash                     ...                                           \n",
       "b9c57c450ce74a2af79c9ce96fac144d  ...                0                      0   \n",
       "6db558535151ea18ca70a6892197db41  ...                0                      0   \n",
       "19c39fe2af2b547e48708ca005c6ae74  ...                0                      0   \n",
       "c96d629dc0c39f0c616d1949938a6ba6  ...                3                      0   \n",
       "156c88bff4e9c4668b0f53df3d870f1b  ...                0                      1   \n",
       "\n",
       "                                  d5_teamfight_participation  \\\n",
       "match_id_hash                                                  \n",
       "b9c57c450ce74a2af79c9ce96fac144d                        0.00   \n",
       "6db558535151ea18ca70a6892197db41                        0.00   \n",
       "19c39fe2af2b547e48708ca005c6ae74                        0.00   \n",
       "c96d629dc0c39f0c616d1949938a6ba6                        0.25   \n",
       "156c88bff4e9c4668b0f53df3d870f1b                        0.50   \n",
       "\n",
       "                                  d5_towers_killed  d5_roshans_killed  \\\n",
       "match_id_hash                                                           \n",
       "b9c57c450ce74a2af79c9ce96fac144d                 0                  0   \n",
       "6db558535151ea18ca70a6892197db41                 0                  0   \n",
       "19c39fe2af2b547e48708ca005c6ae74                 0                  0   \n",
       "c96d629dc0c39f0c616d1949938a6ba6                 0                  0   \n",
       "156c88bff4e9c4668b0f53df3d870f1b                 0                  0   \n",
       "\n",
       "                                  d5_obs_placed  d5_sen_placed  \\\n",
       "match_id_hash                                                    \n",
       "b9c57c450ce74a2af79c9ce96fac144d              0              0   \n",
       "6db558535151ea18ca70a6892197db41              0              0   \n",
       "19c39fe2af2b547e48708ca005c6ae74              0              0   \n",
       "c96d629dc0c39f0c616d1949938a6ba6              3              0   \n",
       "156c88bff4e9c4668b0f53df3d870f1b              3              0   \n",
       "\n",
       "                                  radiant_tower_kills  dire_tower_kills  \\\n",
       "match_id_hash                                                             \n",
       "b9c57c450ce74a2af79c9ce96fac144d                  2.0               0.0   \n",
       "6db558535151ea18ca70a6892197db41                  0.0               0.0   \n",
       "19c39fe2af2b547e48708ca005c6ae74                  0.0               0.0   \n",
       "c96d629dc0c39f0c616d1949938a6ba6                  0.0               0.0   \n",
       "156c88bff4e9c4668b0f53df3d870f1b                  0.0               1.0   \n",
       "\n",
       "                                  diff_tower_kills  \n",
       "match_id_hash                                       \n",
       "b9c57c450ce74a2af79c9ce96fac144d               2.0  \n",
       "6db558535151ea18ca70a6892197db41               0.0  \n",
       "19c39fe2af2b547e48708ca005c6ae74               0.0  \n",
       "c96d629dc0c39f0c616d1949938a6ba6               0.0  \n",
       "156c88bff4e9c4668b0f53df3d870f1b              -1.0  \n",
       "\n",
       "[5 rows x 248 columns]"
      ]
     },
     "execution_count": 26,
     "metadata": {},
     "output_type": "execute_result"
    }
   ],
   "source": [
    "df_train_features_extended.head()"
   ]
  },
  {
   "cell_type": "code",
   "execution_count": 27,
   "id": "9b3be792",
   "metadata": {
    "execution": {
     "iopub.execute_input": "2022-02-13T23:31:15.940354Z",
     "iopub.status.busy": "2022-02-13T23:31:15.939295Z",
     "iopub.status.idle": "2022-02-13T23:32:55.255752Z",
     "shell.execute_reply": "2022-02-13T23:32:55.256364Z",
     "shell.execute_reply.started": "2022-02-13T23:00:39.716567Z"
    },
    "papermill": {
     "duration": 99.37327,
     "end_time": "2022-02-13T23:32:55.256572",
     "exception": false,
     "start_time": "2022-02-13T23:31:15.883302",
     "status": "completed"
    },
    "tags": []
   },
   "outputs": [
    {
     "name": "stdout",
     "output_type": "stream",
     "text": [
      "CPU times: user 34.8 ms, sys: 36.1 ms, total: 70.9 ms\n",
      "Wall time: 19.1 s\n"
     ]
    }
   ],
   "source": [
    "%%time\n",
    "cv_scores_base = cross_val_score(rf_model, X, y, cv=cv, scoring=\"roc_auc\", n_jobs=-1)\n",
    "cv_scores_extended = cross_val_score(rf_model, df_train_features_extended.values, y, \n",
    "                                     cv=cv, scoring=\"roc_auc\", n_jobs=-1)"
   ]
  },
  {
   "cell_type": "code",
   "execution_count": 28,
   "id": "e915066d",
   "metadata": {
    "execution": {
     "iopub.execute_input": "2022-02-13T23:32:55.369159Z",
     "iopub.status.busy": "2022-02-13T23:32:55.368145Z",
     "iopub.status.idle": "2022-02-13T23:32:55.371820Z",
     "shell.execute_reply": "2022-02-13T23:32:55.372356Z",
     "shell.execute_reply.started": "2022-02-13T23:02:14.824997Z"
    },
    "papermill": {
     "duration": 0.062721,
     "end_time": "2022-02-13T23:32:55.372536",
     "exception": false,
     "start_time": "2022-02-13T23:32:55.309815",
     "status": "completed"
    },
    "tags": []
   },
   "outputs": [
    {
     "name": "stdout",
     "output_type": "stream",
     "text": [
      "ROC-AUC на кросс-валидации для базовых признаков: 0.7720210676055513\n",
      "ROC-AUC на кросс-валидации для новых признаков: 0.778796825263235\n"
     ]
    }
   ],
   "source": [
    "print(f\"ROC-AUC на кросс-валидации для базовых признаков: {cv_scores_base.mean()}\")\n",
    "print(f\"ROC-AUC на кросс-валидации для новых признаков: {cv_scores_extended.mean()}\")"
   ]
  },
  {
   "attachments": {},
   "cell_type": "markdown",
   "id": "44e530d6",
   "metadata": {
    "papermill": {
     "duration": 0.053505,
     "end_time": "2022-02-13T23:32:55.479766",
     "exception": false,
     "start_time": "2022-02-13T23:32:55.426261",
     "status": "completed"
    },
    "tags": []
   },
   "source": [
    "Видно, что случайный лес стал работать немного лучше при добавлении новых признаков. A еще нужно, наверное, как-то по-умному закодировать категориальные признаки."
   ]
  },
  {
   "attachments": {},
   "cell_type": "markdown",
   "id": "5870dd2f",
   "metadata": {
    "papermill": {
     "duration": 0.053776,
     "end_time": "2022-02-13T23:32:55.587047",
     "exception": false,
     "start_time": "2022-02-13T23:32:55.533271",
     "status": "completed"
    },
    "tags": []
   },
   "source": [
    "Дальше дело за малым. Добавляйте новые признаки, пробуйте другие методы, которые мы изучили, а также что-то интересное, что мы не прошли. Удачи!"
   ]
  },
  {
   "cell_type": "code",
   "execution_count": 29,
   "id": "bad6d2c9",
   "metadata": {},
   "outputs": [
    {
     "data": {
      "text/plain": [
       "int64      215\n",
       "float64     30\n",
       "dtype: int64"
      ]
     },
     "execution_count": 29,
     "metadata": {},
     "output_type": "execute_result"
    }
   ],
   "source": [
    "df_train_features.dtypes.value_counts()"
   ]
  },
  {
   "attachments": {},
   "cell_type": "markdown",
   "id": "941d6e40",
   "metadata": {},
   "source": [
    "В датасете присутствуют только признаки с типами int64 и float64"
   ]
  },
  {
   "attachments": {},
   "cell_type": "markdown",
   "id": "fcfea968",
   "metadata": {},
   "source": [
    "Посмотрим на разные признаки в датасете:"
   ]
  },
  {
   "cell_type": "code",
   "execution_count": 30,
   "id": "8f891edd",
   "metadata": {},
   "outputs": [
    {
     "data": {
      "text/html": [
       "<div>\n",
       "<style scoped>\n",
       "    .dataframe tbody tr th:only-of-type {\n",
       "        vertical-align: middle;\n",
       "    }\n",
       "\n",
       "    .dataframe tbody tr th {\n",
       "        vertical-align: top;\n",
       "    }\n",
       "\n",
       "    .dataframe thead th {\n",
       "        text-align: right;\n",
       "    }\n",
       "</style>\n",
       "<table border=\"1\" class=\"dataframe\">\n",
       "  <thead>\n",
       "    <tr style=\"text-align: right;\">\n",
       "      <th></th>\n",
       "      <th>d5_max_health</th>\n",
       "      <th>d5_max_mana</th>\n",
       "      <th>d5_level</th>\n",
       "      <th>d5_x</th>\n",
       "      <th>d5_y</th>\n",
       "      <th>d5_stuns</th>\n",
       "      <th>d5_creeps_stacked</th>\n",
       "      <th>d5_camps_stacked</th>\n",
       "      <th>d5_rune_pickups</th>\n",
       "      <th>d5_firstblood_claimed</th>\n",
       "      <th>d5_teamfight_participation</th>\n",
       "      <th>d5_towers_killed</th>\n",
       "      <th>d5_roshans_killed</th>\n",
       "      <th>d5_obs_placed</th>\n",
       "      <th>d5_sen_placed</th>\n",
       "    </tr>\n",
       "    <tr>\n",
       "      <th>match_id_hash</th>\n",
       "      <th></th>\n",
       "      <th></th>\n",
       "      <th></th>\n",
       "      <th></th>\n",
       "      <th></th>\n",
       "      <th></th>\n",
       "      <th></th>\n",
       "      <th></th>\n",
       "      <th></th>\n",
       "      <th></th>\n",
       "      <th></th>\n",
       "      <th></th>\n",
       "      <th></th>\n",
       "      <th></th>\n",
       "      <th></th>\n",
       "    </tr>\n",
       "  </thead>\n",
       "  <tbody>\n",
       "    <tr>\n",
       "      <th>b9c57c450ce74a2af79c9ce96fac144d</th>\n",
       "      <td>800</td>\n",
       "      <td>446.93793</td>\n",
       "      <td>4</td>\n",
       "      <td>180</td>\n",
       "      <td>176</td>\n",
       "      <td>0.000000</td>\n",
       "      <td>0</td>\n",
       "      <td>0</td>\n",
       "      <td>0</td>\n",
       "      <td>0</td>\n",
       "      <td>0.000000</td>\n",
       "      <td>0</td>\n",
       "      <td>0</td>\n",
       "      <td>0</td>\n",
       "      <td>0</td>\n",
       "    </tr>\n",
       "    <tr>\n",
       "      <th>6db558535151ea18ca70a6892197db41</th>\n",
       "      <td>640</td>\n",
       "      <td>446.93793</td>\n",
       "      <td>1</td>\n",
       "      <td>162</td>\n",
       "      <td>162</td>\n",
       "      <td>0.000000</td>\n",
       "      <td>0</td>\n",
       "      <td>0</td>\n",
       "      <td>0</td>\n",
       "      <td>0</td>\n",
       "      <td>0.000000</td>\n",
       "      <td>0</td>\n",
       "      <td>0</td>\n",
       "      <td>0</td>\n",
       "      <td>0</td>\n",
       "    </tr>\n",
       "    <tr>\n",
       "      <th>19c39fe2af2b547e48708ca005c6ae74</th>\n",
       "      <td>680</td>\n",
       "      <td>278.93777</td>\n",
       "      <td>2</td>\n",
       "      <td>182</td>\n",
       "      <td>174</td>\n",
       "      <td>0.000000</td>\n",
       "      <td>0</td>\n",
       "      <td>0</td>\n",
       "      <td>0</td>\n",
       "      <td>0</td>\n",
       "      <td>0.000000</td>\n",
       "      <td>0</td>\n",
       "      <td>0</td>\n",
       "      <td>0</td>\n",
       "      <td>0</td>\n",
       "    </tr>\n",
       "    <tr>\n",
       "      <th>c96d629dc0c39f0c616d1949938a6ba6</th>\n",
       "      <td>800</td>\n",
       "      <td>626.93810</td>\n",
       "      <td>8</td>\n",
       "      <td>92</td>\n",
       "      <td>172</td>\n",
       "      <td>8.264696</td>\n",
       "      <td>0</td>\n",
       "      <td>0</td>\n",
       "      <td>3</td>\n",
       "      <td>0</td>\n",
       "      <td>0.250000</td>\n",
       "      <td>0</td>\n",
       "      <td>0</td>\n",
       "      <td>3</td>\n",
       "      <td>0</td>\n",
       "    </tr>\n",
       "    <tr>\n",
       "      <th>156c88bff4e9c4668b0f53df3d870f1b</th>\n",
       "      <td>620</td>\n",
       "      <td>434.93793</td>\n",
       "      <td>3</td>\n",
       "      <td>126</td>\n",
       "      <td>126</td>\n",
       "      <td>15.762911</td>\n",
       "      <td>3</td>\n",
       "      <td>1</td>\n",
       "      <td>0</td>\n",
       "      <td>1</td>\n",
       "      <td>0.500000</td>\n",
       "      <td>0</td>\n",
       "      <td>0</td>\n",
       "      <td>3</td>\n",
       "      <td>0</td>\n",
       "    </tr>\n",
       "    <tr>\n",
       "      <th>...</th>\n",
       "      <td>...</td>\n",
       "      <td>...</td>\n",
       "      <td>...</td>\n",
       "      <td>...</td>\n",
       "      <td>...</td>\n",
       "      <td>...</td>\n",
       "      <td>...</td>\n",
       "      <td>...</td>\n",
       "      <td>...</td>\n",
       "      <td>...</td>\n",
       "      <td>...</td>\n",
       "      <td>...</td>\n",
       "      <td>...</td>\n",
       "      <td>...</td>\n",
       "      <td>...</td>\n",
       "    </tr>\n",
       "    <tr>\n",
       "      <th>b794aa55646841a03c7783226e6f6bc8</th>\n",
       "      <td>2635</td>\n",
       "      <td>1221.93870</td>\n",
       "      <td>25</td>\n",
       "      <td>78</td>\n",
       "      <td>100</td>\n",
       "      <td>0.000000</td>\n",
       "      <td>2</td>\n",
       "      <td>1</td>\n",
       "      <td>17</td>\n",
       "      <td>0</td>\n",
       "      <td>0.390244</td>\n",
       "      <td>2</td>\n",
       "      <td>2</td>\n",
       "      <td>0</td>\n",
       "      <td>0</td>\n",
       "    </tr>\n",
       "    <tr>\n",
       "      <th>308faee28efee2e66b39f9f2ba6ea9cf</th>\n",
       "      <td>1275</td>\n",
       "      <td>854.93830</td>\n",
       "      <td>15</td>\n",
       "      <td>182</td>\n",
       "      <td>176</td>\n",
       "      <td>0.000000</td>\n",
       "      <td>6</td>\n",
       "      <td>2</td>\n",
       "      <td>10</td>\n",
       "      <td>0</td>\n",
       "      <td>0.263158</td>\n",
       "      <td>0</td>\n",
       "      <td>0</td>\n",
       "      <td>15</td>\n",
       "      <td>6</td>\n",
       "    </tr>\n",
       "    <tr>\n",
       "      <th>6066cc7417b43c749d551e123d00f0c8</th>\n",
       "      <td>1680</td>\n",
       "      <td>614.93810</td>\n",
       "      <td>11</td>\n",
       "      <td>116</td>\n",
       "      <td>140</td>\n",
       "      <td>11.630505</td>\n",
       "      <td>0</td>\n",
       "      <td>0</td>\n",
       "      <td>15</td>\n",
       "      <td>1</td>\n",
       "      <td>0.555556</td>\n",
       "      <td>0</td>\n",
       "      <td>0</td>\n",
       "      <td>0</td>\n",
       "      <td>0</td>\n",
       "    </tr>\n",
       "    <tr>\n",
       "      <th>bc7a87ed5f9c2bca55f9f7a93da0b0c5</th>\n",
       "      <td>920</td>\n",
       "      <td>494.93796</td>\n",
       "      <td>6</td>\n",
       "      <td>90</td>\n",
       "      <td>158</td>\n",
       "      <td>0.000000</td>\n",
       "      <td>0</td>\n",
       "      <td>0</td>\n",
       "      <td>1</td>\n",
       "      <td>0</td>\n",
       "      <td>0.000000</td>\n",
       "      <td>0</td>\n",
       "      <td>0</td>\n",
       "      <td>0</td>\n",
       "      <td>0</td>\n",
       "    </tr>\n",
       "    <tr>\n",
       "      <th>e2ca68ac1a6847f4a37f6c9c8ee8695b</th>\n",
       "      <td>1000</td>\n",
       "      <td>686.93820</td>\n",
       "      <td>10</td>\n",
       "      <td>120</td>\n",
       "      <td>124</td>\n",
       "      <td>2.532715</td>\n",
       "      <td>0</td>\n",
       "      <td>0</td>\n",
       "      <td>3</td>\n",
       "      <td>1</td>\n",
       "      <td>0.500000</td>\n",
       "      <td>0</td>\n",
       "      <td>0</td>\n",
       "      <td>1</td>\n",
       "      <td>0</td>\n",
       "    </tr>\n",
       "  </tbody>\n",
       "</table>\n",
       "<p>31698 rows × 15 columns</p>\n",
       "</div>"
      ],
      "text/plain": [
       "                                  d5_max_health  d5_max_mana  d5_level  d5_x  \\\n",
       "match_id_hash                                                                  \n",
       "b9c57c450ce74a2af79c9ce96fac144d            800    446.93793         4   180   \n",
       "6db558535151ea18ca70a6892197db41            640    446.93793         1   162   \n",
       "19c39fe2af2b547e48708ca005c6ae74            680    278.93777         2   182   \n",
       "c96d629dc0c39f0c616d1949938a6ba6            800    626.93810         8    92   \n",
       "156c88bff4e9c4668b0f53df3d870f1b            620    434.93793         3   126   \n",
       "...                                         ...          ...       ...   ...   \n",
       "b794aa55646841a03c7783226e6f6bc8           2635   1221.93870        25    78   \n",
       "308faee28efee2e66b39f9f2ba6ea9cf           1275    854.93830        15   182   \n",
       "6066cc7417b43c749d551e123d00f0c8           1680    614.93810        11   116   \n",
       "bc7a87ed5f9c2bca55f9f7a93da0b0c5            920    494.93796         6    90   \n",
       "e2ca68ac1a6847f4a37f6c9c8ee8695b           1000    686.93820        10   120   \n",
       "\n",
       "                                  d5_y   d5_stuns  d5_creeps_stacked  \\\n",
       "match_id_hash                                                          \n",
       "b9c57c450ce74a2af79c9ce96fac144d   176   0.000000                  0   \n",
       "6db558535151ea18ca70a6892197db41   162   0.000000                  0   \n",
       "19c39fe2af2b547e48708ca005c6ae74   174   0.000000                  0   \n",
       "c96d629dc0c39f0c616d1949938a6ba6   172   8.264696                  0   \n",
       "156c88bff4e9c4668b0f53df3d870f1b   126  15.762911                  3   \n",
       "...                                ...        ...                ...   \n",
       "b794aa55646841a03c7783226e6f6bc8   100   0.000000                  2   \n",
       "308faee28efee2e66b39f9f2ba6ea9cf   176   0.000000                  6   \n",
       "6066cc7417b43c749d551e123d00f0c8   140  11.630505                  0   \n",
       "bc7a87ed5f9c2bca55f9f7a93da0b0c5   158   0.000000                  0   \n",
       "e2ca68ac1a6847f4a37f6c9c8ee8695b   124   2.532715                  0   \n",
       "\n",
       "                                  d5_camps_stacked  d5_rune_pickups  \\\n",
       "match_id_hash                                                         \n",
       "b9c57c450ce74a2af79c9ce96fac144d                 0                0   \n",
       "6db558535151ea18ca70a6892197db41                 0                0   \n",
       "19c39fe2af2b547e48708ca005c6ae74                 0                0   \n",
       "c96d629dc0c39f0c616d1949938a6ba6                 0                3   \n",
       "156c88bff4e9c4668b0f53df3d870f1b                 1                0   \n",
       "...                                            ...              ...   \n",
       "b794aa55646841a03c7783226e6f6bc8                 1               17   \n",
       "308faee28efee2e66b39f9f2ba6ea9cf                 2               10   \n",
       "6066cc7417b43c749d551e123d00f0c8                 0               15   \n",
       "bc7a87ed5f9c2bca55f9f7a93da0b0c5                 0                1   \n",
       "e2ca68ac1a6847f4a37f6c9c8ee8695b                 0                3   \n",
       "\n",
       "                                  d5_firstblood_claimed  \\\n",
       "match_id_hash                                             \n",
       "b9c57c450ce74a2af79c9ce96fac144d                      0   \n",
       "6db558535151ea18ca70a6892197db41                      0   \n",
       "19c39fe2af2b547e48708ca005c6ae74                      0   \n",
       "c96d629dc0c39f0c616d1949938a6ba6                      0   \n",
       "156c88bff4e9c4668b0f53df3d870f1b                      1   \n",
       "...                                                 ...   \n",
       "b794aa55646841a03c7783226e6f6bc8                      0   \n",
       "308faee28efee2e66b39f9f2ba6ea9cf                      0   \n",
       "6066cc7417b43c749d551e123d00f0c8                      1   \n",
       "bc7a87ed5f9c2bca55f9f7a93da0b0c5                      0   \n",
       "e2ca68ac1a6847f4a37f6c9c8ee8695b                      1   \n",
       "\n",
       "                                  d5_teamfight_participation  \\\n",
       "match_id_hash                                                  \n",
       "b9c57c450ce74a2af79c9ce96fac144d                    0.000000   \n",
       "6db558535151ea18ca70a6892197db41                    0.000000   \n",
       "19c39fe2af2b547e48708ca005c6ae74                    0.000000   \n",
       "c96d629dc0c39f0c616d1949938a6ba6                    0.250000   \n",
       "156c88bff4e9c4668b0f53df3d870f1b                    0.500000   \n",
       "...                                                      ...   \n",
       "b794aa55646841a03c7783226e6f6bc8                    0.390244   \n",
       "308faee28efee2e66b39f9f2ba6ea9cf                    0.263158   \n",
       "6066cc7417b43c749d551e123d00f0c8                    0.555556   \n",
       "bc7a87ed5f9c2bca55f9f7a93da0b0c5                    0.000000   \n",
       "e2ca68ac1a6847f4a37f6c9c8ee8695b                    0.500000   \n",
       "\n",
       "                                  d5_towers_killed  d5_roshans_killed  \\\n",
       "match_id_hash                                                           \n",
       "b9c57c450ce74a2af79c9ce96fac144d                 0                  0   \n",
       "6db558535151ea18ca70a6892197db41                 0                  0   \n",
       "19c39fe2af2b547e48708ca005c6ae74                 0                  0   \n",
       "c96d629dc0c39f0c616d1949938a6ba6                 0                  0   \n",
       "156c88bff4e9c4668b0f53df3d870f1b                 0                  0   \n",
       "...                                            ...                ...   \n",
       "b794aa55646841a03c7783226e6f6bc8                 2                  2   \n",
       "308faee28efee2e66b39f9f2ba6ea9cf                 0                  0   \n",
       "6066cc7417b43c749d551e123d00f0c8                 0                  0   \n",
       "bc7a87ed5f9c2bca55f9f7a93da0b0c5                 0                  0   \n",
       "e2ca68ac1a6847f4a37f6c9c8ee8695b                 0                  0   \n",
       "\n",
       "                                  d5_obs_placed  d5_sen_placed  \n",
       "match_id_hash                                                   \n",
       "b9c57c450ce74a2af79c9ce96fac144d              0              0  \n",
       "6db558535151ea18ca70a6892197db41              0              0  \n",
       "19c39fe2af2b547e48708ca005c6ae74              0              0  \n",
       "c96d629dc0c39f0c616d1949938a6ba6              3              0  \n",
       "156c88bff4e9c4668b0f53df3d870f1b              3              0  \n",
       "...                                         ...            ...  \n",
       "b794aa55646841a03c7783226e6f6bc8              0              0  \n",
       "308faee28efee2e66b39f9f2ba6ea9cf             15              6  \n",
       "6066cc7417b43c749d551e123d00f0c8              0              0  \n",
       "bc7a87ed5f9c2bca55f9f7a93da0b0c5              0              0  \n",
       "e2ca68ac1a6847f4a37f6c9c8ee8695b              1              0  \n",
       "\n",
       "[31698 rows x 15 columns]"
      ]
     },
     "execution_count": 30,
     "metadata": {},
     "output_type": "execute_result"
    }
   ],
   "source": [
    "df_train_features[df_train_features.columns[230:245]]"
   ]
  },
  {
   "cell_type": "code",
   "execution_count": 31,
   "id": "d4826e8d",
   "metadata": {},
   "outputs": [
    {
     "data": {
      "text/plain": [
       "22    25324\n",
       "4      2877\n",
       "23     2079\n",
       "3       948\n",
       "2       315\n",
       "5       148\n",
       "12        5\n",
       "16        2\n",
       "Name: game_mode, dtype: int64"
      ]
     },
     "execution_count": 31,
     "metadata": {},
     "output_type": "execute_result"
    }
   ],
   "source": [
    "df_train_features['game_mode'].value_counts()"
   ]
  },
  {
   "cell_type": "code",
   "execution_count": 32,
   "id": "bbdb3cb6",
   "metadata": {},
   "outputs": [
    {
     "data": {
      "text/plain": [
       "7    21607\n",
       "0    10091\n",
       "Name: lobby_type, dtype: int64"
      ]
     },
     "execution_count": 32,
     "metadata": {},
     "output_type": "execute_result"
    }
   ],
   "source": [
    "df_train_features['lobby_type'].value_counts()"
   ]
  },
  {
   "attachments": {},
   "cell_type": "markdown",
   "id": "a0d5c54a",
   "metadata": {},
   "source": [
    "#### Смотрим на прочитанный json файл:"
   ]
  },
  {
   "cell_type": "code",
   "execution_count": 33,
   "id": "f1198d26",
   "metadata": {},
   "outputs": [
    {
     "data": {
      "text/plain": [
       "dict_keys(['game_time', 'match_id_hash', 'teamfights', 'objectives', 'chat', 'game_mode', 'lobby_type', 'players', 'targets'])"
      ]
     },
     "execution_count": 33,
     "metadata": {},
     "output_type": "execute_result"
    }
   ],
   "source": [
    "match.keys()"
   ]
  },
  {
   "attachments": {},
   "cell_type": "markdown",
   "id": "80d33f6c",
   "metadata": {},
   "source": [
    "## Добавление новых признаков"
   ]
  },
  {
   "attachments": {},
   "cell_type": "markdown",
   "id": "1adfd637",
   "metadata": {},
   "source": [
    "Будем добавлять новые признаки и смотреть на изменение скора:"
   ]
  },
  {
   "attachments": {},
   "cell_type": "markdown",
   "id": "814e13c0",
   "metadata": {},
   "source": [
    "### KDA"
   ]
  },
  {
   "cell_type": "code",
   "execution_count": 35,
   "id": "3b3fa503",
   "metadata": {},
   "outputs": [],
   "source": [
    "def add_new_features(df_features, matches_file):\n",
    "    \"\"\"\n",
    "    Аргументы\n",
    "    -------\n",
    "    df_features: таблица с данными\n",
    "    matches_file: JSON файл с сырыми данными\n",
    "    \n",
    "    Результат\n",
    "    ---------\n",
    "    Добавляет новые признаки в таблицу\n",
    "    \"\"\"\n",
    "    \n",
    "    for match in read_matches(matches_file):\n",
    "        match_id_hash = match['match_id_hash']\n",
    "\n",
    "        # Посчитаем количество разрушенных вышек обеими командами\n",
    "        radiant_tower_kills = 0\n",
    "        dire_tower_kills = 0\n",
    "        for objective in match[\"objectives\"]:\n",
    "            if objective[\"type\"] == \"CHAT_MESSAGE_TOWER_KILL\":\n",
    "                if objective[\"team\"] == 2:\n",
    "                    radiant_tower_kills += 1\n",
    "                if objective[\"team\"] == 3:\n",
    "                    dire_tower_kills += 1\n",
    "\n",
    "        df_features.loc[match_id_hash, \"radiant_tower_kills\"] = radiant_tower_kills\n",
    "        df_features.loc[match_id_hash, \"dire_tower_kills\"] = dire_tower_kills\n",
    "        df_features.loc[match_id_hash, \"diff_tower_kills\"] = radiant_tower_kills - dire_tower_kills\n",
    "        \n",
    "        # Посчитаем KDA\n",
    "        kda_rad = 0\n",
    "        kda_dir = 0\n",
    "        for player in match[\"players\"]:\n",
    "            k = player['kills']\n",
    "            d = player['deaths']\n",
    "            a = player['assists']\n",
    "            \n",
    "            if (player[\"player_slot\"] >= 0) and (player[\"player_slot\"] < 5): # radiant\n",
    "                kda_rad += (k+a)/(d+1)\n",
    "            else:\n",
    "                kda_dir += (k+a)/(d+1)\n",
    "                \n",
    "        df_features.loc[match_id_hash, \"KDA_radiant\"] = kda_rad\n",
    "        df_features.loc[match_id_hash, \"KDA_dire\"] = kda_dir\n",
    "        df_features.loc[match_id_hash, \"KDA_diff\"] = kda_rad - kda_dir\n",
    "                \n",
    "            \n",
    "        \n",
    "        # ... (/¯◡ ‿ ◡)/¯☆*:・ﾟ добавляем новые признаки ..."
   ]
  },
  {
   "cell_type": "code",
   "execution_count": 36,
   "id": "4414778b",
   "metadata": {},
   "outputs": [
    {
     "data": {
      "application/vnd.jupyter.widget-view+json": {
       "model_id": "d0eb655968f8412bac7c50faab3e1138",
       "version_major": 2,
       "version_minor": 0
      },
      "text/plain": [
       "  0%|          | 0/31698 [00:00<?, ?it/s]"
      ]
     },
     "metadata": {},
     "output_type": "display_data"
    }
   ],
   "source": [
    "# Скопируем таблицу с признаками\n",
    "df_train_features_extended = df_train_features.copy()\n",
    "\n",
    "# Добавим новые\n",
    "add_new_features(df_train_features_extended, \n",
    "                 os.path.join(PATH_TO_DATA, \n",
    "                              \"train_raw_data.jsonl\"))"
   ]
  },
  {
   "cell_type": "code",
   "execution_count": 37,
   "id": "3a5910a2",
   "metadata": {},
   "outputs": [
    {
     "data": {
      "text/html": [
       "<div>\n",
       "<style scoped>\n",
       "    .dataframe tbody tr th:only-of-type {\n",
       "        vertical-align: middle;\n",
       "    }\n",
       "\n",
       "    .dataframe tbody tr th {\n",
       "        vertical-align: top;\n",
       "    }\n",
       "\n",
       "    .dataframe thead th {\n",
       "        text-align: right;\n",
       "    }\n",
       "</style>\n",
       "<table border=\"1\" class=\"dataframe\">\n",
       "  <thead>\n",
       "    <tr style=\"text-align: right;\">\n",
       "      <th></th>\n",
       "      <th>game_time</th>\n",
       "      <th>game_mode</th>\n",
       "      <th>lobby_type</th>\n",
       "      <th>objectives_len</th>\n",
       "      <th>chat_len</th>\n",
       "      <th>r1_hero_id</th>\n",
       "      <th>r1_kills</th>\n",
       "      <th>r1_deaths</th>\n",
       "      <th>r1_assists</th>\n",
       "      <th>r1_denies</th>\n",
       "      <th>...</th>\n",
       "      <th>d5_towers_killed</th>\n",
       "      <th>d5_roshans_killed</th>\n",
       "      <th>d5_obs_placed</th>\n",
       "      <th>d5_sen_placed</th>\n",
       "      <th>radiant_tower_kills</th>\n",
       "      <th>dire_tower_kills</th>\n",
       "      <th>diff_tower_kills</th>\n",
       "      <th>KDA_radiant</th>\n",
       "      <th>KDA_dire</th>\n",
       "      <th>KDA_diff</th>\n",
       "    </tr>\n",
       "    <tr>\n",
       "      <th>match_id_hash</th>\n",
       "      <th></th>\n",
       "      <th></th>\n",
       "      <th></th>\n",
       "      <th></th>\n",
       "      <th></th>\n",
       "      <th></th>\n",
       "      <th></th>\n",
       "      <th></th>\n",
       "      <th></th>\n",
       "      <th></th>\n",
       "      <th></th>\n",
       "      <th></th>\n",
       "      <th></th>\n",
       "      <th></th>\n",
       "      <th></th>\n",
       "      <th></th>\n",
       "      <th></th>\n",
       "      <th></th>\n",
       "      <th></th>\n",
       "      <th></th>\n",
       "      <th></th>\n",
       "    </tr>\n",
       "  </thead>\n",
       "  <tbody>\n",
       "    <tr>\n",
       "      <th>b9c57c450ce74a2af79c9ce96fac144d</th>\n",
       "      <td>658</td>\n",
       "      <td>4</td>\n",
       "      <td>0</td>\n",
       "      <td>3</td>\n",
       "      <td>10</td>\n",
       "      <td>15</td>\n",
       "      <td>7</td>\n",
       "      <td>2</td>\n",
       "      <td>0</td>\n",
       "      <td>7</td>\n",
       "      <td>...</td>\n",
       "      <td>0</td>\n",
       "      <td>0</td>\n",
       "      <td>0</td>\n",
       "      <td>0</td>\n",
       "      <td>2.0</td>\n",
       "      <td>0.0</td>\n",
       "      <td>2.0</td>\n",
       "      <td>20.333333</td>\n",
       "      <td>1.476190</td>\n",
       "      <td>18.857143</td>\n",
       "    </tr>\n",
       "    <tr>\n",
       "      <th>6db558535151ea18ca70a6892197db41</th>\n",
       "      <td>21</td>\n",
       "      <td>23</td>\n",
       "      <td>0</td>\n",
       "      <td>0</td>\n",
       "      <td>0</td>\n",
       "      <td>101</td>\n",
       "      <td>0</td>\n",
       "      <td>0</td>\n",
       "      <td>0</td>\n",
       "      <td>0</td>\n",
       "      <td>...</td>\n",
       "      <td>0</td>\n",
       "      <td>0</td>\n",
       "      <td>0</td>\n",
       "      <td>0</td>\n",
       "      <td>0.0</td>\n",
       "      <td>0.0</td>\n",
       "      <td>0.0</td>\n",
       "      <td>0.000000</td>\n",
       "      <td>0.000000</td>\n",
       "      <td>0.000000</td>\n",
       "    </tr>\n",
       "    <tr>\n",
       "      <th>19c39fe2af2b547e48708ca005c6ae74</th>\n",
       "      <td>160</td>\n",
       "      <td>22</td>\n",
       "      <td>7</td>\n",
       "      <td>0</td>\n",
       "      <td>0</td>\n",
       "      <td>57</td>\n",
       "      <td>0</td>\n",
       "      <td>0</td>\n",
       "      <td>0</td>\n",
       "      <td>1</td>\n",
       "      <td>...</td>\n",
       "      <td>0</td>\n",
       "      <td>0</td>\n",
       "      <td>0</td>\n",
       "      <td>0</td>\n",
       "      <td>0.0</td>\n",
       "      <td>0.0</td>\n",
       "      <td>0.0</td>\n",
       "      <td>0.000000</td>\n",
       "      <td>0.000000</td>\n",
       "      <td>0.000000</td>\n",
       "    </tr>\n",
       "    <tr>\n",
       "      <th>c96d629dc0c39f0c616d1949938a6ba6</th>\n",
       "      <td>1016</td>\n",
       "      <td>22</td>\n",
       "      <td>0</td>\n",
       "      <td>1</td>\n",
       "      <td>0</td>\n",
       "      <td>119</td>\n",
       "      <td>0</td>\n",
       "      <td>3</td>\n",
       "      <td>3</td>\n",
       "      <td>5</td>\n",
       "      <td>...</td>\n",
       "      <td>0</td>\n",
       "      <td>0</td>\n",
       "      <td>3</td>\n",
       "      <td>0</td>\n",
       "      <td>0.0</td>\n",
       "      <td>0.0</td>\n",
       "      <td>0.0</td>\n",
       "      <td>6.416667</td>\n",
       "      <td>10.133333</td>\n",
       "      <td>-3.716667</td>\n",
       "    </tr>\n",
       "    <tr>\n",
       "      <th>156c88bff4e9c4668b0f53df3d870f1b</th>\n",
       "      <td>582</td>\n",
       "      <td>22</td>\n",
       "      <td>7</td>\n",
       "      <td>2</td>\n",
       "      <td>2</td>\n",
       "      <td>12</td>\n",
       "      <td>3</td>\n",
       "      <td>1</td>\n",
       "      <td>2</td>\n",
       "      <td>9</td>\n",
       "      <td>...</td>\n",
       "      <td>0</td>\n",
       "      <td>0</td>\n",
       "      <td>3</td>\n",
       "      <td>0</td>\n",
       "      <td>0.0</td>\n",
       "      <td>1.0</td>\n",
       "      <td>-1.0</td>\n",
       "      <td>5.428571</td>\n",
       "      <td>11.333333</td>\n",
       "      <td>-5.904762</td>\n",
       "    </tr>\n",
       "  </tbody>\n",
       "</table>\n",
       "<p>5 rows × 251 columns</p>\n",
       "</div>"
      ],
      "text/plain": [
       "                                  game_time  game_mode  lobby_type  \\\n",
       "match_id_hash                                                        \n",
       "b9c57c450ce74a2af79c9ce96fac144d        658          4           0   \n",
       "6db558535151ea18ca70a6892197db41         21         23           0   \n",
       "19c39fe2af2b547e48708ca005c6ae74        160         22           7   \n",
       "c96d629dc0c39f0c616d1949938a6ba6       1016         22           0   \n",
       "156c88bff4e9c4668b0f53df3d870f1b        582         22           7   \n",
       "\n",
       "                                  objectives_len  chat_len  r1_hero_id  \\\n",
       "match_id_hash                                                            \n",
       "b9c57c450ce74a2af79c9ce96fac144d               3        10          15   \n",
       "6db558535151ea18ca70a6892197db41               0         0         101   \n",
       "19c39fe2af2b547e48708ca005c6ae74               0         0          57   \n",
       "c96d629dc0c39f0c616d1949938a6ba6               1         0         119   \n",
       "156c88bff4e9c4668b0f53df3d870f1b               2         2          12   \n",
       "\n",
       "                                  r1_kills  r1_deaths  r1_assists  r1_denies  \\\n",
       "match_id_hash                                                                  \n",
       "b9c57c450ce74a2af79c9ce96fac144d         7          2           0          7   \n",
       "6db558535151ea18ca70a6892197db41         0          0           0          0   \n",
       "19c39fe2af2b547e48708ca005c6ae74         0          0           0          1   \n",
       "c96d629dc0c39f0c616d1949938a6ba6         0          3           3          5   \n",
       "156c88bff4e9c4668b0f53df3d870f1b         3          1           2          9   \n",
       "\n",
       "                                  ...  d5_towers_killed  d5_roshans_killed  \\\n",
       "match_id_hash                     ...                                        \n",
       "b9c57c450ce74a2af79c9ce96fac144d  ...                 0                  0   \n",
       "6db558535151ea18ca70a6892197db41  ...                 0                  0   \n",
       "19c39fe2af2b547e48708ca005c6ae74  ...                 0                  0   \n",
       "c96d629dc0c39f0c616d1949938a6ba6  ...                 0                  0   \n",
       "156c88bff4e9c4668b0f53df3d870f1b  ...                 0                  0   \n",
       "\n",
       "                                  d5_obs_placed  d5_sen_placed  \\\n",
       "match_id_hash                                                    \n",
       "b9c57c450ce74a2af79c9ce96fac144d              0              0   \n",
       "6db558535151ea18ca70a6892197db41              0              0   \n",
       "19c39fe2af2b547e48708ca005c6ae74              0              0   \n",
       "c96d629dc0c39f0c616d1949938a6ba6              3              0   \n",
       "156c88bff4e9c4668b0f53df3d870f1b              3              0   \n",
       "\n",
       "                                  radiant_tower_kills  dire_tower_kills  \\\n",
       "match_id_hash                                                             \n",
       "b9c57c450ce74a2af79c9ce96fac144d                  2.0               0.0   \n",
       "6db558535151ea18ca70a6892197db41                  0.0               0.0   \n",
       "19c39fe2af2b547e48708ca005c6ae74                  0.0               0.0   \n",
       "c96d629dc0c39f0c616d1949938a6ba6                  0.0               0.0   \n",
       "156c88bff4e9c4668b0f53df3d870f1b                  0.0               1.0   \n",
       "\n",
       "                                  diff_tower_kills  KDA_radiant   KDA_dire  \\\n",
       "match_id_hash                                                                \n",
       "b9c57c450ce74a2af79c9ce96fac144d               2.0    20.333333   1.476190   \n",
       "6db558535151ea18ca70a6892197db41               0.0     0.000000   0.000000   \n",
       "19c39fe2af2b547e48708ca005c6ae74               0.0     0.000000   0.000000   \n",
       "c96d629dc0c39f0c616d1949938a6ba6               0.0     6.416667  10.133333   \n",
       "156c88bff4e9c4668b0f53df3d870f1b              -1.0     5.428571  11.333333   \n",
       "\n",
       "                                   KDA_diff  \n",
       "match_id_hash                                \n",
       "b9c57c450ce74a2af79c9ce96fac144d  18.857143  \n",
       "6db558535151ea18ca70a6892197db41   0.000000  \n",
       "19c39fe2af2b547e48708ca005c6ae74   0.000000  \n",
       "c96d629dc0c39f0c616d1949938a6ba6  -3.716667  \n",
       "156c88bff4e9c4668b0f53df3d870f1b  -5.904762  \n",
       "\n",
       "[5 rows x 251 columns]"
      ]
     },
     "execution_count": 37,
     "metadata": {},
     "output_type": "execute_result"
    }
   ],
   "source": [
    "df_train_features_extended.head()"
   ]
  },
  {
   "cell_type": "code",
   "execution_count": 38,
   "id": "6759688c",
   "metadata": {},
   "outputs": [
    {
     "name": "stdout",
     "output_type": "stream",
     "text": [
      "CPU times: user 33.6 ms, sys: 34 ms, total: 67.6 ms\n",
      "Wall time: 19.2 s\n"
     ]
    }
   ],
   "source": [
    "%%time\n",
    "cv_scores_base = cross_val_score(rf_model, X, y, cv=cv, scoring=\"roc_auc\", n_jobs=-1)\n",
    "cv_scores_extended = cross_val_score(rf_model, df_train_features_extended.values, y, \n",
    "                                     cv=cv, scoring=\"roc_auc\", n_jobs=-1)"
   ]
  },
  {
   "cell_type": "code",
   "execution_count": 39,
   "id": "fc7a4549",
   "metadata": {},
   "outputs": [
    {
     "name": "stdout",
     "output_type": "stream",
     "text": [
      "ROC-AUC на кросс-валидации для базовых признаков: 0.7720210676055513\n",
      "ROC-AUC на кросс-валидации для новых признаков: 0.786747627962526\n"
     ]
    }
   ],
   "source": [
    "print(f\"ROC-AUC на кросс-валидации для базовых признаков: {cv_scores_base.mean()}\")\n",
    "print(f\"ROC-AUC на кросс-валидации для новых признаков: {cv_scores_extended.mean()}\")"
   ]
  },
  {
   "attachments": {},
   "cell_type": "markdown",
   "id": "280f1bcd",
   "metadata": {},
   "source": [
    "Значение ROC-AUC немного повысилось"
   ]
  },
  {
   "attachments": {},
   "cell_type": "markdown",
   "id": "083202c7",
   "metadata": {},
   "source": [
    "### KDA + Damage"
   ]
  },
  {
   "cell_type": "code",
   "execution_count": 40,
   "id": "6c4921de",
   "metadata": {},
   "outputs": [],
   "source": [
    "def add_new_features(df_features, matches_file):\n",
    "    \"\"\"\n",
    "    Аргументы\n",
    "    -------\n",
    "    df_features: таблица с данными\n",
    "    matches_file: JSON файл с сырыми данными\n",
    "    \n",
    "    Результат\n",
    "    ---------\n",
    "    Добавляет новые признаки в таблицу\n",
    "    \"\"\"\n",
    "    \n",
    "    for match in read_matches(matches_file):\n",
    "        match_id_hash = match['match_id_hash']\n",
    "\n",
    "        # Посчитаем количество разрушенных вышек обеими командами\n",
    "        radiant_tower_kills = 0\n",
    "        dire_tower_kills = 0\n",
    "        for objective in match[\"objectives\"]:\n",
    "            if objective[\"type\"] == \"CHAT_MESSAGE_TOWER_KILL\":\n",
    "                if objective[\"team\"] == 2:\n",
    "                    radiant_tower_kills += 1\n",
    "                if objective[\"team\"] == 3:\n",
    "                    dire_tower_kills += 1\n",
    "\n",
    "        df_features.loc[match_id_hash, \"radiant_tower_kills\"] = radiant_tower_kills\n",
    "        df_features.loc[match_id_hash, \"dire_tower_kills\"] = dire_tower_kills\n",
    "        df_features.loc[match_id_hash, \"diff_tower_kills\"] = radiant_tower_kills - dire_tower_kills\n",
    "        \n",
    "        # Посчитаем KDA\n",
    "        kda_rad = 0\n",
    "        kda_dir = 0\n",
    "        for player in match[\"players\"]:\n",
    "            k = player['kills']\n",
    "            d = player['deaths']\n",
    "            a = player['assists']\n",
    "            \n",
    "            if (player[\"player_slot\"] >= 0) and (player[\"player_slot\"] < 5): # radiant\n",
    "                kda_rad += (k+a)/(d+1)\n",
    "            else:\n",
    "                kda_dir += (k+a)/(d+1)\n",
    "                \n",
    "        df_features.loc[match_id_hash, \"KDA_radiant\"] = kda_rad\n",
    "        df_features.loc[match_id_hash, \"KDA_dire\"] = kda_dir\n",
    "        df_features.loc[match_id_hash, \"KDA_diff\"] = kda_rad - kda_dir\n",
    "        \n",
    "        \n",
    "        #Damage и damage taken\n",
    "        diff_damage_rad = 0\n",
    "        diff_damage_dir = 0\n",
    "        \n",
    "        for player in match[\"players\"]:\n",
    "            \n",
    "            damages = sum(player['damage'].values())\n",
    "            damages_taken = sum(player['damage_taken'].values())\n",
    "            \n",
    "            if (player[\"player_slot\"] >= 0) and (player[\"player_slot\"] < 5): # radiant\n",
    "                diff_damage_rad += damages - damages_taken\n",
    "            else:\n",
    "                diff_damage_dir += damages - damages_taken\n",
    "                \n",
    "        df_features.loc[match_id_hash, \"Diff_damage_radiant\"] = diff_damage_rad\n",
    "        df_features.loc[match_id_hash, \"Diff_damage_dire\"] = diff_damage_dir\n",
    "        df_features.loc[match_id_hash, \"Diff_diff_damage\"] = diff_damage_rad - diff_damage_dir\n",
    "                \n",
    "            \n",
    "        \n",
    "        # ... (/¯◡ ‿ ◡)/¯☆*:・ﾟ добавляем новые признаки ..."
   ]
  },
  {
   "cell_type": "code",
   "execution_count": 41,
   "id": "e347cf28",
   "metadata": {},
   "outputs": [
    {
     "data": {
      "application/vnd.jupyter.widget-view+json": {
       "model_id": "13a218c4c8f744e087e20ff0dedcac6a",
       "version_major": 2,
       "version_minor": 0
      },
      "text/plain": [
       "  0%|          | 0/31698 [00:00<?, ?it/s]"
      ]
     },
     "metadata": {},
     "output_type": "display_data"
    }
   ],
   "source": [
    "# Скопируем таблицу с признаками\n",
    "df_train_features_extended = df_train_features.copy()\n",
    "\n",
    "# Добавим новые\n",
    "add_new_features(df_train_features_extended, \n",
    "                 os.path.join(PATH_TO_DATA, \n",
    "                              \"train_raw_data.jsonl\"))"
   ]
  },
  {
   "cell_type": "code",
   "execution_count": 42,
   "id": "3585b149",
   "metadata": {},
   "outputs": [
    {
     "data": {
      "text/html": [
       "<div>\n",
       "<style scoped>\n",
       "    .dataframe tbody tr th:only-of-type {\n",
       "        vertical-align: middle;\n",
       "    }\n",
       "\n",
       "    .dataframe tbody tr th {\n",
       "        vertical-align: top;\n",
       "    }\n",
       "\n",
       "    .dataframe thead th {\n",
       "        text-align: right;\n",
       "    }\n",
       "</style>\n",
       "<table border=\"1\" class=\"dataframe\">\n",
       "  <thead>\n",
       "    <tr style=\"text-align: right;\">\n",
       "      <th></th>\n",
       "      <th>game_time</th>\n",
       "      <th>game_mode</th>\n",
       "      <th>lobby_type</th>\n",
       "      <th>objectives_len</th>\n",
       "      <th>chat_len</th>\n",
       "      <th>r1_hero_id</th>\n",
       "      <th>r1_kills</th>\n",
       "      <th>r1_deaths</th>\n",
       "      <th>r1_assists</th>\n",
       "      <th>r1_denies</th>\n",
       "      <th>...</th>\n",
       "      <th>d5_sen_placed</th>\n",
       "      <th>radiant_tower_kills</th>\n",
       "      <th>dire_tower_kills</th>\n",
       "      <th>diff_tower_kills</th>\n",
       "      <th>KDA_radiant</th>\n",
       "      <th>KDA_dire</th>\n",
       "      <th>KDA_diff</th>\n",
       "      <th>Diff_damage_radiant</th>\n",
       "      <th>Diff_damage_dire</th>\n",
       "      <th>Diff_diff_damage</th>\n",
       "    </tr>\n",
       "    <tr>\n",
       "      <th>match_id_hash</th>\n",
       "      <th></th>\n",
       "      <th></th>\n",
       "      <th></th>\n",
       "      <th></th>\n",
       "      <th></th>\n",
       "      <th></th>\n",
       "      <th></th>\n",
       "      <th></th>\n",
       "      <th></th>\n",
       "      <th></th>\n",
       "      <th></th>\n",
       "      <th></th>\n",
       "      <th></th>\n",
       "      <th></th>\n",
       "      <th></th>\n",
       "      <th></th>\n",
       "      <th></th>\n",
       "      <th></th>\n",
       "      <th></th>\n",
       "      <th></th>\n",
       "      <th></th>\n",
       "    </tr>\n",
       "  </thead>\n",
       "  <tbody>\n",
       "    <tr>\n",
       "      <th>b9c57c450ce74a2af79c9ce96fac144d</th>\n",
       "      <td>658</td>\n",
       "      <td>4</td>\n",
       "      <td>0</td>\n",
       "      <td>3</td>\n",
       "      <td>10</td>\n",
       "      <td>15</td>\n",
       "      <td>7</td>\n",
       "      <td>2</td>\n",
       "      <td>0</td>\n",
       "      <td>7</td>\n",
       "      <td>...</td>\n",
       "      <td>0</td>\n",
       "      <td>2.0</td>\n",
       "      <td>0.0</td>\n",
       "      <td>2.0</td>\n",
       "      <td>20.333333</td>\n",
       "      <td>1.476190</td>\n",
       "      <td>18.857143</td>\n",
       "      <td>48562.0</td>\n",
       "      <td>22359.0</td>\n",
       "      <td>26203.0</td>\n",
       "    </tr>\n",
       "    <tr>\n",
       "      <th>6db558535151ea18ca70a6892197db41</th>\n",
       "      <td>21</td>\n",
       "      <td>23</td>\n",
       "      <td>0</td>\n",
       "      <td>0</td>\n",
       "      <td>0</td>\n",
       "      <td>101</td>\n",
       "      <td>0</td>\n",
       "      <td>0</td>\n",
       "      <td>0</td>\n",
       "      <td>0</td>\n",
       "      <td>...</td>\n",
       "      <td>0</td>\n",
       "      <td>0.0</td>\n",
       "      <td>0.0</td>\n",
       "      <td>0.0</td>\n",
       "      <td>0.000000</td>\n",
       "      <td>0.000000</td>\n",
       "      <td>0.000000</td>\n",
       "      <td>2.0</td>\n",
       "      <td>-2.0</td>\n",
       "      <td>4.0</td>\n",
       "    </tr>\n",
       "    <tr>\n",
       "      <th>19c39fe2af2b547e48708ca005c6ae74</th>\n",
       "      <td>160</td>\n",
       "      <td>22</td>\n",
       "      <td>7</td>\n",
       "      <td>0</td>\n",
       "      <td>0</td>\n",
       "      <td>57</td>\n",
       "      <td>0</td>\n",
       "      <td>0</td>\n",
       "      <td>0</td>\n",
       "      <td>1</td>\n",
       "      <td>...</td>\n",
       "      <td>0</td>\n",
       "      <td>0.0</td>\n",
       "      <td>0.0</td>\n",
       "      <td>0.0</td>\n",
       "      <td>0.000000</td>\n",
       "      <td>0.000000</td>\n",
       "      <td>0.000000</td>\n",
       "      <td>2529.0</td>\n",
       "      <td>5313.0</td>\n",
       "      <td>-2784.0</td>\n",
       "    </tr>\n",
       "    <tr>\n",
       "      <th>c96d629dc0c39f0c616d1949938a6ba6</th>\n",
       "      <td>1016</td>\n",
       "      <td>22</td>\n",
       "      <td>0</td>\n",
       "      <td>1</td>\n",
       "      <td>0</td>\n",
       "      <td>119</td>\n",
       "      <td>0</td>\n",
       "      <td>3</td>\n",
       "      <td>3</td>\n",
       "      <td>5</td>\n",
       "      <td>...</td>\n",
       "      <td>0</td>\n",
       "      <td>0.0</td>\n",
       "      <td>0.0</td>\n",
       "      <td>0.0</td>\n",
       "      <td>6.416667</td>\n",
       "      <td>10.133333</td>\n",
       "      <td>-3.716667</td>\n",
       "      <td>91331.0</td>\n",
       "      <td>58839.0</td>\n",
       "      <td>32492.0</td>\n",
       "    </tr>\n",
       "    <tr>\n",
       "      <th>156c88bff4e9c4668b0f53df3d870f1b</th>\n",
       "      <td>582</td>\n",
       "      <td>22</td>\n",
       "      <td>7</td>\n",
       "      <td>2</td>\n",
       "      <td>2</td>\n",
       "      <td>12</td>\n",
       "      <td>3</td>\n",
       "      <td>1</td>\n",
       "      <td>2</td>\n",
       "      <td>9</td>\n",
       "      <td>...</td>\n",
       "      <td>0</td>\n",
       "      <td>0.0</td>\n",
       "      <td>1.0</td>\n",
       "      <td>-1.0</td>\n",
       "      <td>5.428571</td>\n",
       "      <td>11.333333</td>\n",
       "      <td>-5.904762</td>\n",
       "      <td>36326.0</td>\n",
       "      <td>42481.0</td>\n",
       "      <td>-6155.0</td>\n",
       "    </tr>\n",
       "  </tbody>\n",
       "</table>\n",
       "<p>5 rows × 254 columns</p>\n",
       "</div>"
      ],
      "text/plain": [
       "                                  game_time  game_mode  lobby_type  \\\n",
       "match_id_hash                                                        \n",
       "b9c57c450ce74a2af79c9ce96fac144d        658          4           0   \n",
       "6db558535151ea18ca70a6892197db41         21         23           0   \n",
       "19c39fe2af2b547e48708ca005c6ae74        160         22           7   \n",
       "c96d629dc0c39f0c616d1949938a6ba6       1016         22           0   \n",
       "156c88bff4e9c4668b0f53df3d870f1b        582         22           7   \n",
       "\n",
       "                                  objectives_len  chat_len  r1_hero_id  \\\n",
       "match_id_hash                                                            \n",
       "b9c57c450ce74a2af79c9ce96fac144d               3        10          15   \n",
       "6db558535151ea18ca70a6892197db41               0         0         101   \n",
       "19c39fe2af2b547e48708ca005c6ae74               0         0          57   \n",
       "c96d629dc0c39f0c616d1949938a6ba6               1         0         119   \n",
       "156c88bff4e9c4668b0f53df3d870f1b               2         2          12   \n",
       "\n",
       "                                  r1_kills  r1_deaths  r1_assists  r1_denies  \\\n",
       "match_id_hash                                                                  \n",
       "b9c57c450ce74a2af79c9ce96fac144d         7          2           0          7   \n",
       "6db558535151ea18ca70a6892197db41         0          0           0          0   \n",
       "19c39fe2af2b547e48708ca005c6ae74         0          0           0          1   \n",
       "c96d629dc0c39f0c616d1949938a6ba6         0          3           3          5   \n",
       "156c88bff4e9c4668b0f53df3d870f1b         3          1           2          9   \n",
       "\n",
       "                                  ...  d5_sen_placed  radiant_tower_kills  \\\n",
       "match_id_hash                     ...                                       \n",
       "b9c57c450ce74a2af79c9ce96fac144d  ...              0                  2.0   \n",
       "6db558535151ea18ca70a6892197db41  ...              0                  0.0   \n",
       "19c39fe2af2b547e48708ca005c6ae74  ...              0                  0.0   \n",
       "c96d629dc0c39f0c616d1949938a6ba6  ...              0                  0.0   \n",
       "156c88bff4e9c4668b0f53df3d870f1b  ...              0                  0.0   \n",
       "\n",
       "                                  dire_tower_kills  diff_tower_kills  \\\n",
       "match_id_hash                                                          \n",
       "b9c57c450ce74a2af79c9ce96fac144d               0.0               2.0   \n",
       "6db558535151ea18ca70a6892197db41               0.0               0.0   \n",
       "19c39fe2af2b547e48708ca005c6ae74               0.0               0.0   \n",
       "c96d629dc0c39f0c616d1949938a6ba6               0.0               0.0   \n",
       "156c88bff4e9c4668b0f53df3d870f1b               1.0              -1.0   \n",
       "\n",
       "                                  KDA_radiant   KDA_dire   KDA_diff  \\\n",
       "match_id_hash                                                         \n",
       "b9c57c450ce74a2af79c9ce96fac144d    20.333333   1.476190  18.857143   \n",
       "6db558535151ea18ca70a6892197db41     0.000000   0.000000   0.000000   \n",
       "19c39fe2af2b547e48708ca005c6ae74     0.000000   0.000000   0.000000   \n",
       "c96d629dc0c39f0c616d1949938a6ba6     6.416667  10.133333  -3.716667   \n",
       "156c88bff4e9c4668b0f53df3d870f1b     5.428571  11.333333  -5.904762   \n",
       "\n",
       "                                  Diff_damage_radiant  Diff_damage_dire  \\\n",
       "match_id_hash                                                             \n",
       "b9c57c450ce74a2af79c9ce96fac144d              48562.0           22359.0   \n",
       "6db558535151ea18ca70a6892197db41                  2.0              -2.0   \n",
       "19c39fe2af2b547e48708ca005c6ae74               2529.0            5313.0   \n",
       "c96d629dc0c39f0c616d1949938a6ba6              91331.0           58839.0   \n",
       "156c88bff4e9c4668b0f53df3d870f1b              36326.0           42481.0   \n",
       "\n",
       "                                  Diff_diff_damage  \n",
       "match_id_hash                                       \n",
       "b9c57c450ce74a2af79c9ce96fac144d           26203.0  \n",
       "6db558535151ea18ca70a6892197db41               4.0  \n",
       "19c39fe2af2b547e48708ca005c6ae74           -2784.0  \n",
       "c96d629dc0c39f0c616d1949938a6ba6           32492.0  \n",
       "156c88bff4e9c4668b0f53df3d870f1b           -6155.0  \n",
       "\n",
       "[5 rows x 254 columns]"
      ]
     },
     "execution_count": 42,
     "metadata": {},
     "output_type": "execute_result"
    }
   ],
   "source": [
    "df_train_features_extended.head()"
   ]
  },
  {
   "cell_type": "code",
   "execution_count": 43,
   "id": "7b7af3a6",
   "metadata": {},
   "outputs": [
    {
     "name": "stdout",
     "output_type": "stream",
     "text": [
      "CPU times: user 36.3 ms, sys: 35.1 ms, total: 71.4 ms\n",
      "Wall time: 19.3 s\n"
     ]
    }
   ],
   "source": [
    "%%time\n",
    "cv_scores_base = cross_val_score(rf_model, X, y, cv=cv, scoring=\"roc_auc\", n_jobs=-1)\n",
    "cv_scores_extended = cross_val_score(rf_model, df_train_features_extended.values, y, \n",
    "                                     cv=cv, scoring=\"roc_auc\", n_jobs=-1)"
   ]
  },
  {
   "cell_type": "code",
   "execution_count": 44,
   "id": "3ef2fafa",
   "metadata": {},
   "outputs": [
    {
     "name": "stdout",
     "output_type": "stream",
     "text": [
      "ROC-AUC на кросс-валидации для базовых признаков: 0.7720210676055513\n",
      "ROC-AUC на кросс-валидации для новых признаков: 0.7912915246950384\n"
     ]
    }
   ],
   "source": [
    "print(f\"ROC-AUC на кросс-валидации для базовых признаков: {cv_scores_base.mean()}\")\n",
    "print(f\"ROC-AUC на кросс-валидации для новых признаков: {cv_scores_extended.mean()}\")"
   ]
  },
  {
   "attachments": {},
   "cell_type": "markdown",
   "id": "1e922c94",
   "metadata": {},
   "source": [
    "Значение ROC-AUC еще немного повысилось"
   ]
  },
  {
   "attachments": {},
   "cell_type": "markdown",
   "id": "f1de94b3",
   "metadata": {},
   "source": [
    "### KDA + Damage + Purchase"
   ]
  },
  {
   "cell_type": "code",
   "execution_count": 45,
   "id": "5ccea905",
   "metadata": {},
   "outputs": [],
   "source": [
    "def add_new_features(df_features, matches_file):\n",
    "    \"\"\"\n",
    "    Аргументы\n",
    "    -------\n",
    "    df_features: таблица с данными\n",
    "    matches_file: JSON файл с сырыми данными\n",
    "    \n",
    "    Результат\n",
    "    ---------\n",
    "    Добавляет новые признаки в таблицу\n",
    "    \"\"\"\n",
    "    \n",
    "    for match in read_matches(matches_file):\n",
    "        match_id_hash = match['match_id_hash']\n",
    "\n",
    "        # Посчитаем количество разрушенных вышек обеими командами\n",
    "        radiant_tower_kills = 0\n",
    "        dire_tower_kills = 0\n",
    "        for objective in match[\"objectives\"]:\n",
    "            if objective[\"type\"] == \"CHAT_MESSAGE_TOWER_KILL\":\n",
    "                if objective[\"team\"] == 2:\n",
    "                    radiant_tower_kills += 1\n",
    "                if objective[\"team\"] == 3:\n",
    "                    dire_tower_kills += 1\n",
    "\n",
    "        df_features.loc[match_id_hash, \"radiant_tower_kills\"] = radiant_tower_kills\n",
    "        df_features.loc[match_id_hash, \"dire_tower_kills\"] = dire_tower_kills\n",
    "        df_features.loc[match_id_hash, \"diff_tower_kills\"] = radiant_tower_kills - dire_tower_kills\n",
    "        \n",
    "        # Посчитаем KDA, Damage и damage taken, Purchase\n",
    "        kda_rad = 0\n",
    "        kda_dir = 0\n",
    "        \n",
    "        diff_damage_rad = 0\n",
    "        diff_damage_dir = 0\n",
    "        \n",
    "        purchase_rad = 0\n",
    "        purchase_dir = 0\n",
    "        \n",
    "        for player in match[\"players\"]:\n",
    "            \n",
    "            k = player['kills']\n",
    "            d = player['deaths']\n",
    "            a = player['assists']\n",
    "            if (player[\"player_slot\"] >= 0) and (player[\"player_slot\"] < 5): # radiant\n",
    "                kda_rad += (k+a)/(d+1)\n",
    "            else:\n",
    "                kda_dir += (k+a)/(d+1)\n",
    "        \n",
    "        \n",
    "            damages = sum(player['damage'].values())\n",
    "            damages_taken = sum(player['damage_taken'].values())\n",
    "            if (player[\"player_slot\"] >= 0) and (player[\"player_slot\"] < 5): # radiant\n",
    "                diff_damage_rad += damages - damages_taken\n",
    "            else:\n",
    "                diff_damage_dir += damages - damages_taken\n",
    "                \n",
    "                \n",
    "            purchases = sum(player['purchase'].values())\n",
    "            if (player[\"player_slot\"] >= 0) and (player[\"player_slot\"] < 5): # radiant\n",
    "                purchase_rad += purchases\n",
    "            else:\n",
    "                purchase_dir += purchases\n",
    "                \n",
    "            \n",
    "                \n",
    "        df_features.loc[match_id_hash, \"KDA_radiant\"] = kda_rad\n",
    "        df_features.loc[match_id_hash, \"KDA_dire\"] = kda_dir\n",
    "        df_features.loc[match_id_hash, \"KDA_diff\"] = kda_rad - kda_dir\n",
    "        \n",
    "        \n",
    "        df_features.loc[match_id_hash, \"Diff_damage_radiant\"] = diff_damage_rad\n",
    "        df_features.loc[match_id_hash, \"Diff_damage_dire\"] = diff_damage_dir\n",
    "        df_features.loc[match_id_hash, \"Diff_diff_damage\"] = diff_damage_rad - diff_damage_dir\n",
    "        \n",
    "        df_features.loc[match_id_hash, \"Purchase_radiant\"] = purchase_rad\n",
    "        df_features.loc[match_id_hash, \"Purchase_dire\"] = purchase_dir\n",
    "        df_features.loc[match_id_hash, \"Diff_purchases\"] = purchase_rad - purchase_dir\n",
    "                \n"
   ]
  },
  {
   "cell_type": "code",
   "execution_count": 46,
   "id": "646aaa36",
   "metadata": {},
   "outputs": [
    {
     "data": {
      "application/vnd.jupyter.widget-view+json": {
       "model_id": "1bac07ddf56343e59f2fd0b63853dee8",
       "version_major": 2,
       "version_minor": 0
      },
      "text/plain": [
       "  0%|          | 0/31698 [00:00<?, ?it/s]"
      ]
     },
     "metadata": {},
     "output_type": "display_data"
    }
   ],
   "source": [
    "# Скопируем таблицу с признаками\n",
    "df_train_features_extended = df_train_features.copy()\n",
    "\n",
    "# Добавим новые\n",
    "add_new_features(df_train_features_extended, \n",
    "                 os.path.join(PATH_TO_DATA, \n",
    "                              \"train_raw_data.jsonl\"))"
   ]
  },
  {
   "cell_type": "code",
   "execution_count": 47,
   "id": "c26974f0",
   "metadata": {},
   "outputs": [
    {
     "data": {
      "text/html": [
       "<div>\n",
       "<style scoped>\n",
       "    .dataframe tbody tr th:only-of-type {\n",
       "        vertical-align: middle;\n",
       "    }\n",
       "\n",
       "    .dataframe tbody tr th {\n",
       "        vertical-align: top;\n",
       "    }\n",
       "\n",
       "    .dataframe thead th {\n",
       "        text-align: right;\n",
       "    }\n",
       "</style>\n",
       "<table border=\"1\" class=\"dataframe\">\n",
       "  <thead>\n",
       "    <tr style=\"text-align: right;\">\n",
       "      <th></th>\n",
       "      <th>game_time</th>\n",
       "      <th>game_mode</th>\n",
       "      <th>lobby_type</th>\n",
       "      <th>objectives_len</th>\n",
       "      <th>chat_len</th>\n",
       "      <th>r1_hero_id</th>\n",
       "      <th>r1_kills</th>\n",
       "      <th>r1_deaths</th>\n",
       "      <th>r1_assists</th>\n",
       "      <th>r1_denies</th>\n",
       "      <th>...</th>\n",
       "      <th>diff_tower_kills</th>\n",
       "      <th>KDA_radiant</th>\n",
       "      <th>KDA_dire</th>\n",
       "      <th>KDA_diff</th>\n",
       "      <th>Diff_damage_radiant</th>\n",
       "      <th>Diff_damage_dire</th>\n",
       "      <th>Diff_diff_damage</th>\n",
       "      <th>Purchase_radiant</th>\n",
       "      <th>Purchase_dire</th>\n",
       "      <th>Diff_purchases</th>\n",
       "    </tr>\n",
       "    <tr>\n",
       "      <th>match_id_hash</th>\n",
       "      <th></th>\n",
       "      <th></th>\n",
       "      <th></th>\n",
       "      <th></th>\n",
       "      <th></th>\n",
       "      <th></th>\n",
       "      <th></th>\n",
       "      <th></th>\n",
       "      <th></th>\n",
       "      <th></th>\n",
       "      <th></th>\n",
       "      <th></th>\n",
       "      <th></th>\n",
       "      <th></th>\n",
       "      <th></th>\n",
       "      <th></th>\n",
       "      <th></th>\n",
       "      <th></th>\n",
       "      <th></th>\n",
       "      <th></th>\n",
       "      <th></th>\n",
       "    </tr>\n",
       "  </thead>\n",
       "  <tbody>\n",
       "    <tr>\n",
       "      <th>b9c57c450ce74a2af79c9ce96fac144d</th>\n",
       "      <td>658</td>\n",
       "      <td>4</td>\n",
       "      <td>0</td>\n",
       "      <td>3</td>\n",
       "      <td>10</td>\n",
       "      <td>15</td>\n",
       "      <td>7</td>\n",
       "      <td>2</td>\n",
       "      <td>0</td>\n",
       "      <td>7</td>\n",
       "      <td>...</td>\n",
       "      <td>2.0</td>\n",
       "      <td>20.333333</td>\n",
       "      <td>1.476190</td>\n",
       "      <td>18.857143</td>\n",
       "      <td>48562.0</td>\n",
       "      <td>22359.0</td>\n",
       "      <td>26203.0</td>\n",
       "      <td>107.0</td>\n",
       "      <td>90.0</td>\n",
       "      <td>17.0</td>\n",
       "    </tr>\n",
       "    <tr>\n",
       "      <th>6db558535151ea18ca70a6892197db41</th>\n",
       "      <td>21</td>\n",
       "      <td>23</td>\n",
       "      <td>0</td>\n",
       "      <td>0</td>\n",
       "      <td>0</td>\n",
       "      <td>101</td>\n",
       "      <td>0</td>\n",
       "      <td>0</td>\n",
       "      <td>0</td>\n",
       "      <td>0</td>\n",
       "      <td>...</td>\n",
       "      <td>0.0</td>\n",
       "      <td>0.000000</td>\n",
       "      <td>0.000000</td>\n",
       "      <td>0.000000</td>\n",
       "      <td>2.0</td>\n",
       "      <td>-2.0</td>\n",
       "      <td>4.0</td>\n",
       "      <td>21.0</td>\n",
       "      <td>18.0</td>\n",
       "      <td>3.0</td>\n",
       "    </tr>\n",
       "    <tr>\n",
       "      <th>19c39fe2af2b547e48708ca005c6ae74</th>\n",
       "      <td>160</td>\n",
       "      <td>22</td>\n",
       "      <td>7</td>\n",
       "      <td>0</td>\n",
       "      <td>0</td>\n",
       "      <td>57</td>\n",
       "      <td>0</td>\n",
       "      <td>0</td>\n",
       "      <td>0</td>\n",
       "      <td>1</td>\n",
       "      <td>...</td>\n",
       "      <td>0.0</td>\n",
       "      <td>0.000000</td>\n",
       "      <td>0.000000</td>\n",
       "      <td>0.000000</td>\n",
       "      <td>2529.0</td>\n",
       "      <td>5313.0</td>\n",
       "      <td>-2784.0</td>\n",
       "      <td>37.0</td>\n",
       "      <td>32.0</td>\n",
       "      <td>5.0</td>\n",
       "    </tr>\n",
       "    <tr>\n",
       "      <th>c96d629dc0c39f0c616d1949938a6ba6</th>\n",
       "      <td>1016</td>\n",
       "      <td>22</td>\n",
       "      <td>0</td>\n",
       "      <td>1</td>\n",
       "      <td>0</td>\n",
       "      <td>119</td>\n",
       "      <td>0</td>\n",
       "      <td>3</td>\n",
       "      <td>3</td>\n",
       "      <td>5</td>\n",
       "      <td>...</td>\n",
       "      <td>0.0</td>\n",
       "      <td>6.416667</td>\n",
       "      <td>10.133333</td>\n",
       "      <td>-3.716667</td>\n",
       "      <td>91331.0</td>\n",
       "      <td>58839.0</td>\n",
       "      <td>32492.0</td>\n",
       "      <td>112.0</td>\n",
       "      <td>96.0</td>\n",
       "      <td>16.0</td>\n",
       "    </tr>\n",
       "    <tr>\n",
       "      <th>156c88bff4e9c4668b0f53df3d870f1b</th>\n",
       "      <td>582</td>\n",
       "      <td>22</td>\n",
       "      <td>7</td>\n",
       "      <td>2</td>\n",
       "      <td>2</td>\n",
       "      <td>12</td>\n",
       "      <td>3</td>\n",
       "      <td>1</td>\n",
       "      <td>2</td>\n",
       "      <td>9</td>\n",
       "      <td>...</td>\n",
       "      <td>-1.0</td>\n",
       "      <td>5.428571</td>\n",
       "      <td>11.333333</td>\n",
       "      <td>-5.904762</td>\n",
       "      <td>36326.0</td>\n",
       "      <td>42481.0</td>\n",
       "      <td>-6155.0</td>\n",
       "      <td>83.0</td>\n",
       "      <td>86.0</td>\n",
       "      <td>-3.0</td>\n",
       "    </tr>\n",
       "  </tbody>\n",
       "</table>\n",
       "<p>5 rows × 257 columns</p>\n",
       "</div>"
      ],
      "text/plain": [
       "                                  game_time  game_mode  lobby_type  \\\n",
       "match_id_hash                                                        \n",
       "b9c57c450ce74a2af79c9ce96fac144d        658          4           0   \n",
       "6db558535151ea18ca70a6892197db41         21         23           0   \n",
       "19c39fe2af2b547e48708ca005c6ae74        160         22           7   \n",
       "c96d629dc0c39f0c616d1949938a6ba6       1016         22           0   \n",
       "156c88bff4e9c4668b0f53df3d870f1b        582         22           7   \n",
       "\n",
       "                                  objectives_len  chat_len  r1_hero_id  \\\n",
       "match_id_hash                                                            \n",
       "b9c57c450ce74a2af79c9ce96fac144d               3        10          15   \n",
       "6db558535151ea18ca70a6892197db41               0         0         101   \n",
       "19c39fe2af2b547e48708ca005c6ae74               0         0          57   \n",
       "c96d629dc0c39f0c616d1949938a6ba6               1         0         119   \n",
       "156c88bff4e9c4668b0f53df3d870f1b               2         2          12   \n",
       "\n",
       "                                  r1_kills  r1_deaths  r1_assists  r1_denies  \\\n",
       "match_id_hash                                                                  \n",
       "b9c57c450ce74a2af79c9ce96fac144d         7          2           0          7   \n",
       "6db558535151ea18ca70a6892197db41         0          0           0          0   \n",
       "19c39fe2af2b547e48708ca005c6ae74         0          0           0          1   \n",
       "c96d629dc0c39f0c616d1949938a6ba6         0          3           3          5   \n",
       "156c88bff4e9c4668b0f53df3d870f1b         3          1           2          9   \n",
       "\n",
       "                                  ...  diff_tower_kills  KDA_radiant  \\\n",
       "match_id_hash                     ...                                  \n",
       "b9c57c450ce74a2af79c9ce96fac144d  ...               2.0    20.333333   \n",
       "6db558535151ea18ca70a6892197db41  ...               0.0     0.000000   \n",
       "19c39fe2af2b547e48708ca005c6ae74  ...               0.0     0.000000   \n",
       "c96d629dc0c39f0c616d1949938a6ba6  ...               0.0     6.416667   \n",
       "156c88bff4e9c4668b0f53df3d870f1b  ...              -1.0     5.428571   \n",
       "\n",
       "                                   KDA_dire   KDA_diff  Diff_damage_radiant  \\\n",
       "match_id_hash                                                                 \n",
       "b9c57c450ce74a2af79c9ce96fac144d   1.476190  18.857143              48562.0   \n",
       "6db558535151ea18ca70a6892197db41   0.000000   0.000000                  2.0   \n",
       "19c39fe2af2b547e48708ca005c6ae74   0.000000   0.000000               2529.0   \n",
       "c96d629dc0c39f0c616d1949938a6ba6  10.133333  -3.716667              91331.0   \n",
       "156c88bff4e9c4668b0f53df3d870f1b  11.333333  -5.904762              36326.0   \n",
       "\n",
       "                                  Diff_damage_dire  Diff_diff_damage  \\\n",
       "match_id_hash                                                          \n",
       "b9c57c450ce74a2af79c9ce96fac144d           22359.0           26203.0   \n",
       "6db558535151ea18ca70a6892197db41              -2.0               4.0   \n",
       "19c39fe2af2b547e48708ca005c6ae74            5313.0           -2784.0   \n",
       "c96d629dc0c39f0c616d1949938a6ba6           58839.0           32492.0   \n",
       "156c88bff4e9c4668b0f53df3d870f1b           42481.0           -6155.0   \n",
       "\n",
       "                                  Purchase_radiant  Purchase_dire  \\\n",
       "match_id_hash                                                       \n",
       "b9c57c450ce74a2af79c9ce96fac144d             107.0           90.0   \n",
       "6db558535151ea18ca70a6892197db41              21.0           18.0   \n",
       "19c39fe2af2b547e48708ca005c6ae74              37.0           32.0   \n",
       "c96d629dc0c39f0c616d1949938a6ba6             112.0           96.0   \n",
       "156c88bff4e9c4668b0f53df3d870f1b              83.0           86.0   \n",
       "\n",
       "                                  Diff_purchases  \n",
       "match_id_hash                                     \n",
       "b9c57c450ce74a2af79c9ce96fac144d            17.0  \n",
       "6db558535151ea18ca70a6892197db41             3.0  \n",
       "19c39fe2af2b547e48708ca005c6ae74             5.0  \n",
       "c96d629dc0c39f0c616d1949938a6ba6            16.0  \n",
       "156c88bff4e9c4668b0f53df3d870f1b            -3.0  \n",
       "\n",
       "[5 rows x 257 columns]"
      ]
     },
     "execution_count": 47,
     "metadata": {},
     "output_type": "execute_result"
    }
   ],
   "source": [
    "df_train_features_extended.head()"
   ]
  },
  {
   "cell_type": "code",
   "execution_count": 48,
   "id": "e7f92bda",
   "metadata": {},
   "outputs": [
    {
     "name": "stdout",
     "output_type": "stream",
     "text": [
      "CPU times: user 35.6 ms, sys: 32.9 ms, total: 68.4 ms\n",
      "Wall time: 20.5 s\n"
     ]
    }
   ],
   "source": [
    "%%time\n",
    "cv_scores_base = cross_val_score(rf_model, X, y, cv=cv, scoring=\"roc_auc\", n_jobs=-1)\n",
    "cv_scores_extended = cross_val_score(rf_model, df_train_features_extended.values, y, \n",
    "                                     cv=cv, scoring=\"roc_auc\", n_jobs=-1)"
   ]
  },
  {
   "cell_type": "code",
   "execution_count": 49,
   "id": "e5e82144",
   "metadata": {},
   "outputs": [
    {
     "name": "stdout",
     "output_type": "stream",
     "text": [
      "ROC-AUC на кросс-валидации для базовых признаков: 0.7720210676055513\n",
      "ROC-AUC на кросс-валидации для новых признаков: 0.7944989817479922\n"
     ]
    }
   ],
   "source": [
    "print(f\"ROC-AUC на кросс-валидации для базовых признаков: {cv_scores_base.mean()}\")\n",
    "print(f\"ROC-AUC на кросс-валидации для новых признаков: {cv_scores_extended.mean()}\")"
   ]
  },
  {
   "attachments": {},
   "cell_type": "markdown",
   "id": "c96a869c",
   "metadata": {},
   "source": [
    "Значение ROC-AUC еще немного повысилось"
   ]
  },
  {
   "attachments": {},
   "cell_type": "markdown",
   "id": "9ce75675",
   "metadata": {},
   "source": [
    "### KDA +  Damage + Purchase + Kills + Rune pickups"
   ]
  },
  {
   "cell_type": "code",
   "execution_count": 50,
   "id": "bde3e668",
   "metadata": {},
   "outputs": [],
   "source": [
    "def add_new_features(df_features, matches_file):\n",
    "    \"\"\"\n",
    "    Аргументы\n",
    "    -------\n",
    "    df_features: таблица с данными\n",
    "    matches_file: JSON файл с сырыми данными\n",
    "    \n",
    "    Результат\n",
    "    ---------\n",
    "    Добавляет новые признаки в таблицу\n",
    "    \"\"\"\n",
    "    \n",
    "    for match in read_matches(matches_file):\n",
    "        match_id_hash = match['match_id_hash']\n",
    "\n",
    "        # Посчитаем количество разрушенных вышек обеими командами\n",
    "        radiant_tower_kills = 0\n",
    "        dire_tower_kills = 0\n",
    "        for objective in match[\"objectives\"]:\n",
    "            if objective[\"type\"] == \"CHAT_MESSAGE_TOWER_KILL\":\n",
    "                if objective[\"team\"] == 2:\n",
    "                    radiant_tower_kills += 1\n",
    "                if objective[\"team\"] == 3:\n",
    "                    dire_tower_kills += 1\n",
    "\n",
    "        df_features.loc[match_id_hash, \"radiant_tower_kills\"] = radiant_tower_kills\n",
    "        df_features.loc[match_id_hash, \"dire_tower_kills\"] = dire_tower_kills\n",
    "        df_features.loc[match_id_hash, \"diff_tower_kills\"] = radiant_tower_kills - dire_tower_kills\n",
    "        \n",
    "        # Посчитаем KDA, Damage и damage taken, Purchase, Kills, Rune_pickups\n",
    "        kda_rad = 0\n",
    "        kda_dir = 0\n",
    "        \n",
    "        diff_damage_rad = 0\n",
    "        diff_damage_dir = 0\n",
    "        \n",
    "        purchase_rad = 0\n",
    "        purchase_dir = 0\n",
    "        \n",
    "        kills_rad = 0\n",
    "        kills_dir = 0\n",
    "        \n",
    "        rune_pickups_rad = 0\n",
    "        rune_pickups_dir = 0\n",
    "        \n",
    "        for player in match[\"players\"]:\n",
    "            \n",
    "            k = player['kills']\n",
    "            d = player['deaths']\n",
    "            a = player['assists']\n",
    "            if (player[\"player_slot\"] >= 0) and (player[\"player_slot\"] < 5): # radiant\n",
    "                kda_rad += (k+a)/(d+1)\n",
    "            else:\n",
    "                kda_dir += (k+a)/(d+1)\n",
    "        \n",
    "        \n",
    "            damages = sum(player['damage'].values())\n",
    "            damages_taken = sum(player['damage_taken'].values())\n",
    "            if (player[\"player_slot\"] >= 0) and (player[\"player_slot\"] < 5): # radiant\n",
    "                diff_damage_rad += damages - damages_taken\n",
    "            else:\n",
    "                diff_damage_dir += damages - damages_taken\n",
    "                \n",
    "                \n",
    "            purchases = sum(player['purchase'].values())\n",
    "            if (player[\"player_slot\"] >= 0) and (player[\"player_slot\"] < 5): # radiant\n",
    "                purchase_rad += purchases\n",
    "            else:\n",
    "                purchase_dir += purchases\n",
    "                \n",
    "                \n",
    "            kills = len(player['kills_log'])\n",
    "            if (player[\"player_slot\"] >= 0) and (player[\"player_slot\"] < 5): # radiant\n",
    "                kills_rad += kills\n",
    "            else:\n",
    "                kills_dir += kills\n",
    "                \n",
    "                \n",
    "            runes_pickups = player['rune_pickups']\n",
    "            if (player[\"player_slot\"] >= 0) and (player[\"player_slot\"] < 5): # radiant\n",
    "                rune_pickups_rad += runes_pickups\n",
    "            else:\n",
    "                rune_pickups_dir += runes_pickups\n",
    "                \n",
    "            \n",
    "                \n",
    "        df_features.loc[match_id_hash, \"KDA_radiant\"] = kda_rad\n",
    "        df_features.loc[match_id_hash, \"KDA_dire\"] = kda_dir\n",
    "        df_features.loc[match_id_hash, \"KDA_diff\"] = kda_rad - kda_dir\n",
    "        \n",
    "        \n",
    "        df_features.loc[match_id_hash, \"Diff_damage_radiant\"] = diff_damage_rad\n",
    "        df_features.loc[match_id_hash, \"Diff_damage_dire\"] = diff_damage_dir\n",
    "        df_features.loc[match_id_hash, \"Diff_diff_damage\"] = diff_damage_rad - diff_damage_dir\n",
    "        \n",
    "        df_features.loc[match_id_hash, \"Purchase_radiant\"] = purchase_rad\n",
    "        df_features.loc[match_id_hash, \"Purchase_dire\"] = purchase_dir\n",
    "        df_features.loc[match_id_hash, \"Diff_purchases\"] = purchase_rad - purchase_dir\n",
    "        \n",
    "        df_features.loc[match_id_hash, \"Kills_radiant\"] = kills_rad\n",
    "        df_features.loc[match_id_hash, \"Kills_dire\"] = kills_dir\n",
    "        df_features.loc[match_id_hash, \"Diff_kills\"] = kills_rad - kills_dir\n",
    "        \n",
    "        df_features.loc[match_id_hash, \"Rune_pickups_radiant\"] = rune_pickups_rad\n",
    "        df_features.loc[match_id_hash, \"Rune_pickups_dire\"] = rune_pickups_dir\n",
    "        df_features.loc[match_id_hash, \"Diff_rune_pickups\"] = rune_pickups_rad - rune_pickups_dir\n",
    "                \n",
    "\n"
   ]
  },
  {
   "cell_type": "code",
   "execution_count": 51,
   "id": "7bf892fc",
   "metadata": {},
   "outputs": [
    {
     "data": {
      "application/vnd.jupyter.widget-view+json": {
       "model_id": "42e9e2f59d3547e7afbf52afe492193e",
       "version_major": 2,
       "version_minor": 0
      },
      "text/plain": [
       "  0%|          | 0/31698 [00:00<?, ?it/s]"
      ]
     },
     "metadata": {},
     "output_type": "display_data"
    }
   ],
   "source": [
    "# Скопируем таблицу с признаками\n",
    "df_train_features_extended = df_train_features.copy()\n",
    "\n",
    "# Добавим новые\n",
    "add_new_features(df_train_features_extended, \n",
    "                 os.path.join(PATH_TO_DATA, \n",
    "                              \"train_raw_data.jsonl\"))"
   ]
  },
  {
   "cell_type": "code",
   "execution_count": 52,
   "id": "97aa28cd",
   "metadata": {},
   "outputs": [
    {
     "name": "stdout",
     "output_type": "stream",
     "text": [
      "CPU times: user 34.2 ms, sys: 31.9 ms, total: 66.1 ms\n",
      "Wall time: 19.8 s\n"
     ]
    }
   ],
   "source": [
    "%%time\n",
    "cv_scores_base = cross_val_score(rf_model, X, y, cv=cv, scoring=\"roc_auc\", n_jobs=-1)\n",
    "cv_scores_extended = cross_val_score(rf_model, df_train_features_extended.values, y, \n",
    "                                     cv=cv, scoring=\"roc_auc\", n_jobs=-1)"
   ]
  },
  {
   "cell_type": "code",
   "execution_count": 53,
   "id": "7253626a",
   "metadata": {},
   "outputs": [
    {
     "name": "stdout",
     "output_type": "stream",
     "text": [
      "ROC-AUC на кросс-валидации для базовых признаков: 0.7720210676055513\n",
      "ROC-AUC на кросс-валидации для новых признаков: 0.7948134756163819\n"
     ]
    }
   ],
   "source": [
    "print(f\"ROC-AUC на кросс-валидации для базовых признаков: {cv_scores_base.mean()}\")\n",
    "print(f\"ROC-AUC на кросс-валидации для новых признаков: {cv_scores_extended.mean()}\")"
   ]
  },
  {
   "attachments": {},
   "cell_type": "markdown",
   "id": "a556b8c1",
   "metadata": {},
   "source": [
    "Значение ROC-AUC еще немного повысилось"
   ]
  },
  {
   "attachments": {},
   "cell_type": "markdown",
   "id": "68e0d130",
   "metadata": {},
   "source": [
    "Добавление новых признаков увеличивает значение ROC-AUC, но не сильно, поэтому я решила подобрать гиперпараметры для модели при помощи GridSearchCV"
   ]
  },
  {
   "attachments": {},
   "cell_type": "markdown",
   "id": "2da80cb7",
   "metadata": {},
   "source": [
    "### GridSearch"
   ]
  },
  {
   "cell_type": "code",
   "execution_count": 54,
   "id": "9218d4cf",
   "metadata": {},
   "outputs": [],
   "source": [
    "# %%time\n",
    "rf_model = RandomForestClassifier(n_estimators=300, max_depth=7, n_jobs=-1, random_state=SEED)\n",
    "# rf_model.fit(X_train, y_train)"
   ]
  },
  {
   "cell_type": "code",
   "execution_count": 55,
   "id": "7108a5ab",
   "metadata": {},
   "outputs": [],
   "source": [
    "params = {'n_estimators':[10, 20, 30, 40, 50, 100, 200, 300, 500, 700, 1000, 1200, 1500], # кол-во деревьев в ансамбле\n",
    "          'max_depth':[3, 5, 7, 10, 15],\n",
    "          'max_features':[1, 2]}"
   ]
  },
  {
   "cell_type": "code",
   "execution_count": 56,
   "id": "219b2cb4",
   "metadata": {
    "scrolled": true
   },
   "outputs": [
    {
     "name": "stdout",
     "output_type": "stream",
     "text": [
      "CPU times: user 32.1 s, sys: 1.55 s, total: 33.7 s\n",
      "Wall time: 4min 55s\n"
     ]
    },
    {
     "data": {
      "text/html": [
       "<style>#sk-container-id-2 {color: black;background-color: white;}#sk-container-id-2 pre{padding: 0;}#sk-container-id-2 div.sk-toggleable {background-color: white;}#sk-container-id-2 label.sk-toggleable__label {cursor: pointer;display: block;width: 100%;margin-bottom: 0;padding: 0.3em;box-sizing: border-box;text-align: center;}#sk-container-id-2 label.sk-toggleable__label-arrow:before {content: \"▸\";float: left;margin-right: 0.25em;color: #696969;}#sk-container-id-2 label.sk-toggleable__label-arrow:hover:before {color: black;}#sk-container-id-2 div.sk-estimator:hover label.sk-toggleable__label-arrow:before {color: black;}#sk-container-id-2 div.sk-toggleable__content {max-height: 0;max-width: 0;overflow: hidden;text-align: left;background-color: #f0f8ff;}#sk-container-id-2 div.sk-toggleable__content pre {margin: 0.2em;color: black;border-radius: 0.25em;background-color: #f0f8ff;}#sk-container-id-2 input.sk-toggleable__control:checked~div.sk-toggleable__content {max-height: 200px;max-width: 100%;overflow: auto;}#sk-container-id-2 input.sk-toggleable__control:checked~label.sk-toggleable__label-arrow:before {content: \"▾\";}#sk-container-id-2 div.sk-estimator input.sk-toggleable__control:checked~label.sk-toggleable__label {background-color: #d4ebff;}#sk-container-id-2 div.sk-label input.sk-toggleable__control:checked~label.sk-toggleable__label {background-color: #d4ebff;}#sk-container-id-2 input.sk-hidden--visually {border: 0;clip: rect(1px 1px 1px 1px);clip: rect(1px, 1px, 1px, 1px);height: 1px;margin: -1px;overflow: hidden;padding: 0;position: absolute;width: 1px;}#sk-container-id-2 div.sk-estimator {font-family: monospace;background-color: #f0f8ff;border: 1px dotted black;border-radius: 0.25em;box-sizing: border-box;margin-bottom: 0.5em;}#sk-container-id-2 div.sk-estimator:hover {background-color: #d4ebff;}#sk-container-id-2 div.sk-parallel-item::after {content: \"\";width: 100%;border-bottom: 1px solid gray;flex-grow: 1;}#sk-container-id-2 div.sk-label:hover label.sk-toggleable__label {background-color: #d4ebff;}#sk-container-id-2 div.sk-serial::before {content: \"\";position: absolute;border-left: 1px solid gray;box-sizing: border-box;top: 0;bottom: 0;left: 50%;z-index: 0;}#sk-container-id-2 div.sk-serial {display: flex;flex-direction: column;align-items: center;background-color: white;padding-right: 0.2em;padding-left: 0.2em;position: relative;}#sk-container-id-2 div.sk-item {position: relative;z-index: 1;}#sk-container-id-2 div.sk-parallel {display: flex;align-items: stretch;justify-content: center;background-color: white;position: relative;}#sk-container-id-2 div.sk-item::before, #sk-container-id-2 div.sk-parallel-item::before {content: \"\";position: absolute;border-left: 1px solid gray;box-sizing: border-box;top: 0;bottom: 0;left: 50%;z-index: -1;}#sk-container-id-2 div.sk-parallel-item {display: flex;flex-direction: column;z-index: 1;position: relative;background-color: white;}#sk-container-id-2 div.sk-parallel-item:first-child::after {align-self: flex-end;width: 50%;}#sk-container-id-2 div.sk-parallel-item:last-child::after {align-self: flex-start;width: 50%;}#sk-container-id-2 div.sk-parallel-item:only-child::after {width: 0;}#sk-container-id-2 div.sk-dashed-wrapped {border: 1px dashed gray;margin: 0 0.4em 0.5em 0.4em;box-sizing: border-box;padding-bottom: 0.4em;background-color: white;}#sk-container-id-2 div.sk-label label {font-family: monospace;font-weight: bold;display: inline-block;line-height: 1.2em;}#sk-container-id-2 div.sk-label-container {text-align: center;}#sk-container-id-2 div.sk-container {/* jupyter's `normalize.less` sets `[hidden] { display: none; }` but bootstrap.min.css set `[hidden] { display: none !important; }` so we also need the `!important` here to be able to override the default hidden behavior on the sphinx rendered scikit-learn.org. See: https://github.com/scikit-learn/scikit-learn/issues/21755 */display: inline-block !important;position: relative;}#sk-container-id-2 div.sk-text-repr-fallback {display: none;}</style><div id=\"sk-container-id-2\" class=\"sk-top-container\"><div class=\"sk-text-repr-fallback\"><pre>GridSearchCV(estimator=RandomForestClassifier(max_depth=7, n_estimators=300,\n",
       "                                              n_jobs=-1, random_state=10801),\n",
       "             n_jobs=-1,\n",
       "             param_grid={&#x27;max_depth&#x27;: [3, 5, 7, 10, 15], &#x27;max_features&#x27;: [1, 2],\n",
       "                         &#x27;n_estimators&#x27;: [10, 20, 30, 40, 50, 100, 200, 300,\n",
       "                                          500, 700, 1000, 1200, 1500]},\n",
       "             scoring=&#x27;roc_auc&#x27;)</pre><b>In a Jupyter environment, please rerun this cell to show the HTML representation or trust the notebook. <br />On GitHub, the HTML representation is unable to render, please try loading this page with nbviewer.org.</b></div><div class=\"sk-container\" hidden><div class=\"sk-item sk-dashed-wrapped\"><div class=\"sk-label-container\"><div class=\"sk-label sk-toggleable\"><input class=\"sk-toggleable__control sk-hidden--visually\" id=\"sk-estimator-id-2\" type=\"checkbox\" ><label for=\"sk-estimator-id-2\" class=\"sk-toggleable__label sk-toggleable__label-arrow\">GridSearchCV</label><div class=\"sk-toggleable__content\"><pre>GridSearchCV(estimator=RandomForestClassifier(max_depth=7, n_estimators=300,\n",
       "                                              n_jobs=-1, random_state=10801),\n",
       "             n_jobs=-1,\n",
       "             param_grid={&#x27;max_depth&#x27;: [3, 5, 7, 10, 15], &#x27;max_features&#x27;: [1, 2],\n",
       "                         &#x27;n_estimators&#x27;: [10, 20, 30, 40, 50, 100, 200, 300,\n",
       "                                          500, 700, 1000, 1200, 1500]},\n",
       "             scoring=&#x27;roc_auc&#x27;)</pre></div></div></div><div class=\"sk-parallel\"><div class=\"sk-parallel-item\"><div class=\"sk-item\"><div class=\"sk-label-container\"><div class=\"sk-label sk-toggleable\"><input class=\"sk-toggleable__control sk-hidden--visually\" id=\"sk-estimator-id-3\" type=\"checkbox\" ><label for=\"sk-estimator-id-3\" class=\"sk-toggleable__label sk-toggleable__label-arrow\">estimator: RandomForestClassifier</label><div class=\"sk-toggleable__content\"><pre>RandomForestClassifier(max_depth=7, n_estimators=300, n_jobs=-1,\n",
       "                       random_state=10801)</pre></div></div></div><div class=\"sk-serial\"><div class=\"sk-item\"><div class=\"sk-estimator sk-toggleable\"><input class=\"sk-toggleable__control sk-hidden--visually\" id=\"sk-estimator-id-4\" type=\"checkbox\" ><label for=\"sk-estimator-id-4\" class=\"sk-toggleable__label sk-toggleable__label-arrow\">RandomForestClassifier</label><div class=\"sk-toggleable__content\"><pre>RandomForestClassifier(max_depth=7, n_estimators=300, n_jobs=-1,\n",
       "                       random_state=10801)</pre></div></div></div></div></div></div></div></div></div></div>"
      ],
      "text/plain": [
       "GridSearchCV(estimator=RandomForestClassifier(max_depth=7, n_estimators=300,\n",
       "                                              n_jobs=-1, random_state=10801),\n",
       "             n_jobs=-1,\n",
       "             param_grid={'max_depth': [3, 5, 7, 10, 15], 'max_features': [1, 2],\n",
       "                         'n_estimators': [10, 20, 30, 40, 50, 100, 200, 300,\n",
       "                                          500, 700, 1000, 1200, 1500]},\n",
       "             scoring='roc_auc')"
      ]
     },
     "execution_count": 56,
     "metadata": {},
     "output_type": "execute_result"
    }
   ],
   "source": [
    "%%time\n",
    "\n",
    "rf_model_grid = GridSearchCV(rf_model, params, scoring='roc_auc', n_jobs=-1)\n",
    "rf_model_grid.fit(X_train, y_train)"
   ]
  },
  {
   "cell_type": "code",
   "execution_count": 57,
   "id": "a63c7fa8",
   "metadata": {},
   "outputs": [
    {
     "data": {
      "text/plain": [
       "{'max_depth': 15, 'max_features': 2, 'n_estimators': 1500}"
      ]
     },
     "execution_count": 57,
     "metadata": {},
     "output_type": "execute_result"
    }
   ],
   "source": [
    "rf_model_grid.best_params_"
   ]
  },
  {
   "cell_type": "code",
   "execution_count": 58,
   "id": "fabde8f1",
   "metadata": {},
   "outputs": [
    {
     "data": {
      "text/plain": [
       "0.7930842082969192"
      ]
     },
     "execution_count": 58,
     "metadata": {},
     "output_type": "execute_result"
    }
   ],
   "source": [
    "rf_model_grid.best_score_"
   ]
  },
  {
   "cell_type": "code",
   "execution_count": 59,
   "id": "0940bd58",
   "metadata": {},
   "outputs": [],
   "source": [
    "y_pred = rf_model_grid.predict_proba(X_valid)[:, 1]"
   ]
  },
  {
   "cell_type": "code",
   "execution_count": 60,
   "id": "bf516297",
   "metadata": {},
   "outputs": [
    {
     "name": "stdout",
     "output_type": "stream",
     "text": [
      "ROC-AUC score на отложенной части: 0.7954431394963921\n"
     ]
    }
   ],
   "source": [
    "valid_score = roc_auc_score(y_valid, y_pred)\n",
    "print(\"ROC-AUC score на отложенной части:\", valid_score)"
   ]
  },
  {
   "cell_type": "code",
   "execution_count": null,
   "id": "9d168251",
   "metadata": {},
   "outputs": [],
   "source": []
  },
  {
   "cell_type": "code",
   "execution_count": 61,
   "id": "8e17a81a",
   "metadata": {},
   "outputs": [
    {
     "name": "stdout",
     "output_type": "stream",
     "text": [
      "CPU times: user 31.1 s, sys: 1.03 s, total: 32.2 s\n",
      "Wall time: 4.43 s\n"
     ]
    },
    {
     "data": {
      "text/html": [
       "<style>#sk-container-id-3 {color: black;background-color: white;}#sk-container-id-3 pre{padding: 0;}#sk-container-id-3 div.sk-toggleable {background-color: white;}#sk-container-id-3 label.sk-toggleable__label {cursor: pointer;display: block;width: 100%;margin-bottom: 0;padding: 0.3em;box-sizing: border-box;text-align: center;}#sk-container-id-3 label.sk-toggleable__label-arrow:before {content: \"▸\";float: left;margin-right: 0.25em;color: #696969;}#sk-container-id-3 label.sk-toggleable__label-arrow:hover:before {color: black;}#sk-container-id-3 div.sk-estimator:hover label.sk-toggleable__label-arrow:before {color: black;}#sk-container-id-3 div.sk-toggleable__content {max-height: 0;max-width: 0;overflow: hidden;text-align: left;background-color: #f0f8ff;}#sk-container-id-3 div.sk-toggleable__content pre {margin: 0.2em;color: black;border-radius: 0.25em;background-color: #f0f8ff;}#sk-container-id-3 input.sk-toggleable__control:checked~div.sk-toggleable__content {max-height: 200px;max-width: 100%;overflow: auto;}#sk-container-id-3 input.sk-toggleable__control:checked~label.sk-toggleable__label-arrow:before {content: \"▾\";}#sk-container-id-3 div.sk-estimator input.sk-toggleable__control:checked~label.sk-toggleable__label {background-color: #d4ebff;}#sk-container-id-3 div.sk-label input.sk-toggleable__control:checked~label.sk-toggleable__label {background-color: #d4ebff;}#sk-container-id-3 input.sk-hidden--visually {border: 0;clip: rect(1px 1px 1px 1px);clip: rect(1px, 1px, 1px, 1px);height: 1px;margin: -1px;overflow: hidden;padding: 0;position: absolute;width: 1px;}#sk-container-id-3 div.sk-estimator {font-family: monospace;background-color: #f0f8ff;border: 1px dotted black;border-radius: 0.25em;box-sizing: border-box;margin-bottom: 0.5em;}#sk-container-id-3 div.sk-estimator:hover {background-color: #d4ebff;}#sk-container-id-3 div.sk-parallel-item::after {content: \"\";width: 100%;border-bottom: 1px solid gray;flex-grow: 1;}#sk-container-id-3 div.sk-label:hover label.sk-toggleable__label {background-color: #d4ebff;}#sk-container-id-3 div.sk-serial::before {content: \"\";position: absolute;border-left: 1px solid gray;box-sizing: border-box;top: 0;bottom: 0;left: 50%;z-index: 0;}#sk-container-id-3 div.sk-serial {display: flex;flex-direction: column;align-items: center;background-color: white;padding-right: 0.2em;padding-left: 0.2em;position: relative;}#sk-container-id-3 div.sk-item {position: relative;z-index: 1;}#sk-container-id-3 div.sk-parallel {display: flex;align-items: stretch;justify-content: center;background-color: white;position: relative;}#sk-container-id-3 div.sk-item::before, #sk-container-id-3 div.sk-parallel-item::before {content: \"\";position: absolute;border-left: 1px solid gray;box-sizing: border-box;top: 0;bottom: 0;left: 50%;z-index: -1;}#sk-container-id-3 div.sk-parallel-item {display: flex;flex-direction: column;z-index: 1;position: relative;background-color: white;}#sk-container-id-3 div.sk-parallel-item:first-child::after {align-self: flex-end;width: 50%;}#sk-container-id-3 div.sk-parallel-item:last-child::after {align-self: flex-start;width: 50%;}#sk-container-id-3 div.sk-parallel-item:only-child::after {width: 0;}#sk-container-id-3 div.sk-dashed-wrapped {border: 1px dashed gray;margin: 0 0.4em 0.5em 0.4em;box-sizing: border-box;padding-bottom: 0.4em;background-color: white;}#sk-container-id-3 div.sk-label label {font-family: monospace;font-weight: bold;display: inline-block;line-height: 1.2em;}#sk-container-id-3 div.sk-label-container {text-align: center;}#sk-container-id-3 div.sk-container {/* jupyter's `normalize.less` sets `[hidden] { display: none; }` but bootstrap.min.css set `[hidden] { display: none !important; }` so we also need the `!important` here to be able to override the default hidden behavior on the sphinx rendered scikit-learn.org. See: https://github.com/scikit-learn/scikit-learn/issues/21755 */display: inline-block !important;position: relative;}#sk-container-id-3 div.sk-text-repr-fallback {display: none;}</style><div id=\"sk-container-id-3\" class=\"sk-top-container\"><div class=\"sk-text-repr-fallback\"><pre>RandomForestClassifier(max_depth=15, max_features=2, n_estimators=1500,\n",
       "                       n_jobs=-1, random_state=10801)</pre><b>In a Jupyter environment, please rerun this cell to show the HTML representation or trust the notebook. <br />On GitHub, the HTML representation is unable to render, please try loading this page with nbviewer.org.</b></div><div class=\"sk-container\" hidden><div class=\"sk-item\"><div class=\"sk-estimator sk-toggleable\"><input class=\"sk-toggleable__control sk-hidden--visually\" id=\"sk-estimator-id-5\" type=\"checkbox\" checked><label for=\"sk-estimator-id-5\" class=\"sk-toggleable__label sk-toggleable__label-arrow\">RandomForestClassifier</label><div class=\"sk-toggleable__content\"><pre>RandomForestClassifier(max_depth=15, max_features=2, n_estimators=1500,\n",
       "                       n_jobs=-1, random_state=10801)</pre></div></div></div></div></div>"
      ],
      "text/plain": [
       "RandomForestClassifier(max_depth=15, max_features=2, n_estimators=1500,\n",
       "                       n_jobs=-1, random_state=10801)"
      ]
     },
     "execution_count": 61,
     "metadata": {},
     "output_type": "execute_result"
    }
   ],
   "source": [
    "%%time\n",
    "rf_model = RandomForestClassifier(n_estimators=1500, max_depth=15, max_features = 2, n_jobs=-1, random_state=SEED)\n",
    "rf_model.fit(X_train, y_train)"
   ]
  },
  {
   "attachments": {},
   "cell_type": "markdown",
   "id": "b97d3b72",
   "metadata": {},
   "source": [
    "### Кросс-валидация"
   ]
  },
  {
   "cell_type": "code",
   "execution_count": 62,
   "id": "615a4a33",
   "metadata": {},
   "outputs": [],
   "source": [
    "cv = ShuffleSplit(n_splits=5, test_size=0.3, random_state=SEED)"
   ]
  },
  {
   "cell_type": "code",
   "execution_count": 63,
   "id": "70d391cb",
   "metadata": {},
   "outputs": [
    {
     "name": "stdout",
     "output_type": "stream",
     "text": [
      "CPU times: user 15.1 s, sys: 2.34 s, total: 17.4 s\n",
      "Wall time: 22.3 s\n"
     ]
    }
   ],
   "source": [
    "%%time\n",
    "rf_model = RandomForestClassifier(n_estimators=1500, max_depth=15, max_features = 2, n_jobs=-1, random_state=SEED)\n",
    "cv_scores_rf = cross_val_score(rf_model, X, y, cv=cv, scoring=\"roc_auc\")"
   ]
  },
  {
   "cell_type": "code",
   "execution_count": 64,
   "id": "c8a4f3db",
   "metadata": {},
   "outputs": [
    {
     "data": {
      "text/plain": [
       "array([0.79544314, 0.79343988, 0.78568928, 0.79257528, 0.79168135])"
      ]
     },
     "execution_count": 64,
     "metadata": {},
     "output_type": "execute_result"
    }
   ],
   "source": [
    "cv_scores_rf"
   ]
  },
  {
   "cell_type": "code",
   "execution_count": 65,
   "id": "6d676781",
   "metadata": {},
   "outputs": [
    {
     "name": "stdout",
     "output_type": "stream",
     "text": [
      "Среднее значение ROC-AUC на кросс-валидации: 0.7917657866272193\n"
     ]
    }
   ],
   "source": [
    "print(f\"Среднее значение ROC-AUC на кросс-валидации: {cv_scores_rf.mean()}\")"
   ]
  },
  {
   "attachments": {},
   "cell_type": "markdown",
   "id": "2c36a6c9",
   "metadata": {},
   "source": [
    "### Построение модели с новыми гиперпараметрами:"
   ]
  },
  {
   "cell_type": "code",
   "execution_count": 66,
   "id": "6ad5a1ac",
   "metadata": {},
   "outputs": [
    {
     "name": "stdout",
     "output_type": "stream",
     "text": [
      "CPU times: user 46.9 ms, sys: 135 ms, total: 181 ms\n",
      "Wall time: 37.6 s\n"
     ]
    }
   ],
   "source": [
    "%%time\n",
    "cv_scores_base = cross_val_score(rf_model, X, y, cv=cv, scoring=\"roc_auc\", n_jobs=-1)\n",
    "cv_scores_extended = cross_val_score(rf_model, df_train_features_extended.values, y, \n",
    "                                     cv=cv, scoring=\"roc_auc\", n_jobs=-1)"
   ]
  },
  {
   "cell_type": "code",
   "execution_count": 67,
   "id": "df85906e",
   "metadata": {
    "scrolled": true
   },
   "outputs": [
    {
     "name": "stdout",
     "output_type": "stream",
     "text": [
      "ROC-AUC на кросс-валидации для базовых признаков: 0.7917657866272193\n",
      "ROC-AUC на кросс-валидации для новых признаков: 0.7989743521559276\n"
     ]
    }
   ],
   "source": [
    "print(f\"ROC-AUC на кросс-валидации для базовых признаков: {cv_scores_base.mean()}\")\n",
    "print(f\"ROC-AUC на кросс-валидации для новых признаков: {cv_scores_extended.mean()}\")"
   ]
  },
  {
   "attachments": {},
   "cell_type": "markdown",
   "id": "6a71348a",
   "metadata": {},
   "source": [
    "С новыми значениями гиперпараметров значение ROC-AUC на кросс-валидации для базовых признаков стало заметно больше. \\\n",
    "Теперь буду строить модель с обновленными гиперпараметрами."
   ]
  },
  {
   "attachments": {},
   "cell_type": "markdown",
   "id": "e291e33b",
   "metadata": {},
   "source": [
    "## Добавление признаков"
   ]
  },
  {
   "attachments": {},
   "cell_type": "markdown",
   "id": "9592d3d5",
   "metadata": {},
   "source": [
    "До этого я добавляла суммарные значения признаков по игрокам каждой команды, но не убирала из датасета исходные признаки."
   ]
  },
  {
   "attachments": {},
   "cell_type": "markdown",
   "id": "3c97894a",
   "metadata": {},
   "source": [
    "Сейчас сделаю немного по-другому:"
   ]
  },
  {
   "attachments": {},
   "cell_type": "markdown",
   "id": "cff6f3b8",
   "metadata": {},
   "source": [
    "Добавляем соотношения признаков, а сами признаки убираем из датасета, чтобы не было мультиколлинеарности. \\\n",
    "**Соотношения признаков следующие**: подсчитываем значения признаков по игрокам внутри одной команды, суммируем и получаем значение признака для каждой из команды. Далее считаем отношение: **(rad - dir) / (rad + dir)**. \\\n",
    "Таким образом у нас появляется соотношения значений признаков у команд. При этом число **больше 0** говорит о том, что по данному признаку выигрывает команда **radiant**, а значение **меньше 0** - по данному признаку выигрывает команда **dire**. \\\n",
    "Также данные становятся более нормализованными.\n",
    "\n",
    "После подсчета удаляем 10 колонок со значениями признаков по каждому игроку."
   ]
  },
  {
   "cell_type": "code",
   "execution_count": 68,
   "id": "a0943c5f",
   "metadata": {},
   "outputs": [],
   "source": [
    "def add_new_features(df_features, matches_file):\n",
    "    \"\"\"\n",
    "    Аргументы\n",
    "    -------\n",
    "    df_features: таблица с данными\n",
    "    matches_file: JSON файл с сырыми данными\n",
    "    \n",
    "    Результат\n",
    "    ---------\n",
    "    Добавляет новые признаки в таблицу\n",
    "    \"\"\"\n",
    "    \n",
    "    for match in read_matches(matches_file):\n",
    "        match_id_hash = match['match_id_hash']\n",
    "\n",
    "        # Посчитаем количество разрушенных вышек обеими командами\n",
    "        radiant_tower_kills = 0\n",
    "        dire_tower_kills = 0\n",
    "        for objective in match[\"objectives\"]:\n",
    "            if objective[\"type\"] == \"CHAT_MESSAGE_TOWER_KILL\":\n",
    "                if objective[\"team\"] == 2:\n",
    "                    radiant_tower_kills += 1\n",
    "                if objective[\"team\"] == 3:\n",
    "                    dire_tower_kills += 1\n",
    "\n",
    "                    \n",
    "        if (radiant_tower_kills + dire_tower_kills) == 0:\n",
    "            df_features.loc[match_id_hash, \"Tower_kills\"] = 0\n",
    "        else:\n",
    "            df_features.loc[match_id_hash, \"Tower_kills\"] = (radiant_tower_kills - dire_tower_kills)/(radiant_tower_kills + dire_tower_kills)\n",
    "        \n",
    "        \n",
    "         \n",
    "        kda_rad = 0\n",
    "        kda_dir = 0\n",
    "        \n",
    "        diff_damage_rad = 0\n",
    "        diff_damage_dir = 0\n",
    "        \n",
    "        purchase_rad = 0\n",
    "        purchase_dir = 0\n",
    "        \n",
    "        kills_rad = 0\n",
    "        kills_dir = 0\n",
    "        \n",
    "        rune_pickups_rad = 0\n",
    "        rune_pickups_dir = 0\n",
    "        \n",
    "        roshans_killed_rad = 0\n",
    "        roshans_killed_dir = 0\n",
    "        \n",
    "        denies_rad = 0\n",
    "        denies_dir = 0\n",
    "        \n",
    "        gold_rad = 0\n",
    "        gold_dir = 0\n",
    "        \n",
    "        lh_rad = 0\n",
    "        lh_dir = 0\n",
    "        \n",
    "        xp_rad = 0\n",
    "        xp_dir = 0\n",
    "        \n",
    "        max_mana_rad = 0\n",
    "        max_mana_dir = 0\n",
    "        \n",
    "        health_rad = 0\n",
    "        health_dir = 0\n",
    "        \n",
    "        max_health_rad = 0\n",
    "        max_health_dir = 0\n",
    "        \n",
    "        stuns_rad = 0\n",
    "        stuns_dir = 0\n",
    "        \n",
    "        creeps_stacked_rad = 0\n",
    "        creeps_stacked_dir = 0\n",
    "        \n",
    "        camps_stacked_rad = 0\n",
    "        camps_stacked_dir = 0\n",
    "        \n",
    "        obs_placed_rad = 0\n",
    "        obs_placed_dir = 0\n",
    "        \n",
    "        sen_placed_rad = 0\n",
    "        sen_placed_dir = 0\n",
    "        \n",
    "        for player in match[\"players\"]:\n",
    "            \n",
    "            k = player['kills']\n",
    "            d = player['deaths']\n",
    "            a = player['assists']\n",
    "            if (player[\"player_slot\"] >= 0) and (player[\"player_slot\"] < 5): # radiant\n",
    "                kda_rad += (k+a)/(d+1)\n",
    "            else:\n",
    "                kda_dir += (k+a)/(d+1)\n",
    "        \n",
    "        \n",
    "            damages = sum(player['damage'].values())\n",
    "            damages_taken = sum(player['damage_taken'].values())\n",
    "            if (player[\"player_slot\"] >= 0) and (player[\"player_slot\"] < 5): # radiant\n",
    "                diff_damage_rad += damages - damages_taken\n",
    "            else:\n",
    "                diff_damage_dir += damages - damages_taken\n",
    "                \n",
    "                \n",
    "            purchases = sum(player['purchase'].values())\n",
    "            if (player[\"player_slot\"] >= 0) and (player[\"player_slot\"] < 5): # radiant\n",
    "                purchase_rad += purchases\n",
    "            else:\n",
    "                purchase_dir += purchases\n",
    "                \n",
    "                \n",
    "            kills = len(player['kills_log'])\n",
    "            if (player[\"player_slot\"] >= 0) and (player[\"player_slot\"] < 5): # radiant\n",
    "                kills_rad += kills\n",
    "            else:\n",
    "                kills_dir += kills\n",
    "                \n",
    "                \n",
    "            runes_pickups = player['rune_pickups']\n",
    "            if (player[\"player_slot\"] >= 0) and (player[\"player_slot\"] < 5): # radiant\n",
    "                rune_pickups_rad += runes_pickups\n",
    "            else:\n",
    "                rune_pickups_dir += runes_pickups\n",
    "                \n",
    "                \n",
    "            roshans = player['roshans_killed']\n",
    "            if (player[\"player_slot\"] >= 0) and (player[\"player_slot\"] < 5): # radiant\n",
    "                roshans_killed_rad += roshans\n",
    "            else:\n",
    "                roshans_killed_dir += roshans\n",
    "                \n",
    "            \n",
    "            denies_ = player['denies']\n",
    "            if (player[\"player_slot\"] >= 0) and (player[\"player_slot\"] < 5): # radiant\n",
    "                denies_rad += denies_\n",
    "            else:\n",
    "                denies_dir += denies_\n",
    "                \n",
    "                \n",
    "            gold_ = player['gold']\n",
    "            if (player[\"player_slot\"] >= 0) and (player[\"player_slot\"] < 5): # radiant\n",
    "                gold_rad += gold_\n",
    "            else:\n",
    "                gold_dir += gold_\n",
    "                \n",
    "                \n",
    "            lh_ = player['lh']\n",
    "            if (player[\"player_slot\"] >= 0) and (player[\"player_slot\"] < 5): # radiant\n",
    "                lh_rad += lh_\n",
    "            else:\n",
    "                lh_dir += lh_\n",
    "                \n",
    "                \n",
    "            xp_ = player['xp']\n",
    "            if (player[\"player_slot\"] >= 0) and (player[\"player_slot\"] < 5): # radiant\n",
    "                xp_rad += xp_\n",
    "            else:\n",
    "                xp_dir += xp_\n",
    "                \n",
    "                \n",
    "            max_mana_ = player['max_mana']\n",
    "            if (player[\"player_slot\"] >= 0) and (player[\"player_slot\"] < 5): # radiant\n",
    "                max_mana_rad += max_mana_\n",
    "            else:\n",
    "                max_mana_dir += max_mana_\n",
    "                \n",
    "                \n",
    "            health_ = player['health']\n",
    "            if (player[\"player_slot\"] >= 0) and (player[\"player_slot\"] < 5): # radiant\n",
    "                health_rad += health_\n",
    "            else:\n",
    "                health_dir += health_\n",
    "                \n",
    "                \n",
    "            max_health_ = player['max_health']\n",
    "            if (player[\"player_slot\"] >= 0) and (player[\"player_slot\"] < 5): # radiant\n",
    "                max_health_rad += max_health_\n",
    "            else:\n",
    "                max_health_dir += max_health_\n",
    "                \n",
    "            \n",
    "            stuns_ = player['stuns']\n",
    "            if (player[\"player_slot\"] >= 0) and (player[\"player_slot\"] < 5): # radiant\n",
    "                stuns_rad += stuns_\n",
    "            else:\n",
    "                stuns_dir += stuns_\n",
    "                \n",
    "                \n",
    "            creeps_stacked_ = player['creeps_stacked']\n",
    "            if (player[\"player_slot\"] >= 0) and (player[\"player_slot\"] < 5): # radiant\n",
    "                creeps_stacked_rad += creeps_stacked_\n",
    "            else:\n",
    "                creeps_stacked_dir += creeps_stacked_\n",
    "                \n",
    "                \n",
    "            camps_stacked_ = player['camps_stacked']\n",
    "            if (player[\"player_slot\"] >= 0) and (player[\"player_slot\"] < 5): # radiant\n",
    "                camps_stacked_rad += camps_stacked_\n",
    "            else:\n",
    "                camps_stacked_dir += camps_stacked_\n",
    "                \n",
    "            \n",
    "            obs_placed_ = player['obs_placed']\n",
    "            if (player[\"player_slot\"] >= 0) and (player[\"player_slot\"] < 5): # radiant\n",
    "                obs_placed_rad += obs_placed_\n",
    "            else:\n",
    "                obs_placed_dir += obs_placed_\n",
    "                \n",
    "                \n",
    "            sen_placed_ = player['sen_placed']\n",
    "            if (player[\"player_slot\"] >= 0) and (player[\"player_slot\"] < 5): # radiant\n",
    "                sen_placed_rad += sen_placed_\n",
    "            else:\n",
    "                sen_placed_dir += sen_placed_\n",
    "                \n",
    "#             firstblood_claimed\n",
    "            \n",
    "                \n",
    "                \n",
    "        # KDA\n",
    "        if (kda_rad + kda_dir) == 0:\n",
    "            df_features.loc[match_id_hash, \"KDA\"] = 0\n",
    "        else:\n",
    "            df_features.loc[match_id_hash, \"KDA\"] = (kda_rad - kda_dir)/(kda_rad + kda_dir)\n",
    "  \n",
    "        \n",
    "        \n",
    "        # Damage\n",
    "        if (diff_damage_rad + diff_damage_dir) == 0:\n",
    "            df_features.loc[match_id_hash, \"Damage\"] = 0\n",
    "        else:\n",
    "            df_features.loc[match_id_hash, \"Damage\"] = (diff_damage_rad - diff_damage_dir)/(diff_damage_rad + diff_damage_dir)\n",
    "\n",
    "        \n",
    "        \n",
    "        # Purchase\n",
    "        if (purchase_rad + purchase_dir) == 0:\n",
    "            df_features.loc[match_id_hash, \"Purchase\"] = 0\n",
    "        else:\n",
    "            df_features.loc[match_id_hash, \"Purchase\"] = (purchase_rad - purchase_dir)/(purchase_rad + purchase_dir)\n",
    "        \n",
    "        \n",
    "        # Rune pickups\n",
    "        if (rune_pickups_rad + rune_pickups_dir) == 0:\n",
    "            df_features.loc[match_id_hash, \"Rune_pickups\"] = 0\n",
    "        else:\n",
    "            df_features.loc[match_id_hash, \"Rune_pickups\"] = (rune_pickups_rad - rune_pickups_dir)/(rune_pickups_rad + rune_pickups_dir)\n",
    "\n",
    "            \n",
    "        # Roshans killed\n",
    "        if (roshans_killed_rad + roshans_killed_dir) == 0:\n",
    "            df_features.loc[match_id_hash, \"Roshans_killed\"] = 0\n",
    "        else:\n",
    "            df_features.loc[match_id_hash, \"Roshans_killed\"] = (roshans_killed_rad - roshans_killed_dir)/(roshans_killed_rad + roshans_killed_dir)\n",
    "\n",
    "            \n",
    "        # Denies\n",
    "        if (denies_rad + denies_dir) == 0:\n",
    "            df_features.loc[match_id_hash, \"Denies\"] = 0\n",
    "        else:\n",
    "            df_features.loc[match_id_hash, \"Denies\"] = (denies_rad - denies_dir)/(denies_rad + denies_dir)\n",
    "            \n",
    "            \n",
    "        # Gold\n",
    "        if (gold_rad + gold_dir) == 0:\n",
    "            df_features.loc[match_id_hash, \"Gold\"] = 0\n",
    "        else:\n",
    "            df_features.loc[match_id_hash, \"Gold\"] = (gold_rad - gold_dir)/(gold_rad + gold_dir)\n",
    "            \n",
    "            \n",
    "        # Lh\n",
    "        if (lh_rad + lh_dir) == 0:\n",
    "            df_features.loc[match_id_hash, \"LH\"] = 0\n",
    "        else:\n",
    "            df_features.loc[match_id_hash, \"LH\"] = (lh_rad - lh_dir)/(lh_rad + lh_dir)\n",
    "            \n",
    "        \n",
    "        # Xp\n",
    "        if (xp_rad + xp_dir) == 0:\n",
    "            df_features.loc[match_id_hash, \"XP\"] = 0\n",
    "        else:\n",
    "            df_features.loc[match_id_hash, \"XP\"] = (xp_rad - xp_dir)/(xp_rad + xp_dir)\n",
    "            \n",
    "            \n",
    "        # Stuns\n",
    "        if (stuns_rad + stuns_dir) == 0:\n",
    "            df_features.loc[match_id_hash, \"Stuns\"] = 0\n",
    "        else:\n",
    "            df_features.loc[match_id_hash, \"Stuns\"] = (stuns_rad - stuns_dir)/(stuns_rad + stuns_dir)\n",
    "            \n",
    "            \n",
    "        # Creeps_stacked\n",
    "        if (creeps_stacked_rad + creeps_stacked_dir) == 0:\n",
    "            df_features.loc[match_id_hash, \"Creeps_stacked\"] = 0\n",
    "        else:\n",
    "            df_features.loc[match_id_hash, \"Creeps_stacked\"] = (creeps_stacked_rad - creeps_stacked_dir)/(creeps_stacked_rad + creeps_stacked_dir)\n",
    "            \n",
    "        \n",
    "        # Camps_stacked\n",
    "        if (camps_stacked_rad + camps_stacked_dir) == 0:\n",
    "            df_features.loc[match_id_hash, \"Camps_stacked\"] = 0\n",
    "        else:\n",
    "            df_features.loc[match_id_hash, \"Camps_stacked\"] = (camps_stacked_rad - camps_stacked_dir)/(camps_stacked_rad + camps_stacked_dir)\n",
    "\n",
    "            \n",
    "        # Obs_placed\n",
    "        if (obs_placed_rad + obs_placed_dir) == 0:\n",
    "            df_features.loc[match_id_hash, \"Obs_placed\"] = 0\n",
    "        else:\n",
    "            df_features.loc[match_id_hash, \"Obs_placed\"] = (obs_placed_rad - obs_placed_dir)/(obs_placed_rad + obs_placed_dir)\n",
    "            \n",
    "        \n",
    "        # Sen_placed\n",
    "        if (sen_placed_rad + sen_placed_dir) == 0:\n",
    "            df_features.loc[match_id_hash, \"Sen_placed\"] = 0\n",
    "        else:\n",
    "            df_features.loc[match_id_hash, \"Sen_placed\"] = (sen_placed_rad - sen_placed_dir)/(sen_placed_rad + sen_placed_dir)\n"
   ]
  },
  {
   "cell_type": "code",
   "execution_count": 69,
   "id": "60573ed2",
   "metadata": {},
   "outputs": [
    {
     "data": {
      "application/vnd.jupyter.widget-view+json": {
       "model_id": "83d1bc1c75d8417c8399fb8b412084d8",
       "version_major": 2,
       "version_minor": 0
      },
      "text/plain": [
       "  0%|          | 0/31698 [00:00<?, ?it/s]"
      ]
     },
     "metadata": {},
     "output_type": "display_data"
    }
   ],
   "source": [
    "# Скопируем таблицу с признаками\n",
    "df_train_features_extended = df_train_features.copy()\n",
    "\n",
    "# Добавим новые\n",
    "add_new_features(df_train_features_extended, \n",
    "                 os.path.join(PATH_TO_DATA, \n",
    "                              \"train_raw_data.jsonl\"))"
   ]
  },
  {
   "attachments": {},
   "cell_type": "markdown",
   "id": "a121ce1c",
   "metadata": {},
   "source": [
    "### Deleting columns:"
   ]
  },
  {
   "cell_type": "code",
   "execution_count": 70,
   "id": "54799063",
   "metadata": {},
   "outputs": [],
   "source": [
    "for i in range(1, 6):\n",
    "        df_train_features_extended = df_train_features_extended.drop(columns = [f'r{i}_towers_killed', f'd{i}_towers_killed'])\n",
    "        df_train_features_extended = df_train_features_extended.drop(columns = [f'r{i}_kills', f'r{i}_deaths', f'r{i}_assists', \n",
    "                                    f'd{i}_kills', f'd{i}_deaths', f'd{i}_assists'])\n",
    "        df_train_features_extended = df_train_features_extended.drop(columns = [f'r{i}_rune_pickups', f'd{i}_rune_pickups'])\n",
    "        df_train_features_extended = df_train_features_extended.drop(columns = [f'r{i}_roshans_killed', f'd{i}_roshans_killed'])\n",
    "        df_train_features_extended = df_train_features_extended.drop(columns = [f'r{i}_denies', f'd{i}_denies',\n",
    "                                                                               f'r{i}_gold', f'd{i}_gold',\n",
    "                                                                               f'r{i}_lh', f'd{i}_lh',\n",
    "                                                                               f'r{i}_xp', f'd{i}_xp',\n",
    "                                                                               f'r{i}_max_mana', f'd{i}_max_mana',\n",
    "                                                                               f'r{i}_health', f'd{i}_health',\n",
    "                                                                               f'r{i}_max_health', f'd{i}_max_health',\n",
    "                                                                               f'r{i}_stuns', f'd{i}_stuns',\n",
    "                                                                               f'r{i}_creeps_stacked', f'd{i}_creeps_stacked',\n",
    "                                                                               f'r{i}_camps_stacked', f'd{i}_camps_stacked',\n",
    "                                                                               f'r{i}_obs_placed', f'd{i}_obs_placed',\n",
    "                                                                               f'r{i}_sen_placed', f'd{i}_sen_placed'])"
   ]
  },
  {
   "cell_type": "code",
   "execution_count": 71,
   "id": "0abbe024",
   "metadata": {},
   "outputs": [],
   "source": [
    "X = df_train_features.values\n",
    "y = df_train_targets[\"radiant_win\"].values.astype(\"int8\")"
   ]
  },
  {
   "cell_type": "code",
   "execution_count": 72,
   "id": "19e411ec",
   "metadata": {},
   "outputs": [
    {
     "data": {
      "text/html": [
       "<style>#sk-container-id-4 {color: black;background-color: white;}#sk-container-id-4 pre{padding: 0;}#sk-container-id-4 div.sk-toggleable {background-color: white;}#sk-container-id-4 label.sk-toggleable__label {cursor: pointer;display: block;width: 100%;margin-bottom: 0;padding: 0.3em;box-sizing: border-box;text-align: center;}#sk-container-id-4 label.sk-toggleable__label-arrow:before {content: \"▸\";float: left;margin-right: 0.25em;color: #696969;}#sk-container-id-4 label.sk-toggleable__label-arrow:hover:before {color: black;}#sk-container-id-4 div.sk-estimator:hover label.sk-toggleable__label-arrow:before {color: black;}#sk-container-id-4 div.sk-toggleable__content {max-height: 0;max-width: 0;overflow: hidden;text-align: left;background-color: #f0f8ff;}#sk-container-id-4 div.sk-toggleable__content pre {margin: 0.2em;color: black;border-radius: 0.25em;background-color: #f0f8ff;}#sk-container-id-4 input.sk-toggleable__control:checked~div.sk-toggleable__content {max-height: 200px;max-width: 100%;overflow: auto;}#sk-container-id-4 input.sk-toggleable__control:checked~label.sk-toggleable__label-arrow:before {content: \"▾\";}#sk-container-id-4 div.sk-estimator input.sk-toggleable__control:checked~label.sk-toggleable__label {background-color: #d4ebff;}#sk-container-id-4 div.sk-label input.sk-toggleable__control:checked~label.sk-toggleable__label {background-color: #d4ebff;}#sk-container-id-4 input.sk-hidden--visually {border: 0;clip: rect(1px 1px 1px 1px);clip: rect(1px, 1px, 1px, 1px);height: 1px;margin: -1px;overflow: hidden;padding: 0;position: absolute;width: 1px;}#sk-container-id-4 div.sk-estimator {font-family: monospace;background-color: #f0f8ff;border: 1px dotted black;border-radius: 0.25em;box-sizing: border-box;margin-bottom: 0.5em;}#sk-container-id-4 div.sk-estimator:hover {background-color: #d4ebff;}#sk-container-id-4 div.sk-parallel-item::after {content: \"\";width: 100%;border-bottom: 1px solid gray;flex-grow: 1;}#sk-container-id-4 div.sk-label:hover label.sk-toggleable__label {background-color: #d4ebff;}#sk-container-id-4 div.sk-serial::before {content: \"\";position: absolute;border-left: 1px solid gray;box-sizing: border-box;top: 0;bottom: 0;left: 50%;z-index: 0;}#sk-container-id-4 div.sk-serial {display: flex;flex-direction: column;align-items: center;background-color: white;padding-right: 0.2em;padding-left: 0.2em;position: relative;}#sk-container-id-4 div.sk-item {position: relative;z-index: 1;}#sk-container-id-4 div.sk-parallel {display: flex;align-items: stretch;justify-content: center;background-color: white;position: relative;}#sk-container-id-4 div.sk-item::before, #sk-container-id-4 div.sk-parallel-item::before {content: \"\";position: absolute;border-left: 1px solid gray;box-sizing: border-box;top: 0;bottom: 0;left: 50%;z-index: -1;}#sk-container-id-4 div.sk-parallel-item {display: flex;flex-direction: column;z-index: 1;position: relative;background-color: white;}#sk-container-id-4 div.sk-parallel-item:first-child::after {align-self: flex-end;width: 50%;}#sk-container-id-4 div.sk-parallel-item:last-child::after {align-self: flex-start;width: 50%;}#sk-container-id-4 div.sk-parallel-item:only-child::after {width: 0;}#sk-container-id-4 div.sk-dashed-wrapped {border: 1px dashed gray;margin: 0 0.4em 0.5em 0.4em;box-sizing: border-box;padding-bottom: 0.4em;background-color: white;}#sk-container-id-4 div.sk-label label {font-family: monospace;font-weight: bold;display: inline-block;line-height: 1.2em;}#sk-container-id-4 div.sk-label-container {text-align: center;}#sk-container-id-4 div.sk-container {/* jupyter's `normalize.less` sets `[hidden] { display: none; }` but bootstrap.min.css set `[hidden] { display: none !important; }` so we also need the `!important` here to be able to override the default hidden behavior on the sphinx rendered scikit-learn.org. See: https://github.com/scikit-learn/scikit-learn/issues/21755 */display: inline-block !important;position: relative;}#sk-container-id-4 div.sk-text-repr-fallback {display: none;}</style><div id=\"sk-container-id-4\" class=\"sk-top-container\"><div class=\"sk-text-repr-fallback\"><pre>RandomForestClassifier(max_depth=15, max_features=2, n_estimators=1500,\n",
       "                       n_jobs=-1, random_state=10801)</pre><b>In a Jupyter environment, please rerun this cell to show the HTML representation or trust the notebook. <br />On GitHub, the HTML representation is unable to render, please try loading this page with nbviewer.org.</b></div><div class=\"sk-container\" hidden><div class=\"sk-item\"><div class=\"sk-estimator sk-toggleable\"><input class=\"sk-toggleable__control sk-hidden--visually\" id=\"sk-estimator-id-6\" type=\"checkbox\" checked><label for=\"sk-estimator-id-6\" class=\"sk-toggleable__label sk-toggleable__label-arrow\">RandomForestClassifier</label><div class=\"sk-toggleable__content\"><pre>RandomForestClassifier(max_depth=15, max_features=2, n_estimators=1500,\n",
       "                       n_jobs=-1, random_state=10801)</pre></div></div></div></div></div>"
      ],
      "text/plain": [
       "RandomForestClassifier(max_depth=15, max_features=2, n_estimators=1500,\n",
       "                       n_jobs=-1, random_state=10801)"
      ]
     },
     "execution_count": 72,
     "metadata": {},
     "output_type": "execute_result"
    }
   ],
   "source": [
    "rf_model.fit(df_train_features_extended.values, y)"
   ]
  },
  {
   "cell_type": "code",
   "execution_count": null,
   "id": "86925c2c",
   "metadata": {},
   "outputs": [],
   "source": []
  },
  {
   "cell_type": "code",
   "execution_count": 73,
   "id": "5d62dcb3",
   "metadata": {},
   "outputs": [
    {
     "name": "stdout",
     "output_type": "stream",
     "text": [
      "CPU times: user 34.9 ms, sys: 97.9 ms, total: 133 ms\n",
      "Wall time: 37.1 s\n"
     ]
    }
   ],
   "source": [
    "%%time\n",
    "cv_scores_base = cross_val_score(rf_model, X, y, cv=cv, scoring=\"roc_auc\", n_jobs=-1)\n",
    "cv_scores_extended = cross_val_score(rf_model, df_train_features_extended.values, y, \n",
    "                                     cv=cv, scoring=\"roc_auc\", n_jobs=-1)"
   ]
  },
  {
   "cell_type": "code",
   "execution_count": 74,
   "id": "a5631dd9",
   "metadata": {},
   "outputs": [
    {
     "name": "stdout",
     "output_type": "stream",
     "text": [
      "ROC-AUC на кросс-валидации для базовых признаков: 0.7917657866272193\n",
      "ROC-AUC на кросс-валидации для новых признаков: 0.8115720366546487\n"
     ]
    }
   ],
   "source": [
    "print(f\"ROC-AUC на кросс-валидации для базовых признаков: {cv_scores_base.mean()}\")\n",
    "print(f\"ROC-AUC на кросс-валидации для новых признаков: {cv_scores_extended.mean()}\")"
   ]
  },
  {
   "attachments": {},
   "cell_type": "markdown",
   "id": "372040c6",
   "metadata": {},
   "source": [
    "## Test"
   ]
  },
  {
   "cell_type": "code",
   "execution_count": 75,
   "id": "1400cc61",
   "metadata": {},
   "outputs": [],
   "source": [
    "PATH_TO_DATA = \"./\"\n",
    "\n",
    "df_test_features = pd.read_csv(os.path.join(PATH_TO_DATA, \n",
    "                                             \"test_data.csv\"), \n",
    "                                    index_col=\"match_id_hash\")"
   ]
  },
  {
   "cell_type": "code",
   "execution_count": 76,
   "id": "094f8206",
   "metadata": {},
   "outputs": [
    {
     "data": {
      "application/vnd.jupyter.widget-view+json": {
       "model_id": "c14b1845f3ac475798a7424999075763",
       "version_major": 2,
       "version_minor": 0
      },
      "text/plain": [
       "  0%|          | 0/31698 [00:00<?, ?it/s]"
      ]
     },
     "metadata": {},
     "output_type": "display_data"
    }
   ],
   "source": [
    "# Скопируем таблицу с признаками\n",
    "df_test_features_extended = df_test_features.copy()\n",
    "\n",
    "# Добавим новые\n",
    "add_new_features(df_test_features_extended, \n",
    "                 os.path.join(PATH_TO_DATA, \n",
    "                              \"test_raw_data.jsonl\"))"
   ]
  },
  {
   "cell_type": "code",
   "execution_count": 77,
   "id": "549cf0f8",
   "metadata": {},
   "outputs": [],
   "source": [
    "for i in range(1, 6):\n",
    "        df_test_features_extended = df_test_features_extended.drop(columns = [f'r{i}_towers_killed', f'd{i}_towers_killed'])\n",
    "        df_test_features_extended = df_test_features_extended.drop(columns = [f'r{i}_kills', f'r{i}_deaths', f'r{i}_assists', \n",
    "                                    f'd{i}_kills', f'd{i}_deaths', f'd{i}_assists'])\n",
    "        df_test_features_extended = df_test_features_extended.drop(columns = [f'r{i}_rune_pickups', f'd{i}_rune_pickups'])\n",
    "        df_test_features_extended = df_test_features_extended.drop(columns = [f'r{i}_roshans_killed', f'd{i}_roshans_killed'])\n",
    "        df_test_features_extended = df_test_features_extended.drop(columns = [f'r{i}_denies', f'd{i}_denies',\n",
    "                                                                               f'r{i}_gold', f'd{i}_gold',\n",
    "                                                                               f'r{i}_lh', f'd{i}_lh',\n",
    "                                                                               f'r{i}_xp', f'd{i}_xp',\n",
    "                                                                               f'r{i}_max_mana', f'd{i}_max_mana',\n",
    "                                                                               f'r{i}_health', f'd{i}_health',\n",
    "                                                                               f'r{i}_max_health', f'd{i}_max_health',\n",
    "                                                                               f'r{i}_stuns', f'd{i}_stuns',\n",
    "                                                                               f'r{i}_creeps_stacked', f'd{i}_creeps_stacked',\n",
    "                                                                               f'r{i}_camps_stacked', f'd{i}_camps_stacked',\n",
    "                                                                               f'r{i}_obs_placed', f'd{i}_obs_placed',\n",
    "                                                                               f'r{i}_sen_placed', f'd{i}_sen_placed'])"
   ]
  },
  {
   "cell_type": "code",
   "execution_count": 78,
   "id": "17a763a8",
   "metadata": {},
   "outputs": [
    {
     "data": {
      "text/html": [
       "<div>\n",
       "<style scoped>\n",
       "    .dataframe tbody tr th:only-of-type {\n",
       "        vertical-align: middle;\n",
       "    }\n",
       "\n",
       "    .dataframe tbody tr th {\n",
       "        vertical-align: top;\n",
       "    }\n",
       "\n",
       "    .dataframe thead th {\n",
       "        text-align: right;\n",
       "    }\n",
       "</style>\n",
       "<table border=\"1\" class=\"dataframe\">\n",
       "  <thead>\n",
       "    <tr style=\"text-align: right;\">\n",
       "      <th></th>\n",
       "      <th>game_time</th>\n",
       "      <th>game_mode</th>\n",
       "      <th>lobby_type</th>\n",
       "      <th>objectives_len</th>\n",
       "      <th>chat_len</th>\n",
       "      <th>r1_hero_id</th>\n",
       "      <th>r1_level</th>\n",
       "      <th>r1_x</th>\n",
       "      <th>r1_y</th>\n",
       "      <th>r1_firstblood_claimed</th>\n",
       "      <th>...</th>\n",
       "      <th>Roshans_killed</th>\n",
       "      <th>Denies</th>\n",
       "      <th>Gold</th>\n",
       "      <th>LH</th>\n",
       "      <th>XP</th>\n",
       "      <th>Stuns</th>\n",
       "      <th>Creeps_stacked</th>\n",
       "      <th>Camps_stacked</th>\n",
       "      <th>Obs_placed</th>\n",
       "      <th>Sen_placed</th>\n",
       "    </tr>\n",
       "    <tr>\n",
       "      <th>match_id_hash</th>\n",
       "      <th></th>\n",
       "      <th></th>\n",
       "      <th></th>\n",
       "      <th></th>\n",
       "      <th></th>\n",
       "      <th></th>\n",
       "      <th></th>\n",
       "      <th></th>\n",
       "      <th></th>\n",
       "      <th></th>\n",
       "      <th></th>\n",
       "      <th></th>\n",
       "      <th></th>\n",
       "      <th></th>\n",
       "      <th></th>\n",
       "      <th></th>\n",
       "      <th></th>\n",
       "      <th></th>\n",
       "      <th></th>\n",
       "      <th></th>\n",
       "      <th></th>\n",
       "    </tr>\n",
       "  </thead>\n",
       "  <tbody>\n",
       "    <tr>\n",
       "      <th>a400b8f29dece5f4d266f49f1ae2e98a</th>\n",
       "      <td>155</td>\n",
       "      <td>22</td>\n",
       "      <td>7</td>\n",
       "      <td>1</td>\n",
       "      <td>11</td>\n",
       "      <td>11</td>\n",
       "      <td>2</td>\n",
       "      <td>116</td>\n",
       "      <td>122</td>\n",
       "      <td>0</td>\n",
       "      <td>...</td>\n",
       "      <td>0.0</td>\n",
       "      <td>-0.666667</td>\n",
       "      <td>-0.319298</td>\n",
       "      <td>-0.122807</td>\n",
       "      <td>-0.215369</td>\n",
       "      <td>-1.000000</td>\n",
       "      <td>0.000000</td>\n",
       "      <td>0.0</td>\n",
       "      <td>-1.000000</td>\n",
       "      <td>0.000000</td>\n",
       "    </tr>\n",
       "    <tr>\n",
       "      <th>46a0ddce8f7ed2a8d9bd5edcbb925682</th>\n",
       "      <td>576</td>\n",
       "      <td>22</td>\n",
       "      <td>7</td>\n",
       "      <td>1</td>\n",
       "      <td>4</td>\n",
       "      <td>14</td>\n",
       "      <td>4</td>\n",
       "      <td>170</td>\n",
       "      <td>96</td>\n",
       "      <td>0</td>\n",
       "      <td>...</td>\n",
       "      <td>0.0</td>\n",
       "      <td>0.563636</td>\n",
       "      <td>0.083046</td>\n",
       "      <td>-0.080702</td>\n",
       "      <td>0.106391</td>\n",
       "      <td>-0.090459</td>\n",
       "      <td>-1.000000</td>\n",
       "      <td>-1.0</td>\n",
       "      <td>0.142857</td>\n",
       "      <td>0.000000</td>\n",
       "    </tr>\n",
       "    <tr>\n",
       "      <th>b1b35ff97723d9b7ade1c9c3cf48f770</th>\n",
       "      <td>453</td>\n",
       "      <td>22</td>\n",
       "      <td>7</td>\n",
       "      <td>1</td>\n",
       "      <td>3</td>\n",
       "      <td>42</td>\n",
       "      <td>4</td>\n",
       "      <td>80</td>\n",
       "      <td>164</td>\n",
       "      <td>0</td>\n",
       "      <td>...</td>\n",
       "      <td>0.0</td>\n",
       "      <td>-1.000000</td>\n",
       "      <td>-0.063630</td>\n",
       "      <td>-0.239264</td>\n",
       "      <td>-0.050758</td>\n",
       "      <td>-0.274745</td>\n",
       "      <td>-1.000000</td>\n",
       "      <td>-1.0</td>\n",
       "      <td>0.000000</td>\n",
       "      <td>0.000000</td>\n",
       "    </tr>\n",
       "    <tr>\n",
       "      <th>ab3cc6ccac661a1385e73a2e9f21313a</th>\n",
       "      <td>721</td>\n",
       "      <td>4</td>\n",
       "      <td>0</td>\n",
       "      <td>2</td>\n",
       "      <td>1</td>\n",
       "      <td>30</td>\n",
       "      <td>7</td>\n",
       "      <td>168</td>\n",
       "      <td>76</td>\n",
       "      <td>0</td>\n",
       "      <td>...</td>\n",
       "      <td>0.0</td>\n",
       "      <td>0.046154</td>\n",
       "      <td>0.027791</td>\n",
       "      <td>0.037037</td>\n",
       "      <td>0.035017</td>\n",
       "      <td>0.754003</td>\n",
       "      <td>0.000000</td>\n",
       "      <td>0.0</td>\n",
       "      <td>-0.333333</td>\n",
       "      <td>-1.000000</td>\n",
       "    </tr>\n",
       "    <tr>\n",
       "      <th>54aaab1cb8cc5df3c253641618673266</th>\n",
       "      <td>752</td>\n",
       "      <td>22</td>\n",
       "      <td>7</td>\n",
       "      <td>1</td>\n",
       "      <td>0</td>\n",
       "      <td>8</td>\n",
       "      <td>10</td>\n",
       "      <td>158</td>\n",
       "      <td>96</td>\n",
       "      <td>1</td>\n",
       "      <td>...</td>\n",
       "      <td>0.0</td>\n",
       "      <td>0.255814</td>\n",
       "      <td>0.040988</td>\n",
       "      <td>-0.070588</td>\n",
       "      <td>0.030333</td>\n",
       "      <td>-0.157890</td>\n",
       "      <td>-1.000000</td>\n",
       "      <td>-1.0</td>\n",
       "      <td>0.000000</td>\n",
       "      <td>0.000000</td>\n",
       "    </tr>\n",
       "    <tr>\n",
       "      <th>...</th>\n",
       "      <td>...</td>\n",
       "      <td>...</td>\n",
       "      <td>...</td>\n",
       "      <td>...</td>\n",
       "      <td>...</td>\n",
       "      <td>...</td>\n",
       "      <td>...</td>\n",
       "      <td>...</td>\n",
       "      <td>...</td>\n",
       "      <td>...</td>\n",
       "      <td>...</td>\n",
       "      <td>...</td>\n",
       "      <td>...</td>\n",
       "      <td>...</td>\n",
       "      <td>...</td>\n",
       "      <td>...</td>\n",
       "      <td>...</td>\n",
       "      <td>...</td>\n",
       "      <td>...</td>\n",
       "      <td>...</td>\n",
       "      <td>...</td>\n",
       "    </tr>\n",
       "    <tr>\n",
       "      <th>03f683fed8cf6f03b735e2ee2a942698</th>\n",
       "      <td>509</td>\n",
       "      <td>4</td>\n",
       "      <td>0</td>\n",
       "      <td>1</td>\n",
       "      <td>0</td>\n",
       "      <td>16</td>\n",
       "      <td>6</td>\n",
       "      <td>78</td>\n",
       "      <td>156</td>\n",
       "      <td>0</td>\n",
       "      <td>...</td>\n",
       "      <td>0.0</td>\n",
       "      <td>0.288136</td>\n",
       "      <td>0.121480</td>\n",
       "      <td>0.039711</td>\n",
       "      <td>0.093833</td>\n",
       "      <td>0.523388</td>\n",
       "      <td>-1.000000</td>\n",
       "      <td>-1.0</td>\n",
       "      <td>0.200000</td>\n",
       "      <td>0.000000</td>\n",
       "    </tr>\n",
       "    <tr>\n",
       "      <th>06e2b42495855647830ccc6d466f913c</th>\n",
       "      <td>2561</td>\n",
       "      <td>22</td>\n",
       "      <td>7</td>\n",
       "      <td>17</td>\n",
       "      <td>7</td>\n",
       "      <td>76</td>\n",
       "      <td>14</td>\n",
       "      <td>72</td>\n",
       "      <td>76</td>\n",
       "      <td>0</td>\n",
       "      <td>...</td>\n",
       "      <td>-1.0</td>\n",
       "      <td>-0.461538</td>\n",
       "      <td>-0.024040</td>\n",
       "      <td>0.054366</td>\n",
       "      <td>-0.055765</td>\n",
       "      <td>-0.579546</td>\n",
       "      <td>0.000000</td>\n",
       "      <td>0.0</td>\n",
       "      <td>-0.800000</td>\n",
       "      <td>-0.500000</td>\n",
       "    </tr>\n",
       "    <tr>\n",
       "      <th>defd0caeed6ea83d7d5fbdec013fe7d1</th>\n",
       "      <td>1783</td>\n",
       "      <td>22</td>\n",
       "      <td>0</td>\n",
       "      <td>8</td>\n",
       "      <td>23</td>\n",
       "      <td>3</td>\n",
       "      <td>13</td>\n",
       "      <td>144</td>\n",
       "      <td>100</td>\n",
       "      <td>0</td>\n",
       "      <td>...</td>\n",
       "      <td>0.0</td>\n",
       "      <td>0.181818</td>\n",
       "      <td>-0.033091</td>\n",
       "      <td>-0.028169</td>\n",
       "      <td>-0.062949</td>\n",
       "      <td>0.526789</td>\n",
       "      <td>-1.000000</td>\n",
       "      <td>-1.0</td>\n",
       "      <td>0.083333</td>\n",
       "      <td>0.586207</td>\n",
       "    </tr>\n",
       "    <tr>\n",
       "      <th>47ad6454ede66c1c78fdaa9391dfc556</th>\n",
       "      <td>2405</td>\n",
       "      <td>22</td>\n",
       "      <td>7</td>\n",
       "      <td>12</td>\n",
       "      <td>4</td>\n",
       "      <td>22</td>\n",
       "      <td>21</td>\n",
       "      <td>134</td>\n",
       "      <td>154</td>\n",
       "      <td>0</td>\n",
       "      <td>...</td>\n",
       "      <td>1.0</td>\n",
       "      <td>-0.159091</td>\n",
       "      <td>0.042554</td>\n",
       "      <td>0.050336</td>\n",
       "      <td>-0.006212</td>\n",
       "      <td>-0.484805</td>\n",
       "      <td>-1.000000</td>\n",
       "      <td>-1.0</td>\n",
       "      <td>0.032258</td>\n",
       "      <td>-0.400000</td>\n",
       "    </tr>\n",
       "    <tr>\n",
       "      <th>9928dfde50efcbdb2055da23dcdbc101</th>\n",
       "      <td>1775</td>\n",
       "      <td>22</td>\n",
       "      <td>0</td>\n",
       "      <td>10</td>\n",
       "      <td>13</td>\n",
       "      <td>32</td>\n",
       "      <td>15</td>\n",
       "      <td>118</td>\n",
       "      <td>120</td>\n",
       "      <td>0</td>\n",
       "      <td>...</td>\n",
       "      <td>0.0</td>\n",
       "      <td>-0.132530</td>\n",
       "      <td>0.026024</td>\n",
       "      <td>-0.006157</td>\n",
       "      <td>0.072562</td>\n",
       "      <td>0.137520</td>\n",
       "      <td>-0.142857</td>\n",
       "      <td>0.0</td>\n",
       "      <td>0.083333</td>\n",
       "      <td>0.111111</td>\n",
       "    </tr>\n",
       "  </tbody>\n",
       "</table>\n",
       "<p>7977 rows × 80 columns</p>\n",
       "</div>"
      ],
      "text/plain": [
       "                                  game_time  game_mode  lobby_type  \\\n",
       "match_id_hash                                                        \n",
       "a400b8f29dece5f4d266f49f1ae2e98a        155         22           7   \n",
       "46a0ddce8f7ed2a8d9bd5edcbb925682        576         22           7   \n",
       "b1b35ff97723d9b7ade1c9c3cf48f770        453         22           7   \n",
       "ab3cc6ccac661a1385e73a2e9f21313a        721          4           0   \n",
       "54aaab1cb8cc5df3c253641618673266        752         22           7   \n",
       "...                                     ...        ...         ...   \n",
       "03f683fed8cf6f03b735e2ee2a942698        509          4           0   \n",
       "06e2b42495855647830ccc6d466f913c       2561         22           7   \n",
       "defd0caeed6ea83d7d5fbdec013fe7d1       1783         22           0   \n",
       "47ad6454ede66c1c78fdaa9391dfc556       2405         22           7   \n",
       "9928dfde50efcbdb2055da23dcdbc101       1775         22           0   \n",
       "\n",
       "                                  objectives_len  chat_len  r1_hero_id  \\\n",
       "match_id_hash                                                            \n",
       "a400b8f29dece5f4d266f49f1ae2e98a               1        11          11   \n",
       "46a0ddce8f7ed2a8d9bd5edcbb925682               1         4          14   \n",
       "b1b35ff97723d9b7ade1c9c3cf48f770               1         3          42   \n",
       "ab3cc6ccac661a1385e73a2e9f21313a               2         1          30   \n",
       "54aaab1cb8cc5df3c253641618673266               1         0           8   \n",
       "...                                          ...       ...         ...   \n",
       "03f683fed8cf6f03b735e2ee2a942698               1         0          16   \n",
       "06e2b42495855647830ccc6d466f913c              17         7          76   \n",
       "defd0caeed6ea83d7d5fbdec013fe7d1               8        23           3   \n",
       "47ad6454ede66c1c78fdaa9391dfc556              12         4          22   \n",
       "9928dfde50efcbdb2055da23dcdbc101              10        13          32   \n",
       "\n",
       "                                  r1_level  r1_x  r1_y  r1_firstblood_claimed  \\\n",
       "match_id_hash                                                                   \n",
       "a400b8f29dece5f4d266f49f1ae2e98a         2   116   122                      0   \n",
       "46a0ddce8f7ed2a8d9bd5edcbb925682         4   170    96                      0   \n",
       "b1b35ff97723d9b7ade1c9c3cf48f770         4    80   164                      0   \n",
       "ab3cc6ccac661a1385e73a2e9f21313a         7   168    76                      0   \n",
       "54aaab1cb8cc5df3c253641618673266        10   158    96                      1   \n",
       "...                                    ...   ...   ...                    ...   \n",
       "03f683fed8cf6f03b735e2ee2a942698         6    78   156                      0   \n",
       "06e2b42495855647830ccc6d466f913c        14    72    76                      0   \n",
       "defd0caeed6ea83d7d5fbdec013fe7d1        13   144   100                      0   \n",
       "47ad6454ede66c1c78fdaa9391dfc556        21   134   154                      0   \n",
       "9928dfde50efcbdb2055da23dcdbc101        15   118   120                      0   \n",
       "\n",
       "                                  ...  Roshans_killed    Denies      Gold  \\\n",
       "match_id_hash                     ...                                       \n",
       "a400b8f29dece5f4d266f49f1ae2e98a  ...             0.0 -0.666667 -0.319298   \n",
       "46a0ddce8f7ed2a8d9bd5edcbb925682  ...             0.0  0.563636  0.083046   \n",
       "b1b35ff97723d9b7ade1c9c3cf48f770  ...             0.0 -1.000000 -0.063630   \n",
       "ab3cc6ccac661a1385e73a2e9f21313a  ...             0.0  0.046154  0.027791   \n",
       "54aaab1cb8cc5df3c253641618673266  ...             0.0  0.255814  0.040988   \n",
       "...                               ...             ...       ...       ...   \n",
       "03f683fed8cf6f03b735e2ee2a942698  ...             0.0  0.288136  0.121480   \n",
       "06e2b42495855647830ccc6d466f913c  ...            -1.0 -0.461538 -0.024040   \n",
       "defd0caeed6ea83d7d5fbdec013fe7d1  ...             0.0  0.181818 -0.033091   \n",
       "47ad6454ede66c1c78fdaa9391dfc556  ...             1.0 -0.159091  0.042554   \n",
       "9928dfde50efcbdb2055da23dcdbc101  ...             0.0 -0.132530  0.026024   \n",
       "\n",
       "                                        LH        XP     Stuns  \\\n",
       "match_id_hash                                                    \n",
       "a400b8f29dece5f4d266f49f1ae2e98a -0.122807 -0.215369 -1.000000   \n",
       "46a0ddce8f7ed2a8d9bd5edcbb925682 -0.080702  0.106391 -0.090459   \n",
       "b1b35ff97723d9b7ade1c9c3cf48f770 -0.239264 -0.050758 -0.274745   \n",
       "ab3cc6ccac661a1385e73a2e9f21313a  0.037037  0.035017  0.754003   \n",
       "54aaab1cb8cc5df3c253641618673266 -0.070588  0.030333 -0.157890   \n",
       "...                                    ...       ...       ...   \n",
       "03f683fed8cf6f03b735e2ee2a942698  0.039711  0.093833  0.523388   \n",
       "06e2b42495855647830ccc6d466f913c  0.054366 -0.055765 -0.579546   \n",
       "defd0caeed6ea83d7d5fbdec013fe7d1 -0.028169 -0.062949  0.526789   \n",
       "47ad6454ede66c1c78fdaa9391dfc556  0.050336 -0.006212 -0.484805   \n",
       "9928dfde50efcbdb2055da23dcdbc101 -0.006157  0.072562  0.137520   \n",
       "\n",
       "                                  Creeps_stacked  Camps_stacked  Obs_placed  \\\n",
       "match_id_hash                                                                 \n",
       "a400b8f29dece5f4d266f49f1ae2e98a        0.000000            0.0   -1.000000   \n",
       "46a0ddce8f7ed2a8d9bd5edcbb925682       -1.000000           -1.0    0.142857   \n",
       "b1b35ff97723d9b7ade1c9c3cf48f770       -1.000000           -1.0    0.000000   \n",
       "ab3cc6ccac661a1385e73a2e9f21313a        0.000000            0.0   -0.333333   \n",
       "54aaab1cb8cc5df3c253641618673266       -1.000000           -1.0    0.000000   \n",
       "...                                          ...            ...         ...   \n",
       "03f683fed8cf6f03b735e2ee2a942698       -1.000000           -1.0    0.200000   \n",
       "06e2b42495855647830ccc6d466f913c        0.000000            0.0   -0.800000   \n",
       "defd0caeed6ea83d7d5fbdec013fe7d1       -1.000000           -1.0    0.083333   \n",
       "47ad6454ede66c1c78fdaa9391dfc556       -1.000000           -1.0    0.032258   \n",
       "9928dfde50efcbdb2055da23dcdbc101       -0.142857            0.0    0.083333   \n",
       "\n",
       "                                  Sen_placed  \n",
       "match_id_hash                                 \n",
       "a400b8f29dece5f4d266f49f1ae2e98a    0.000000  \n",
       "46a0ddce8f7ed2a8d9bd5edcbb925682    0.000000  \n",
       "b1b35ff97723d9b7ade1c9c3cf48f770    0.000000  \n",
       "ab3cc6ccac661a1385e73a2e9f21313a   -1.000000  \n",
       "54aaab1cb8cc5df3c253641618673266    0.000000  \n",
       "...                                      ...  \n",
       "03f683fed8cf6f03b735e2ee2a942698    0.000000  \n",
       "06e2b42495855647830ccc6d466f913c   -0.500000  \n",
       "defd0caeed6ea83d7d5fbdec013fe7d1    0.586207  \n",
       "47ad6454ede66c1c78fdaa9391dfc556   -0.400000  \n",
       "9928dfde50efcbdb2055da23dcdbc101    0.111111  \n",
       "\n",
       "[7977 rows x 80 columns]"
      ]
     },
     "execution_count": 78,
     "metadata": {},
     "output_type": "execute_result"
    }
   ],
   "source": [
    "df_test_features_extended"
   ]
  },
  {
   "attachments": {},
   "cell_type": "markdown",
   "id": "fa2c2d12",
   "metadata": {},
   "source": [
    "Смотрим на разные признаки:"
   ]
  },
  {
   "cell_type": "code",
   "execution_count": 79,
   "id": "6087400c",
   "metadata": {},
   "outputs": [
    {
     "data": {
      "text/html": [
       "<div>\n",
       "<style scoped>\n",
       "    .dataframe tbody tr th:only-of-type {\n",
       "        vertical-align: middle;\n",
       "    }\n",
       "\n",
       "    .dataframe tbody tr th {\n",
       "        vertical-align: top;\n",
       "    }\n",
       "\n",
       "    .dataframe thead th {\n",
       "        text-align: right;\n",
       "    }\n",
       "</style>\n",
       "<table border=\"1\" class=\"dataframe\">\n",
       "  <thead>\n",
       "    <tr style=\"text-align: right;\">\n",
       "      <th></th>\n",
       "      <th>r1_teamfight_participation</th>\n",
       "      <th>r2_hero_id</th>\n",
       "      <th>r2_level</th>\n",
       "      <th>r2_x</th>\n",
       "      <th>r2_y</th>\n",
       "      <th>r2_firstblood_claimed</th>\n",
       "      <th>r2_teamfight_participation</th>\n",
       "      <th>r3_hero_id</th>\n",
       "      <th>r3_level</th>\n",
       "      <th>r3_x</th>\n",
       "      <th>r3_y</th>\n",
       "      <th>r3_firstblood_claimed</th>\n",
       "      <th>r3_teamfight_participation</th>\n",
       "      <th>r4_hero_id</th>\n",
       "      <th>r4_level</th>\n",
       "      <th>r4_x</th>\n",
       "      <th>r4_y</th>\n",
       "      <th>r4_firstblood_claimed</th>\n",
       "      <th>r4_teamfight_participation</th>\n",
       "      <th>r5_hero_id</th>\n",
       "    </tr>\n",
       "    <tr>\n",
       "      <th>match_id_hash</th>\n",
       "      <th></th>\n",
       "      <th></th>\n",
       "      <th></th>\n",
       "      <th></th>\n",
       "      <th></th>\n",
       "      <th></th>\n",
       "      <th></th>\n",
       "      <th></th>\n",
       "      <th></th>\n",
       "      <th></th>\n",
       "      <th></th>\n",
       "      <th></th>\n",
       "      <th></th>\n",
       "      <th></th>\n",
       "      <th></th>\n",
       "      <th></th>\n",
       "      <th></th>\n",
       "      <th></th>\n",
       "      <th></th>\n",
       "      <th></th>\n",
       "    </tr>\n",
       "  </thead>\n",
       "  <tbody>\n",
       "    <tr>\n",
       "      <th>b9c57c450ce74a2af79c9ce96fac144d</th>\n",
       "      <td>0.437500</td>\n",
       "      <td>96</td>\n",
       "      <td>8</td>\n",
       "      <td>78</td>\n",
       "      <td>166</td>\n",
       "      <td>0</td>\n",
       "      <td>0.312500</td>\n",
       "      <td>27</td>\n",
       "      <td>6</td>\n",
       "      <td>156</td>\n",
       "      <td>146</td>\n",
       "      <td>0</td>\n",
       "      <td>0.312500</td>\n",
       "      <td>63</td>\n",
       "      <td>9</td>\n",
       "      <td>154</td>\n",
       "      <td>148</td>\n",
       "      <td>0</td>\n",
       "      <td>0.437500</td>\n",
       "      <td>89</td>\n",
       "    </tr>\n",
       "    <tr>\n",
       "      <th>6db558535151ea18ca70a6892197db41</th>\n",
       "      <td>0.000000</td>\n",
       "      <td>51</td>\n",
       "      <td>1</td>\n",
       "      <td>156</td>\n",
       "      <td>104</td>\n",
       "      <td>0</td>\n",
       "      <td>0.000000</td>\n",
       "      <td>44</td>\n",
       "      <td>1</td>\n",
       "      <td>78</td>\n",
       "      <td>144</td>\n",
       "      <td>0</td>\n",
       "      <td>0.000000</td>\n",
       "      <td>49</td>\n",
       "      <td>1</td>\n",
       "      <td>150</td>\n",
       "      <td>78</td>\n",
       "      <td>0</td>\n",
       "      <td>0.000000</td>\n",
       "      <td>53</td>\n",
       "    </tr>\n",
       "    <tr>\n",
       "      <th>19c39fe2af2b547e48708ca005c6ae74</th>\n",
       "      <td>0.000000</td>\n",
       "      <td>10</td>\n",
       "      <td>3</td>\n",
       "      <td>116</td>\n",
       "      <td>120</td>\n",
       "      <td>0</td>\n",
       "      <td>0.000000</td>\n",
       "      <td>81</td>\n",
       "      <td>3</td>\n",
       "      <td>184</td>\n",
       "      <td>96</td>\n",
       "      <td>0</td>\n",
       "      <td>0.000000</td>\n",
       "      <td>98</td>\n",
       "      <td>2</td>\n",
       "      <td>80</td>\n",
       "      <td>164</td>\n",
       "      <td>0</td>\n",
       "      <td>0.000000</td>\n",
       "      <td>119</td>\n",
       "    </tr>\n",
       "    <tr>\n",
       "      <th>c96d629dc0c39f0c616d1949938a6ba6</th>\n",
       "      <td>0.300000</td>\n",
       "      <td>71</td>\n",
       "      <td>7</td>\n",
       "      <td>124</td>\n",
       "      <td>110</td>\n",
       "      <td>0</td>\n",
       "      <td>0.800000</td>\n",
       "      <td>44</td>\n",
       "      <td>12</td>\n",
       "      <td>174</td>\n",
       "      <td>88</td>\n",
       "      <td>0</td>\n",
       "      <td>0.200000</td>\n",
       "      <td>35</td>\n",
       "      <td>13</td>\n",
       "      <td>116</td>\n",
       "      <td>120</td>\n",
       "      <td>0</td>\n",
       "      <td>0.400000</td>\n",
       "      <td>108</td>\n",
       "    </tr>\n",
       "    <tr>\n",
       "      <th>156c88bff4e9c4668b0f53df3d870f1b</th>\n",
       "      <td>0.833333</td>\n",
       "      <td>49</td>\n",
       "      <td>5</td>\n",
       "      <td>78</td>\n",
       "      <td>128</td>\n",
       "      <td>0</td>\n",
       "      <td>0.500000</td>\n",
       "      <td>91</td>\n",
       "      <td>6</td>\n",
       "      <td>122</td>\n",
       "      <td>116</td>\n",
       "      <td>0</td>\n",
       "      <td>0.666667</td>\n",
       "      <td>114</td>\n",
       "      <td>6</td>\n",
       "      <td>170</td>\n",
       "      <td>86</td>\n",
       "      <td>0</td>\n",
       "      <td>0.166667</td>\n",
       "      <td>50</td>\n",
       "    </tr>\n",
       "    <tr>\n",
       "      <th>...</th>\n",
       "      <td>...</td>\n",
       "      <td>...</td>\n",
       "      <td>...</td>\n",
       "      <td>...</td>\n",
       "      <td>...</td>\n",
       "      <td>...</td>\n",
       "      <td>...</td>\n",
       "      <td>...</td>\n",
       "      <td>...</td>\n",
       "      <td>...</td>\n",
       "      <td>...</td>\n",
       "      <td>...</td>\n",
       "      <td>...</td>\n",
       "      <td>...</td>\n",
       "      <td>...</td>\n",
       "      <td>...</td>\n",
       "      <td>...</td>\n",
       "      <td>...</td>\n",
       "      <td>...</td>\n",
       "      <td>...</td>\n",
       "    </tr>\n",
       "    <tr>\n",
       "      <th>b794aa55646841a03c7783226e6f6bc8</th>\n",
       "      <td>0.580645</td>\n",
       "      <td>90</td>\n",
       "      <td>21</td>\n",
       "      <td>92</td>\n",
       "      <td>88</td>\n",
       "      <td>0</td>\n",
       "      <td>0.645161</td>\n",
       "      <td>40</td>\n",
       "      <td>16</td>\n",
       "      <td>86</td>\n",
       "      <td>86</td>\n",
       "      <td>0</td>\n",
       "      <td>0.483871</td>\n",
       "      <td>67</td>\n",
       "      <td>21</td>\n",
       "      <td>158</td>\n",
       "      <td>144</td>\n",
       "      <td>0</td>\n",
       "      <td>0.645161</td>\n",
       "      <td>72</td>\n",
       "    </tr>\n",
       "    <tr>\n",
       "      <th>308faee28efee2e66b39f9f2ba6ea9cf</th>\n",
       "      <td>0.629630</td>\n",
       "      <td>63</td>\n",
       "      <td>19</td>\n",
       "      <td>138</td>\n",
       "      <td>136</td>\n",
       "      <td>0</td>\n",
       "      <td>0.370370</td>\n",
       "      <td>42</td>\n",
       "      <td>24</td>\n",
       "      <td>132</td>\n",
       "      <td>134</td>\n",
       "      <td>0</td>\n",
       "      <td>0.370370</td>\n",
       "      <td>21</td>\n",
       "      <td>25</td>\n",
       "      <td>160</td>\n",
       "      <td>114</td>\n",
       "      <td>0</td>\n",
       "      <td>0.555556</td>\n",
       "      <td>32</td>\n",
       "    </tr>\n",
       "    <tr>\n",
       "      <th>6066cc7417b43c749d551e123d00f0c8</th>\n",
       "      <td>0.285714</td>\n",
       "      <td>12</td>\n",
       "      <td>7</td>\n",
       "      <td>168</td>\n",
       "      <td>82</td>\n",
       "      <td>0</td>\n",
       "      <td>0.428571</td>\n",
       "      <td>47</td>\n",
       "      <td>9</td>\n",
       "      <td>76</td>\n",
       "      <td>144</td>\n",
       "      <td>0</td>\n",
       "      <td>0.428571</td>\n",
       "      <td>42</td>\n",
       "      <td>12</td>\n",
       "      <td>126</td>\n",
       "      <td>140</td>\n",
       "      <td>0</td>\n",
       "      <td>0.571429</td>\n",
       "      <td>106</td>\n",
       "    </tr>\n",
       "    <tr>\n",
       "      <th>bc7a87ed5f9c2bca55f9f7a93da0b0c5</th>\n",
       "      <td>0.500000</td>\n",
       "      <td>80</td>\n",
       "      <td>4</td>\n",
       "      <td>174</td>\n",
       "      <td>100</td>\n",
       "      <td>0</td>\n",
       "      <td>0.500000</td>\n",
       "      <td>12</td>\n",
       "      <td>6</td>\n",
       "      <td>112</td>\n",
       "      <td>114</td>\n",
       "      <td>0</td>\n",
       "      <td>0.500000</td>\n",
       "      <td>3</td>\n",
       "      <td>4</td>\n",
       "      <td>176</td>\n",
       "      <td>94</td>\n",
       "      <td>1</td>\n",
       "      <td>1.000000</td>\n",
       "      <td>63</td>\n",
       "    </tr>\n",
       "    <tr>\n",
       "      <th>e2ca68ac1a6847f4a37f6c9c8ee8695b</th>\n",
       "      <td>0.250000</td>\n",
       "      <td>27</td>\n",
       "      <td>5</td>\n",
       "      <td>164</td>\n",
       "      <td>96</td>\n",
       "      <td>0</td>\n",
       "      <td>0.500000</td>\n",
       "      <td>110</td>\n",
       "      <td>2</td>\n",
       "      <td>106</td>\n",
       "      <td>110</td>\n",
       "      <td>0</td>\n",
       "      <td>0.250000</td>\n",
       "      <td>10</td>\n",
       "      <td>8</td>\n",
       "      <td>176</td>\n",
       "      <td>84</td>\n",
       "      <td>0</td>\n",
       "      <td>0.750000</td>\n",
       "      <td>49</td>\n",
       "    </tr>\n",
       "  </tbody>\n",
       "</table>\n",
       "<p>31698 rows × 20 columns</p>\n",
       "</div>"
      ],
      "text/plain": [
       "                                  r1_teamfight_participation  r2_hero_id  \\\n",
       "match_id_hash                                                              \n",
       "b9c57c450ce74a2af79c9ce96fac144d                    0.437500          96   \n",
       "6db558535151ea18ca70a6892197db41                    0.000000          51   \n",
       "19c39fe2af2b547e48708ca005c6ae74                    0.000000          10   \n",
       "c96d629dc0c39f0c616d1949938a6ba6                    0.300000          71   \n",
       "156c88bff4e9c4668b0f53df3d870f1b                    0.833333          49   \n",
       "...                                                      ...         ...   \n",
       "b794aa55646841a03c7783226e6f6bc8                    0.580645          90   \n",
       "308faee28efee2e66b39f9f2ba6ea9cf                    0.629630          63   \n",
       "6066cc7417b43c749d551e123d00f0c8                    0.285714          12   \n",
       "bc7a87ed5f9c2bca55f9f7a93da0b0c5                    0.500000          80   \n",
       "e2ca68ac1a6847f4a37f6c9c8ee8695b                    0.250000          27   \n",
       "\n",
       "                                  r2_level  r2_x  r2_y  r2_firstblood_claimed  \\\n",
       "match_id_hash                                                                   \n",
       "b9c57c450ce74a2af79c9ce96fac144d         8    78   166                      0   \n",
       "6db558535151ea18ca70a6892197db41         1   156   104                      0   \n",
       "19c39fe2af2b547e48708ca005c6ae74         3   116   120                      0   \n",
       "c96d629dc0c39f0c616d1949938a6ba6         7   124   110                      0   \n",
       "156c88bff4e9c4668b0f53df3d870f1b         5    78   128                      0   \n",
       "...                                    ...   ...   ...                    ...   \n",
       "b794aa55646841a03c7783226e6f6bc8        21    92    88                      0   \n",
       "308faee28efee2e66b39f9f2ba6ea9cf        19   138   136                      0   \n",
       "6066cc7417b43c749d551e123d00f0c8         7   168    82                      0   \n",
       "bc7a87ed5f9c2bca55f9f7a93da0b0c5         4   174   100                      0   \n",
       "e2ca68ac1a6847f4a37f6c9c8ee8695b         5   164    96                      0   \n",
       "\n",
       "                                  r2_teamfight_participation  r3_hero_id  \\\n",
       "match_id_hash                                                              \n",
       "b9c57c450ce74a2af79c9ce96fac144d                    0.312500          27   \n",
       "6db558535151ea18ca70a6892197db41                    0.000000          44   \n",
       "19c39fe2af2b547e48708ca005c6ae74                    0.000000          81   \n",
       "c96d629dc0c39f0c616d1949938a6ba6                    0.800000          44   \n",
       "156c88bff4e9c4668b0f53df3d870f1b                    0.500000          91   \n",
       "...                                                      ...         ...   \n",
       "b794aa55646841a03c7783226e6f6bc8                    0.645161          40   \n",
       "308faee28efee2e66b39f9f2ba6ea9cf                    0.370370          42   \n",
       "6066cc7417b43c749d551e123d00f0c8                    0.428571          47   \n",
       "bc7a87ed5f9c2bca55f9f7a93da0b0c5                    0.500000          12   \n",
       "e2ca68ac1a6847f4a37f6c9c8ee8695b                    0.500000         110   \n",
       "\n",
       "                                  r3_level  r3_x  r3_y  r3_firstblood_claimed  \\\n",
       "match_id_hash                                                                   \n",
       "b9c57c450ce74a2af79c9ce96fac144d         6   156   146                      0   \n",
       "6db558535151ea18ca70a6892197db41         1    78   144                      0   \n",
       "19c39fe2af2b547e48708ca005c6ae74         3   184    96                      0   \n",
       "c96d629dc0c39f0c616d1949938a6ba6        12   174    88                      0   \n",
       "156c88bff4e9c4668b0f53df3d870f1b         6   122   116                      0   \n",
       "...                                    ...   ...   ...                    ...   \n",
       "b794aa55646841a03c7783226e6f6bc8        16    86    86                      0   \n",
       "308faee28efee2e66b39f9f2ba6ea9cf        24   132   134                      0   \n",
       "6066cc7417b43c749d551e123d00f0c8         9    76   144                      0   \n",
       "bc7a87ed5f9c2bca55f9f7a93da0b0c5         6   112   114                      0   \n",
       "e2ca68ac1a6847f4a37f6c9c8ee8695b         2   106   110                      0   \n",
       "\n",
       "                                  r3_teamfight_participation  r4_hero_id  \\\n",
       "match_id_hash                                                              \n",
       "b9c57c450ce74a2af79c9ce96fac144d                    0.312500          63   \n",
       "6db558535151ea18ca70a6892197db41                    0.000000          49   \n",
       "19c39fe2af2b547e48708ca005c6ae74                    0.000000          98   \n",
       "c96d629dc0c39f0c616d1949938a6ba6                    0.200000          35   \n",
       "156c88bff4e9c4668b0f53df3d870f1b                    0.666667         114   \n",
       "...                                                      ...         ...   \n",
       "b794aa55646841a03c7783226e6f6bc8                    0.483871          67   \n",
       "308faee28efee2e66b39f9f2ba6ea9cf                    0.370370          21   \n",
       "6066cc7417b43c749d551e123d00f0c8                    0.428571          42   \n",
       "bc7a87ed5f9c2bca55f9f7a93da0b0c5                    0.500000           3   \n",
       "e2ca68ac1a6847f4a37f6c9c8ee8695b                    0.250000          10   \n",
       "\n",
       "                                  r4_level  r4_x  r4_y  r4_firstblood_claimed  \\\n",
       "match_id_hash                                                                   \n",
       "b9c57c450ce74a2af79c9ce96fac144d         9   154   148                      0   \n",
       "6db558535151ea18ca70a6892197db41         1   150    78                      0   \n",
       "19c39fe2af2b547e48708ca005c6ae74         2    80   164                      0   \n",
       "c96d629dc0c39f0c616d1949938a6ba6        13   116   120                      0   \n",
       "156c88bff4e9c4668b0f53df3d870f1b         6   170    86                      0   \n",
       "...                                    ...   ...   ...                    ...   \n",
       "b794aa55646841a03c7783226e6f6bc8        21   158   144                      0   \n",
       "308faee28efee2e66b39f9f2ba6ea9cf        25   160   114                      0   \n",
       "6066cc7417b43c749d551e123d00f0c8        12   126   140                      0   \n",
       "bc7a87ed5f9c2bca55f9f7a93da0b0c5         4   176    94                      1   \n",
       "e2ca68ac1a6847f4a37f6c9c8ee8695b         8   176    84                      0   \n",
       "\n",
       "                                  r4_teamfight_participation  r5_hero_id  \n",
       "match_id_hash                                                             \n",
       "b9c57c450ce74a2af79c9ce96fac144d                    0.437500          89  \n",
       "6db558535151ea18ca70a6892197db41                    0.000000          53  \n",
       "19c39fe2af2b547e48708ca005c6ae74                    0.000000         119  \n",
       "c96d629dc0c39f0c616d1949938a6ba6                    0.400000         108  \n",
       "156c88bff4e9c4668b0f53df3d870f1b                    0.166667          50  \n",
       "...                                                      ...         ...  \n",
       "b794aa55646841a03c7783226e6f6bc8                    0.645161          72  \n",
       "308faee28efee2e66b39f9f2ba6ea9cf                    0.555556          32  \n",
       "6066cc7417b43c749d551e123d00f0c8                    0.571429         106  \n",
       "bc7a87ed5f9c2bca55f9f7a93da0b0c5                    1.000000          63  \n",
       "e2ca68ac1a6847f4a37f6c9c8ee8695b                    0.750000          49  \n",
       "\n",
       "[31698 rows x 20 columns]"
      ]
     },
     "execution_count": 79,
     "metadata": {},
     "output_type": "execute_result"
    }
   ],
   "source": [
    "df_train_features_extended[df_train_features_extended.columns[10:30]]"
   ]
  },
  {
   "attachments": {},
   "cell_type": "markdown",
   "id": "11d1d56e",
   "metadata": {},
   "source": [
    "## Посылка"
   ]
  },
  {
   "cell_type": "code",
   "execution_count": 80,
   "id": "757b18db",
   "metadata": {},
   "outputs": [
    {
     "data": {
      "text/plain": [
       "array([[0.60397906, 0.39602094],\n",
       "       [0.29703694, 0.70296306],\n",
       "       [0.59042985, 0.40957015],\n",
       "       ...,\n",
       "       [0.66780306, 0.33219694],\n",
       "       [0.3324669 , 0.6675331 ],\n",
       "       [0.38258397, 0.61741603]])"
      ]
     },
     "execution_count": 80,
     "metadata": {},
     "output_type": "execute_result"
    }
   ],
   "source": [
    "rf_model.predict_proba(df_test_features_extended.values)"
   ]
  },
  {
   "cell_type": "code",
   "execution_count": 81,
   "id": "c1af871f",
   "metadata": {},
   "outputs": [],
   "source": [
    "X_test = df_test_features_extended.values\n",
    "y_test_pred = rf_model.predict_proba(X_test)[:, 1]\n",
    "\n",
    "df_submission = pd.DataFrame({\"radiant_win_prob\": y_test_pred}, \n",
    "                                 index=df_test_features.index)"
   ]
  },
  {
   "cell_type": "code",
   "execution_count": 82,
   "id": "4a34c614",
   "metadata": {},
   "outputs": [
    {
     "data": {
      "text/html": [
       "<div>\n",
       "<style scoped>\n",
       "    .dataframe tbody tr th:only-of-type {\n",
       "        vertical-align: middle;\n",
       "    }\n",
       "\n",
       "    .dataframe tbody tr th {\n",
       "        vertical-align: top;\n",
       "    }\n",
       "\n",
       "    .dataframe thead th {\n",
       "        text-align: right;\n",
       "    }\n",
       "</style>\n",
       "<table border=\"1\" class=\"dataframe\">\n",
       "  <thead>\n",
       "    <tr style=\"text-align: right;\">\n",
       "      <th></th>\n",
       "      <th>radiant_win_prob</th>\n",
       "    </tr>\n",
       "    <tr>\n",
       "      <th>match_id_hash</th>\n",
       "      <th></th>\n",
       "    </tr>\n",
       "  </thead>\n",
       "  <tbody>\n",
       "    <tr>\n",
       "      <th>a400b8f29dece5f4d266f49f1ae2e98a</th>\n",
       "      <td>0.396021</td>\n",
       "    </tr>\n",
       "    <tr>\n",
       "      <th>46a0ddce8f7ed2a8d9bd5edcbb925682</th>\n",
       "      <td>0.702963</td>\n",
       "    </tr>\n",
       "    <tr>\n",
       "      <th>b1b35ff97723d9b7ade1c9c3cf48f770</th>\n",
       "      <td>0.409570</td>\n",
       "    </tr>\n",
       "    <tr>\n",
       "      <th>ab3cc6ccac661a1385e73a2e9f21313a</th>\n",
       "      <td>0.544001</td>\n",
       "    </tr>\n",
       "    <tr>\n",
       "      <th>54aaab1cb8cc5df3c253641618673266</th>\n",
       "      <td>0.641976</td>\n",
       "    </tr>\n",
       "    <tr>\n",
       "      <th>...</th>\n",
       "      <td>...</td>\n",
       "    </tr>\n",
       "    <tr>\n",
       "      <th>03f683fed8cf6f03b735e2ee2a942698</th>\n",
       "      <td>0.767843</td>\n",
       "    </tr>\n",
       "    <tr>\n",
       "      <th>06e2b42495855647830ccc6d466f913c</th>\n",
       "      <td>0.307480</td>\n",
       "    </tr>\n",
       "    <tr>\n",
       "      <th>defd0caeed6ea83d7d5fbdec013fe7d1</th>\n",
       "      <td>0.332197</td>\n",
       "    </tr>\n",
       "    <tr>\n",
       "      <th>47ad6454ede66c1c78fdaa9391dfc556</th>\n",
       "      <td>0.667533</td>\n",
       "    </tr>\n",
       "    <tr>\n",
       "      <th>9928dfde50efcbdb2055da23dcdbc101</th>\n",
       "      <td>0.617416</td>\n",
       "    </tr>\n",
       "  </tbody>\n",
       "</table>\n",
       "<p>7977 rows × 1 columns</p>\n",
       "</div>"
      ],
      "text/plain": [
       "                                  radiant_win_prob\n",
       "match_id_hash                                     \n",
       "a400b8f29dece5f4d266f49f1ae2e98a          0.396021\n",
       "46a0ddce8f7ed2a8d9bd5edcbb925682          0.702963\n",
       "b1b35ff97723d9b7ade1c9c3cf48f770          0.409570\n",
       "ab3cc6ccac661a1385e73a2e9f21313a          0.544001\n",
       "54aaab1cb8cc5df3c253641618673266          0.641976\n",
       "...                                            ...\n",
       "03f683fed8cf6f03b735e2ee2a942698          0.767843\n",
       "06e2b42495855647830ccc6d466f913c          0.307480\n",
       "defd0caeed6ea83d7d5fbdec013fe7d1          0.332197\n",
       "47ad6454ede66c1c78fdaa9391dfc556          0.667533\n",
       "9928dfde50efcbdb2055da23dcdbc101          0.617416\n",
       "\n",
       "[7977 rows x 1 columns]"
      ]
     },
     "execution_count": 82,
     "metadata": {},
     "output_type": "execute_result"
    }
   ],
   "source": [
    "df_submission"
   ]
  },
  {
   "cell_type": "code",
   "execution_count": 83,
   "id": "35c067a2",
   "metadata": {},
   "outputs": [
    {
     "name": "stdout",
     "output_type": "stream",
     "text": [
      "Файл посылки сохранен, как: submission_2023-04-11_19-18-11.csv\n"
     ]
    }
   ],
   "source": [
    "submission_filename = \"submission_{}.csv\".format(\n",
    "    datetime.datetime.now().strftime(\"%Y-%m-%d_%H-%M-%S\"))\n",
    "df_submission.to_csv(submission_filename)\n",
    "print(\"Файл посылки сохранен, как: {}\".format(submission_filename))"
   ]
  },
  {
   "cell_type": "code",
   "execution_count": null,
   "id": "25498de6",
   "metadata": {},
   "outputs": [],
   "source": []
  }
 ],
 "metadata": {
  "kernelspec": {
   "display_name": "Python 3 (ipykernel)",
   "language": "python",
   "name": "python3"
  },
  "language_info": {
   "codemirror_mode": {
    "name": "ipython",
    "version": 3
   },
   "file_extension": ".py",
   "mimetype": "text/x-python",
   "name": "python",
   "nbconvert_exporter": "python",
   "pygments_lexer": "ipython3",
   "version": "3.9.13"
  },
  "papermill": {
   "default_parameters": {},
   "duration": 284.624138,
   "end_time": "2022-02-13T23:32:56.553845",
   "environment_variables": {},
   "exception": null,
   "input_path": "__notebook__.ipynb",
   "output_path": "__notebook__.ipynb",
   "parameters": {},
   "start_time": "2022-02-13T23:28:11.929707",
   "version": "2.3.3"
  },
  "widgets": {
   "application/vnd.jupyter.widget-state+json": {
    "state": {
     "0d846e978a8143a2ba494b58420ed067": {
      "model_module": "@jupyter-widgets/controls",
      "model_module_version": "1.5.0",
      "model_name": "DescriptionStyleModel",
      "state": {
       "_model_module": "@jupyter-widgets/controls",
       "_model_module_version": "1.5.0",
       "_model_name": "DescriptionStyleModel",
       "_view_count": null,
       "_view_module": "@jupyter-widgets/base",
       "_view_module_version": "1.2.0",
       "_view_name": "StyleView",
       "description_width": ""
      }
     },
     "0f8b8404bb734f6db3a2c56c3c7ddc6e": {
      "model_module": "@jupyter-widgets/controls",
      "model_module_version": "1.5.0",
      "model_name": "HTMLModel",
      "state": {
       "_dom_classes": [],
       "_model_module": "@jupyter-widgets/controls",
       "_model_module_version": "1.5.0",
       "_model_name": "HTMLModel",
       "_view_count": null,
       "_view_module": "@jupyter-widgets/controls",
       "_view_module_version": "1.5.0",
       "_view_name": "HTMLView",
       "description": "",
       "description_tooltip": null,
       "layout": "IPY_MODEL_59ddf819389045a094a711175442dbbe",
       "placeholder": "​",
       "style": "IPY_MODEL_b3c47a606fc044ddb919678e9db33628",
       "value": " 31698/31698 [01:40&lt;00:00, 330.36it/s]"
      }
     },
     "3a6bb37584384e4383e29e115a610a9c": {
      "model_module": "@jupyter-widgets/controls",
      "model_module_version": "1.5.0",
      "model_name": "FloatProgressModel",
      "state": {
       "_dom_classes": [],
       "_model_module": "@jupyter-widgets/controls",
       "_model_module_version": "1.5.0",
       "_model_name": "FloatProgressModel",
       "_view_count": null,
       "_view_module": "@jupyter-widgets/controls",
       "_view_module_version": "1.5.0",
       "_view_name": "ProgressView",
       "bar_style": "success",
       "description": "",
       "description_tooltip": null,
       "layout": "IPY_MODEL_bb3a69bae1bf4f5f9967c6a0650ad8a7",
       "max": 31698,
       "min": 0,
       "orientation": "horizontal",
       "style": "IPY_MODEL_fdeafc39a9f24ec592cf3b625746cc77",
       "value": 31698
      }
     },
     "59ddf819389045a094a711175442dbbe": {
      "model_module": "@jupyter-widgets/base",
      "model_module_version": "1.2.0",
      "model_name": "LayoutModel",
      "state": {
       "_model_module": "@jupyter-widgets/base",
       "_model_module_version": "1.2.0",
       "_model_name": "LayoutModel",
       "_view_count": null,
       "_view_module": "@jupyter-widgets/base",
       "_view_module_version": "1.2.0",
       "_view_name": "LayoutView",
       "align_content": null,
       "align_items": null,
       "align_self": null,
       "border": null,
       "bottom": null,
       "display": null,
       "flex": null,
       "flex_flow": null,
       "grid_area": null,
       "grid_auto_columns": null,
       "grid_auto_flow": null,
       "grid_auto_rows": null,
       "grid_column": null,
       "grid_gap": null,
       "grid_row": null,
       "grid_template_areas": null,
       "grid_template_columns": null,
       "grid_template_rows": null,
       "height": null,
       "justify_content": null,
       "justify_items": null,
       "left": null,
       "margin": null,
       "max_height": null,
       "max_width": null,
       "min_height": null,
       "min_width": null,
       "object_fit": null,
       "object_position": null,
       "order": null,
       "overflow": null,
       "overflow_x": null,
       "overflow_y": null,
       "padding": null,
       "right": null,
       "top": null,
       "visibility": null,
       "width": null
      }
     },
     "87bfa925a1994dd9ad3d09fd2e7bce9d": {
      "model_module": "@jupyter-widgets/controls",
      "model_module_version": "1.5.0",
      "model_name": "HBoxModel",
      "state": {
       "_dom_classes": [],
       "_model_module": "@jupyter-widgets/controls",
       "_model_module_version": "1.5.0",
       "_model_name": "HBoxModel",
       "_view_count": null,
       "_view_module": "@jupyter-widgets/controls",
       "_view_module_version": "1.5.0",
       "_view_name": "HBoxView",
       "box_style": "",
       "children": [
        "IPY_MODEL_c1ea357b70b94a698befc40b4e7d7383",
        "IPY_MODEL_3a6bb37584384e4383e29e115a610a9c",
        "IPY_MODEL_0f8b8404bb734f6db3a2c56c3c7ddc6e"
       ],
       "layout": "IPY_MODEL_9689ed38e7c7461fa9c7467a1ce4a958"
      }
     },
     "9689ed38e7c7461fa9c7467a1ce4a958": {
      "model_module": "@jupyter-widgets/base",
      "model_module_version": "1.2.0",
      "model_name": "LayoutModel",
      "state": {
       "_model_module": "@jupyter-widgets/base",
       "_model_module_version": "1.2.0",
       "_model_name": "LayoutModel",
       "_view_count": null,
       "_view_module": "@jupyter-widgets/base",
       "_view_module_version": "1.2.0",
       "_view_name": "LayoutView",
       "align_content": null,
       "align_items": null,
       "align_self": null,
       "border": null,
       "bottom": null,
       "display": null,
       "flex": null,
       "flex_flow": null,
       "grid_area": null,
       "grid_auto_columns": null,
       "grid_auto_flow": null,
       "grid_auto_rows": null,
       "grid_column": null,
       "grid_gap": null,
       "grid_row": null,
       "grid_template_areas": null,
       "grid_template_columns": null,
       "grid_template_rows": null,
       "height": null,
       "justify_content": null,
       "justify_items": null,
       "left": null,
       "margin": null,
       "max_height": null,
       "max_width": null,
       "min_height": null,
       "min_width": null,
       "object_fit": null,
       "object_position": null,
       "order": null,
       "overflow": null,
       "overflow_x": null,
       "overflow_y": null,
       "padding": null,
       "right": null,
       "top": null,
       "visibility": null,
       "width": null
      }
     },
     "b33f8b0631ee42ee93456c2af9091912": {
      "model_module": "@jupyter-widgets/base",
      "model_module_version": "1.2.0",
      "model_name": "LayoutModel",
      "state": {
       "_model_module": "@jupyter-widgets/base",
       "_model_module_version": "1.2.0",
       "_model_name": "LayoutModel",
       "_view_count": null,
       "_view_module": "@jupyter-widgets/base",
       "_view_module_version": "1.2.0",
       "_view_name": "LayoutView",
       "align_content": null,
       "align_items": null,
       "align_self": null,
       "border": null,
       "bottom": null,
       "display": null,
       "flex": null,
       "flex_flow": null,
       "grid_area": null,
       "grid_auto_columns": null,
       "grid_auto_flow": null,
       "grid_auto_rows": null,
       "grid_column": null,
       "grid_gap": null,
       "grid_row": null,
       "grid_template_areas": null,
       "grid_template_columns": null,
       "grid_template_rows": null,
       "height": null,
       "justify_content": null,
       "justify_items": null,
       "left": null,
       "margin": null,
       "max_height": null,
       "max_width": null,
       "min_height": null,
       "min_width": null,
       "object_fit": null,
       "object_position": null,
       "order": null,
       "overflow": null,
       "overflow_x": null,
       "overflow_y": null,
       "padding": null,
       "right": null,
       "top": null,
       "visibility": null,
       "width": null
      }
     },
     "b3c47a606fc044ddb919678e9db33628": {
      "model_module": "@jupyter-widgets/controls",
      "model_module_version": "1.5.0",
      "model_name": "DescriptionStyleModel",
      "state": {
       "_model_module": "@jupyter-widgets/controls",
       "_model_module_version": "1.5.0",
       "_model_name": "DescriptionStyleModel",
       "_view_count": null,
       "_view_module": "@jupyter-widgets/base",
       "_view_module_version": "1.2.0",
       "_view_name": "StyleView",
       "description_width": ""
      }
     },
     "bb3a69bae1bf4f5f9967c6a0650ad8a7": {
      "model_module": "@jupyter-widgets/base",
      "model_module_version": "1.2.0",
      "model_name": "LayoutModel",
      "state": {
       "_model_module": "@jupyter-widgets/base",
       "_model_module_version": "1.2.0",
       "_model_name": "LayoutModel",
       "_view_count": null,
       "_view_module": "@jupyter-widgets/base",
       "_view_module_version": "1.2.0",
       "_view_name": "LayoutView",
       "align_content": null,
       "align_items": null,
       "align_self": null,
       "border": null,
       "bottom": null,
       "display": null,
       "flex": null,
       "flex_flow": null,
       "grid_area": null,
       "grid_auto_columns": null,
       "grid_auto_flow": null,
       "grid_auto_rows": null,
       "grid_column": null,
       "grid_gap": null,
       "grid_row": null,
       "grid_template_areas": null,
       "grid_template_columns": null,
       "grid_template_rows": null,
       "height": null,
       "justify_content": null,
       "justify_items": null,
       "left": null,
       "margin": null,
       "max_height": null,
       "max_width": null,
       "min_height": null,
       "min_width": null,
       "object_fit": null,
       "object_position": null,
       "order": null,
       "overflow": null,
       "overflow_x": null,
       "overflow_y": null,
       "padding": null,
       "right": null,
       "top": null,
       "visibility": null,
       "width": null
      }
     },
     "c1ea357b70b94a698befc40b4e7d7383": {
      "model_module": "@jupyter-widgets/controls",
      "model_module_version": "1.5.0",
      "model_name": "HTMLModel",
      "state": {
       "_dom_classes": [],
       "_model_module": "@jupyter-widgets/controls",
       "_model_module_version": "1.5.0",
       "_model_name": "HTMLModel",
       "_view_count": null,
       "_view_module": "@jupyter-widgets/controls",
       "_view_module_version": "1.5.0",
       "_view_name": "HTMLView",
       "description": "",
       "description_tooltip": null,
       "layout": "IPY_MODEL_b33f8b0631ee42ee93456c2af9091912",
       "placeholder": "​",
       "style": "IPY_MODEL_0d846e978a8143a2ba494b58420ed067",
       "value": "100%"
      }
     },
     "fdeafc39a9f24ec592cf3b625746cc77": {
      "model_module": "@jupyter-widgets/controls",
      "model_module_version": "1.5.0",
      "model_name": "ProgressStyleModel",
      "state": {
       "_model_module": "@jupyter-widgets/controls",
       "_model_module_version": "1.5.0",
       "_model_name": "ProgressStyleModel",
       "_view_count": null,
       "_view_module": "@jupyter-widgets/base",
       "_view_module_version": "1.2.0",
       "_view_name": "StyleView",
       "bar_color": null,
       "description_width": ""
      }
     }
    },
    "version_major": 2,
    "version_minor": 0
   }
  }
 },
 "nbformat": 4,
 "nbformat_minor": 5
}
