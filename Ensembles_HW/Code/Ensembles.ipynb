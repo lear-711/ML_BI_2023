{
 "cells": [
  {
   "cell_type": "code",
   "execution_count": 1,
   "id": "9b21216d-37c8-406a-a8bf-5642cff16bb7",
   "metadata": {},
   "outputs": [],
   "source": [
    "import numpy as np\n",
    "import matplotlib.pyplot as plt\n",
    "import seaborn as sns\n",
    "import warnings\n",
    "import random\n",
    "import math\n",
    "import pandas as pd\n",
    "import xgboost\n",
    "import lightgbm\n",
    "import catboost\n",
    "\n",
    "from matplotlib.colors import ListedColormap\n",
    "from matplotlib.pyplot import figure\n",
    "from scipy.stats import pearsonr\n",
    "from itertools import combinations\n",
    "from sklearn.base import BaseEstimator\n",
    "from sklearn import datasets\n",
    "from sklearn.model_selection import train_test_split, GridSearchCV, cross_val_score, KFold, RandomizedSearchCV\n",
    "from sklearn.ensemble import (RandomForestClassifier,\n",
    "                              ExtraTreesClassifier,\n",
    "                              VotingClassifier)\n",
    "from sklearn.tree import (DecisionTreeRegressor,\n",
    "                          DecisionTreeClassifier)\n",
    "from sklearn.preprocessing import (StandardScaler,\n",
    "                                   OneHotEncoder,\n",
    "                                   LabelEncoder)\n",
    "from sklearn.compose import ColumnTransformer\n",
    "from sklearn.neighbors import KNeighborsClassifier\n",
    "from sklearn.svm import SVC\n",
    "from sklearn.linear_model import LogisticRegression\n",
    "from sklearn.naive_bayes import GaussianNB\n",
    "from sklearn.metrics import classification_report, f1_score, precision_score, recall_score"
   ]
  },
  {
   "cell_type": "code",
   "execution_count": 2,
   "id": "e0cbb7f2-2038-4e1b-8c39-ca20b7b332a2",
   "metadata": {},
   "outputs": [],
   "source": [
    "plt.rcParams[\"figure.figsize\"] = 12, 9\n",
    "sns.set_style(\"whitegrid\")\n",
    "warnings.filterwarnings(\"ignore\")\n",
    "\n",
    "SEED = 111\n",
    "random.seed(SEED)\n",
    "np.random.seed(SEED)"
   ]
  },
  {
   "cell_type": "markdown",
   "id": "5ab161b1-2231-4464-96f9-bb9ae0c3d1ed",
   "metadata": {},
   "source": [
    "### Задание 1. Bias-variance trade-off\n",
    "\n",
    "**2 балла**\n",
    "\n",
    "Продемонстрируйте bias-variance trade-off для `DecisionTreeRegressor` при изменении глубины дерева. Постройте регрессионную модель функции от одной независимой переменной, представленной в ячейке ниже, используя функцию `plot_regression_predictions` (можете ее как-то поменять, если захочется). Попробуйте разные значения глубины деревьев, при каком значении, на ваш взгляд, модель оптимальна, при каком variance становится слишком большим?"
   ]
  },
  {
   "cell_type": "code",
   "execution_count": 3,
   "id": "563b781e-78dd-4679-b0b0-3e70a064cfd7",
   "metadata": {},
   "outputs": [
    {
     "data": {
      "image/png": "[encoded data removed]",
      "text/plain": [
       "<Figure size 800x640 with 1 Axes>"
      ]
     },
     "metadata": {},
     "output_type": "display_data"
    }
   ],
   "source": [
    "# Сгенерируем какую-нибудь необычную зависимость и научимся ее предсказывать\n",
    "figure(figsize=(10, 8), dpi=80)\n",
    "\n",
    "np.random.seed(42)\n",
    "m = 300\n",
    "X = np.linspace(-3, 3, m).reshape(-1, 1)\n",
    "y = (3 + 2/np.pi * np.arcsin(np.cos(10 * X))) * X\n",
    "y = y + np.random.randn(m, 1) / 3\n",
    "plt.plot(X.reshape(-1), y.reshape(-1), \"b.\");"
   ]
  },
  {
   "cell_type": "code",
   "execution_count": 4,
   "id": "7d7c9c3d-5d4e-43a8-9946-3bde8c5b6e85",
   "metadata": {},
   "outputs": [],
   "source": [
    "# Функция для отрисовки предсказаний деревьев решений в случае регрессии\n",
    "def plot_regression_predictions(tree_reg, X, y, axes=[-3, 3, -10, 10], ylabel=\"$y$\"):\n",
    "    x1 = np.linspace(axes[0], axes[1], 500).reshape(-1, 1)\n",
    "    y_pred = tree_reg.predict(x1)\n",
    "    plt.axis(axes)\n",
    "    plt.xlabel(\"$x_1$\", fontsize=18)\n",
    "    if ylabel:\n",
    "        plt.ylabel(ylabel, fontsize=18, rotation=0)\n",
    "\n",
    "    plt.plot(x1, y_pred, linewidth=2, label=r\"$\\hat{y}$\")"
   ]
  },
  {
   "cell_type": "markdown",
   "id": "0032e348",
   "metadata": {},
   "source": [
    "Построение модели:"
   ]
  },
  {
   "cell_type": "code",
   "execution_count": 5,
   "id": "173ba04c",
   "metadata": {},
   "outputs": [
    {
     "data": {
      "text/html": [
       "<style>#sk-container-id-1 {color: black;background-color: white;}#sk-container-id-1 pre{padding: 0;}#sk-container-id-1 div.sk-toggleable {background-color: white;}#sk-container-id-1 label.sk-toggleable__label {cursor: pointer;display: block;width: 100%;margin-bottom: 0;padding: 0.3em;box-sizing: border-box;text-align: center;}#sk-container-id-1 label.sk-toggleable__label-arrow:before {content: \"▸\";float: left;margin-right: 0.25em;color: #696969;}#sk-container-id-1 label.sk-toggleable__label-arrow:hover:before {color: black;}#sk-container-id-1 div.sk-estimator:hover label.sk-toggleable__label-arrow:before {color: black;}#sk-container-id-1 div.sk-toggleable__content {max-height: 0;max-width: 0;overflow: hidden;text-align: left;background-color: #f0f8ff;}#sk-container-id-1 div.sk-toggleable__content pre {margin: 0.2em;color: black;border-radius: 0.25em;background-color: #f0f8ff;}#sk-container-id-1 input.sk-toggleable__control:checked~div.sk-toggleable__content {max-height: 200px;max-width: 100%;overflow: auto;}#sk-container-id-1 input.sk-toggleable__control:checked~label.sk-toggleable__label-arrow:before {content: \"▾\";}#sk-container-id-1 div.sk-estimator input.sk-toggleable__control:checked~label.sk-toggleable__label {background-color: #d4ebff;}#sk-container-id-1 div.sk-label input.sk-toggleable__control:checked~label.sk-toggleable__label {background-color: #d4ebff;}#sk-container-id-1 input.sk-hidden--visually {border: 0;clip: rect(1px 1px 1px 1px);clip: rect(1px, 1px, 1px, 1px);height: 1px;margin: -1px;overflow: hidden;padding: 0;position: absolute;width: 1px;}#sk-container-id-1 div.sk-estimator {font-family: monospace;background-color: #f0f8ff;border: 1px dotted black;border-radius: 0.25em;box-sizing: border-box;margin-bottom: 0.5em;}#sk-container-id-1 div.sk-estimator:hover {background-color: #d4ebff;}#sk-container-id-1 div.sk-parallel-item::after {content: \"\";width: 100%;border-bottom: 1px solid gray;flex-grow: 1;}#sk-container-id-1 div.sk-label:hover label.sk-toggleable__label {background-color: #d4ebff;}#sk-container-id-1 div.sk-serial::before {content: \"\";position: absolute;border-left: 1px solid gray;box-sizing: border-box;top: 0;bottom: 0;left: 50%;z-index: 0;}#sk-container-id-1 div.sk-serial {display: flex;flex-direction: column;align-items: center;background-color: white;padding-right: 0.2em;padding-left: 0.2em;position: relative;}#sk-container-id-1 div.sk-item {position: relative;z-index: 1;}#sk-container-id-1 div.sk-parallel {display: flex;align-items: stretch;justify-content: center;background-color: white;position: relative;}#sk-container-id-1 div.sk-item::before, #sk-container-id-1 div.sk-parallel-item::before {content: \"\";position: absolute;border-left: 1px solid gray;box-sizing: border-box;top: 0;bottom: 0;left: 50%;z-index: -1;}#sk-container-id-1 div.sk-parallel-item {display: flex;flex-direction: column;z-index: 1;position: relative;background-color: white;}#sk-container-id-1 div.sk-parallel-item:first-child::after {align-self: flex-end;width: 50%;}#sk-container-id-1 div.sk-parallel-item:last-child::after {align-self: flex-start;width: 50%;}#sk-container-id-1 div.sk-parallel-item:only-child::after {width: 0;}#sk-container-id-1 div.sk-dashed-wrapped {border: 1px dashed gray;margin: 0 0.4em 0.5em 0.4em;box-sizing: border-box;padding-bottom: 0.4em;background-color: white;}#sk-container-id-1 div.sk-label label {font-family: monospace;font-weight: bold;display: inline-block;line-height: 1.2em;}#sk-container-id-1 div.sk-label-container {text-align: center;}#sk-container-id-1 div.sk-container {/* jupyter's `normalize.less` sets `[hidden] { display: none; }` but bootstrap.min.css set `[hidden] { display: none !important; }` so we also need the `!important` here to be able to override the default hidden behavior on the sphinx rendered scikit-learn.org. See: https://github.com/scikit-learn/scikit-learn/issues/21755 */display: inline-block !important;position: relative;}#sk-container-id-1 div.sk-text-repr-fallback {display: none;}</style><div id=\"sk-container-id-1\" class=\"sk-top-container\"><div class=\"sk-text-repr-fallback\"><pre>DecisionTreeRegressor(max_depth=2, random_state=42)</pre><b>In a Jupyter environment, please rerun this cell to show the HTML representation or trust the notebook. <br />On GitHub, the HTML representation is unable to render, please try loading this page with nbviewer.org.</b></div><div class=\"sk-container\" hidden><div class=\"sk-item\"><div class=\"sk-estimator sk-toggleable\"><input class=\"sk-toggleable__control sk-hidden--visually\" id=\"sk-estimator-id-1\" type=\"checkbox\" checked><label for=\"sk-estimator-id-1\" class=\"sk-toggleable__label sk-toggleable__label-arrow\">DecisionTreeRegressor</label><div class=\"sk-toggleable__content\"><pre>DecisionTreeRegressor(max_depth=2, random_state=42)</pre></div></div></div></div></div>"
      ],
      "text/plain": [
       "DecisionTreeRegressor(max_depth=2, random_state=42)"
      ]
     },
     "execution_count": 5,
     "metadata": {},
     "output_type": "execute_result"
    }
   ],
   "source": [
    "dtc = DecisionTreeRegressor(max_depth=2, random_state=42) \n",
    "dtc.fit(X, y)"
   ]
  },
  {
   "cell_type": "markdown",
   "id": "243e15dc-2e23-42dc-b252-828c9a6b1e00",
   "metadata": {},
   "source": [
    "Изобразите, как меняются предсказания дерева при увеличении максимальной глубины (можно взять что-то в диапазоне от 1 до 15):"
   ]
  },
  {
   "cell_type": "code",
   "execution_count": 6,
   "id": "ff1a7668-6c5b-4817-98fd-78337f3e9685",
   "metadata": {},
   "outputs": [
    {
     "data": {
      "image/png": "[encoded data removed]",
      "text/plain": [
       "<Figure size 1120x640 with 1 Axes>"
      ]
     },
     "metadata": {},
     "output_type": "display_data"
    }
   ],
   "source": [
    "figure(figsize=(14, 8), dpi=80)\n",
    "for i in range(1, 16):\n",
    "    dtc = DecisionTreeRegressor(max_depth = i, random_state=42) \n",
    "    dtc.fit(X, y)\n",
    "    plot_regression_predictions(dtc, X, y, axes=[-3, 3, -10, 10], ylabel=\"$y$\")"
   ]
  },
  {
   "cell_type": "markdown",
   "id": "b185effa-2fd7-496a-a5f6-f802d6a32eea",
   "metadata": {},
   "source": [
    "### Задание 2. Random forest\n",
    "\n",
    "Теперь давайте немного подготовимся к тому, чтобы реализовать свой собственный случайный лес, а потом реализуем его."
   ]
  },
  {
   "cell_type": "markdown",
   "id": "573cfb4a-1fc3-4c0f-b165-a4ab6a341843",
   "metadata": {},
   "source": [
    "#### Задание 2. 1. Простое ансамблирование\n",
    "\n",
    "**1 балла**\n",
    "\n",
    "Представим, что у нас есть 101 классификатор. Каждый может с вероятностью `p` (равной для всех моделей) правильно предсказать класс объекта. Будем делать предсказания по большинству голосов (majority vote). Постройте зависимость вероятности правильно классифицировать объект от значения `p`. Вам может быть полезная следующая формула:"
   ]
  },
  {
   "cell_type": "markdown",
   "id": "9a47cc99-0337-4831-bc83-5dc09dc55e52",
   "metadata": {},
   "source": [
    "$$ \\large \\mu = \\sum_ {i = 51} ^ {101} C_{101} ^ ip ^ i (1-p) ^ {101-i} $$"
   ]
  },
  {
   "cell_type": "code",
   "execution_count": 7,
   "id": "33d1ecd5-b310-4106-915a-2f7afb26f608",
   "metadata": {},
   "outputs": [],
   "source": [
    "def get_prob(p):\n",
    "    total_sum = 0\n",
    "    for i in range(51, 102):\n",
    "        total_sum += (math.factorial(101)/(math.factorial(i)*math.factorial(101 - i))) * np.power(p, i) * np.power(1-p, 101-i)\n",
    "    return total_sum\n"
   ]
  },
  {
   "cell_type": "code",
   "execution_count": 8,
   "id": "c1cc53f4",
   "metadata": {},
   "outputs": [],
   "source": [
    "p = [i/100 for i in range(1, 100)]\n",
    "total_sums = [get_prob(p_i) for p_i in p]"
   ]
  },
  {
   "cell_type": "code",
   "execution_count": 9,
   "id": "e4c8f755",
   "metadata": {},
   "outputs": [
    {
     "data": {
      "image/png": "[encoded data removed]",
      "text/plain": [
       "<Figure size 960x480 with 1 Axes>"
      ]
     },
     "metadata": {},
     "output_type": "display_data"
    }
   ],
   "source": [
    "figure(figsize=(12, 6), dpi=80)\n",
    "\n",
    "plt.plot(p, total_sums)\n",
    "plt.show()"
   ]
  },
  {
   "cell_type": "markdown",
   "id": "b3d10f32-08d6-4a78-a167-82818f8acd93",
   "metadata": {},
   "source": [
    "А теперь давайте посмотрим на другую ситуацию. У нас есть фиксированная вероятность того, что модель правильно классифицирует объект `p = 0.65`. Постройте зависимость вероятности правильно классифицировать объект от числа моделей в ансамбле."
   ]
  },
  {
   "cell_type": "code",
   "execution_count": 10,
   "id": "3f6736e1-bfaf-4a90-bc8f-a2eae5e09dee",
   "metadata": {},
   "outputs": [],
   "source": [
    "def get_prob(n_models, p=0.65):\n",
    "    total_sum = 0\n",
    "    for i in range(n_models//2, n_models):\n",
    "        total_sum += (math.factorial(n_models)/(math.factorial(i)*math.factorial(n_models - i))) * np.power(p, i) * np.power(1-p, n_models-i)\n",
    "    return total_sum"
   ]
  },
  {
   "cell_type": "code",
   "execution_count": 11,
   "id": "67a5606e-4e84-46cc-a092-c63d299108e2",
   "metadata": {},
   "outputs": [
    {
     "data": {
      "text/plain": [
       "0.9992621667511374"
      ]
     },
     "execution_count": 11,
     "metadata": {},
     "output_type": "execute_result"
    }
   ],
   "source": [
    "get_prob(100)"
   ]
  },
  {
   "cell_type": "code",
   "execution_count": 12,
   "id": "7ebb0798",
   "metadata": {},
   "outputs": [],
   "source": [
    "n_models = [i for i in range(1, 100)]\n",
    "total_sums = [get_prob(n_i) for n_i in n_models]"
   ]
  },
  {
   "cell_type": "code",
   "execution_count": 13,
   "id": "77d4ba3e",
   "metadata": {},
   "outputs": [
    {
     "data": {
      "image/png": "[encoded data removed]",
      "text/plain": [
       "<Figure size 960x480 with 1 Axes>"
      ]
     },
     "metadata": {},
     "output_type": "display_data"
    }
   ],
   "source": [
    "figure(figsize=(12, 6), dpi=80)\n",
    "\n",
    "plt.plot(n_models, total_sums)\n",
    "plt.show()"
   ]
  },
  {
   "cell_type": "markdown",
   "id": "a3d929c1-3c47-4c09-ac74-d5a5f206b66e",
   "metadata": {},
   "source": [
    "Опишите ваши наблюдения:\n",
    "\n",
    "* при 0.4 < p < 0.6 вероятность правильно классифицировать объект резко возрастает, а при p > 0.6 вероятность стремится к 1\n",
    "* при увеличении количества моделей в ансамбле вероятность правильно классифицировать объект логарифмически возрастает"
   ]
  },
  {
   "cell_type": "markdown",
   "id": "a8914245-d761-4ce3-9836-7d832aea7005",
   "metadata": {},
   "source": [
    "#### Задание 2. 2. Реализация простого RF\n",
    "\n",
    "**4 балла**\n",
    "\n",
    "Реализуйте свой собственный класс `RandomForestClassifierCustom`, используя в качестве базовой модели `DecisionTreeClassifier` из `sklearn`.\n",
    "\n",
    "Небольшое описание:\n",
    "- Используйте приведенный ниже код\n",
    "- В методе `fit` в цикле (`i` от 0 до `n_estimators-1`):\n",
    "    * Зафиксируйте генератор случайных чисел следующим образом np.random.seed(`random_state + i`). Идея в том, что на каждой итерации у нас будет новое значение для генератора случайных чисел, что добавит побольше \"случайности\", но в то же время мы сможем иметь воспроизводимые результаты\n",
    "    * После чего выберите `max_features` признаков **без возвращения/without replacement**, сохраните список выбранных признаков (их индексов) в `self.feat_ids_by_tree`\n",
    "    * Также создайте псевдовыборку при помощи бутстрэпа (выбор **с возвращением/with replacement**) из тренировочных данных. Может помочь функция `np.random.choice` и ее аргумент `replace`\n",
    "    * Обучите дерево решений с параметрами, заданными в конструкторе класса `max_depth`, `max_features` и `random_state` на полученной псевдовыборке.\n",
    "- Метод `fit` должен возвращать текущий экземпляр класса `RandomForestClassifierCustom`, то есть `self` (все по-взрослому, как в `sklearn`)\n",
    "- В методе `predict_proba` мы должны пройти циклом по всем деревьям. Для каждого предсказания, нам нужно будет брать только те признаки, на которых училось изначальное дерево, поэтому мы и сохраняли эту информацию в артрибуте `self.feat_ids_by_tree`. Этот метод должен возвращать предсказанные вероятности (можно делать двумя способами: для каждого дерева предсказывать значение при помощи метода `predict_proba` и потом усреднять эти вероятности, или к примеру пользоваться методом `predict` и также считать среднее."
   ]
  },
  {
   "cell_type": "code",
   "execution_count": 14,
   "id": "c19fa91b-815f-4e65-bac7-5f218ccd4dfe",
   "metadata": {},
   "outputs": [],
   "source": [
    "class RandomForestClassifierCustom(BaseEstimator):\n",
    "    def __init__(\n",
    "        self, n_estimators=10, max_depth=None, max_features=None, random_state=1\n",
    "    ):\n",
    "        self.n_estimators = n_estimators\n",
    "        self.max_depth = max_depth\n",
    "        self.max_features = max_features\n",
    "        self.random_state = random_state\n",
    "\n",
    "        self.trees = []\n",
    "        self.feat_ids_by_tree = []\n",
    "\n",
    "    def fit(self, X, y):\n",
    "        self.classes_ = sorted(np.unique(y))\n",
    "        \n",
    "        for i in range(self.n_estimators):\n",
    "            np.random.seed(self.random_state + i)\n",
    "            \n",
    "            # выбираем признаки для модели\n",
    "            current_features_ids = random.sample([j for j in range(len(X[0]))], self.max_features)\n",
    "            self.feat_ids_by_tree.append(current_features_ids)\n",
    "            \n",
    "            # делаем превдовыборку\n",
    "            bootstrap_sample = []\n",
    "            for X_i in X:\n",
    "                X_chosen = [X_i[cfi] for cfi in current_features_ids] # выбранные признаки для каждой строки\n",
    "                bootstrap_sample.append(X_chosen)\n",
    "                \n",
    "            # создаем и обучаем модель\n",
    "            dtc = DecisionTreeClassifier(max_depth = self.max_depth, \n",
    "                                        max_features = self.max_features, \n",
    "                                        random_state = self.random_state) \n",
    "            dtc.fit(bootstrap_sample, y)\n",
    "            self.trees.append(dtc)\n",
    "        \n",
    "        return self\n",
    "\n",
    "    \n",
    "    def predict_proba(self, X):\n",
    "        \n",
    "        probas_trees = [ [0]*len(self.classes_) for _ in X ]\n",
    "        \n",
    "        for i in range(len(self.trees)):\n",
    "            model = self.trees[i]\n",
    "            feat_ids = self.feat_ids_by_tree[i]\n",
    "            \n",
    "            bootstrap_sample = []\n",
    "            for X_i in X:\n",
    "                X_chosen = [X_i[cfi] for cfi in feat_ids]\n",
    "                bootstrap_sample.append(X_chosen)\n",
    "            proba = model.predict_proba(bootstrap_sample)\n",
    "            for row in range(len(proba)):\n",
    "                for c in self.classes_:\n",
    "                    probas_trees[row][c] += proba[row][c]\n",
    "                \n",
    "        for row in range(len(probas_trees)):\n",
    "            for c in self.classes_:\n",
    "                probas_trees[row][c] /= len(self.trees)\n",
    "\n",
    "        return probas_trees\n",
    "            \n",
    "    \n",
    "    def predict(self, X):\n",
    "        probas = self.predict_proba(X)\n",
    "        predictions = np.argmax(probas, axis=1)\n",
    "        \n",
    "        return predictions"
   ]
  },
  {
   "cell_type": "markdown",
   "id": "2d011ba4-85f2-453a-b284-78e711ab1733",
   "metadata": {},
   "source": [
    "Протестируем нашу реализацию на искусственных данных. Визуализируйте разделяющую границу, которую рисует ваша модель при помощи функции `plot_decision_boundary` (см. примеры в лекции)."
   ]
  },
  {
   "cell_type": "code",
   "execution_count": 15,
   "id": "4e67ff2b-62a9-4f94-8bb2-7f5c1636999d",
   "metadata": {},
   "outputs": [],
   "source": [
    "def plot_decision_boundary(clf, X, y, axes=[-1.5, 2.5, -1, 1.5], alpha=0.5, contour=True):\n",
    "    x1s = np.linspace(axes[0], axes[1], 100)\n",
    "    x2s = np.linspace(axes[2], axes[3], 100)\n",
    "    x1, x2 = np.meshgrid(x1s, x2s)\n",
    "    X_new = np.c_[x1.ravel(), x2.ravel()]\n",
    "    y_pred = clf.predict(X_new).reshape(x1.shape)\n",
    "    custom_cmap = ListedColormap([\"#ffdab9\",\"#9898ff\", \"#4B0082\"])\n",
    "    plt.contourf(x1, x2, y_pred, alpha=0.3, cmap=custom_cmap)\n",
    "    if contour:\n",
    "        custom_cmap2 = ListedColormap([\"#ffdab9\", \"#4c4c7f\", \"#4B0082\"])\n",
    "        plt.contour(x1, x2, y_pred, cmap=custom_cmap2, alpha=0.8)\n",
    "    plt.plot(X[:, 0][y==0], X[:, 1][y==0], \"yo\", alpha=alpha)\n",
    "    plt.plot(X[:, 0][y==1], X[:, 1][y==1], \"bs\", alpha=alpha)\n",
    "    plt.axis(axes)\n",
    "    plt.xlabel(r\"$x_1$\", fontsize=18)\n",
    "    plt.ylabel(r\"$x_2$\", fontsize=18, rotation=0)"
   ]
  },
  {
   "cell_type": "code",
   "execution_count": 16,
   "id": "a76e9b76-94c2-47b5-9ef9-150bc798a307",
   "metadata": {},
   "outputs": [
    {
     "data": {
      "image/png": "[encoded data removed]",
      "text/plain": [
       "<Figure size 800x600 with 1 Axes>"
      ]
     },
     "metadata": {},
     "output_type": "display_data"
    }
   ],
   "source": [
    "X, y = datasets.make_moons(n_samples=500, noise=0.30, random_state=SEED)\n",
    "\n",
    "plt.figure(figsize=(8, 6))\n",
    "plt.plot(X[:, 0][y==0], X[:, 1][y==0], \"yo\")\n",
    "plt.plot(X[:, 0][y==1], X[:, 1][y==1], \"bs\")\n",
    "plt.show()"
   ]
  },
  {
   "cell_type": "markdown",
   "id": "edba9f4f",
   "metadata": {},
   "source": [
    "Разделим данные на train и test:"
   ]
  },
  {
   "cell_type": "code",
   "execution_count": 17,
   "id": "bc1628a6",
   "metadata": {},
   "outputs": [],
   "source": [
    "X_train, X_test, y_train, y_test = train_test_split(X, y, random_state=42)"
   ]
  },
  {
   "cell_type": "markdown",
   "id": "14a4d258",
   "metadata": {},
   "source": [
    "Создадим и обучим модель:"
   ]
  },
  {
   "cell_type": "code",
   "execution_count": 18,
   "id": "aeae6137",
   "metadata": {},
   "outputs": [],
   "source": [
    "rfcc_model = RandomForestClassifierCustom(max_depth=20, max_features=2)"
   ]
  },
  {
   "cell_type": "code",
   "execution_count": 19,
   "id": "1f6f636e",
   "metadata": {},
   "outputs": [
    {
     "data": {
      "text/html": [
       "<style>#sk-container-id-2 {color: black;background-color: white;}#sk-container-id-2 pre{padding: 0;}#sk-container-id-2 div.sk-toggleable {background-color: white;}#sk-container-id-2 label.sk-toggleable__label {cursor: pointer;display: block;width: 100%;margin-bottom: 0;padding: 0.3em;box-sizing: border-box;text-align: center;}#sk-container-id-2 label.sk-toggleable__label-arrow:before {content: \"▸\";float: left;margin-right: 0.25em;color: #696969;}#sk-container-id-2 label.sk-toggleable__label-arrow:hover:before {color: black;}#sk-container-id-2 div.sk-estimator:hover label.sk-toggleable__label-arrow:before {color: black;}#sk-container-id-2 div.sk-toggleable__content {max-height: 0;max-width: 0;overflow: hidden;text-align: left;background-color: #f0f8ff;}#sk-container-id-2 div.sk-toggleable__content pre {margin: 0.2em;color: black;border-radius: 0.25em;background-color: #f0f8ff;}#sk-container-id-2 input.sk-toggleable__control:checked~div.sk-toggleable__content {max-height: 200px;max-width: 100%;overflow: auto;}#sk-container-id-2 input.sk-toggleable__control:checked~label.sk-toggleable__label-arrow:before {content: \"▾\";}#sk-container-id-2 div.sk-estimator input.sk-toggleable__control:checked~label.sk-toggleable__label {background-color: #d4ebff;}#sk-container-id-2 div.sk-label input.sk-toggleable__control:checked~label.sk-toggleable__label {background-color: #d4ebff;}#sk-container-id-2 input.sk-hidden--visually {border: 0;clip: rect(1px 1px 1px 1px);clip: rect(1px, 1px, 1px, 1px);height: 1px;margin: -1px;overflow: hidden;padding: 0;position: absolute;width: 1px;}#sk-container-id-2 div.sk-estimator {font-family: monospace;background-color: #f0f8ff;border: 1px dotted black;border-radius: 0.25em;box-sizing: border-box;margin-bottom: 0.5em;}#sk-container-id-2 div.sk-estimator:hover {background-color: #d4ebff;}#sk-container-id-2 div.sk-parallel-item::after {content: \"\";width: 100%;border-bottom: 1px solid gray;flex-grow: 1;}#sk-container-id-2 div.sk-label:hover label.sk-toggleable__label {background-color: #d4ebff;}#sk-container-id-2 div.sk-serial::before {content: \"\";position: absolute;border-left: 1px solid gray;box-sizing: border-box;top: 0;bottom: 0;left: 50%;z-index: 0;}#sk-container-id-2 div.sk-serial {display: flex;flex-direction: column;align-items: center;background-color: white;padding-right: 0.2em;padding-left: 0.2em;position: relative;}#sk-container-id-2 div.sk-item {position: relative;z-index: 1;}#sk-container-id-2 div.sk-parallel {display: flex;align-items: stretch;justify-content: center;background-color: white;position: relative;}#sk-container-id-2 div.sk-item::before, #sk-container-id-2 div.sk-parallel-item::before {content: \"\";position: absolute;border-left: 1px solid gray;box-sizing: border-box;top: 0;bottom: 0;left: 50%;z-index: -1;}#sk-container-id-2 div.sk-parallel-item {display: flex;flex-direction: column;z-index: 1;position: relative;background-color: white;}#sk-container-id-2 div.sk-parallel-item:first-child::after {align-self: flex-end;width: 50%;}#sk-container-id-2 div.sk-parallel-item:last-child::after {align-self: flex-start;width: 50%;}#sk-container-id-2 div.sk-parallel-item:only-child::after {width: 0;}#sk-container-id-2 div.sk-dashed-wrapped {border: 1px dashed gray;margin: 0 0.4em 0.5em 0.4em;box-sizing: border-box;padding-bottom: 0.4em;background-color: white;}#sk-container-id-2 div.sk-label label {font-family: monospace;font-weight: bold;display: inline-block;line-height: 1.2em;}#sk-container-id-2 div.sk-label-container {text-align: center;}#sk-container-id-2 div.sk-container {/* jupyter's `normalize.less` sets `[hidden] { display: none; }` but bootstrap.min.css set `[hidden] { display: none !important; }` so we also need the `!important` here to be able to override the default hidden behavior on the sphinx rendered scikit-learn.org. See: https://github.com/scikit-learn/scikit-learn/issues/21755 */display: inline-block !important;position: relative;}#sk-container-id-2 div.sk-text-repr-fallback {display: none;}</style><div id=\"sk-container-id-2\" class=\"sk-top-container\"><div class=\"sk-text-repr-fallback\"><pre>RandomForestClassifierCustom(max_depth=20, max_features=2)</pre><b>In a Jupyter environment, please rerun this cell to show the HTML representation or trust the notebook. <br />On GitHub, the HTML representation is unable to render, please try loading this page with nbviewer.org.</b></div><div class=\"sk-container\" hidden><div class=\"sk-item\"><div class=\"sk-estimator sk-toggleable\"><input class=\"sk-toggleable__control sk-hidden--visually\" id=\"sk-estimator-id-2\" type=\"checkbox\" checked><label for=\"sk-estimator-id-2\" class=\"sk-toggleable__label sk-toggleable__label-arrow\">RandomForestClassifierCustom</label><div class=\"sk-toggleable__content\"><pre>RandomForestClassifierCustom(max_depth=20, max_features=2)</pre></div></div></div></div></div>"
      ],
      "text/plain": [
       "RandomForestClassifierCustom(max_depth=20, max_features=2)"
      ]
     },
     "execution_count": 19,
     "metadata": {},
     "output_type": "execute_result"
    }
   ],
   "source": [
    "rfcc_model.fit(X_train, y_train)"
   ]
  },
  {
   "cell_type": "code",
   "execution_count": 20,
   "id": "9704eee7",
   "metadata": {},
   "outputs": [
    {
     "data": {
      "image/png": "[encoded data removed]",
      "text/plain": [
       "<Figure size 800x600 with 1 Axes>"
      ]
     },
     "metadata": {},
     "output_type": "display_data"
    }
   ],
   "source": [
    "plt.figure(figsize=(8, 6))\n",
    "plot_decision_boundary(rfcc_model, X_test, y_test)"
   ]
  },
  {
   "cell_type": "markdown",
   "id": "da484a87-bb76-43a7-8953-1af94efbd0aa",
   "metadata": {},
   "source": [
    "Подберите наилучшие гиперпараметры, при которых разделяющая граница будет, на ваш взгляд, оптимальной с точки зрения bias-variance. Можно также подключить какие-то метрики для выбора лучшей модели."
   ]
  },
  {
   "cell_type": "markdown",
   "id": "da517e51",
   "metadata": {},
   "source": [
    "Используем GridSearchCV для подбора гиперпараметров (в качестве метрики возьмем f1-score):"
   ]
  },
  {
   "cell_type": "code",
   "execution_count": 21,
   "id": "293aac4e-a7c9-400a-a939-e3b1122d5517",
   "metadata": {},
   "outputs": [],
   "source": [
    "params = {'n_estimators':[10, 20, 30, 40, 50, 100, 200, 500, 700, 1000, 1200, 1500], # кол-во деревьев в ансамбле\n",
    "          'max_depth':[3, 5, 7, 10, 15],\n",
    "          'max_features':[1, 2]}"
   ]
  },
  {
   "cell_type": "code",
   "execution_count": 22,
   "id": "06995e7e",
   "metadata": {},
   "outputs": [
    {
     "name": "stdout",
     "output_type": "stream",
     "text": [
      "CPU times: user 3.48 s, sys: 225 ms, total: 3.7 s\n",
      "Wall time: 4min 52s\n"
     ]
    },
    {
     "data": {
      "text/html": [
       "<style>#sk-container-id-3 {color: black;background-color: white;}#sk-container-id-3 pre{padding: 0;}#sk-container-id-3 div.sk-toggleable {background-color: white;}#sk-container-id-3 label.sk-toggleable__label {cursor: pointer;display: block;width: 100%;margin-bottom: 0;padding: 0.3em;box-sizing: border-box;text-align: center;}#sk-container-id-3 label.sk-toggleable__label-arrow:before {content: \"▸\";float: left;margin-right: 0.25em;color: #696969;}#sk-container-id-3 label.sk-toggleable__label-arrow:hover:before {color: black;}#sk-container-id-3 div.sk-estimator:hover label.sk-toggleable__label-arrow:before {color: black;}#sk-container-id-3 div.sk-toggleable__content {max-height: 0;max-width: 0;overflow: hidden;text-align: left;background-color: #f0f8ff;}#sk-container-id-3 div.sk-toggleable__content pre {margin: 0.2em;color: black;border-radius: 0.25em;background-color: #f0f8ff;}#sk-container-id-3 input.sk-toggleable__control:checked~div.sk-toggleable__content {max-height: 200px;max-width: 100%;overflow: auto;}#sk-container-id-3 input.sk-toggleable__control:checked~label.sk-toggleable__label-arrow:before {content: \"▾\";}#sk-container-id-3 div.sk-estimator input.sk-toggleable__control:checked~label.sk-toggleable__label {background-color: #d4ebff;}#sk-container-id-3 div.sk-label input.sk-toggleable__control:checked~label.sk-toggleable__label {background-color: #d4ebff;}#sk-container-id-3 input.sk-hidden--visually {border: 0;clip: rect(1px 1px 1px 1px);clip: rect(1px, 1px, 1px, 1px);height: 1px;margin: -1px;overflow: hidden;padding: 0;position: absolute;width: 1px;}#sk-container-id-3 div.sk-estimator {font-family: monospace;background-color: #f0f8ff;border: 1px dotted black;border-radius: 0.25em;box-sizing: border-box;margin-bottom: 0.5em;}#sk-container-id-3 div.sk-estimator:hover {background-color: #d4ebff;}#sk-container-id-3 div.sk-parallel-item::after {content: \"\";width: 100%;border-bottom: 1px solid gray;flex-grow: 1;}#sk-container-id-3 div.sk-label:hover label.sk-toggleable__label {background-color: #d4ebff;}#sk-container-id-3 div.sk-serial::before {content: \"\";position: absolute;border-left: 1px solid gray;box-sizing: border-box;top: 0;bottom: 0;left: 50%;z-index: 0;}#sk-container-id-3 div.sk-serial {display: flex;flex-direction: column;align-items: center;background-color: white;padding-right: 0.2em;padding-left: 0.2em;position: relative;}#sk-container-id-3 div.sk-item {position: relative;z-index: 1;}#sk-container-id-3 div.sk-parallel {display: flex;align-items: stretch;justify-content: center;background-color: white;position: relative;}#sk-container-id-3 div.sk-item::before, #sk-container-id-3 div.sk-parallel-item::before {content: \"\";position: absolute;border-left: 1px solid gray;box-sizing: border-box;top: 0;bottom: 0;left: 50%;z-index: -1;}#sk-container-id-3 div.sk-parallel-item {display: flex;flex-direction: column;z-index: 1;position: relative;background-color: white;}#sk-container-id-3 div.sk-parallel-item:first-child::after {align-self: flex-end;width: 50%;}#sk-container-id-3 div.sk-parallel-item:last-child::after {align-self: flex-start;width: 50%;}#sk-container-id-3 div.sk-parallel-item:only-child::after {width: 0;}#sk-container-id-3 div.sk-dashed-wrapped {border: 1px dashed gray;margin: 0 0.4em 0.5em 0.4em;box-sizing: border-box;padding-bottom: 0.4em;background-color: white;}#sk-container-id-3 div.sk-label label {font-family: monospace;font-weight: bold;display: inline-block;line-height: 1.2em;}#sk-container-id-3 div.sk-label-container {text-align: center;}#sk-container-id-3 div.sk-container {/* jupyter's `normalize.less` sets `[hidden] { display: none; }` but bootstrap.min.css set `[hidden] { display: none !important; }` so we also need the `!important` here to be able to override the default hidden behavior on the sphinx rendered scikit-learn.org. See: https://github.com/scikit-learn/scikit-learn/issues/21755 */display: inline-block !important;position: relative;}#sk-container-id-3 div.sk-text-repr-fallback {display: none;}</style><div id=\"sk-container-id-3\" class=\"sk-top-container\"><div class=\"sk-text-repr-fallback\"><pre>GridSearchCV(estimator=RandomForestClassifierCustom(max_depth=20,\n",
       "                                                    max_features=2),\n",
       "             n_jobs=-1,\n",
       "             param_grid={&#x27;max_depth&#x27;: [3, 5, 7, 10, 15], &#x27;max_features&#x27;: [1, 2],\n",
       "                         &#x27;n_estimators&#x27;: [10, 20, 30, 40, 50, 100, 200, 500,\n",
       "                                          700, 1000, 1200, 1500]},\n",
       "             scoring=&#x27;f1&#x27;)</pre><b>In a Jupyter environment, please rerun this cell to show the HTML representation or trust the notebook. <br />On GitHub, the HTML representation is unable to render, please try loading this page with nbviewer.org.</b></div><div class=\"sk-container\" hidden><div class=\"sk-item sk-dashed-wrapped\"><div class=\"sk-label-container\"><div class=\"sk-label sk-toggleable\"><input class=\"sk-toggleable__control sk-hidden--visually\" id=\"sk-estimator-id-3\" type=\"checkbox\" ><label for=\"sk-estimator-id-3\" class=\"sk-toggleable__label sk-toggleable__label-arrow\">GridSearchCV</label><div class=\"sk-toggleable__content\"><pre>GridSearchCV(estimator=RandomForestClassifierCustom(max_depth=20,\n",
       "                                                    max_features=2),\n",
       "             n_jobs=-1,\n",
       "             param_grid={&#x27;max_depth&#x27;: [3, 5, 7, 10, 15], &#x27;max_features&#x27;: [1, 2],\n",
       "                         &#x27;n_estimators&#x27;: [10, 20, 30, 40, 50, 100, 200, 500,\n",
       "                                          700, 1000, 1200, 1500]},\n",
       "             scoring=&#x27;f1&#x27;)</pre></div></div></div><div class=\"sk-parallel\"><div class=\"sk-parallel-item\"><div class=\"sk-item\"><div class=\"sk-label-container\"><div class=\"sk-label sk-toggleable\"><input class=\"sk-toggleable__control sk-hidden--visually\" id=\"sk-estimator-id-4\" type=\"checkbox\" ><label for=\"sk-estimator-id-4\" class=\"sk-toggleable__label sk-toggleable__label-arrow\">estimator: RandomForestClassifierCustom</label><div class=\"sk-toggleable__content\"><pre>RandomForestClassifierCustom(max_depth=20, max_features=2)</pre></div></div></div><div class=\"sk-serial\"><div class=\"sk-item\"><div class=\"sk-estimator sk-toggleable\"><input class=\"sk-toggleable__control sk-hidden--visually\" id=\"sk-estimator-id-5\" type=\"checkbox\" ><label for=\"sk-estimator-id-5\" class=\"sk-toggleable__label sk-toggleable__label-arrow\">RandomForestClassifierCustom</label><div class=\"sk-toggleable__content\"><pre>RandomForestClassifierCustom(max_depth=20, max_features=2)</pre></div></div></div></div></div></div></div></div></div></div>"
      ],
      "text/plain": [
       "GridSearchCV(estimator=RandomForestClassifierCustom(max_depth=20,\n",
       "                                                    max_features=2),\n",
       "             n_jobs=-1,\n",
       "             param_grid={'max_depth': [3, 5, 7, 10, 15], 'max_features': [1, 2],\n",
       "                         'n_estimators': [10, 20, 30, 40, 50, 100, 200, 500,\n",
       "                                          700, 1000, 1200, 1500]},\n",
       "             scoring='f1')"
      ]
     },
     "execution_count": 22,
     "metadata": {},
     "output_type": "execute_result"
    }
   ],
   "source": [
    "%%time\n",
    "\n",
    "gs_rfcc = GridSearchCV(rfcc_model, params, scoring='f1', n_jobs=-1)\n",
    "gs_rfcc.fit(X_train, y_train)"
   ]
  },
  {
   "cell_type": "code",
   "execution_count": 23,
   "id": "1d40ad89",
   "metadata": {},
   "outputs": [
    {
     "data": {
      "text/plain": [
       "{'max_depth': 5, 'max_features': 2, 'n_estimators': 10}"
      ]
     },
     "execution_count": 23,
     "metadata": {},
     "output_type": "execute_result"
    }
   ],
   "source": [
    "gs_rfcc.best_params_"
   ]
  },
  {
   "cell_type": "code",
   "execution_count": 24,
   "id": "4ea0e14f",
   "metadata": {},
   "outputs": [
    {
     "data": {
      "text/plain": [
       "0.8986641576789959"
      ]
     },
     "execution_count": 24,
     "metadata": {},
     "output_type": "execute_result"
    }
   ],
   "source": [
    "gs_rfcc.best_score_"
   ]
  },
  {
   "cell_type": "markdown",
   "id": "c3eb5b4c",
   "metadata": {},
   "source": [
    "Строим и обучаем модель с полученными гиперпараметрами:"
   ]
  },
  {
   "cell_type": "code",
   "execution_count": 25,
   "id": "222b00f7",
   "metadata": {},
   "outputs": [
    {
     "data": {
      "text/html": [
       "<style>#sk-container-id-4 {color: black;background-color: white;}#sk-container-id-4 pre{padding: 0;}#sk-container-id-4 div.sk-toggleable {background-color: white;}#sk-container-id-4 label.sk-toggleable__label {cursor: pointer;display: block;width: 100%;margin-bottom: 0;padding: 0.3em;box-sizing: border-box;text-align: center;}#sk-container-id-4 label.sk-toggleable__label-arrow:before {content: \"▸\";float: left;margin-right: 0.25em;color: #696969;}#sk-container-id-4 label.sk-toggleable__label-arrow:hover:before {color: black;}#sk-container-id-4 div.sk-estimator:hover label.sk-toggleable__label-arrow:before {color: black;}#sk-container-id-4 div.sk-toggleable__content {max-height: 0;max-width: 0;overflow: hidden;text-align: left;background-color: #f0f8ff;}#sk-container-id-4 div.sk-toggleable__content pre {margin: 0.2em;color: black;border-radius: 0.25em;background-color: #f0f8ff;}#sk-container-id-4 input.sk-toggleable__control:checked~div.sk-toggleable__content {max-height: 200px;max-width: 100%;overflow: auto;}#sk-container-id-4 input.sk-toggleable__control:checked~label.sk-toggleable__label-arrow:before {content: \"▾\";}#sk-container-id-4 div.sk-estimator input.sk-toggleable__control:checked~label.sk-toggleable__label {background-color: #d4ebff;}#sk-container-id-4 div.sk-label input.sk-toggleable__control:checked~label.sk-toggleable__label {background-color: #d4ebff;}#sk-container-id-4 input.sk-hidden--visually {border: 0;clip: rect(1px 1px 1px 1px);clip: rect(1px, 1px, 1px, 1px);height: 1px;margin: -1px;overflow: hidden;padding: 0;position: absolute;width: 1px;}#sk-container-id-4 div.sk-estimator {font-family: monospace;background-color: #f0f8ff;border: 1px dotted black;border-radius: 0.25em;box-sizing: border-box;margin-bottom: 0.5em;}#sk-container-id-4 div.sk-estimator:hover {background-color: #d4ebff;}#sk-container-id-4 div.sk-parallel-item::after {content: \"\";width: 100%;border-bottom: 1px solid gray;flex-grow: 1;}#sk-container-id-4 div.sk-label:hover label.sk-toggleable__label {background-color: #d4ebff;}#sk-container-id-4 div.sk-serial::before {content: \"\";position: absolute;border-left: 1px solid gray;box-sizing: border-box;top: 0;bottom: 0;left: 50%;z-index: 0;}#sk-container-id-4 div.sk-serial {display: flex;flex-direction: column;align-items: center;background-color: white;padding-right: 0.2em;padding-left: 0.2em;position: relative;}#sk-container-id-4 div.sk-item {position: relative;z-index: 1;}#sk-container-id-4 div.sk-parallel {display: flex;align-items: stretch;justify-content: center;background-color: white;position: relative;}#sk-container-id-4 div.sk-item::before, #sk-container-id-4 div.sk-parallel-item::before {content: \"\";position: absolute;border-left: 1px solid gray;box-sizing: border-box;top: 0;bottom: 0;left: 50%;z-index: -1;}#sk-container-id-4 div.sk-parallel-item {display: flex;flex-direction: column;z-index: 1;position: relative;background-color: white;}#sk-container-id-4 div.sk-parallel-item:first-child::after {align-self: flex-end;width: 50%;}#sk-container-id-4 div.sk-parallel-item:last-child::after {align-self: flex-start;width: 50%;}#sk-container-id-4 div.sk-parallel-item:only-child::after {width: 0;}#sk-container-id-4 div.sk-dashed-wrapped {border: 1px dashed gray;margin: 0 0.4em 0.5em 0.4em;box-sizing: border-box;padding-bottom: 0.4em;background-color: white;}#sk-container-id-4 div.sk-label label {font-family: monospace;font-weight: bold;display: inline-block;line-height: 1.2em;}#sk-container-id-4 div.sk-label-container {text-align: center;}#sk-container-id-4 div.sk-container {/* jupyter's `normalize.less` sets `[hidden] { display: none; }` but bootstrap.min.css set `[hidden] { display: none !important; }` so we also need the `!important` here to be able to override the default hidden behavior on the sphinx rendered scikit-learn.org. See: https://github.com/scikit-learn/scikit-learn/issues/21755 */display: inline-block !important;position: relative;}#sk-container-id-4 div.sk-text-repr-fallback {display: none;}</style><div id=\"sk-container-id-4\" class=\"sk-top-container\"><div class=\"sk-text-repr-fallback\"><pre>RandomForestClassifierCustom(max_depth=5, max_features=2, n_estimators=40)</pre><b>In a Jupyter environment, please rerun this cell to show the HTML representation or trust the notebook. <br />On GitHub, the HTML representation is unable to render, please try loading this page with nbviewer.org.</b></div><div class=\"sk-container\" hidden><div class=\"sk-item\"><div class=\"sk-estimator sk-toggleable\"><input class=\"sk-toggleable__control sk-hidden--visually\" id=\"sk-estimator-id-6\" type=\"checkbox\" checked><label for=\"sk-estimator-id-6\" class=\"sk-toggleable__label sk-toggleable__label-arrow\">RandomForestClassifierCustom</label><div class=\"sk-toggleable__content\"><pre>RandomForestClassifierCustom(max_depth=5, max_features=2, n_estimators=40)</pre></div></div></div></div></div>"
      ],
      "text/plain": [
       "RandomForestClassifierCustom(max_depth=5, max_features=2, n_estimators=40)"
      ]
     },
     "execution_count": 25,
     "metadata": {},
     "output_type": "execute_result"
    }
   ],
   "source": [
    "rfcc_model_new = RandomForestClassifierCustom(n_estimators=40, max_depth=5, max_features=2)\n",
    "rfcc_model_new.fit(X_train, y_train)"
   ]
  },
  {
   "cell_type": "code",
   "execution_count": 26,
   "id": "ef057fb9",
   "metadata": {},
   "outputs": [
    {
     "data": {
      "image/png": "[encoded data removed]",
      "text/plain": [
       "<Figure size 800x600 with 1 Axes>"
      ]
     },
     "metadata": {},
     "output_type": "display_data"
    }
   ],
   "source": [
    "plt.figure(figsize=(8, 6))\n",
    "plot_decision_boundary(rfcc_model_new, X_test, y_test)"
   ]
  },
  {
   "cell_type": "markdown",
   "id": "d4c16e72",
   "metadata": {},
   "source": [
    "На данном графике разделяющая граница оптимальна с точки зрения bias-variance: модель хорошо описывает данные, но при этом не переобучилась."
   ]
  },
  {
   "cell_type": "markdown",
   "id": "5fad02ca-af42-4142-8201-93602cfea49f",
   "metadata": {},
   "source": [
    "#### Задание 2. 3. Корреляция базовых моделей\n",
    "\n",
    "**3 балла**\n",
    "\n",
    "Как мы выянили на лекции, для того, чтобы bagging работал хорошо, предсказания наших моделей не должны сильно коррелировать. Для этого в случайном лесе применяются различные подходы, в том числе и RSM. Давайте посмотрим, как влияет параметр `max_features` на корреляцию базовых моделей в случайном лесу из `sklearn`. В качестве примера будем использовать датасет `breast_cancer`. Для расчета корреляций используйте приведенную ниже функцию `base_model_pair_correlation`. Для каждой модели у вас будет получаться набор значений (попарные корреляции всех деревьев), дальше можно изобразить их в виде боксплотов, как мы на лекции рисовали распределение метрик."
   ]
  },
  {
   "cell_type": "code",
   "execution_count": 27,
   "id": "c755182a-f385-4f0b-a153-60ef6e572f3b",
   "metadata": {},
   "outputs": [],
   "source": [
    "# Функция для расчета попарных корреляций базовых моделей в случайном лесу\n",
    "def base_model_pair_correlation(ensemble, X):\n",
    "    corrs = []\n",
    "    for (i, est1), (j, est2) in combinations(enumerate(ensemble.estimators_), 2):\n",
    "        Xi_test = X\n",
    "        Xj_test = X\n",
    "\n",
    "        ypred_t1 = est1.predict_proba(Xi_test)[:, 1]\n",
    "        ypred_t2 = est2.predict_proba(Xj_test)[:, 1]\n",
    "\n",
    "        corrs.append(pearsonr(ypred_t1, ypred_t2)[0])\n",
    "    return np.array(corrs)"
   ]
  },
  {
   "cell_type": "code",
   "execution_count": 28,
   "id": "65ab9ab7-311a-4bb1-8adc-f66c063e827e",
   "metadata": {},
   "outputs": [],
   "source": [
    "# Загрузим данные\n",
    "breast_cancer = datasets.load_breast_cancer()\n",
    "X = breast_cancer.data\n",
    "y = breast_cancer.target\n",
    "X_train, X_test, y_train, y_test = train_test_split(X, y, random_state=42)"
   ]
  },
  {
   "cell_type": "code",
   "execution_count": 29,
   "id": "d34e1758-d2dc-4820-afe5-2abdd850b590",
   "metadata": {},
   "outputs": [
    {
     "data": {
      "text/html": [
       "<style>#sk-container-id-5 {color: black;background-color: white;}#sk-container-id-5 pre{padding: 0;}#sk-container-id-5 div.sk-toggleable {background-color: white;}#sk-container-id-5 label.sk-toggleable__label {cursor: pointer;display: block;width: 100%;margin-bottom: 0;padding: 0.3em;box-sizing: border-box;text-align: center;}#sk-container-id-5 label.sk-toggleable__label-arrow:before {content: \"▸\";float: left;margin-right: 0.25em;color: #696969;}#sk-container-id-5 label.sk-toggleable__label-arrow:hover:before {color: black;}#sk-container-id-5 div.sk-estimator:hover label.sk-toggleable__label-arrow:before {color: black;}#sk-container-id-5 div.sk-toggleable__content {max-height: 0;max-width: 0;overflow: hidden;text-align: left;background-color: #f0f8ff;}#sk-container-id-5 div.sk-toggleable__content pre {margin: 0.2em;color: black;border-radius: 0.25em;background-color: #f0f8ff;}#sk-container-id-5 input.sk-toggleable__control:checked~div.sk-toggleable__content {max-height: 200px;max-width: 100%;overflow: auto;}#sk-container-id-5 input.sk-toggleable__control:checked~label.sk-toggleable__label-arrow:before {content: \"▾\";}#sk-container-id-5 div.sk-estimator input.sk-toggleable__control:checked~label.sk-toggleable__label {background-color: #d4ebff;}#sk-container-id-5 div.sk-label input.sk-toggleable__control:checked~label.sk-toggleable__label {background-color: #d4ebff;}#sk-container-id-5 input.sk-hidden--visually {border: 0;clip: rect(1px 1px 1px 1px);clip: rect(1px, 1px, 1px, 1px);height: 1px;margin: -1px;overflow: hidden;padding: 0;position: absolute;width: 1px;}#sk-container-id-5 div.sk-estimator {font-family: monospace;background-color: #f0f8ff;border: 1px dotted black;border-radius: 0.25em;box-sizing: border-box;margin-bottom: 0.5em;}#sk-container-id-5 div.sk-estimator:hover {background-color: #d4ebff;}#sk-container-id-5 div.sk-parallel-item::after {content: \"\";width: 100%;border-bottom: 1px solid gray;flex-grow: 1;}#sk-container-id-5 div.sk-label:hover label.sk-toggleable__label {background-color: #d4ebff;}#sk-container-id-5 div.sk-serial::before {content: \"\";position: absolute;border-left: 1px solid gray;box-sizing: border-box;top: 0;bottom: 0;left: 50%;z-index: 0;}#sk-container-id-5 div.sk-serial {display: flex;flex-direction: column;align-items: center;background-color: white;padding-right: 0.2em;padding-left: 0.2em;position: relative;}#sk-container-id-5 div.sk-item {position: relative;z-index: 1;}#sk-container-id-5 div.sk-parallel {display: flex;align-items: stretch;justify-content: center;background-color: white;position: relative;}#sk-container-id-5 div.sk-item::before, #sk-container-id-5 div.sk-parallel-item::before {content: \"\";position: absolute;border-left: 1px solid gray;box-sizing: border-box;top: 0;bottom: 0;left: 50%;z-index: -1;}#sk-container-id-5 div.sk-parallel-item {display: flex;flex-direction: column;z-index: 1;position: relative;background-color: white;}#sk-container-id-5 div.sk-parallel-item:first-child::after {align-self: flex-end;width: 50%;}#sk-container-id-5 div.sk-parallel-item:last-child::after {align-self: flex-start;width: 50%;}#sk-container-id-5 div.sk-parallel-item:only-child::after {width: 0;}#sk-container-id-5 div.sk-dashed-wrapped {border: 1px dashed gray;margin: 0 0.4em 0.5em 0.4em;box-sizing: border-box;padding-bottom: 0.4em;background-color: white;}#sk-container-id-5 div.sk-label label {font-family: monospace;font-weight: bold;display: inline-block;line-height: 1.2em;}#sk-container-id-5 div.sk-label-container {text-align: center;}#sk-container-id-5 div.sk-container {/* jupyter's `normalize.less` sets `[hidden] { display: none; }` but bootstrap.min.css set `[hidden] { display: none !important; }` so we also need the `!important` here to be able to override the default hidden behavior on the sphinx rendered scikit-learn.org. See: https://github.com/scikit-learn/scikit-learn/issues/21755 */display: inline-block !important;position: relative;}#sk-container-id-5 div.sk-text-repr-fallback {display: none;}</style><div id=\"sk-container-id-5\" class=\"sk-top-container\"><div class=\"sk-text-repr-fallback\"><pre>RandomForestClassifier()</pre><b>In a Jupyter environment, please rerun this cell to show the HTML representation or trust the notebook. <br />On GitHub, the HTML representation is unable to render, please try loading this page with nbviewer.org.</b></div><div class=\"sk-container\" hidden><div class=\"sk-item\"><div class=\"sk-estimator sk-toggleable\"><input class=\"sk-toggleable__control sk-hidden--visually\" id=\"sk-estimator-id-7\" type=\"checkbox\" checked><label for=\"sk-estimator-id-7\" class=\"sk-toggleable__label sk-toggleable__label-arrow\">RandomForestClassifier</label><div class=\"sk-toggleable__content\"><pre>RandomForestClassifier()</pre></div></div></div></div></div>"
      ],
      "text/plain": [
       "RandomForestClassifier()"
      ]
     },
     "execution_count": 29,
     "metadata": {},
     "output_type": "execute_result"
    }
   ],
   "source": [
    "rfc = RandomForestClassifier()\n",
    "rfc.fit(X_train, y_train)"
   ]
  },
  {
   "cell_type": "code",
   "execution_count": 30,
   "id": "391dd522",
   "metadata": {},
   "outputs": [
    {
     "data": {
      "text/plain": [
       "array([0.88439068, 0.86614914, 0.89183304, ..., 0.7876161 , 0.78888505,\n",
       "       0.85726052])"
      ]
     },
     "execution_count": 30,
     "metadata": {},
     "output_type": "execute_result"
    }
   ],
   "source": [
    "base_model_pair_correlation(rfc, X)"
   ]
  },
  {
   "cell_type": "markdown",
   "id": "511f49f6-b433-449d-b27c-522098ef7a32",
   "metadata": {},
   "source": [
    "Теперь давайте посмотрим, как на это влияет параметр `max_depth`:"
   ]
  },
  {
   "cell_type": "code",
   "execution_count": 31,
   "id": "19ec4557",
   "metadata": {},
   "outputs": [],
   "source": [
    "cols = ['max_depth', 'corr']\n",
    "df_corr = pd.DataFrame(columns=cols)"
   ]
  },
  {
   "cell_type": "code",
   "execution_count": 32,
   "id": "f7b9a1f9",
   "metadata": {},
   "outputs": [],
   "source": [
    "max_depth = [2, 3, 5, 7, 10, 12, 15, 20, 25]\n",
    "\n",
    "for i in max_depth:\n",
    "    depth_list = []\n",
    "    corr_list = []\n",
    "    \n",
    "    rfc = RandomForestClassifier(max_depth = i)\n",
    "    rfc.fit(X_train, y_train)\n",
    "    data_corr = base_model_pair_correlation(rfc, X)\n",
    "   \n",
    "    for j in range(len(data_corr)):\n",
    "        df_corr = df_corr.append({'max_depth': str(i), 'corr':data_corr[j]}, ignore_index=True)"
   ]
  },
  {
   "cell_type": "code",
   "execution_count": 33,
   "id": "80975cfd-79fc-47ee-b30c-d2e56e8fd351",
   "metadata": {},
   "outputs": [
    {
     "data": {
      "image/png": "[encoded data removed]",
      "text/plain": [
       "<Figure size 1600x600 with 1 Axes>"
      ]
     },
     "metadata": {},
     "output_type": "display_data"
    }
   ],
   "source": [
    "plt.figure(figsize=(16,6))\n",
    "sns.boxplot(data=df_corr, y=\"corr\", x=\"max_depth\")\n",
    "plt.xlabel(\"\", size=20)\n",
    "plt.ylabel(\"Correlation\", size=20)\n",
    "plt.title(\"Max depth\", size=30)\n",
    "plt.show()"
   ]
  },
  {
   "cell_type": "markdown",
   "id": "efafb748-a14d-4fd0-9995-4eee6e092445",
   "metadata": {},
   "source": [
    "Опишите ваши наблюдения:\n",
    "\n",
    "* начиная с параметра max **depth = 3** и выше, корреляции базовых моделей в случайном лесу не меняются и медианы располагаются примерно на отметке **0.87**\n",
    "* при параметре **max depth = 2** корреляции базовых моделей меньше и медиана равна примерно **0.85**"
   ]
  },
  {
   "cell_type": "markdown",
   "id": "aef2bd46-a98e-4f8f-ba17-0bdfe51ba395",
   "metadata": {},
   "source": [
    "### Задание 3. Строим большой ансамбль\n",
    "\n",
    "**4 балла + 3 дополнительных за скор выше 0.89**\n",
    "\n",
    "В данной задаче вам нужно диагностировать сердечное заболевание у людей по медицинским показателям."
   ]
  },
  {
   "cell_type": "code",
   "execution_count": 34,
   "id": "475ce2d1-1a24-4731-a424-df36cef9b270",
   "metadata": {},
   "outputs": [],
   "source": [
    "# !gdown  --id 1VFbDK-Ad-hpf0_GGCBzn4thdn9mkQ-Y- -O heart.csv -q\n",
    "heart_dataset = pd.read_csv(\"heart.csv\")"
   ]
  },
  {
   "cell_type": "code",
   "execution_count": 35,
   "id": "8bde25c5-2da7-4fb9-93e1-bd347cecef8e",
   "metadata": {},
   "outputs": [
    {
     "data": {
      "text/html": [
       "<div>\n",
       "<style scoped>\n",
       "    .dataframe tbody tr th:only-of-type {\n",
       "        vertical-align: middle;\n",
       "    }\n",
       "\n",
       "    .dataframe tbody tr th {\n",
       "        vertical-align: top;\n",
       "    }\n",
       "\n",
       "    .dataframe thead th {\n",
       "        text-align: right;\n",
       "    }\n",
       "</style>\n",
       "<table border=\"1\" class=\"dataframe\">\n",
       "  <thead>\n",
       "    <tr style=\"text-align: right;\">\n",
       "      <th></th>\n",
       "      <th>age</th>\n",
       "      <th>sex</th>\n",
       "      <th>cp</th>\n",
       "      <th>trestbps</th>\n",
       "      <th>chol</th>\n",
       "      <th>fbs</th>\n",
       "      <th>restecg</th>\n",
       "      <th>thalach</th>\n",
       "      <th>exang</th>\n",
       "      <th>oldpeak</th>\n",
       "      <th>slope</th>\n",
       "      <th>ca</th>\n",
       "      <th>thal</th>\n",
       "    </tr>\n",
       "  </thead>\n",
       "  <tbody>\n",
       "    <tr>\n",
       "      <th>178</th>\n",
       "      <td>43</td>\n",
       "      <td>1</td>\n",
       "      <td>0</td>\n",
       "      <td>120</td>\n",
       "      <td>177</td>\n",
       "      <td>0</td>\n",
       "      <td>0</td>\n",
       "      <td>120</td>\n",
       "      <td>1</td>\n",
       "      <td>2.5</td>\n",
       "      <td>1</td>\n",
       "      <td>0</td>\n",
       "      <td>3</td>\n",
       "    </tr>\n",
       "    <tr>\n",
       "      <th>298</th>\n",
       "      <td>57</td>\n",
       "      <td>0</td>\n",
       "      <td>0</td>\n",
       "      <td>140</td>\n",
       "      <td>241</td>\n",
       "      <td>0</td>\n",
       "      <td>1</td>\n",
       "      <td>123</td>\n",
       "      <td>1</td>\n",
       "      <td>0.2</td>\n",
       "      <td>1</td>\n",
       "      <td>0</td>\n",
       "      <td>3</td>\n",
       "    </tr>\n",
       "    <tr>\n",
       "      <th>201</th>\n",
       "      <td>60</td>\n",
       "      <td>1</td>\n",
       "      <td>0</td>\n",
       "      <td>125</td>\n",
       "      <td>258</td>\n",
       "      <td>0</td>\n",
       "      <td>0</td>\n",
       "      <td>141</td>\n",
       "      <td>1</td>\n",
       "      <td>2.8</td>\n",
       "      <td>1</td>\n",
       "      <td>1</td>\n",
       "      <td>3</td>\n",
       "    </tr>\n",
       "    <tr>\n",
       "      <th>246</th>\n",
       "      <td>56</td>\n",
       "      <td>0</td>\n",
       "      <td>0</td>\n",
       "      <td>134</td>\n",
       "      <td>409</td>\n",
       "      <td>0</td>\n",
       "      <td>0</td>\n",
       "      <td>150</td>\n",
       "      <td>1</td>\n",
       "      <td>1.9</td>\n",
       "      <td>1</td>\n",
       "      <td>2</td>\n",
       "      <td>3</td>\n",
       "    </tr>\n",
       "    <tr>\n",
       "      <th>153</th>\n",
       "      <td>66</td>\n",
       "      <td>0</td>\n",
       "      <td>2</td>\n",
       "      <td>146</td>\n",
       "      <td>278</td>\n",
       "      <td>0</td>\n",
       "      <td>0</td>\n",
       "      <td>152</td>\n",
       "      <td>0</td>\n",
       "      <td>0.0</td>\n",
       "      <td>1</td>\n",
       "      <td>1</td>\n",
       "      <td>2</td>\n",
       "    </tr>\n",
       "  </tbody>\n",
       "</table>\n",
       "</div>"
      ],
      "text/plain": [
       "     age  sex  cp  trestbps  chol  fbs  restecg  thalach  exang  oldpeak  \\\n",
       "178   43    1   0       120   177    0        0      120      1      2.5   \n",
       "298   57    0   0       140   241    0        1      123      1      0.2   \n",
       "201   60    1   0       125   258    0        0      141      1      2.8   \n",
       "246   56    0   0       134   409    0        0      150      1      1.9   \n",
       "153   66    0   2       146   278    0        0      152      0      0.0   \n",
       "\n",
       "     slope  ca  thal  \n",
       "178      1   0     3  \n",
       "298      1   0     3  \n",
       "201      1   1     3  \n",
       "246      1   2     3  \n",
       "153      1   1     2  "
      ]
     },
     "execution_count": 35,
     "metadata": {},
     "output_type": "execute_result"
    }
   ],
   "source": [
    "X = heart_dataset.drop(\"target\", axis=1)\n",
    "y = heart_dataset[\"target\"]\n",
    "X_train, X_test, y_train, y_test = train_test_split(X, y, random_state=SEED)\n",
    "X_train.head()"
   ]
  },
  {
   "cell_type": "markdown",
   "id": "b144a808-145d-4370-9b6c-4859ee231d91",
   "metadata": {},
   "source": [
    "Обучите разнообразные классификаторы, приведенные ниже, а также ансамбль `VotingClassifier` из `sklearn.ensemble`, объединяющий эти классификаторы с помощью жесткого или мякого голосования (параметр `voting =` `'hard'` или `'soft'` соответственно). Оцените качество моделей с помощью кросс-валидации на тренировочном наборе, используя функцию `cross_val_score` и метрику `f1`. Часть моделей отсюда мы не проходили, о них можно почитать дополнительно, но в принципе для задания не очень важно знать принципы их работы (но, если есть время, то почитайте, там интересно)."
   ]
  },
  {
   "cell_type": "code",
   "execution_count": 36,
   "id": "099f6e1a-641c-4acc-8334-e4b304aa8810",
   "metadata": {},
   "outputs": [],
   "source": [
    "dt = DecisionTreeClassifier(random_state=SEED, max_depth=10, min_samples_leaf=10)\n",
    "rf = RandomForestClassifier(n_estimators=50, random_state=SEED)\n",
    "etc = ExtraTreesClassifier(random_state=SEED)\n",
    "knn = KNeighborsClassifier(n_neighbors=5, weights=\"distance\")\n",
    "svc_lin = SVC(kernel='linear', probability=True, random_state=SEED)\n",
    "svc_rbf = SVC(kernel='rbf', probability=True, random_state=SEED)\n",
    "cat = catboost.CatBoostClassifier(verbose=0, random_seed=SEED)\n",
    "lgbm = lightgbm.LGBMClassifier(random_state=SEED)\n",
    "lgbm_rf = lightgbm.LGBMClassifier(boosting_type=\"rf\", bagging_freq=1, bagging_fraction=0.7, random_state=SEED)\n",
    "xgb = xgboost.XGBClassifier(random_state=SEED)\n",
    "xgb_rf = xgboost.XGBRFClassifier(random_state=SEED)\n",
    "lr = LogisticRegression(solver='liblinear', max_iter=10000)\n",
    "nb = GaussianNB()\n",
    "\n",
    "base_models = [(\"DT\", dt), (\"RF\", rf), \n",
    "               (\"ETC\", etc), (\"KNN\", knn), \n",
    "               (\"SVC_LIN\", svc_lin), (\"SVC_RBF\", svc_rbf), \n",
    "               (\"CAT\", cat), (\"LGBM\", lgbm), \n",
    "               (\"LGBM_RF\", lgbm_rf), (\"XGB\", xgb), \n",
    "               (\"XGB_RF\", xgb_rf), (\"LR\", lr), (\"NB\", nb)]"
   ]
  },
  {
   "cell_type": "markdown",
   "id": "afb6e5b6-da19-48e8-9882-63e0c5cafdde",
   "metadata": {},
   "source": [
    "Здесь могут возникать различные предупреждения при обучении бустингов, не волнуйтесь, все нормально, просто они обычно очень разговорчивые)"
   ]
  },
  {
   "cell_type": "code",
   "execution_count": 37,
   "id": "03d7be2e-568b-47ce-b29c-7221ba2d5bee",
   "metadata": {},
   "outputs": [
    {
     "name": "stdout",
     "output_type": "stream",
     "text": [
      "DecisionTreeClassifier: 0.797997226792219\n",
      "RandomForestClassifier: 0.8328751280279528\n",
      "CatBoostClassifier: 0.8342715174922052\n",
      "ExtraTreesClassifier: 0.828174603174603\n",
      "KNeighborsClassifier: 0.6493313763861709\n",
      "SVC: 0.8403098469098905\n",
      "SVC: 0.6973119072190279\n",
      "XGBClassifier: 0.820158269808819\n",
      "LGBMClassifier: 0.8170106316447779\n",
      "XGBRFClassifier: 0.8396975787156666\n",
      "[LightGBM] [Warning] bagging_freq is set=1, subsample_freq=0 will be ignored. Current value: bagging_freq=1\n",
      "[LightGBM] [Warning] bagging_fraction is set=0.7, subsample=1.0 will be ignored. Current value: bagging_fraction=0.7\n",
      "[LightGBM] [Warning] bagging_freq is set=1, subsample_freq=0 will be ignored. Current value: bagging_freq=1\n",
      "[LightGBM] [Warning] bagging_fraction is set=0.7, subsample=1.0 will be ignored. Current value: bagging_fraction=0.7\n",
      "[LightGBM] [Warning] bagging_freq is set=1, subsample_freq=0 will be ignored. Current value: bagging_freq=1\n",
      "[LightGBM] [Warning] bagging_fraction is set=0.7, subsample=1.0 will be ignored. Current value: bagging_fraction=0.7\n",
      "LGBMClassifier: 0.8132478632478634\n",
      "LogisticRegression: 0.8500073681108163\n",
      "GaussianNB: 0.8140676625250128\n",
      "VotingClassifier: 0.8395804737268152\n",
      "VotingClassifier: 0.8455110375195781\n"
     ]
    }
   ],
   "source": [
    "voting_hard = VotingClassifier(estimators = base_models, voting='hard')\n",
    "voting_soft= VotingClassifier(estimators = base_models, voting='soft')\n",
    "\n",
    "\n",
    "for model in [dt, rf, cat, etc, knn, svc_lin, svc_rbf, xgb, lgbm, xgb_rf, lgbm_rf, lr, nb, voting_hard, voting_soft]: \n",
    "    scores = cross_val_score(model, X_train, y_train, cv=3, scoring=\"f1\")\n",
    "    print(f\"{model.__class__.__name__}: {scores.mean()}\")"
   ]
  },
  {
   "cell_type": "markdown",
   "id": "92ab9026",
   "metadata": {},
   "source": [
    "VotingClassifier (hard): 0.8395804737268152 \\\n",
    "VotingClassifier (soft): 0.8455110375195781"
   ]
  },
  {
   "cell_type": "markdown",
   "id": "a95d780c-3960-47e0-84b1-496a128d5a5b",
   "metadata": {},
   "source": [
    "Вы можете заметить, что ансамбль показывает хорошее, но не лучшее качество предсказания, попробуем его улучшить. Как вы знаете, ансамбли работают лучше, когда модели, входящие в них не скоррелированы друг с другом. Определите корреляцию предсказаний базовых моделей в ансамбле на тестовом наборе данных, и удалите из ансамбля те модели, чьи предсказания будут сильнее коррелировать с остальными. Воспользуйтесь функцией `base_model_pair_correlation_for_voting_clf`. **Спойлер**: далеко не факт, что если вы удалите две модели с корреляцией 0.95, то все станет сильно лучше, здесь все будет немного сложнее. Чтобы добиться максимального качества может понадобиться долгий перебор различных комбинаций моделей. Наилучший скор, который мне удалось достичь, это 0.915, но он получен весьма странной комбинацией алгоритмов, а еще и простым перебором всех вариантов)"
   ]
  },
  {
   "cell_type": "code",
   "execution_count": 38,
   "id": "6b132bb4-e551-4791-88e7-95eaa7df909c",
   "metadata": {},
   "outputs": [],
   "source": [
    "def base_model_pair_correlation_for_voting_clf(ensemble, X):\n",
    "    corrs = []\n",
    "    base_model_names = [f\"{est.__class__.__name__}\" for est in ensemble.estimators_]\n",
    "    for (i, est1), (j, est2) in combinations(enumerate(ensemble.estimators_), 2):\n",
    "        Xi_test = X\n",
    "        Xj_test = X\n",
    "\n",
    "        if not isinstance(est1, SVC):\n",
    "            ypred_t1 = est1.predict_proba(Xi_test)[:, 1]\n",
    "        else:\n",
    "            ypred_t1 = est1.decision_function(Xi_test)\n",
    "\n",
    "\n",
    "        if not isinstance(est2, SVC):\n",
    "            ypred_t2 = est2.predict_proba(Xi_test)[:, 1]\n",
    "        else:\n",
    "            ypred_t2 = est2.decision_function(Xi_test)\n",
    "        corrs.append((est1, est2, pearsonr(ypred_t1, ypred_t2)[0]))\n",
    "\n",
    "\n",
    "    return corrs"
   ]
  },
  {
   "cell_type": "code",
   "execution_count": 39,
   "id": "cecaea57",
   "metadata": {},
   "outputs": [],
   "source": [
    "voting_hard = voting_hard.fit(X_train, y_train)\n",
    "voting_soft = voting_soft.fit(X_train, y_train)"
   ]
  },
  {
   "cell_type": "code",
   "execution_count": 40,
   "id": "21fb93e4-8065-473c-a11a-cd423baf71d6",
   "metadata": {},
   "outputs": [
    {
     "data": {
      "text/plain": [
       "[(DecisionTreeClassifier(max_depth=10, min_samples_leaf=10, random_state=111),\n",
       "  RandomForestClassifier(n_estimators=50, random_state=111),\n",
       "  0.8593237278777582),\n",
       " (DecisionTreeClassifier(max_depth=10, min_samples_leaf=10, random_state=111),\n",
       "  ExtraTreesClassifier(random_state=111),\n",
       "  0.7939480300580531),\n",
       " (DecisionTreeClassifier(max_depth=10, min_samples_leaf=10, random_state=111),\n",
       "  KNeighborsClassifier(weights='distance'),\n",
       "  0.7356706024980413),\n",
       " (DecisionTreeClassifier(max_depth=10, min_samples_leaf=10, random_state=111),\n",
       "  SVC(kernel='linear', probability=True, random_state=111),\n",
       "  0.8125152591475469),\n",
       " (DecisionTreeClassifier(max_depth=10, min_samples_leaf=10, random_state=111),\n",
       "  SVC(probability=True, random_state=111),\n",
       "  0.5049441062502102),\n",
       " (DecisionTreeClassifier(max_depth=10, min_samples_leaf=10, random_state=111),\n",
       "  <catboost.core.CatBoostClassifier at 0x12d1ddb40>,\n",
       "  0.8593484479587904),\n",
       " (DecisionTreeClassifier(max_depth=10, min_samples_leaf=10, random_state=111),\n",
       "  LGBMClassifier(random_state=111),\n",
       "  0.8560848217397437),\n",
       " (DecisionTreeClassifier(max_depth=10, min_samples_leaf=10, random_state=111),\n",
       "  LGBMClassifier(bagging_fraction=0.7, bagging_freq=1, boosting_type='rf',\n",
       "                 random_state=111),\n",
       "  0.9086485866345924),\n",
       " (DecisionTreeClassifier(max_depth=10, min_samples_leaf=10, random_state=111),\n",
       "  XGBClassifier(base_score=None, booster=None, callbacks=None,\n",
       "                colsample_bylevel=None, colsample_bynode=None,\n",
       "                colsample_bytree=None, early_stopping_rounds=None,\n",
       "                enable_categorical=False, eval_metric=None, feature_types=None,\n",
       "                gamma=None, gpu_id=None, grow_policy=None, importance_type=None,\n",
       "                interaction_constraints=None, learning_rate=None, max_bin=None,\n",
       "                max_cat_threshold=None, max_cat_to_onehot=None,\n",
       "                max_delta_step=None, max_depth=None, max_leaves=None,\n",
       "                min_child_weight=None, missing=nan, monotone_constraints=None,\n",
       "                n_estimators=100, n_jobs=None, num_parallel_tree=None,\n",
       "                predictor=None, random_state=111, ...),\n",
       "  0.8317798716989343),\n",
       " (DecisionTreeClassifier(max_depth=10, min_samples_leaf=10, random_state=111),\n",
       "  XGBRFClassifier(base_score=None, booster=None, callbacks=None,\n",
       "                  colsample_bylevel=None, colsample_bytree=None,\n",
       "                  early_stopping_rounds=None, enable_categorical=False,\n",
       "                  eval_metric=None, feature_types=None, gamma=None, gpu_id=None,\n",
       "                  grow_policy=None, importance_type=None,\n",
       "                  interaction_constraints=None, max_bin=None,\n",
       "                  max_cat_threshold=None, max_cat_to_onehot=None,\n",
       "                  max_delta_step=None, max_depth=None, max_leaves=None,\n",
       "                  min_child_weight=None, missing=nan, monotone_constraints=None,\n",
       "                  n_estimators=100, n_jobs=None, num_parallel_tree=None,\n",
       "                  objective='binary:logistic', predictor=None, random_state=111,\n",
       "                  reg_alpha=None, ...),\n",
       "  0.9257448481472943),\n",
       " (DecisionTreeClassifier(max_depth=10, min_samples_leaf=10, random_state=111),\n",
       "  LogisticRegression(max_iter=10000, solver='liblinear'),\n",
       "  0.8365829295684761),\n",
       " (DecisionTreeClassifier(max_depth=10, min_samples_leaf=10, random_state=111),\n",
       "  GaussianNB(),\n",
       "  0.7643270715204763),\n",
       " (RandomForestClassifier(n_estimators=50, random_state=111),\n",
       "  ExtraTreesClassifier(random_state=111),\n",
       "  0.9686701309673118),\n",
       " (RandomForestClassifier(n_estimators=50, random_state=111),\n",
       "  KNeighborsClassifier(weights='distance'),\n",
       "  0.9147193898898602),\n",
       " (RandomForestClassifier(n_estimators=50, random_state=111),\n",
       "  SVC(kernel='linear', probability=True, random_state=111),\n",
       "  0.8219067332063159),\n",
       " (RandomForestClassifier(n_estimators=50, random_state=111),\n",
       "  SVC(probability=True, random_state=111),\n",
       "  0.5060629630465492),\n",
       " (RandomForestClassifier(n_estimators=50, random_state=111),\n",
       "  <catboost.core.CatBoostClassifier at 0x12d1ddb40>,\n",
       "  0.9833109459790472),\n",
       " (RandomForestClassifier(n_estimators=50, random_state=111),\n",
       "  LGBMClassifier(random_state=111),\n",
       "  0.9745891264851264),\n",
       " (RandomForestClassifier(n_estimators=50, random_state=111),\n",
       "  LGBMClassifier(bagging_fraction=0.7, bagging_freq=1, boosting_type='rf',\n",
       "                 random_state=111),\n",
       "  0.8707492303439606),\n",
       " (RandomForestClassifier(n_estimators=50, random_state=111),\n",
       "  XGBClassifier(base_score=None, booster=None, callbacks=None,\n",
       "                colsample_bylevel=None, colsample_bynode=None,\n",
       "                colsample_bytree=None, early_stopping_rounds=None,\n",
       "                enable_categorical=False, eval_metric=None, feature_types=None,\n",
       "                gamma=None, gpu_id=None, grow_policy=None, importance_type=None,\n",
       "                interaction_constraints=None, learning_rate=None, max_bin=None,\n",
       "                max_cat_threshold=None, max_cat_to_onehot=None,\n",
       "                max_delta_step=None, max_depth=None, max_leaves=None,\n",
       "                min_child_weight=None, missing=nan, monotone_constraints=None,\n",
       "                n_estimators=100, n_jobs=None, num_parallel_tree=None,\n",
       "                predictor=None, random_state=111, ...),\n",
       "  0.9689875517208086),\n",
       " (RandomForestClassifier(n_estimators=50, random_state=111),\n",
       "  XGBRFClassifier(base_score=None, booster=None, callbacks=None,\n",
       "                  colsample_bylevel=None, colsample_bytree=None,\n",
       "                  early_stopping_rounds=None, enable_categorical=False,\n",
       "                  eval_metric=None, feature_types=None, gamma=None, gpu_id=None,\n",
       "                  grow_policy=None, importance_type=None,\n",
       "                  interaction_constraints=None, max_bin=None,\n",
       "                  max_cat_threshold=None, max_cat_to_onehot=None,\n",
       "                  max_delta_step=None, max_depth=None, max_leaves=None,\n",
       "                  min_child_weight=None, missing=nan, monotone_constraints=None,\n",
       "                  n_estimators=100, n_jobs=None, num_parallel_tree=None,\n",
       "                  objective='binary:logistic', predictor=None, random_state=111,\n",
       "                  reg_alpha=None, ...),\n",
       "  0.9574339167250755),\n",
       " (RandomForestClassifier(n_estimators=50, random_state=111),\n",
       "  LogisticRegression(max_iter=10000, solver='liblinear'),\n",
       "  0.8440849114273161),\n",
       " (RandomForestClassifier(n_estimators=50, random_state=111),\n",
       "  GaussianNB(),\n",
       "  0.8034536815818513),\n",
       " (ExtraTreesClassifier(random_state=111),\n",
       "  KNeighborsClassifier(weights='distance'),\n",
       "  0.9403180874009195),\n",
       " (ExtraTreesClassifier(random_state=111),\n",
       "  SVC(kernel='linear', probability=True, random_state=111),\n",
       "  0.7422592537584644),\n",
       " (ExtraTreesClassifier(random_state=111),\n",
       "  SVC(probability=True, random_state=111),\n",
       "  0.4362436638621976),\n",
       " (ExtraTreesClassifier(random_state=111),\n",
       "  <catboost.core.CatBoostClassifier at 0x12d1ddb40>,\n",
       "  0.9685861009388671),\n",
       " (ExtraTreesClassifier(random_state=111),\n",
       "  LGBMClassifier(random_state=111),\n",
       "  0.9631692702692505),\n",
       " (ExtraTreesClassifier(random_state=111),\n",
       "  LGBMClassifier(bagging_fraction=0.7, bagging_freq=1, boosting_type='rf',\n",
       "                 random_state=111),\n",
       "  0.7799508289877758),\n",
       " (ExtraTreesClassifier(random_state=111),\n",
       "  XGBClassifier(base_score=None, booster=None, callbacks=None,\n",
       "                colsample_bylevel=None, colsample_bynode=None,\n",
       "                colsample_bytree=None, early_stopping_rounds=None,\n",
       "                enable_categorical=False, eval_metric=None, feature_types=None,\n",
       "                gamma=None, gpu_id=None, grow_policy=None, importance_type=None,\n",
       "                interaction_constraints=None, learning_rate=None, max_bin=None,\n",
       "                max_cat_threshold=None, max_cat_to_onehot=None,\n",
       "                max_delta_step=None, max_depth=None, max_leaves=None,\n",
       "                min_child_weight=None, missing=nan, monotone_constraints=None,\n",
       "                n_estimators=100, n_jobs=None, num_parallel_tree=None,\n",
       "                predictor=None, random_state=111, ...),\n",
       "  0.970519773787815),\n",
       " (ExtraTreesClassifier(random_state=111),\n",
       "  XGBRFClassifier(base_score=None, booster=None, callbacks=None,\n",
       "                  colsample_bylevel=None, colsample_bytree=None,\n",
       "                  early_stopping_rounds=None, enable_categorical=False,\n",
       "                  eval_metric=None, feature_types=None, gamma=None, gpu_id=None,\n",
       "                  grow_policy=None, importance_type=None,\n",
       "                  interaction_constraints=None, max_bin=None,\n",
       "                  max_cat_threshold=None, max_cat_to_onehot=None,\n",
       "                  max_delta_step=None, max_depth=None, max_leaves=None,\n",
       "                  min_child_weight=None, missing=nan, monotone_constraints=None,\n",
       "                  n_estimators=100, n_jobs=None, num_parallel_tree=None,\n",
       "                  objective='binary:logistic', predictor=None, random_state=111,\n",
       "                  reg_alpha=None, ...),\n",
       "  0.9097477959623057),\n",
       " (ExtraTreesClassifier(random_state=111),\n",
       "  LogisticRegression(max_iter=10000, solver='liblinear'),\n",
       "  0.761607496095727),\n",
       " (ExtraTreesClassifier(random_state=111), GaussianNB(), 0.7206151867037627),\n",
       " (KNeighborsClassifier(weights='distance'),\n",
       "  SVC(kernel='linear', probability=True, random_state=111),\n",
       "  0.6561790847299733),\n",
       " (KNeighborsClassifier(weights='distance'),\n",
       "  SVC(probability=True, random_state=111),\n",
       "  0.45734220922599716),\n",
       " (KNeighborsClassifier(weights='distance'),\n",
       "  <catboost.core.CatBoostClassifier at 0x12d1ddb40>,\n",
       "  0.8918773541512471),\n",
       " (KNeighborsClassifier(weights='distance'),\n",
       "  LGBMClassifier(random_state=111),\n",
       "  0.88912374545032),\n",
       " (KNeighborsClassifier(weights='distance'),\n",
       "  LGBMClassifier(bagging_fraction=0.7, bagging_freq=1, boosting_type='rf',\n",
       "                 random_state=111),\n",
       "  0.7189937845819345),\n",
       " (KNeighborsClassifier(weights='distance'),\n",
       "  XGBClassifier(base_score=None, booster=None, callbacks=None,\n",
       "                colsample_bylevel=None, colsample_bynode=None,\n",
       "                colsample_bytree=None, early_stopping_rounds=None,\n",
       "                enable_categorical=False, eval_metric=None, feature_types=None,\n",
       "                gamma=None, gpu_id=None, grow_policy=None, importance_type=None,\n",
       "                interaction_constraints=None, learning_rate=None, max_bin=None,\n",
       "                max_cat_threshold=None, max_cat_to_onehot=None,\n",
       "                max_delta_step=None, max_depth=None, max_leaves=None,\n",
       "                min_child_weight=None, missing=nan, monotone_constraints=None,\n",
       "                n_estimators=100, n_jobs=None, num_parallel_tree=None,\n",
       "                predictor=None, random_state=111, ...),\n",
       "  0.9024340010519164),\n",
       " (KNeighborsClassifier(weights='distance'),\n",
       "  XGBRFClassifier(base_score=None, booster=None, callbacks=None,\n",
       "                  colsample_bylevel=None, colsample_bytree=None,\n",
       "                  early_stopping_rounds=None, enable_categorical=False,\n",
       "                  eval_metric=None, feature_types=None, gamma=None, gpu_id=None,\n",
       "                  grow_policy=None, importance_type=None,\n",
       "                  interaction_constraints=None, max_bin=None,\n",
       "                  max_cat_threshold=None, max_cat_to_onehot=None,\n",
       "                  max_delta_step=None, max_depth=None, max_leaves=None,\n",
       "                  min_child_weight=None, missing=nan, monotone_constraints=None,\n",
       "                  n_estimators=100, n_jobs=None, num_parallel_tree=None,\n",
       "                  objective='binary:logistic', predictor=None, random_state=111,\n",
       "                  reg_alpha=None, ...),\n",
       "  0.8471006145744044),\n",
       " (KNeighborsClassifier(weights='distance'),\n",
       "  LogisticRegression(max_iter=10000, solver='liblinear'),\n",
       "  0.6777379632285635),\n",
       " (KNeighborsClassifier(weights='distance'), GaussianNB(), 0.6313225026666618),\n",
       " (SVC(kernel='linear', probability=True, random_state=111),\n",
       "  SVC(probability=True, random_state=111),\n",
       "  0.534255041019362),\n",
       " (SVC(kernel='linear', probability=True, random_state=111),\n",
       "  <catboost.core.CatBoostClassifier at 0x12d1ddb40>,\n",
       "  0.8337372431028668),\n",
       " (SVC(kernel='linear', probability=True, random_state=111),\n",
       "  LGBMClassifier(random_state=111),\n",
       "  0.8054902263201964),\n",
       " (SVC(kernel='linear', probability=True, random_state=111),\n",
       "  LGBMClassifier(bagging_fraction=0.7, bagging_freq=1, boosting_type='rf',\n",
       "                 random_state=111),\n",
       "  0.8781743884611934),\n",
       " (SVC(kernel='linear', probability=True, random_state=111),\n",
       "  XGBClassifier(base_score=None, booster=None, callbacks=None,\n",
       "                colsample_bylevel=None, colsample_bynode=None,\n",
       "                colsample_bytree=None, early_stopping_rounds=None,\n",
       "                enable_categorical=False, eval_metric=None, feature_types=None,\n",
       "                gamma=None, gpu_id=None, grow_policy=None, importance_type=None,\n",
       "                interaction_constraints=None, learning_rate=None, max_bin=None,\n",
       "                max_cat_threshold=None, max_cat_to_onehot=None,\n",
       "                max_delta_step=None, max_depth=None, max_leaves=None,\n",
       "                min_child_weight=None, missing=nan, monotone_constraints=None,\n",
       "                n_estimators=100, n_jobs=None, num_parallel_tree=None,\n",
       "                predictor=None, random_state=111, ...),\n",
       "  0.7671399619313019),\n",
       " (SVC(kernel='linear', probability=True, random_state=111),\n",
       "  XGBRFClassifier(base_score=None, booster=None, callbacks=None,\n",
       "                  colsample_bylevel=None, colsample_bytree=None,\n",
       "                  early_stopping_rounds=None, enable_categorical=False,\n",
       "                  eval_metric=None, feature_types=None, gamma=None, gpu_id=None,\n",
       "                  grow_policy=None, importance_type=None,\n",
       "                  interaction_constraints=None, max_bin=None,\n",
       "                  max_cat_threshold=None, max_cat_to_onehot=None,\n",
       "                  max_delta_step=None, max_depth=None, max_leaves=None,\n",
       "                  min_child_weight=None, missing=nan, monotone_constraints=None,\n",
       "                  n_estimators=100, n_jobs=None, num_parallel_tree=None,\n",
       "                  objective='binary:logistic', predictor=None, random_state=111,\n",
       "                  reg_alpha=None, ...),\n",
       "  0.8476529802112543),\n",
       " (SVC(kernel='linear', probability=True, random_state=111),\n",
       "  LogisticRegression(max_iter=10000, solver='liblinear'),\n",
       "  0.9622356090560166),\n",
       " (SVC(kernel='linear', probability=True, random_state=111),\n",
       "  GaussianNB(),\n",
       "  0.8753708607670988),\n",
       " (SVC(probability=True, random_state=111),\n",
       "  <catboost.core.CatBoostClassifier at 0x12d1ddb40>,\n",
       "  0.4854314262942508),\n",
       " (SVC(probability=True, random_state=111),\n",
       "  LGBMClassifier(random_state=111),\n",
       "  0.46051071103329694),\n",
       " (SVC(probability=True, random_state=111),\n",
       "  LGBMClassifier(bagging_fraction=0.7, bagging_freq=1, boosting_type='rf',\n",
       "                 random_state=111),\n",
       "  0.548523991763152),\n",
       " (SVC(probability=True, random_state=111),\n",
       "  XGBClassifier(base_score=None, booster=None, callbacks=None,\n",
       "                colsample_bylevel=None, colsample_bynode=None,\n",
       "                colsample_bytree=None, early_stopping_rounds=None,\n",
       "                enable_categorical=False, eval_metric=None, feature_types=None,\n",
       "                gamma=None, gpu_id=None, grow_policy=None, importance_type=None,\n",
       "                interaction_constraints=None, learning_rate=None, max_bin=None,\n",
       "                max_cat_threshold=None, max_cat_to_onehot=None,\n",
       "                max_delta_step=None, max_depth=None, max_leaves=None,\n",
       "                min_child_weight=None, missing=nan, monotone_constraints=None,\n",
       "                n_estimators=100, n_jobs=None, num_parallel_tree=None,\n",
       "                predictor=None, random_state=111, ...),\n",
       "  0.43835149257395956),\n",
       " (SVC(probability=True, random_state=111),\n",
       "  XGBRFClassifier(base_score=None, booster=None, callbacks=None,\n",
       "                  colsample_bylevel=None, colsample_bytree=None,\n",
       "                  early_stopping_rounds=None, enable_categorical=False,\n",
       "                  eval_metric=None, feature_types=None, gamma=None, gpu_id=None,\n",
       "                  grow_policy=None, importance_type=None,\n",
       "                  interaction_constraints=None, max_bin=None,\n",
       "                  max_cat_threshold=None, max_cat_to_onehot=None,\n",
       "                  max_delta_step=None, max_depth=None, max_leaves=None,\n",
       "                  min_child_weight=None, missing=nan, monotone_constraints=None,\n",
       "                  n_estimators=100, n_jobs=None, num_parallel_tree=None,\n",
       "                  objective='binary:logistic', predictor=None, random_state=111,\n",
       "                  reg_alpha=None, ...),\n",
       "  0.5148150364689296),\n",
       " (SVC(probability=True, random_state=111),\n",
       "  LogisticRegression(max_iter=10000, solver='liblinear'),\n",
       "  0.5742563145411197),\n",
       " (SVC(probability=True, random_state=111), GaussianNB(), 0.541283962668276),\n",
       " (<catboost.core.CatBoostClassifier at 0x12d1ddb40>,\n",
       "  LGBMClassifier(random_state=111),\n",
       "  0.987399777871102),\n",
       " (<catboost.core.CatBoostClassifier at 0x12d1ddb40>,\n",
       "  LGBMClassifier(bagging_fraction=0.7, bagging_freq=1, boosting_type='rf',\n",
       "                 random_state=111),\n",
       "  0.872148974602619),\n",
       " (<catboost.core.CatBoostClassifier at 0x12d1ddb40>,\n",
       "  XGBClassifier(base_score=None, booster=None, callbacks=None,\n",
       "                colsample_bylevel=None, colsample_bynode=None,\n",
       "                colsample_bytree=None, early_stopping_rounds=None,\n",
       "                enable_categorical=False, eval_metric=None, feature_types=None,\n",
       "                gamma=None, gpu_id=None, grow_policy=None, importance_type=None,\n",
       "                interaction_constraints=None, learning_rate=None, max_bin=None,\n",
       "                max_cat_threshold=None, max_cat_to_onehot=None,\n",
       "                max_delta_step=None, max_depth=None, max_leaves=None,\n",
       "                min_child_weight=None, missing=nan, monotone_constraints=None,\n",
       "                n_estimators=100, n_jobs=None, num_parallel_tree=None,\n",
       "                predictor=None, random_state=111, ...),\n",
       "  0.9784161909888784),\n",
       " (<catboost.core.CatBoostClassifier at 0x12d1ddb40>,\n",
       "  XGBRFClassifier(base_score=None, booster=None, callbacks=None,\n",
       "                  colsample_bylevel=None, colsample_bytree=None,\n",
       "                  early_stopping_rounds=None, enable_categorical=False,\n",
       "                  eval_metric=None, feature_types=None, gamma=None, gpu_id=None,\n",
       "                  grow_policy=None, importance_type=None,\n",
       "                  interaction_constraints=None, max_bin=None,\n",
       "                  max_cat_threshold=None, max_cat_to_onehot=None,\n",
       "                  max_delta_step=None, max_depth=None, max_leaves=None,\n",
       "                  min_child_weight=None, missing=nan, monotone_constraints=None,\n",
       "                  n_estimators=100, n_jobs=None, num_parallel_tree=None,\n",
       "                  objective='binary:logistic', predictor=None, random_state=111,\n",
       "                  reg_alpha=None, ...),\n",
       "  0.9672791822065735),\n",
       " (<catboost.core.CatBoostClassifier at 0x12d1ddb40>,\n",
       "  LogisticRegression(max_iter=10000, solver='liblinear'),\n",
       "  0.858331462238516),\n",
       " (<catboost.core.CatBoostClassifier at 0x12d1ddb40>,\n",
       "  GaussianNB(),\n",
       "  0.8076848879195763),\n",
       " (LGBMClassifier(random_state=111),\n",
       "  LGBMClassifier(bagging_fraction=0.7, bagging_freq=1, boosting_type='rf',\n",
       "                 random_state=111),\n",
       "  0.8486895100970608),\n",
       " (LGBMClassifier(random_state=111),\n",
       "  XGBClassifier(base_score=None, booster=None, callbacks=None,\n",
       "                colsample_bylevel=None, colsample_bynode=None,\n",
       "                colsample_bytree=None, early_stopping_rounds=None,\n",
       "                enable_categorical=False, eval_metric=None, feature_types=None,\n",
       "                gamma=None, gpu_id=None, grow_policy=None, importance_type=None,\n",
       "                interaction_constraints=None, learning_rate=None, max_bin=None,\n",
       "                max_cat_threshold=None, max_cat_to_onehot=None,\n",
       "                max_delta_step=None, max_depth=None, max_leaves=None,\n",
       "                min_child_weight=None, missing=nan, monotone_constraints=None,\n",
       "                n_estimators=100, n_jobs=None, num_parallel_tree=None,\n",
       "                predictor=None, random_state=111, ...),\n",
       "  0.9896245111757911),\n",
       " (LGBMClassifier(random_state=111),\n",
       "  XGBRFClassifier(base_score=None, booster=None, callbacks=None,\n",
       "                  colsample_bylevel=None, colsample_bytree=None,\n",
       "                  early_stopping_rounds=None, enable_categorical=False,\n",
       "                  eval_metric=None, feature_types=None, gamma=None, gpu_id=None,\n",
       "                  grow_policy=None, importance_type=None,\n",
       "                  interaction_constraints=None, max_bin=None,\n",
       "                  max_cat_threshold=None, max_cat_to_onehot=None,\n",
       "                  max_delta_step=None, max_depth=None, max_leaves=None,\n",
       "                  min_child_weight=None, missing=nan, monotone_constraints=None,\n",
       "                  n_estimators=100, n_jobs=None, num_parallel_tree=None,\n",
       "                  objective='binary:logistic', predictor=None, random_state=111,\n",
       "                  reg_alpha=None, ...),\n",
       "  0.9623790290851709),\n",
       " (LGBMClassifier(random_state=111),\n",
       "  LogisticRegression(max_iter=10000, solver='liblinear'),\n",
       "  0.8322718540748336),\n",
       " (LGBMClassifier(random_state=111), GaussianNB(), 0.7739514240936062),\n",
       " (LGBMClassifier(bagging_fraction=0.7, bagging_freq=1, boosting_type='rf',\n",
       "                 random_state=111),\n",
       "  XGBClassifier(base_score=None, booster=None, callbacks=None,\n",
       "                colsample_bylevel=None, colsample_bynode=None,\n",
       "                colsample_bytree=None, early_stopping_rounds=None,\n",
       "                enable_categorical=False, eval_metric=None, feature_types=None,\n",
       "                gamma=None, gpu_id=None, grow_policy=None, importance_type=None,\n",
       "                interaction_constraints=None, learning_rate=None, max_bin=None,\n",
       "                max_cat_threshold=None, max_cat_to_onehot=None,\n",
       "                max_delta_step=None, max_depth=None, max_leaves=None,\n",
       "                min_child_weight=None, missing=nan, monotone_constraints=None,\n",
       "                n_estimators=100, n_jobs=None, num_parallel_tree=None,\n",
       "                predictor=None, random_state=111, ...),\n",
       "  0.8168610742375725),\n",
       " (LGBMClassifier(bagging_fraction=0.7, bagging_freq=1, boosting_type='rf',\n",
       "                 random_state=111),\n",
       "  XGBRFClassifier(base_score=None, booster=None, callbacks=None,\n",
       "                  colsample_bylevel=None, colsample_bytree=None,\n",
       "                  early_stopping_rounds=None, enable_categorical=False,\n",
       "                  eval_metric=None, feature_types=None, gamma=None, gpu_id=None,\n",
       "                  grow_policy=None, importance_type=None,\n",
       "                  interaction_constraints=None, max_bin=None,\n",
       "                  max_cat_threshold=None, max_cat_to_onehot=None,\n",
       "                  max_delta_step=None, max_depth=None, max_leaves=None,\n",
       "                  min_child_weight=None, missing=nan, monotone_constraints=None,\n",
       "                  n_estimators=100, n_jobs=None, num_parallel_tree=None,\n",
       "                  objective='binary:logistic', predictor=None, random_state=111,\n",
       "                  reg_alpha=None, ...),\n",
       "  0.9256084031023653),\n",
       " (LGBMClassifier(bagging_fraction=0.7, bagging_freq=1, boosting_type='rf',\n",
       "                 random_state=111),\n",
       "  LogisticRegression(max_iter=10000, solver='liblinear'),\n",
       "  0.8845767704570704),\n",
       " (LGBMClassifier(bagging_fraction=0.7, bagging_freq=1, boosting_type='rf',\n",
       "                 random_state=111),\n",
       "  GaussianNB(),\n",
       "  0.8194408604800029),\n",
       " (XGBClassifier(base_score=None, booster=None, callbacks=None,\n",
       "                colsample_bylevel=None, colsample_bynode=None,\n",
       "                colsample_bytree=None, early_stopping_rounds=None,\n",
       "                enable_categorical=False, eval_metric=None, feature_types=None,\n",
       "                gamma=None, gpu_id=None, grow_policy=None, importance_type=None,\n",
       "                interaction_constraints=None, learning_rate=None, max_bin=None,\n",
       "                max_cat_threshold=None, max_cat_to_onehot=None,\n",
       "                max_delta_step=None, max_depth=None, max_leaves=None,\n",
       "                min_child_weight=None, missing=nan, monotone_constraints=None,\n",
       "                n_estimators=100, n_jobs=None, num_parallel_tree=None,\n",
       "                predictor=None, random_state=111, ...),\n",
       "  XGBRFClassifier(base_score=None, booster=None, callbacks=None,\n",
       "                  colsample_bylevel=None, colsample_bytree=None,\n",
       "                  early_stopping_rounds=None, enable_categorical=False,\n",
       "                  eval_metric=None, feature_types=None, gamma=None, gpu_id=None,\n",
       "                  grow_policy=None, importance_type=None,\n",
       "                  interaction_constraints=None, max_bin=None,\n",
       "                  max_cat_threshold=None, max_cat_to_onehot=None,\n",
       "                  max_delta_step=None, max_depth=None, max_leaves=None,\n",
       "                  min_child_weight=None, missing=nan, monotone_constraints=None,\n",
       "                  n_estimators=100, n_jobs=None, num_parallel_tree=None,\n",
       "                  objective='binary:logistic', predictor=None, random_state=111,\n",
       "                  reg_alpha=None, ...),\n",
       "  0.945706568536991),\n",
       " (XGBClassifier(base_score=None, booster=None, callbacks=None,\n",
       "                colsample_bylevel=None, colsample_bynode=None,\n",
       "                colsample_bytree=None, early_stopping_rounds=None,\n",
       "                enable_categorical=False, eval_metric=None, feature_types=None,\n",
       "                gamma=None, gpu_id=None, grow_policy=None, importance_type=None,\n",
       "                interaction_constraints=None, learning_rate=None, max_bin=None,\n",
       "                max_cat_threshold=None, max_cat_to_onehot=None,\n",
       "                max_delta_step=None, max_depth=None, max_leaves=None,\n",
       "                min_child_weight=None, missing=nan, monotone_constraints=None,\n",
       "                n_estimators=100, n_jobs=None, num_parallel_tree=None,\n",
       "                predictor=None, random_state=111, ...),\n",
       "  LogisticRegression(max_iter=10000, solver='liblinear'),\n",
       "  0.7954703921659846),\n",
       " (XGBClassifier(base_score=None, booster=None, callbacks=None,\n",
       "                colsample_bylevel=None, colsample_bynode=None,\n",
       "                colsample_bytree=None, early_stopping_rounds=None,\n",
       "                enable_categorical=False, eval_metric=None, feature_types=None,\n",
       "                gamma=None, gpu_id=None, grow_policy=None, importance_type=None,\n",
       "                interaction_constraints=None, learning_rate=None, max_bin=None,\n",
       "                max_cat_threshold=None, max_cat_to_onehot=None,\n",
       "                max_delta_step=None, max_depth=None, max_leaves=None,\n",
       "                min_child_weight=None, missing=nan, monotone_constraints=None,\n",
       "                n_estimators=100, n_jobs=None, num_parallel_tree=None,\n",
       "                predictor=None, random_state=111, ...),\n",
       "  GaussianNB(),\n",
       "  0.7345940976524992),\n",
       " (XGBRFClassifier(base_score=None, booster=None, callbacks=None,\n",
       "                  colsample_bylevel=None, colsample_bytree=None,\n",
       "                  early_stopping_rounds=None, enable_categorical=False,\n",
       "                  eval_metric=None, feature_types=None, gamma=None, gpu_id=None,\n",
       "                  grow_policy=None, importance_type=None,\n",
       "                  interaction_constraints=None, max_bin=None,\n",
       "                  max_cat_threshold=None, max_cat_to_onehot=None,\n",
       "                  max_delta_step=None, max_depth=None, max_leaves=None,\n",
       "                  min_child_weight=None, missing=nan, monotone_constraints=None,\n",
       "                  n_estimators=100, n_jobs=None, num_parallel_tree=None,\n",
       "                  objective='binary:logistic', predictor=None, random_state=111,\n",
       "                  reg_alpha=None, ...),\n",
       "  LogisticRegression(max_iter=10000, solver='liblinear'),\n",
       "  0.875578789422628),\n",
       " (XGBRFClassifier(base_score=None, booster=None, callbacks=None,\n",
       "                  colsample_bylevel=None, colsample_bytree=None,\n",
       "                  early_stopping_rounds=None, enable_categorical=False,\n",
       "                  eval_metric=None, feature_types=None, gamma=None, gpu_id=None,\n",
       "                  grow_policy=None, importance_type=None,\n",
       "                  interaction_constraints=None, max_bin=None,\n",
       "                  max_cat_threshold=None, max_cat_to_onehot=None,\n",
       "                  max_delta_step=None, max_depth=None, max_leaves=None,\n",
       "                  min_child_weight=None, missing=nan, monotone_constraints=None,\n",
       "                  n_estimators=100, n_jobs=None, num_parallel_tree=None,\n",
       "                  objective='binary:logistic', predictor=None, random_state=111,\n",
       "                  reg_alpha=None, ...),\n",
       "  GaussianNB(),\n",
       "  0.8092317018039039),\n",
       " (LogisticRegression(max_iter=10000, solver='liblinear'),\n",
       "  GaussianNB(),\n",
       "  0.9249570370748513)]"
      ]
     },
     "execution_count": 40,
     "metadata": {},
     "output_type": "execute_result"
    }
   ],
   "source": [
    "base_model_pair_correlation_for_voting_clf(voting_hard, X)"
   ]
  },
  {
   "cell_type": "code",
   "execution_count": 41,
   "id": "8d69062c-68d8-487b-8b02-2e31221977b9",
   "metadata": {},
   "outputs": [
    {
     "data": {
      "text/plain": [
       "[(DecisionTreeClassifier(max_depth=10, min_samples_leaf=10, random_state=111),\n",
       "  RandomForestClassifier(n_estimators=50, random_state=111),\n",
       "  0.8593237278777582),\n",
       " (DecisionTreeClassifier(max_depth=10, min_samples_leaf=10, random_state=111),\n",
       "  ExtraTreesClassifier(random_state=111),\n",
       "  0.7939480300580531),\n",
       " (DecisionTreeClassifier(max_depth=10, min_samples_leaf=10, random_state=111),\n",
       "  KNeighborsClassifier(weights='distance'),\n",
       "  0.7356706024980413),\n",
       " (DecisionTreeClassifier(max_depth=10, min_samples_leaf=10, random_state=111),\n",
       "  SVC(kernel='linear', probability=True, random_state=111),\n",
       "  0.8125152591475469),\n",
       " (DecisionTreeClassifier(max_depth=10, min_samples_leaf=10, random_state=111),\n",
       "  SVC(probability=True, random_state=111),\n",
       "  0.5049441062502102),\n",
       " (DecisionTreeClassifier(max_depth=10, min_samples_leaf=10, random_state=111),\n",
       "  <catboost.core.CatBoostClassifier at 0x11bcdf550>,\n",
       "  0.8593484479587904),\n",
       " (DecisionTreeClassifier(max_depth=10, min_samples_leaf=10, random_state=111),\n",
       "  LGBMClassifier(random_state=111),\n",
       "  0.8560848217397437),\n",
       " (DecisionTreeClassifier(max_depth=10, min_samples_leaf=10, random_state=111),\n",
       "  LGBMClassifier(bagging_fraction=0.7, bagging_freq=1, boosting_type='rf',\n",
       "                 random_state=111),\n",
       "  0.9086485866345924),\n",
       " (DecisionTreeClassifier(max_depth=10, min_samples_leaf=10, random_state=111),\n",
       "  XGBClassifier(base_score=None, booster=None, callbacks=None,\n",
       "                colsample_bylevel=None, colsample_bynode=None,\n",
       "                colsample_bytree=None, early_stopping_rounds=None,\n",
       "                enable_categorical=False, eval_metric=None, feature_types=None,\n",
       "                gamma=None, gpu_id=None, grow_policy=None, importance_type=None,\n",
       "                interaction_constraints=None, learning_rate=None, max_bin=None,\n",
       "                max_cat_threshold=None, max_cat_to_onehot=None,\n",
       "                max_delta_step=None, max_depth=None, max_leaves=None,\n",
       "                min_child_weight=None, missing=nan, monotone_constraints=None,\n",
       "                n_estimators=100, n_jobs=None, num_parallel_tree=None,\n",
       "                predictor=None, random_state=111, ...),\n",
       "  0.8317798716989343),\n",
       " (DecisionTreeClassifier(max_depth=10, min_samples_leaf=10, random_state=111),\n",
       "  XGBRFClassifier(base_score=None, booster=None, callbacks=None,\n",
       "                  colsample_bylevel=None, colsample_bytree=None,\n",
       "                  early_stopping_rounds=None, enable_categorical=False,\n",
       "                  eval_metric=None, feature_types=None, gamma=None, gpu_id=None,\n",
       "                  grow_policy=None, importance_type=None,\n",
       "                  interaction_constraints=None, max_bin=None,\n",
       "                  max_cat_threshold=None, max_cat_to_onehot=None,\n",
       "                  max_delta_step=None, max_depth=None, max_leaves=None,\n",
       "                  min_child_weight=None, missing=nan, monotone_constraints=None,\n",
       "                  n_estimators=100, n_jobs=None, num_parallel_tree=None,\n",
       "                  objective='binary:logistic', predictor=None, random_state=111,\n",
       "                  reg_alpha=None, ...),\n",
       "  0.9257448481472943),\n",
       " (DecisionTreeClassifier(max_depth=10, min_samples_leaf=10, random_state=111),\n",
       "  LogisticRegression(max_iter=10000, solver='liblinear'),\n",
       "  0.8365829295684761),\n",
       " (DecisionTreeClassifier(max_depth=10, min_samples_leaf=10, random_state=111),\n",
       "  GaussianNB(),\n",
       "  0.7643270715204763),\n",
       " (RandomForestClassifier(n_estimators=50, random_state=111),\n",
       "  ExtraTreesClassifier(random_state=111),\n",
       "  0.9686701309673118),\n",
       " (RandomForestClassifier(n_estimators=50, random_state=111),\n",
       "  KNeighborsClassifier(weights='distance'),\n",
       "  0.9147193898898602),\n",
       " (RandomForestClassifier(n_estimators=50, random_state=111),\n",
       "  SVC(kernel='linear', probability=True, random_state=111),\n",
       "  0.8219067332063159),\n",
       " (RandomForestClassifier(n_estimators=50, random_state=111),\n",
       "  SVC(probability=True, random_state=111),\n",
       "  0.5060629630465492),\n",
       " (RandomForestClassifier(n_estimators=50, random_state=111),\n",
       "  <catboost.core.CatBoostClassifier at 0x11bcdf550>,\n",
       "  0.9833109459790472),\n",
       " (RandomForestClassifier(n_estimators=50, random_state=111),\n",
       "  LGBMClassifier(random_state=111),\n",
       "  0.9745891264851264),\n",
       " (RandomForestClassifier(n_estimators=50, random_state=111),\n",
       "  LGBMClassifier(bagging_fraction=0.7, bagging_freq=1, boosting_type='rf',\n",
       "                 random_state=111),\n",
       "  0.8707492303439606),\n",
       " (RandomForestClassifier(n_estimators=50, random_state=111),\n",
       "  XGBClassifier(base_score=None, booster=None, callbacks=None,\n",
       "                colsample_bylevel=None, colsample_bynode=None,\n",
       "                colsample_bytree=None, early_stopping_rounds=None,\n",
       "                enable_categorical=False, eval_metric=None, feature_types=None,\n",
       "                gamma=None, gpu_id=None, grow_policy=None, importance_type=None,\n",
       "                interaction_constraints=None, learning_rate=None, max_bin=None,\n",
       "                max_cat_threshold=None, max_cat_to_onehot=None,\n",
       "                max_delta_step=None, max_depth=None, max_leaves=None,\n",
       "                min_child_weight=None, missing=nan, monotone_constraints=None,\n",
       "                n_estimators=100, n_jobs=None, num_parallel_tree=None,\n",
       "                predictor=None, random_state=111, ...),\n",
       "  0.9689875517208086),\n",
       " (RandomForestClassifier(n_estimators=50, random_state=111),\n",
       "  XGBRFClassifier(base_score=None, booster=None, callbacks=None,\n",
       "                  colsample_bylevel=None, colsample_bytree=None,\n",
       "                  early_stopping_rounds=None, enable_categorical=False,\n",
       "                  eval_metric=None, feature_types=None, gamma=None, gpu_id=None,\n",
       "                  grow_policy=None, importance_type=None,\n",
       "                  interaction_constraints=None, max_bin=None,\n",
       "                  max_cat_threshold=None, max_cat_to_onehot=None,\n",
       "                  max_delta_step=None, max_depth=None, max_leaves=None,\n",
       "                  min_child_weight=None, missing=nan, monotone_constraints=None,\n",
       "                  n_estimators=100, n_jobs=None, num_parallel_tree=None,\n",
       "                  objective='binary:logistic', predictor=None, random_state=111,\n",
       "                  reg_alpha=None, ...),\n",
       "  0.9574339167250755),\n",
       " (RandomForestClassifier(n_estimators=50, random_state=111),\n",
       "  LogisticRegression(max_iter=10000, solver='liblinear'),\n",
       "  0.8440849114273161),\n",
       " (RandomForestClassifier(n_estimators=50, random_state=111),\n",
       "  GaussianNB(),\n",
       "  0.8034536815818513),\n",
       " (ExtraTreesClassifier(random_state=111),\n",
       "  KNeighborsClassifier(weights='distance'),\n",
       "  0.9403180874009195),\n",
       " (ExtraTreesClassifier(random_state=111),\n",
       "  SVC(kernel='linear', probability=True, random_state=111),\n",
       "  0.7422592537584644),\n",
       " (ExtraTreesClassifier(random_state=111),\n",
       "  SVC(probability=True, random_state=111),\n",
       "  0.4362436638621976),\n",
       " (ExtraTreesClassifier(random_state=111),\n",
       "  <catboost.core.CatBoostClassifier at 0x11bcdf550>,\n",
       "  0.9685861009388671),\n",
       " (ExtraTreesClassifier(random_state=111),\n",
       "  LGBMClassifier(random_state=111),\n",
       "  0.9631692702692505),\n",
       " (ExtraTreesClassifier(random_state=111),\n",
       "  LGBMClassifier(bagging_fraction=0.7, bagging_freq=1, boosting_type='rf',\n",
       "                 random_state=111),\n",
       "  0.7799508289877758),\n",
       " (ExtraTreesClassifier(random_state=111),\n",
       "  XGBClassifier(base_score=None, booster=None, callbacks=None,\n",
       "                colsample_bylevel=None, colsample_bynode=None,\n",
       "                colsample_bytree=None, early_stopping_rounds=None,\n",
       "                enable_categorical=False, eval_metric=None, feature_types=None,\n",
       "                gamma=None, gpu_id=None, grow_policy=None, importance_type=None,\n",
       "                interaction_constraints=None, learning_rate=None, max_bin=None,\n",
       "                max_cat_threshold=None, max_cat_to_onehot=None,\n",
       "                max_delta_step=None, max_depth=None, max_leaves=None,\n",
       "                min_child_weight=None, missing=nan, monotone_constraints=None,\n",
       "                n_estimators=100, n_jobs=None, num_parallel_tree=None,\n",
       "                predictor=None, random_state=111, ...),\n",
       "  0.970519773787815),\n",
       " (ExtraTreesClassifier(random_state=111),\n",
       "  XGBRFClassifier(base_score=None, booster=None, callbacks=None,\n",
       "                  colsample_bylevel=None, colsample_bytree=None,\n",
       "                  early_stopping_rounds=None, enable_categorical=False,\n",
       "                  eval_metric=None, feature_types=None, gamma=None, gpu_id=None,\n",
       "                  grow_policy=None, importance_type=None,\n",
       "                  interaction_constraints=None, max_bin=None,\n",
       "                  max_cat_threshold=None, max_cat_to_onehot=None,\n",
       "                  max_delta_step=None, max_depth=None, max_leaves=None,\n",
       "                  min_child_weight=None, missing=nan, monotone_constraints=None,\n",
       "                  n_estimators=100, n_jobs=None, num_parallel_tree=None,\n",
       "                  objective='binary:logistic', predictor=None, random_state=111,\n",
       "                  reg_alpha=None, ...),\n",
       "  0.9097477959623057),\n",
       " (ExtraTreesClassifier(random_state=111),\n",
       "  LogisticRegression(max_iter=10000, solver='liblinear'),\n",
       "  0.761607496095727),\n",
       " (ExtraTreesClassifier(random_state=111), GaussianNB(), 0.7206151867037627),\n",
       " (KNeighborsClassifier(weights='distance'),\n",
       "  SVC(kernel='linear', probability=True, random_state=111),\n",
       "  0.6561790847299733),\n",
       " (KNeighborsClassifier(weights='distance'),\n",
       "  SVC(probability=True, random_state=111),\n",
       "  0.45734220922599716),\n",
       " (KNeighborsClassifier(weights='distance'),\n",
       "  <catboost.core.CatBoostClassifier at 0x11bcdf550>,\n",
       "  0.8918773541512471),\n",
       " (KNeighborsClassifier(weights='distance'),\n",
       "  LGBMClassifier(random_state=111),\n",
       "  0.88912374545032),\n",
       " (KNeighborsClassifier(weights='distance'),\n",
       "  LGBMClassifier(bagging_fraction=0.7, bagging_freq=1, boosting_type='rf',\n",
       "                 random_state=111),\n",
       "  0.7189937845819345),\n",
       " (KNeighborsClassifier(weights='distance'),\n",
       "  XGBClassifier(base_score=None, booster=None, callbacks=None,\n",
       "                colsample_bylevel=None, colsample_bynode=None,\n",
       "                colsample_bytree=None, early_stopping_rounds=None,\n",
       "                enable_categorical=False, eval_metric=None, feature_types=None,\n",
       "                gamma=None, gpu_id=None, grow_policy=None, importance_type=None,\n",
       "                interaction_constraints=None, learning_rate=None, max_bin=None,\n",
       "                max_cat_threshold=None, max_cat_to_onehot=None,\n",
       "                max_delta_step=None, max_depth=None, max_leaves=None,\n",
       "                min_child_weight=None, missing=nan, monotone_constraints=None,\n",
       "                n_estimators=100, n_jobs=None, num_parallel_tree=None,\n",
       "                predictor=None, random_state=111, ...),\n",
       "  0.9024340010519164),\n",
       " (KNeighborsClassifier(weights='distance'),\n",
       "  XGBRFClassifier(base_score=None, booster=None, callbacks=None,\n",
       "                  colsample_bylevel=None, colsample_bytree=None,\n",
       "                  early_stopping_rounds=None, enable_categorical=False,\n",
       "                  eval_metric=None, feature_types=None, gamma=None, gpu_id=None,\n",
       "                  grow_policy=None, importance_type=None,\n",
       "                  interaction_constraints=None, max_bin=None,\n",
       "                  max_cat_threshold=None, max_cat_to_onehot=None,\n",
       "                  max_delta_step=None, max_depth=None, max_leaves=None,\n",
       "                  min_child_weight=None, missing=nan, monotone_constraints=None,\n",
       "                  n_estimators=100, n_jobs=None, num_parallel_tree=None,\n",
       "                  objective='binary:logistic', predictor=None, random_state=111,\n",
       "                  reg_alpha=None, ...),\n",
       "  0.8471006145744044),\n",
       " (KNeighborsClassifier(weights='distance'),\n",
       "  LogisticRegression(max_iter=10000, solver='liblinear'),\n",
       "  0.6777379632285635),\n",
       " (KNeighborsClassifier(weights='distance'), GaussianNB(), 0.6313225026666618),\n",
       " (SVC(kernel='linear', probability=True, random_state=111),\n",
       "  SVC(probability=True, random_state=111),\n",
       "  0.534255041019362),\n",
       " (SVC(kernel='linear', probability=True, random_state=111),\n",
       "  <catboost.core.CatBoostClassifier at 0x11bcdf550>,\n",
       "  0.8337372431028668),\n",
       " (SVC(kernel='linear', probability=True, random_state=111),\n",
       "  LGBMClassifier(random_state=111),\n",
       "  0.8054902263201964),\n",
       " (SVC(kernel='linear', probability=True, random_state=111),\n",
       "  LGBMClassifier(bagging_fraction=0.7, bagging_freq=1, boosting_type='rf',\n",
       "                 random_state=111),\n",
       "  0.8781743884611934),\n",
       " (SVC(kernel='linear', probability=True, random_state=111),\n",
       "  XGBClassifier(base_score=None, booster=None, callbacks=None,\n",
       "                colsample_bylevel=None, colsample_bynode=None,\n",
       "                colsample_bytree=None, early_stopping_rounds=None,\n",
       "                enable_categorical=False, eval_metric=None, feature_types=None,\n",
       "                gamma=None, gpu_id=None, grow_policy=None, importance_type=None,\n",
       "                interaction_constraints=None, learning_rate=None, max_bin=None,\n",
       "                max_cat_threshold=None, max_cat_to_onehot=None,\n",
       "                max_delta_step=None, max_depth=None, max_leaves=None,\n",
       "                min_child_weight=None, missing=nan, monotone_constraints=None,\n",
       "                n_estimators=100, n_jobs=None, num_parallel_tree=None,\n",
       "                predictor=None, random_state=111, ...),\n",
       "  0.7671399619313019),\n",
       " (SVC(kernel='linear', probability=True, random_state=111),\n",
       "  XGBRFClassifier(base_score=None, booster=None, callbacks=None,\n",
       "                  colsample_bylevel=None, colsample_bytree=None,\n",
       "                  early_stopping_rounds=None, enable_categorical=False,\n",
       "                  eval_metric=None, feature_types=None, gamma=None, gpu_id=None,\n",
       "                  grow_policy=None, importance_type=None,\n",
       "                  interaction_constraints=None, max_bin=None,\n",
       "                  max_cat_threshold=None, max_cat_to_onehot=None,\n",
       "                  max_delta_step=None, max_depth=None, max_leaves=None,\n",
       "                  min_child_weight=None, missing=nan, monotone_constraints=None,\n",
       "                  n_estimators=100, n_jobs=None, num_parallel_tree=None,\n",
       "                  objective='binary:logistic', predictor=None, random_state=111,\n",
       "                  reg_alpha=None, ...),\n",
       "  0.8476529802112543),\n",
       " (SVC(kernel='linear', probability=True, random_state=111),\n",
       "  LogisticRegression(max_iter=10000, solver='liblinear'),\n",
       "  0.9622356090560166),\n",
       " (SVC(kernel='linear', probability=True, random_state=111),\n",
       "  GaussianNB(),\n",
       "  0.8753708607670988),\n",
       " (SVC(probability=True, random_state=111),\n",
       "  <catboost.core.CatBoostClassifier at 0x11bcdf550>,\n",
       "  0.4854314262942508),\n",
       " (SVC(probability=True, random_state=111),\n",
       "  LGBMClassifier(random_state=111),\n",
       "  0.46051071103329694),\n",
       " (SVC(probability=True, random_state=111),\n",
       "  LGBMClassifier(bagging_fraction=0.7, bagging_freq=1, boosting_type='rf',\n",
       "                 random_state=111),\n",
       "  0.548523991763152),\n",
       " (SVC(probability=True, random_state=111),\n",
       "  XGBClassifier(base_score=None, booster=None, callbacks=None,\n",
       "                colsample_bylevel=None, colsample_bynode=None,\n",
       "                colsample_bytree=None, early_stopping_rounds=None,\n",
       "                enable_categorical=False, eval_metric=None, feature_types=None,\n",
       "                gamma=None, gpu_id=None, grow_policy=None, importance_type=None,\n",
       "                interaction_constraints=None, learning_rate=None, max_bin=None,\n",
       "                max_cat_threshold=None, max_cat_to_onehot=None,\n",
       "                max_delta_step=None, max_depth=None, max_leaves=None,\n",
       "                min_child_weight=None, missing=nan, monotone_constraints=None,\n",
       "                n_estimators=100, n_jobs=None, num_parallel_tree=None,\n",
       "                predictor=None, random_state=111, ...),\n",
       "  0.43835149257395956),\n",
       " (SVC(probability=True, random_state=111),\n",
       "  XGBRFClassifier(base_score=None, booster=None, callbacks=None,\n",
       "                  colsample_bylevel=None, colsample_bytree=None,\n",
       "                  early_stopping_rounds=None, enable_categorical=False,\n",
       "                  eval_metric=None, feature_types=None, gamma=None, gpu_id=None,\n",
       "                  grow_policy=None, importance_type=None,\n",
       "                  interaction_constraints=None, max_bin=None,\n",
       "                  max_cat_threshold=None, max_cat_to_onehot=None,\n",
       "                  max_delta_step=None, max_depth=None, max_leaves=None,\n",
       "                  min_child_weight=None, missing=nan, monotone_constraints=None,\n",
       "                  n_estimators=100, n_jobs=None, num_parallel_tree=None,\n",
       "                  objective='binary:logistic', predictor=None, random_state=111,\n",
       "                  reg_alpha=None, ...),\n",
       "  0.5148150364689296),\n",
       " (SVC(probability=True, random_state=111),\n",
       "  LogisticRegression(max_iter=10000, solver='liblinear'),\n",
       "  0.5742563145411197),\n",
       " (SVC(probability=True, random_state=111), GaussianNB(), 0.541283962668276),\n",
       " (<catboost.core.CatBoostClassifier at 0x11bcdf550>,\n",
       "  LGBMClassifier(random_state=111),\n",
       "  0.987399777871102),\n",
       " (<catboost.core.CatBoostClassifier at 0x11bcdf550>,\n",
       "  LGBMClassifier(bagging_fraction=0.7, bagging_freq=1, boosting_type='rf',\n",
       "                 random_state=111),\n",
       "  0.872148974602619),\n",
       " (<catboost.core.CatBoostClassifier at 0x11bcdf550>,\n",
       "  XGBClassifier(base_score=None, booster=None, callbacks=None,\n",
       "                colsample_bylevel=None, colsample_bynode=None,\n",
       "                colsample_bytree=None, early_stopping_rounds=None,\n",
       "                enable_categorical=False, eval_metric=None, feature_types=None,\n",
       "                gamma=None, gpu_id=None, grow_policy=None, importance_type=None,\n",
       "                interaction_constraints=None, learning_rate=None, max_bin=None,\n",
       "                max_cat_threshold=None, max_cat_to_onehot=None,\n",
       "                max_delta_step=None, max_depth=None, max_leaves=None,\n",
       "                min_child_weight=None, missing=nan, monotone_constraints=None,\n",
       "                n_estimators=100, n_jobs=None, num_parallel_tree=None,\n",
       "                predictor=None, random_state=111, ...),\n",
       "  0.9784161909888784),\n",
       " (<catboost.core.CatBoostClassifier at 0x11bcdf550>,\n",
       "  XGBRFClassifier(base_score=None, booster=None, callbacks=None,\n",
       "                  colsample_bylevel=None, colsample_bytree=None,\n",
       "                  early_stopping_rounds=None, enable_categorical=False,\n",
       "                  eval_metric=None, feature_types=None, gamma=None, gpu_id=None,\n",
       "                  grow_policy=None, importance_type=None,\n",
       "                  interaction_constraints=None, max_bin=None,\n",
       "                  max_cat_threshold=None, max_cat_to_onehot=None,\n",
       "                  max_delta_step=None, max_depth=None, max_leaves=None,\n",
       "                  min_child_weight=None, missing=nan, monotone_constraints=None,\n",
       "                  n_estimators=100, n_jobs=None, num_parallel_tree=None,\n",
       "                  objective='binary:logistic', predictor=None, random_state=111,\n",
       "                  reg_alpha=None, ...),\n",
       "  0.9672791822065735),\n",
       " (<catboost.core.CatBoostClassifier at 0x11bcdf550>,\n",
       "  LogisticRegression(max_iter=10000, solver='liblinear'),\n",
       "  0.858331462238516),\n",
       " (<catboost.core.CatBoostClassifier at 0x11bcdf550>,\n",
       "  GaussianNB(),\n",
       "  0.8076848879195763),\n",
       " (LGBMClassifier(random_state=111),\n",
       "  LGBMClassifier(bagging_fraction=0.7, bagging_freq=1, boosting_type='rf',\n",
       "                 random_state=111),\n",
       "  0.8486895100970608),\n",
       " (LGBMClassifier(random_state=111),\n",
       "  XGBClassifier(base_score=None, booster=None, callbacks=None,\n",
       "                colsample_bylevel=None, colsample_bynode=None,\n",
       "                colsample_bytree=None, early_stopping_rounds=None,\n",
       "                enable_categorical=False, eval_metric=None, feature_types=None,\n",
       "                gamma=None, gpu_id=None, grow_policy=None, importance_type=None,\n",
       "                interaction_constraints=None, learning_rate=None, max_bin=None,\n",
       "                max_cat_threshold=None, max_cat_to_onehot=None,\n",
       "                max_delta_step=None, max_depth=None, max_leaves=None,\n",
       "                min_child_weight=None, missing=nan, monotone_constraints=None,\n",
       "                n_estimators=100, n_jobs=None, num_parallel_tree=None,\n",
       "                predictor=None, random_state=111, ...),\n",
       "  0.9896245111757911),\n",
       " (LGBMClassifier(random_state=111),\n",
       "  XGBRFClassifier(base_score=None, booster=None, callbacks=None,\n",
       "                  colsample_bylevel=None, colsample_bytree=None,\n",
       "                  early_stopping_rounds=None, enable_categorical=False,\n",
       "                  eval_metric=None, feature_types=None, gamma=None, gpu_id=None,\n",
       "                  grow_policy=None, importance_type=None,\n",
       "                  interaction_constraints=None, max_bin=None,\n",
       "                  max_cat_threshold=None, max_cat_to_onehot=None,\n",
       "                  max_delta_step=None, max_depth=None, max_leaves=None,\n",
       "                  min_child_weight=None, missing=nan, monotone_constraints=None,\n",
       "                  n_estimators=100, n_jobs=None, num_parallel_tree=None,\n",
       "                  objective='binary:logistic', predictor=None, random_state=111,\n",
       "                  reg_alpha=None, ...),\n",
       "  0.9623790290851709),\n",
       " (LGBMClassifier(random_state=111),\n",
       "  LogisticRegression(max_iter=10000, solver='liblinear'),\n",
       "  0.8322718540748336),\n",
       " (LGBMClassifier(random_state=111), GaussianNB(), 0.7739514240936062),\n",
       " (LGBMClassifier(bagging_fraction=0.7, bagging_freq=1, boosting_type='rf',\n",
       "                 random_state=111),\n",
       "  XGBClassifier(base_score=None, booster=None, callbacks=None,\n",
       "                colsample_bylevel=None, colsample_bynode=None,\n",
       "                colsample_bytree=None, early_stopping_rounds=None,\n",
       "                enable_categorical=False, eval_metric=None, feature_types=None,\n",
       "                gamma=None, gpu_id=None, grow_policy=None, importance_type=None,\n",
       "                interaction_constraints=None, learning_rate=None, max_bin=None,\n",
       "                max_cat_threshold=None, max_cat_to_onehot=None,\n",
       "                max_delta_step=None, max_depth=None, max_leaves=None,\n",
       "                min_child_weight=None, missing=nan, monotone_constraints=None,\n",
       "                n_estimators=100, n_jobs=None, num_parallel_tree=None,\n",
       "                predictor=None, random_state=111, ...),\n",
       "  0.8168610742375725),\n",
       " (LGBMClassifier(bagging_fraction=0.7, bagging_freq=1, boosting_type='rf',\n",
       "                 random_state=111),\n",
       "  XGBRFClassifier(base_score=None, booster=None, callbacks=None,\n",
       "                  colsample_bylevel=None, colsample_bytree=None,\n",
       "                  early_stopping_rounds=None, enable_categorical=False,\n",
       "                  eval_metric=None, feature_types=None, gamma=None, gpu_id=None,\n",
       "                  grow_policy=None, importance_type=None,\n",
       "                  interaction_constraints=None, max_bin=None,\n",
       "                  max_cat_threshold=None, max_cat_to_onehot=None,\n",
       "                  max_delta_step=None, max_depth=None, max_leaves=None,\n",
       "                  min_child_weight=None, missing=nan, monotone_constraints=None,\n",
       "                  n_estimators=100, n_jobs=None, num_parallel_tree=None,\n",
       "                  objective='binary:logistic', predictor=None, random_state=111,\n",
       "                  reg_alpha=None, ...),\n",
       "  0.9256084031023653),\n",
       " (LGBMClassifier(bagging_fraction=0.7, bagging_freq=1, boosting_type='rf',\n",
       "                 random_state=111),\n",
       "  LogisticRegression(max_iter=10000, solver='liblinear'),\n",
       "  0.8845767704570704),\n",
       " (LGBMClassifier(bagging_fraction=0.7, bagging_freq=1, boosting_type='rf',\n",
       "                 random_state=111),\n",
       "  GaussianNB(),\n",
       "  0.8194408604800029),\n",
       " (XGBClassifier(base_score=None, booster=None, callbacks=None,\n",
       "                colsample_bylevel=None, colsample_bynode=None,\n",
       "                colsample_bytree=None, early_stopping_rounds=None,\n",
       "                enable_categorical=False, eval_metric=None, feature_types=None,\n",
       "                gamma=None, gpu_id=None, grow_policy=None, importance_type=None,\n",
       "                interaction_constraints=None, learning_rate=None, max_bin=None,\n",
       "                max_cat_threshold=None, max_cat_to_onehot=None,\n",
       "                max_delta_step=None, max_depth=None, max_leaves=None,\n",
       "                min_child_weight=None, missing=nan, monotone_constraints=None,\n",
       "                n_estimators=100, n_jobs=None, num_parallel_tree=None,\n",
       "                predictor=None, random_state=111, ...),\n",
       "  XGBRFClassifier(base_score=None, booster=None, callbacks=None,\n",
       "                  colsample_bylevel=None, colsample_bytree=None,\n",
       "                  early_stopping_rounds=None, enable_categorical=False,\n",
       "                  eval_metric=None, feature_types=None, gamma=None, gpu_id=None,\n",
       "                  grow_policy=None, importance_type=None,\n",
       "                  interaction_constraints=None, max_bin=None,\n",
       "                  max_cat_threshold=None, max_cat_to_onehot=None,\n",
       "                  max_delta_step=None, max_depth=None, max_leaves=None,\n",
       "                  min_child_weight=None, missing=nan, monotone_constraints=None,\n",
       "                  n_estimators=100, n_jobs=None, num_parallel_tree=None,\n",
       "                  objective='binary:logistic', predictor=None, random_state=111,\n",
       "                  reg_alpha=None, ...),\n",
       "  0.945706568536991),\n",
       " (XGBClassifier(base_score=None, booster=None, callbacks=None,\n",
       "                colsample_bylevel=None, colsample_bynode=None,\n",
       "                colsample_bytree=None, early_stopping_rounds=None,\n",
       "                enable_categorical=False, eval_metric=None, feature_types=None,\n",
       "                gamma=None, gpu_id=None, grow_policy=None, importance_type=None,\n",
       "                interaction_constraints=None, learning_rate=None, max_bin=None,\n",
       "                max_cat_threshold=None, max_cat_to_onehot=None,\n",
       "                max_delta_step=None, max_depth=None, max_leaves=None,\n",
       "                min_child_weight=None, missing=nan, monotone_constraints=None,\n",
       "                n_estimators=100, n_jobs=None, num_parallel_tree=None,\n",
       "                predictor=None, random_state=111, ...),\n",
       "  LogisticRegression(max_iter=10000, solver='liblinear'),\n",
       "  0.7954703921659846),\n",
       " (XGBClassifier(base_score=None, booster=None, callbacks=None,\n",
       "                colsample_bylevel=None, colsample_bynode=None,\n",
       "                colsample_bytree=None, early_stopping_rounds=None,\n",
       "                enable_categorical=False, eval_metric=None, feature_types=None,\n",
       "                gamma=None, gpu_id=None, grow_policy=None, importance_type=None,\n",
       "                interaction_constraints=None, learning_rate=None, max_bin=None,\n",
       "                max_cat_threshold=None, max_cat_to_onehot=None,\n",
       "                max_delta_step=None, max_depth=None, max_leaves=None,\n",
       "                min_child_weight=None, missing=nan, monotone_constraints=None,\n",
       "                n_estimators=100, n_jobs=None, num_parallel_tree=None,\n",
       "                predictor=None, random_state=111, ...),\n",
       "  GaussianNB(),\n",
       "  0.7345940976524992),\n",
       " (XGBRFClassifier(base_score=None, booster=None, callbacks=None,\n",
       "                  colsample_bylevel=None, colsample_bytree=None,\n",
       "                  early_stopping_rounds=None, enable_categorical=False,\n",
       "                  eval_metric=None, feature_types=None, gamma=None, gpu_id=None,\n",
       "                  grow_policy=None, importance_type=None,\n",
       "                  interaction_constraints=None, max_bin=None,\n",
       "                  max_cat_threshold=None, max_cat_to_onehot=None,\n",
       "                  max_delta_step=None, max_depth=None, max_leaves=None,\n",
       "                  min_child_weight=None, missing=nan, monotone_constraints=None,\n",
       "                  n_estimators=100, n_jobs=None, num_parallel_tree=None,\n",
       "                  objective='binary:logistic', predictor=None, random_state=111,\n",
       "                  reg_alpha=None, ...),\n",
       "  LogisticRegression(max_iter=10000, solver='liblinear'),\n",
       "  0.875578789422628),\n",
       " (XGBRFClassifier(base_score=None, booster=None, callbacks=None,\n",
       "                  colsample_bylevel=None, colsample_bytree=None,\n",
       "                  early_stopping_rounds=None, enable_categorical=False,\n",
       "                  eval_metric=None, feature_types=None, gamma=None, gpu_id=None,\n",
       "                  grow_policy=None, importance_type=None,\n",
       "                  interaction_constraints=None, max_bin=None,\n",
       "                  max_cat_threshold=None, max_cat_to_onehot=None,\n",
       "                  max_delta_step=None, max_depth=None, max_leaves=None,\n",
       "                  min_child_weight=None, missing=nan, monotone_constraints=None,\n",
       "                  n_estimators=100, n_jobs=None, num_parallel_tree=None,\n",
       "                  objective='binary:logistic', predictor=None, random_state=111,\n",
       "                  reg_alpha=None, ...),\n",
       "  GaussianNB(),\n",
       "  0.8092317018039039),\n",
       " (LogisticRegression(max_iter=10000, solver='liblinear'),\n",
       "  GaussianNB(),\n",
       "  0.9249570370748513)]"
      ]
     },
     "execution_count": 41,
     "metadata": {},
     "output_type": "execute_result"
    }
   ],
   "source": [
    "base_model_pair_correlation_for_voting_clf(voting_soft, X)"
   ]
  },
  {
   "cell_type": "markdown",
   "id": "453a980d",
   "metadata": {},
   "source": [
    "Уберем некоторые модели \\\n",
    "... \\\n",
    "Тут было много перебора: автоматизированного и не очень \\\n",
    "..."
   ]
  },
  {
   "cell_type": "code",
   "execution_count": 42,
   "id": "3fb7eb65",
   "metadata": {},
   "outputs": [
    {
     "name": "stdout",
     "output_type": "stream",
     "text": [
      "DecisionTreeClassifier: 0.797997226792219\n",
      "RandomForestClassifier: 0.8328751280279528\n",
      "CatBoostClassifier: 0.8342715174922052\n",
      "ExtraTreesClassifier: 0.828174603174603\n",
      "KNeighborsClassifier: 0.6493313763861709\n",
      "SVC: 0.8403098469098905\n",
      "SVC: 0.6973119072190279\n",
      "XGBClassifier: 0.820158269808819\n",
      "LGBMClassifier: 0.8170106316447779\n",
      "XGBRFClassifier: 0.8396975787156666\n",
      "[LightGBM] [Warning] bagging_freq is set=1, subsample_freq=0 will be ignored. Current value: bagging_freq=1\n",
      "[LightGBM] [Warning] bagging_fraction is set=0.7, subsample=1.0 will be ignored. Current value: bagging_fraction=0.7\n",
      "[LightGBM] [Warning] bagging_freq is set=1, subsample_freq=0 will be ignored. Current value: bagging_freq=1\n",
      "[LightGBM] [Warning] bagging_fraction is set=0.7, subsample=1.0 will be ignored. Current value: bagging_fraction=0.7\n",
      "[LightGBM] [Warning] bagging_freq is set=1, subsample_freq=0 will be ignored. Current value: bagging_freq=1\n",
      "[LightGBM] [Warning] bagging_fraction is set=0.7, subsample=1.0 will be ignored. Current value: bagging_fraction=0.7\n",
      "LGBMClassifier: 0.8132478632478634\n",
      "LogisticRegression: 0.8500073681108163\n",
      "GaussianNB: 0.8140676625250128\n",
      "VotingClassifier: 0.874723729154109\n",
      "VotingClassifier: 0.8622968495399395\n"
     ]
    }
   ],
   "source": [
    "dt = DecisionTreeClassifier(random_state=SEED, max_depth=10, min_samples_leaf=10)\n",
    "# rf = RandomForestClassifier(n_estimators=50, random_state=SEED)\n",
    "# etc = ExtraTreesClassifier(random_state=SEED)\n",
    "# knn = KNeighborsClassifier(n_neighbors=5, weights=\"distance\")\n",
    "svc_lin = SVC(kernel='linear', probability=True, random_state=SEED)\n",
    "# svc_rbf = SVC(kernel='rbf', probability=True, random_state=SEED)\n",
    "# cat = catboost.CatBoostClassifier(verbose=0, random_seed=SEED)\n",
    "lgbm = lightgbm.LGBMClassifier(random_state=SEED)\n",
    "# lgbm_rf = lightgbm.LGBMClassifier(boosting_type=\"rf\", bagging_freq=1, bagging_fraction=0.7, random_state=SEED)\n",
    "xgb = xgboost.XGBClassifier(random_state=SEED)\n",
    "# xgb_rf = xgboost.XGBRFClassifier(random_state=SEED)\n",
    "lr = LogisticRegression(solver='liblinear', max_iter=10000)\n",
    "# nb = GaussianNB()\n",
    "\n",
    "base_models = [(\"DT\", dt),\n",
    "               (\"SVC_LIN\", svc_lin), \n",
    "               (\"LGBM\", lgbm), \n",
    "               (\"XGB\", xgb), \n",
    "               (\"LR\", lr), ]\n",
    "\n",
    "\n",
    "voting_hard = VotingClassifier(estimators = base_models, voting='hard')\n",
    "voting_soft= VotingClassifier(estimators = base_models, voting='soft')\n",
    "\n",
    "\n",
    "for model in [dt, rf, cat, etc, knn, svc_lin, svc_rbf, xgb, lgbm, xgb_rf, lgbm_rf, lr, nb, voting_hard, voting_soft]: \n",
    "    scores = cross_val_score(model, X_train, y_train, cv=3, scoring=\"f1\")\n",
    "    print(f\"{model.__class__.__name__}: {scores.mean()}\")"
   ]
  },
  {
   "cell_type": "markdown",
   "id": "570f612c",
   "metadata": {},
   "source": [
    "Лучшее значение скора VotingClassifier (voting = 'hard'), который удалось достичь (**0.875**), получилось при следующей **комбинациии алгоритмов**: \\\n",
    "* DecisionTreeClassifier(random_state=SEED, max_depth=10, min_samples_leaf=10)\n",
    "* SVC(kernel='linear', probability=True, random_state=SEED)\n",
    "* lightgbm.LGBMClassifier(random_state=SEED)\n",
    "* xgboost.XGBClassifier(random_state=SEED)\n",
    "* LogisticRegression(solver='liblinear', max_iter=10000)"
   ]
  },
  {
   "cell_type": "markdown",
   "id": "054b2673-1725-48a9-ae6a-4e348d50169d",
   "metadata": {},
   "source": [
    "### Задание 4. Определение оттока клиентов из телекома\n",
    "\n",
    "**6 баллов + 7 дополнительных за высокое качество модели и различные эксперименты**\n",
    "\n",
    "Будем предсказывать, уйдет ли от нас клиент (переменная `Churn?`). Данные можно скачать [здесь](https://www.kaggle.com/venky12347/churn-telecom). Это будет уже совсем взрослое задание, так как правильного ответа на него нет. Вам нужно будет разобраться с данными, правильно подготовить их для моделей, а также выбрать лучшую модель. \n",
    "\n",
    "Задача минимум:\n",
    "\n",
    "Выберите 2 модели &mdash; один случайный лес и один бустинг из приведенных ниже:\n",
    "\n",
    "1. `xgboost.XGBClassifier`\n",
    "2. `xgboost.XGBRFClassifier` &mdash; случайный лес от xgboost\n",
    "3. `lightgbm.LGBMClassifier`\n",
    "4. `lightgbm.LGBMClassifier(boosting_type=\"rf\")` &mdash; случайный лес от lightgbm\n",
    "5. `catboost.CatBoostClassifier`\n",
    "\n",
    "И попробуйте разобраться с тем, как для этих моделей правильно настраивать гиперпараметры. Советую гуглить примерно следующее `how to choose best hyperparameters for lightgbm`. Там вы найдете кучу сложного и непонятного кода, но если с ним разобраться и научиться обучать нестандартные бустинги, то в плане табличных данных равных вам не будет)"
   ]
  },
  {
   "cell_type": "code",
   "execution_count": 43,
   "id": "47cd58e0-3c7b-4dc6-8eba-617eec699586",
   "metadata": {},
   "outputs": [
    {
     "data": {
      "text/html": [
       "<div>\n",
       "<style scoped>\n",
       "    .dataframe tbody tr th:only-of-type {\n",
       "        vertical-align: middle;\n",
       "    }\n",
       "\n",
       "    .dataframe tbody tr th {\n",
       "        vertical-align: top;\n",
       "    }\n",
       "\n",
       "    .dataframe thead th {\n",
       "        text-align: right;\n",
       "    }\n",
       "</style>\n",
       "<table border=\"1\" class=\"dataframe\">\n",
       "  <thead>\n",
       "    <tr style=\"text-align: right;\">\n",
       "      <th></th>\n",
       "      <th>State</th>\n",
       "      <th>Account Length</th>\n",
       "      <th>Area Code</th>\n",
       "      <th>Phone</th>\n",
       "      <th>Int'l Plan</th>\n",
       "      <th>VMail Plan</th>\n",
       "      <th>VMail Message</th>\n",
       "      <th>Day Mins</th>\n",
       "      <th>Day Calls</th>\n",
       "      <th>Day Charge</th>\n",
       "      <th>...</th>\n",
       "      <th>Eve Calls</th>\n",
       "      <th>Eve Charge</th>\n",
       "      <th>Night Mins</th>\n",
       "      <th>Night Calls</th>\n",
       "      <th>Night Charge</th>\n",
       "      <th>Intl Mins</th>\n",
       "      <th>Intl Calls</th>\n",
       "      <th>Intl Charge</th>\n",
       "      <th>CustServ Calls</th>\n",
       "      <th>Churn?</th>\n",
       "    </tr>\n",
       "  </thead>\n",
       "  <tbody>\n",
       "    <tr>\n",
       "      <th>0</th>\n",
       "      <td>KS</td>\n",
       "      <td>128</td>\n",
       "      <td>415</td>\n",
       "      <td>382-4657</td>\n",
       "      <td>no</td>\n",
       "      <td>yes</td>\n",
       "      <td>25</td>\n",
       "      <td>265.1</td>\n",
       "      <td>110</td>\n",
       "      <td>45.07</td>\n",
       "      <td>...</td>\n",
       "      <td>99</td>\n",
       "      <td>16.78</td>\n",
       "      <td>244.7</td>\n",
       "      <td>91</td>\n",
       "      <td>11.01</td>\n",
       "      <td>10.0</td>\n",
       "      <td>3</td>\n",
       "      <td>2.70</td>\n",
       "      <td>1</td>\n",
       "      <td>False.</td>\n",
       "    </tr>\n",
       "    <tr>\n",
       "      <th>1</th>\n",
       "      <td>OH</td>\n",
       "      <td>107</td>\n",
       "      <td>415</td>\n",
       "      <td>371-7191</td>\n",
       "      <td>no</td>\n",
       "      <td>yes</td>\n",
       "      <td>26</td>\n",
       "      <td>161.6</td>\n",
       "      <td>123</td>\n",
       "      <td>27.47</td>\n",
       "      <td>...</td>\n",
       "      <td>103</td>\n",
       "      <td>16.62</td>\n",
       "      <td>254.4</td>\n",
       "      <td>103</td>\n",
       "      <td>11.45</td>\n",
       "      <td>13.7</td>\n",
       "      <td>3</td>\n",
       "      <td>3.70</td>\n",
       "      <td>1</td>\n",
       "      <td>False.</td>\n",
       "    </tr>\n",
       "    <tr>\n",
       "      <th>2</th>\n",
       "      <td>NJ</td>\n",
       "      <td>137</td>\n",
       "      <td>415</td>\n",
       "      <td>358-1921</td>\n",
       "      <td>no</td>\n",
       "      <td>no</td>\n",
       "      <td>0</td>\n",
       "      <td>243.4</td>\n",
       "      <td>114</td>\n",
       "      <td>41.38</td>\n",
       "      <td>...</td>\n",
       "      <td>110</td>\n",
       "      <td>10.30</td>\n",
       "      <td>162.6</td>\n",
       "      <td>104</td>\n",
       "      <td>7.32</td>\n",
       "      <td>12.2</td>\n",
       "      <td>5</td>\n",
       "      <td>3.29</td>\n",
       "      <td>0</td>\n",
       "      <td>False.</td>\n",
       "    </tr>\n",
       "    <tr>\n",
       "      <th>3</th>\n",
       "      <td>OH</td>\n",
       "      <td>84</td>\n",
       "      <td>408</td>\n",
       "      <td>375-9999</td>\n",
       "      <td>yes</td>\n",
       "      <td>no</td>\n",
       "      <td>0</td>\n",
       "      <td>299.4</td>\n",
       "      <td>71</td>\n",
       "      <td>50.90</td>\n",
       "      <td>...</td>\n",
       "      <td>88</td>\n",
       "      <td>5.26</td>\n",
       "      <td>196.9</td>\n",
       "      <td>89</td>\n",
       "      <td>8.86</td>\n",
       "      <td>6.6</td>\n",
       "      <td>7</td>\n",
       "      <td>1.78</td>\n",
       "      <td>2</td>\n",
       "      <td>False.</td>\n",
       "    </tr>\n",
       "    <tr>\n",
       "      <th>4</th>\n",
       "      <td>OK</td>\n",
       "      <td>75</td>\n",
       "      <td>415</td>\n",
       "      <td>330-6626</td>\n",
       "      <td>yes</td>\n",
       "      <td>no</td>\n",
       "      <td>0</td>\n",
       "      <td>166.7</td>\n",
       "      <td>113</td>\n",
       "      <td>28.34</td>\n",
       "      <td>...</td>\n",
       "      <td>122</td>\n",
       "      <td>12.61</td>\n",
       "      <td>186.9</td>\n",
       "      <td>121</td>\n",
       "      <td>8.41</td>\n",
       "      <td>10.1</td>\n",
       "      <td>3</td>\n",
       "      <td>2.73</td>\n",
       "      <td>3</td>\n",
       "      <td>False.</td>\n",
       "    </tr>\n",
       "  </tbody>\n",
       "</table>\n",
       "<p>5 rows × 21 columns</p>\n",
       "</div>"
      ],
      "text/plain": [
       "  State  Account Length  Area Code     Phone Int'l Plan VMail Plan  \\\n",
       "0    KS             128        415  382-4657         no        yes   \n",
       "1    OH             107        415  371-7191         no        yes   \n",
       "2    NJ             137        415  358-1921         no         no   \n",
       "3    OH              84        408  375-9999        yes         no   \n",
       "4    OK              75        415  330-6626        yes         no   \n",
       "\n",
       "   VMail Message  Day Mins  Day Calls  Day Charge  ...  Eve Calls  Eve Charge  \\\n",
       "0             25     265.1        110       45.07  ...         99       16.78   \n",
       "1             26     161.6        123       27.47  ...        103       16.62   \n",
       "2              0     243.4        114       41.38  ...        110       10.30   \n",
       "3              0     299.4         71       50.90  ...         88        5.26   \n",
       "4              0     166.7        113       28.34  ...        122       12.61   \n",
       "\n",
       "   Night Mins  Night Calls  Night Charge  Intl Mins  Intl Calls  Intl Charge  \\\n",
       "0       244.7           91         11.01       10.0           3         2.70   \n",
       "1       254.4          103         11.45       13.7           3         3.70   \n",
       "2       162.6          104          7.32       12.2           5         3.29   \n",
       "3       196.9           89          8.86        6.6           7         1.78   \n",
       "4       186.9          121          8.41       10.1           3         2.73   \n",
       "\n",
       "   CustServ Calls  Churn?  \n",
       "0               1  False.  \n",
       "1               1  False.  \n",
       "2               0  False.  \n",
       "3               2  False.  \n",
       "4               3  False.  \n",
       "\n",
       "[5 rows x 21 columns]"
      ]
     },
     "execution_count": 43,
     "metadata": {},
     "output_type": "execute_result"
    }
   ],
   "source": [
    "data = pd.read_csv(\"churn.csv\")\n",
    "data.head()"
   ]
  },
  {
   "cell_type": "code",
   "execution_count": 44,
   "id": "691d25ae-0bf3-4ca6-bc71-3ec9964f9906",
   "metadata": {},
   "outputs": [
    {
     "name": "stdout",
     "output_type": "stream",
     "text": [
      "<class 'pandas.core.frame.DataFrame'>\n",
      "RangeIndex: 3333 entries, 0 to 3332\n",
      "Data columns (total 21 columns):\n",
      " #   Column          Non-Null Count  Dtype  \n",
      "---  ------          --------------  -----  \n",
      " 0   State           3333 non-null   object \n",
      " 1   Account Length  3333 non-null   int64  \n",
      " 2   Area Code       3333 non-null   int64  \n",
      " 3   Phone           3333 non-null   object \n",
      " 4   Int'l Plan      3333 non-null   object \n",
      " 5   VMail Plan      3333 non-null   object \n",
      " 6   VMail Message   3333 non-null   int64  \n",
      " 7   Day Mins        3333 non-null   float64\n",
      " 8   Day Calls       3333 non-null   int64  \n",
      " 9   Day Charge      3333 non-null   float64\n",
      " 10  Eve Mins        3333 non-null   float64\n",
      " 11  Eve Calls       3333 non-null   int64  \n",
      " 12  Eve Charge      3333 non-null   float64\n",
      " 13  Night Mins      3333 non-null   float64\n",
      " 14  Night Calls     3333 non-null   int64  \n",
      " 15  Night Charge    3333 non-null   float64\n",
      " 16  Intl Mins       3333 non-null   float64\n",
      " 17  Intl Calls      3333 non-null   int64  \n",
      " 18  Intl Charge     3333 non-null   float64\n",
      " 19  CustServ Calls  3333 non-null   int64  \n",
      " 20  Churn?          3333 non-null   object \n",
      "dtypes: float64(8), int64(8), object(5)\n",
      "memory usage: 546.9+ KB\n"
     ]
    }
   ],
   "source": [
    "data.info()"
   ]
  },
  {
   "cell_type": "markdown",
   "id": "7cb8a1d1",
   "metadata": {},
   "source": [
    "В датасете нет пропущенных значений"
   ]
  },
  {
   "cell_type": "markdown",
   "id": "86013560",
   "metadata": {},
   "source": [
    "Категориальные переменные, которые будем трансформировать при помощи OneHotEncoder: \\\n",
    "Area Code, Int'l Plan, VMail Plan, State"
   ]
  },
  {
   "cell_type": "markdown",
   "id": "6716433f",
   "metadata": {},
   "source": [
    "Выделяем в отдельные переменные численные, 2 типа категориальных переменных и таргет:"
   ]
  },
  {
   "cell_type": "code",
   "execution_count": 45,
   "id": "d4ef2be4",
   "metadata": {},
   "outputs": [],
   "source": [
    "cat_cols = [\"Area Code\", \"Int'l Plan\", \"VMail Plan\", ]\n",
    "num_cols = ['Account Length', 'VMail Message', 'Day Mins', 'Day Calls', 'Day Charge',\n",
    "       'Eve Mins', 'Eve Calls', 'Eve Charge', 'Night Mins', 'Night Calls',\n",
    "       'Night Charge', 'Intl Mins', 'Intl Calls', 'Intl Charge',\n",
    "       'CustServ Calls']\n",
    "\n",
    "all_features = cat_cols + num_cols + ['State']\n",
    "target = data[\"Churn?\"].values"
   ]
  },
  {
   "cell_type": "code",
   "execution_count": 46,
   "id": "d0306a02",
   "metadata": {},
   "outputs": [],
   "source": [
    "X = data[all_features]\n",
    "y = target"
   ]
  },
  {
   "cell_type": "markdown",
   "id": "f7ac7c99",
   "metadata": {},
   "source": [
    "Стандартизуем числовые переменные и кодируем OneHotEncoder-ом категориальные:"
   ]
  },
  {
   "cell_type": "code",
   "execution_count": 47,
   "id": "b5e7e127",
   "metadata": {},
   "outputs": [],
   "source": [
    "preprocessor = ColumnTransformer([\n",
    "    (\"scaler\", StandardScaler(), num_cols),\n",
    "    (\"ohe\", OneHotEncoder(), cat_cols)\n",
    "])"
   ]
  },
  {
   "cell_type": "code",
   "execution_count": 48,
   "id": "10d8057a",
   "metadata": {},
   "outputs": [],
   "source": [
    "X_transforms = preprocessor.fit_transform(X)"
   ]
  },
  {
   "cell_type": "code",
   "execution_count": 49,
   "id": "617c6cc1",
   "metadata": {},
   "outputs": [
    {
     "data": {
      "text/plain": [
       "[('scaler',\n",
       "  StandardScaler(),\n",
       "  ['Account Length',\n",
       "   'VMail Message',\n",
       "   'Day Mins',\n",
       "   'Day Calls',\n",
       "   'Day Charge',\n",
       "   'Eve Mins',\n",
       "   'Eve Calls',\n",
       "   'Eve Charge',\n",
       "   'Night Mins',\n",
       "   'Night Calls',\n",
       "   'Night Charge',\n",
       "   'Intl Mins',\n",
       "   'Intl Calls',\n",
       "   'Intl Charge',\n",
       "   'CustServ Calls']),\n",
       " ('ohe', OneHotEncoder(), ['Area Code', \"Int'l Plan\", 'VMail Plan'])]"
      ]
     },
     "execution_count": 49,
     "metadata": {},
     "output_type": "execute_result"
    }
   ],
   "source": [
    "preprocessor.transformers"
   ]
  },
  {
   "cell_type": "code",
   "execution_count": 50,
   "id": "91bfc9a5",
   "metadata": {},
   "outputs": [
    {
     "data": {
      "text/plain": [
       "array([[ 0.67648946,  1.23488274,  1.56676695, ...,  0.        ,\n",
       "         0.        ,  1.        ],\n",
       "       [ 0.14906505,  1.30794844, -0.33373776, ...,  0.        ,\n",
       "         0.        ,  1.        ],\n",
       "       [ 0.9025285 , -0.59175986,  1.16830364, ...,  0.        ,\n",
       "         1.        ,  0.        ],\n",
       "       ...,\n",
       "       [-1.83505538, -0.59175986,  0.01881963, ...,  0.        ,\n",
       "         1.        ,  0.        ],\n",
       "       [ 2.08295458, -0.59175986,  0.62477766, ...,  1.        ,\n",
       "         1.        ,  0.        ],\n",
       "       [-0.67974475,  1.23488274,  1.00304237, ...,  0.        ,\n",
       "         0.        ,  1.        ]])"
      ]
     },
     "execution_count": 50,
     "metadata": {},
     "output_type": "execute_result"
    }
   ],
   "source": [
    "X_transforms"
   ]
  },
  {
   "cell_type": "markdown",
   "id": "24d40a3a",
   "metadata": {},
   "source": [
    "#### Целевая переменная Churn"
   ]
  },
  {
   "cell_type": "markdown",
   "id": "62f063f3",
   "metadata": {},
   "source": [
    "Изменяем значения целевой переменной на 0 и 1:"
   ]
  },
  {
   "cell_type": "code",
   "execution_count": 51,
   "id": "5feae995",
   "metadata": {},
   "outputs": [],
   "source": [
    "le = LabelEncoder()\n",
    "y_transforms = le.fit_transform(y)"
   ]
  },
  {
   "cell_type": "code",
   "execution_count": 52,
   "id": "66544646",
   "metadata": {},
   "outputs": [
    {
     "data": {
      "text/plain": [
       "array([0, 0, 0, ..., 0, 0, 0])"
      ]
     },
     "execution_count": 52,
     "metadata": {},
     "output_type": "execute_result"
    }
   ],
   "source": [
    "y_transforms"
   ]
  },
  {
   "cell_type": "markdown",
   "id": "b38d595b",
   "metadata": {},
   "source": [
    "Смотрим на количество 0 и 1 в таргете:"
   ]
  },
  {
   "cell_type": "code",
   "execution_count": 53,
   "id": "fe3176c7",
   "metadata": {},
   "outputs": [
    {
     "data": {
      "text/plain": [
       "{0: 2850, 1: 483}"
      ]
     },
     "execution_count": 53,
     "metadata": {},
     "output_type": "execute_result"
    }
   ],
   "source": [
    "unique, counts = np.unique(y_transforms, return_counts=True)\n",
    "dict(zip(unique, counts))"
   ]
  },
  {
   "cell_type": "code",
   "execution_count": 54,
   "id": "ab4bedf8",
   "metadata": {},
   "outputs": [
    {
     "data": {
      "image/png": "[encoded data removed]",
      "text/plain": [
       "<Figure size 600x400 with 1 Axes>"
      ]
     },
     "metadata": {},
     "output_type": "display_data"
    }
   ],
   "source": [
    "plt.figure(figsize=(6, 4))\n",
    "sns.barplot(x = unique, y = counts);"
   ]
  },
  {
   "cell_type": "markdown",
   "id": "d947a679",
   "metadata": {},
   "source": [
    "Наблюдается дисбаланс классов!"
   ]
  },
  {
   "cell_type": "markdown",
   "id": "92280607",
   "metadata": {},
   "source": [
    "#### Разделим данные на train и test:"
   ]
  },
  {
   "cell_type": "code",
   "execution_count": 55,
   "id": "b14c155f",
   "metadata": {},
   "outputs": [],
   "source": [
    "X_train, X_test, y_train, y_test = train_test_split(X_transforms, y_transforms, test_size = 0.3, random_state=42)"
   ]
  },
  {
   "cell_type": "code",
   "execution_count": 56,
   "id": "84ed6000",
   "metadata": {},
   "outputs": [
    {
     "data": {
      "text/plain": [
       "array([0, 0, 0, ..., 0, 0, 0])"
      ]
     },
     "execution_count": 56,
     "metadata": {},
     "output_type": "execute_result"
    }
   ],
   "source": [
    "y_train"
   ]
  },
  {
   "cell_type": "markdown",
   "id": "4b3f6442",
   "metadata": {},
   "source": [
    "#### Балансировка целевой переменной:"
   ]
  },
  {
   "cell_type": "code",
   "execution_count": 57,
   "id": "f4871061",
   "metadata": {},
   "outputs": [],
   "source": [
    "def balance_df_by_target(df, target_name):\n",
    "\n",
    "    target_counts = df[target_name].value_counts()\n",
    "\n",
    "    major_class_name = target_counts.argmax()\n",
    "    minor_class_name = target_counts.argmin()\n",
    "\n",
    "    disbalance_coeff = int(target_counts[major_class_name] / target_counts[minor_class_name]) - 1\n",
    "\n",
    "    for i in range(disbalance_coeff):\n",
    "        sample = df[df[target_name] == minor_class_name].sample(target_counts[minor_class_name])\n",
    "        df = df.append(sample, ignore_index=True)\n",
    "\n",
    "    return df.sample(frac=1) "
   ]
  },
  {
   "cell_type": "code",
   "execution_count": 58,
   "id": "76198c41",
   "metadata": {},
   "outputs": [
    {
     "data": {
      "text/plain": [
       "Index(['State', 'Account Length', 'Area Code', 'Phone', 'Int'l Plan',\n",
       "       'VMail Plan', 'VMail Message', 'Day Mins', 'Day Calls', 'Day Charge',\n",
       "       'Eve Mins', 'Eve Calls', 'Eve Charge', 'Night Mins', 'Night Calls',\n",
       "       'Night Charge', 'Intl Mins', 'Intl Calls', 'Intl Charge',\n",
       "       'CustServ Calls', 'Churn?'],\n",
       "      dtype='object')"
      ]
     },
     "execution_count": 58,
     "metadata": {},
     "output_type": "execute_result"
    }
   ],
   "source": [
    "data.columns"
   ]
  },
  {
   "cell_type": "code",
   "execution_count": 59,
   "id": "292b2733",
   "metadata": {},
   "outputs": [
    {
     "data": {
      "text/plain": [
       "0    1993\n",
       "1    1700\n",
       "Name: Churn?, dtype: int64"
      ]
     },
     "execution_count": 59,
     "metadata": {},
     "output_type": "execute_result"
    }
   ],
   "source": [
    "data_for_balancing = pd.concat([pd.DataFrame(X_train), pd.Series(y_train)], axis=1)\n",
    "data_for_balancing.columns = [*data_for_balancing.columns[:-1], 'Churn?'] # изменяем название целевой переменной\n",
    "\n",
    "data_balanced = balance_df_by_target(data_for_balancing, 'Churn?')\n",
    "data_balanced['Churn?'].value_counts()"
   ]
  },
  {
   "cell_type": "code",
   "execution_count": 60,
   "id": "d60eecce",
   "metadata": {},
   "outputs": [],
   "source": [
    "X_train_balance = data_balanced.drop(columns='Churn?')\n",
    "y_train_balance = data_balanced['Churn?']"
   ]
  },
  {
   "cell_type": "markdown",
   "id": "4bc2b415",
   "metadata": {},
   "source": [
    "Функция для вывода нескольких метрик классификации:"
   ]
  },
  {
   "cell_type": "code",
   "execution_count": 61,
   "id": "8f3a060d",
   "metadata": {},
   "outputs": [],
   "source": [
    "def get_classification_report(y_train_true, y_train_pred, y_test_true, y_test_pred):\n",
    "    print('TRAIN\\n\\n' + classification_report(y_train_true, y_train_pred))\n",
    "    print('TEST\\n\\n' + classification_report(y_test_true, y_test_pred))\n",
    "    print('CONFUSION MATRIX\\n')\n",
    "    print(pd.crosstab(y_test_true, y_test_pred))"
   ]
  },
  {
   "cell_type": "markdown",
   "id": "1434cdb2",
   "metadata": {},
   "source": [
    "### Случайный лес:"
   ]
  },
  {
   "cell_type": "markdown",
   "id": "ef628f07",
   "metadata": {},
   "source": [
    "#### На изначальных данных с дисбалансом классов"
   ]
  },
  {
   "cell_type": "markdown",
   "id": "02c4c536",
   "metadata": {},
   "source": [
    "Создаем и обучаем модель:"
   ]
  },
  {
   "cell_type": "code",
   "execution_count": 62,
   "id": "8b618c31",
   "metadata": {},
   "outputs": [
    {
     "data": {
      "text/html": [
       "<style>#sk-container-id-6 {color: black;background-color: white;}#sk-container-id-6 pre{padding: 0;}#sk-container-id-6 div.sk-toggleable {background-color: white;}#sk-container-id-6 label.sk-toggleable__label {cursor: pointer;display: block;width: 100%;margin-bottom: 0;padding: 0.3em;box-sizing: border-box;text-align: center;}#sk-container-id-6 label.sk-toggleable__label-arrow:before {content: \"▸\";float: left;margin-right: 0.25em;color: #696969;}#sk-container-id-6 label.sk-toggleable__label-arrow:hover:before {color: black;}#sk-container-id-6 div.sk-estimator:hover label.sk-toggleable__label-arrow:before {color: black;}#sk-container-id-6 div.sk-toggleable__content {max-height: 0;max-width: 0;overflow: hidden;text-align: left;background-color: #f0f8ff;}#sk-container-id-6 div.sk-toggleable__content pre {margin: 0.2em;color: black;border-radius: 0.25em;background-color: #f0f8ff;}#sk-container-id-6 input.sk-toggleable__control:checked~div.sk-toggleable__content {max-height: 200px;max-width: 100%;overflow: auto;}#sk-container-id-6 input.sk-toggleable__control:checked~label.sk-toggleable__label-arrow:before {content: \"▾\";}#sk-container-id-6 div.sk-estimator input.sk-toggleable__control:checked~label.sk-toggleable__label {background-color: #d4ebff;}#sk-container-id-6 div.sk-label input.sk-toggleable__control:checked~label.sk-toggleable__label {background-color: #d4ebff;}#sk-container-id-6 input.sk-hidden--visually {border: 0;clip: rect(1px 1px 1px 1px);clip: rect(1px, 1px, 1px, 1px);height: 1px;margin: -1px;overflow: hidden;padding: 0;position: absolute;width: 1px;}#sk-container-id-6 div.sk-estimator {font-family: monospace;background-color: #f0f8ff;border: 1px dotted black;border-radius: 0.25em;box-sizing: border-box;margin-bottom: 0.5em;}#sk-container-id-6 div.sk-estimator:hover {background-color: #d4ebff;}#sk-container-id-6 div.sk-parallel-item::after {content: \"\";width: 100%;border-bottom: 1px solid gray;flex-grow: 1;}#sk-container-id-6 div.sk-label:hover label.sk-toggleable__label {background-color: #d4ebff;}#sk-container-id-6 div.sk-serial::before {content: \"\";position: absolute;border-left: 1px solid gray;box-sizing: border-box;top: 0;bottom: 0;left: 50%;z-index: 0;}#sk-container-id-6 div.sk-serial {display: flex;flex-direction: column;align-items: center;background-color: white;padding-right: 0.2em;padding-left: 0.2em;position: relative;}#sk-container-id-6 div.sk-item {position: relative;z-index: 1;}#sk-container-id-6 div.sk-parallel {display: flex;align-items: stretch;justify-content: center;background-color: white;position: relative;}#sk-container-id-6 div.sk-item::before, #sk-container-id-6 div.sk-parallel-item::before {content: \"\";position: absolute;border-left: 1px solid gray;box-sizing: border-box;top: 0;bottom: 0;left: 50%;z-index: -1;}#sk-container-id-6 div.sk-parallel-item {display: flex;flex-direction: column;z-index: 1;position: relative;background-color: white;}#sk-container-id-6 div.sk-parallel-item:first-child::after {align-self: flex-end;width: 50%;}#sk-container-id-6 div.sk-parallel-item:last-child::after {align-self: flex-start;width: 50%;}#sk-container-id-6 div.sk-parallel-item:only-child::after {width: 0;}#sk-container-id-6 div.sk-dashed-wrapped {border: 1px dashed gray;margin: 0 0.4em 0.5em 0.4em;box-sizing: border-box;padding-bottom: 0.4em;background-color: white;}#sk-container-id-6 div.sk-label label {font-family: monospace;font-weight: bold;display: inline-block;line-height: 1.2em;}#sk-container-id-6 div.sk-label-container {text-align: center;}#sk-container-id-6 div.sk-container {/* jupyter's `normalize.less` sets `[hidden] { display: none; }` but bootstrap.min.css set `[hidden] { display: none !important; }` so we also need the `!important` here to be able to override the default hidden behavior on the sphinx rendered scikit-learn.org. See: https://github.com/scikit-learn/scikit-learn/issues/21755 */display: inline-block !important;position: relative;}#sk-container-id-6 div.sk-text-repr-fallback {display: none;}</style><div id=\"sk-container-id-6\" class=\"sk-top-container\"><div class=\"sk-text-repr-fallback\"><pre>RandomForestClassifier()</pre><b>In a Jupyter environment, please rerun this cell to show the HTML representation or trust the notebook. <br />On GitHub, the HTML representation is unable to render, please try loading this page with nbviewer.org.</b></div><div class=\"sk-container\" hidden><div class=\"sk-item\"><div class=\"sk-estimator sk-toggleable\"><input class=\"sk-toggleable__control sk-hidden--visually\" id=\"sk-estimator-id-8\" type=\"checkbox\" checked><label for=\"sk-estimator-id-8\" class=\"sk-toggleable__label sk-toggleable__label-arrow\">RandomForestClassifier</label><div class=\"sk-toggleable__content\"><pre>RandomForestClassifier()</pre></div></div></div></div></div>"
      ],
      "text/plain": [
       "RandomForestClassifier()"
      ]
     },
     "execution_count": 62,
     "metadata": {},
     "output_type": "execute_result"
    }
   ],
   "source": [
    "rfcc_model_churn = RandomForestClassifier()\n",
    "rfcc_model_churn.fit(X_train, y_train)"
   ]
  },
  {
   "cell_type": "markdown",
   "id": "5cc6e057",
   "metadata": {},
   "source": [
    "Попробуем подобрать гиперпараметры к этой модели при помощи GridSearch:"
   ]
  },
  {
   "cell_type": "code",
   "execution_count": 63,
   "id": "46e1f4d2",
   "metadata": {},
   "outputs": [],
   "source": [
    "params = {'n_estimators':[10, 20, 30, 40, 50, 100, 200, 500, 700, 1000, 1200, 1500], # кол-во деревьев в ансамбле\n",
    "          'max_depth':[3, 5, 7, 10, 15],\n",
    "          'max_features':[1, 2]}"
   ]
  },
  {
   "cell_type": "code",
   "execution_count": 64,
   "id": "a8d80061",
   "metadata": {},
   "outputs": [
    {
     "name": "stdout",
     "output_type": "stream",
     "text": [
      "CPU times: user 1.98 s, sys: 197 ms, total: 2.18 s\n",
      "Wall time: 6min 46s\n"
     ]
    },
    {
     "data": {
      "text/html": [
       "<style>#sk-container-id-7 {color: black;background-color: white;}#sk-container-id-7 pre{padding: 0;}#sk-container-id-7 div.sk-toggleable {background-color: white;}#sk-container-id-7 label.sk-toggleable__label {cursor: pointer;display: block;width: 100%;margin-bottom: 0;padding: 0.3em;box-sizing: border-box;text-align: center;}#sk-container-id-7 label.sk-toggleable__label-arrow:before {content: \"▸\";float: left;margin-right: 0.25em;color: #696969;}#sk-container-id-7 label.sk-toggleable__label-arrow:hover:before {color: black;}#sk-container-id-7 div.sk-estimator:hover label.sk-toggleable__label-arrow:before {color: black;}#sk-container-id-7 div.sk-toggleable__content {max-height: 0;max-width: 0;overflow: hidden;text-align: left;background-color: #f0f8ff;}#sk-container-id-7 div.sk-toggleable__content pre {margin: 0.2em;color: black;border-radius: 0.25em;background-color: #f0f8ff;}#sk-container-id-7 input.sk-toggleable__control:checked~div.sk-toggleable__content {max-height: 200px;max-width: 100%;overflow: auto;}#sk-container-id-7 input.sk-toggleable__control:checked~label.sk-toggleable__label-arrow:before {content: \"▾\";}#sk-container-id-7 div.sk-estimator input.sk-toggleable__control:checked~label.sk-toggleable__label {background-color: #d4ebff;}#sk-container-id-7 div.sk-label input.sk-toggleable__control:checked~label.sk-toggleable__label {background-color: #d4ebff;}#sk-container-id-7 input.sk-hidden--visually {border: 0;clip: rect(1px 1px 1px 1px);clip: rect(1px, 1px, 1px, 1px);height: 1px;margin: -1px;overflow: hidden;padding: 0;position: absolute;width: 1px;}#sk-container-id-7 div.sk-estimator {font-family: monospace;background-color: #f0f8ff;border: 1px dotted black;border-radius: 0.25em;box-sizing: border-box;margin-bottom: 0.5em;}#sk-container-id-7 div.sk-estimator:hover {background-color: #d4ebff;}#sk-container-id-7 div.sk-parallel-item::after {content: \"\";width: 100%;border-bottom: 1px solid gray;flex-grow: 1;}#sk-container-id-7 div.sk-label:hover label.sk-toggleable__label {background-color: #d4ebff;}#sk-container-id-7 div.sk-serial::before {content: \"\";position: absolute;border-left: 1px solid gray;box-sizing: border-box;top: 0;bottom: 0;left: 50%;z-index: 0;}#sk-container-id-7 div.sk-serial {display: flex;flex-direction: column;align-items: center;background-color: white;padding-right: 0.2em;padding-left: 0.2em;position: relative;}#sk-container-id-7 div.sk-item {position: relative;z-index: 1;}#sk-container-id-7 div.sk-parallel {display: flex;align-items: stretch;justify-content: center;background-color: white;position: relative;}#sk-container-id-7 div.sk-item::before, #sk-container-id-7 div.sk-parallel-item::before {content: \"\";position: absolute;border-left: 1px solid gray;box-sizing: border-box;top: 0;bottom: 0;left: 50%;z-index: -1;}#sk-container-id-7 div.sk-parallel-item {display: flex;flex-direction: column;z-index: 1;position: relative;background-color: white;}#sk-container-id-7 div.sk-parallel-item:first-child::after {align-self: flex-end;width: 50%;}#sk-container-id-7 div.sk-parallel-item:last-child::after {align-self: flex-start;width: 50%;}#sk-container-id-7 div.sk-parallel-item:only-child::after {width: 0;}#sk-container-id-7 div.sk-dashed-wrapped {border: 1px dashed gray;margin: 0 0.4em 0.5em 0.4em;box-sizing: border-box;padding-bottom: 0.4em;background-color: white;}#sk-container-id-7 div.sk-label label {font-family: monospace;font-weight: bold;display: inline-block;line-height: 1.2em;}#sk-container-id-7 div.sk-label-container {text-align: center;}#sk-container-id-7 div.sk-container {/* jupyter's `normalize.less` sets `[hidden] { display: none; }` but bootstrap.min.css set `[hidden] { display: none !important; }` so we also need the `!important` here to be able to override the default hidden behavior on the sphinx rendered scikit-learn.org. See: https://github.com/scikit-learn/scikit-learn/issues/21755 */display: inline-block !important;position: relative;}#sk-container-id-7 div.sk-text-repr-fallback {display: none;}</style><div id=\"sk-container-id-7\" class=\"sk-top-container\"><div class=\"sk-text-repr-fallback\"><pre>GridSearchCV(estimator=RandomForestClassifier(), n_jobs=-1,\n",
       "             param_grid={&#x27;max_depth&#x27;: [3, 5, 7, 10, 15], &#x27;max_features&#x27;: [1, 2],\n",
       "                         &#x27;n_estimators&#x27;: [10, 20, 30, 40, 50, 100, 200, 500,\n",
       "                                          700, 1000, 1200, 1500]},\n",
       "             scoring=&#x27;f1&#x27;)</pre><b>In a Jupyter environment, please rerun this cell to show the HTML representation or trust the notebook. <br />On GitHub, the HTML representation is unable to render, please try loading this page with nbviewer.org.</b></div><div class=\"sk-container\" hidden><div class=\"sk-item sk-dashed-wrapped\"><div class=\"sk-label-container\"><div class=\"sk-label sk-toggleable\"><input class=\"sk-toggleable__control sk-hidden--visually\" id=\"sk-estimator-id-9\" type=\"checkbox\" ><label for=\"sk-estimator-id-9\" class=\"sk-toggleable__label sk-toggleable__label-arrow\">GridSearchCV</label><div class=\"sk-toggleable__content\"><pre>GridSearchCV(estimator=RandomForestClassifier(), n_jobs=-1,\n",
       "             param_grid={&#x27;max_depth&#x27;: [3, 5, 7, 10, 15], &#x27;max_features&#x27;: [1, 2],\n",
       "                         &#x27;n_estimators&#x27;: [10, 20, 30, 40, 50, 100, 200, 500,\n",
       "                                          700, 1000, 1200, 1500]},\n",
       "             scoring=&#x27;f1&#x27;)</pre></div></div></div><div class=\"sk-parallel\"><div class=\"sk-parallel-item\"><div class=\"sk-item\"><div class=\"sk-label-container\"><div class=\"sk-label sk-toggleable\"><input class=\"sk-toggleable__control sk-hidden--visually\" id=\"sk-estimator-id-10\" type=\"checkbox\" ><label for=\"sk-estimator-id-10\" class=\"sk-toggleable__label sk-toggleable__label-arrow\">estimator: RandomForestClassifier</label><div class=\"sk-toggleable__content\"><pre>RandomForestClassifier()</pre></div></div></div><div class=\"sk-serial\"><div class=\"sk-item\"><div class=\"sk-estimator sk-toggleable\"><input class=\"sk-toggleable__control sk-hidden--visually\" id=\"sk-estimator-id-11\" type=\"checkbox\" ><label for=\"sk-estimator-id-11\" class=\"sk-toggleable__label sk-toggleable__label-arrow\">RandomForestClassifier</label><div class=\"sk-toggleable__content\"><pre>RandomForestClassifier()</pre></div></div></div></div></div></div></div></div></div></div>"
      ],
      "text/plain": [
       "GridSearchCV(estimator=RandomForestClassifier(), n_jobs=-1,\n",
       "             param_grid={'max_depth': [3, 5, 7, 10, 15], 'max_features': [1, 2],\n",
       "                         'n_estimators': [10, 20, 30, 40, 50, 100, 200, 500,\n",
       "                                          700, 1000, 1200, 1500]},\n",
       "             scoring='f1')"
      ]
     },
     "execution_count": 64,
     "metadata": {},
     "output_type": "execute_result"
    }
   ],
   "source": [
    "%%time\n",
    "\n",
    "gs_rfcc_churn = GridSearchCV(rfcc_model_churn, params, scoring='f1', n_jobs=-1)\n",
    "gs_rfcc_churn.fit(X_train, y_train)"
   ]
  },
  {
   "cell_type": "code",
   "execution_count": 65,
   "id": "c644ec8d",
   "metadata": {},
   "outputs": [
    {
     "data": {
      "text/plain": [
       "{'max_depth': 15, 'max_features': 2, 'n_estimators': 100}"
      ]
     },
     "execution_count": 65,
     "metadata": {},
     "output_type": "execute_result"
    }
   ],
   "source": [
    "gs_rfcc_churn.best_params_"
   ]
  },
  {
   "cell_type": "code",
   "execution_count": 66,
   "id": "782d0983",
   "metadata": {},
   "outputs": [
    {
     "data": {
      "text/plain": [
       "0.650971250971251"
      ]
     },
     "execution_count": 66,
     "metadata": {},
     "output_type": "execute_result"
    }
   ],
   "source": [
    "gs_rfcc_churn.best_score_"
   ]
  },
  {
   "cell_type": "markdown",
   "id": "83eeb00d",
   "metadata": {},
   "source": [
    "Строим и обучаем модель с полученными гиперпараметрами:"
   ]
  },
  {
   "cell_type": "code",
   "execution_count": 67,
   "id": "6725bb49",
   "metadata": {},
   "outputs": [
    {
     "data": {
      "text/html": [
       "<style>#sk-container-id-8 {color: black;background-color: white;}#sk-container-id-8 pre{padding: 0;}#sk-container-id-8 div.sk-toggleable {background-color: white;}#sk-container-id-8 label.sk-toggleable__label {cursor: pointer;display: block;width: 100%;margin-bottom: 0;padding: 0.3em;box-sizing: border-box;text-align: center;}#sk-container-id-8 label.sk-toggleable__label-arrow:before {content: \"▸\";float: left;margin-right: 0.25em;color: #696969;}#sk-container-id-8 label.sk-toggleable__label-arrow:hover:before {color: black;}#sk-container-id-8 div.sk-estimator:hover label.sk-toggleable__label-arrow:before {color: black;}#sk-container-id-8 div.sk-toggleable__content {max-height: 0;max-width: 0;overflow: hidden;text-align: left;background-color: #f0f8ff;}#sk-container-id-8 div.sk-toggleable__content pre {margin: 0.2em;color: black;border-radius: 0.25em;background-color: #f0f8ff;}#sk-container-id-8 input.sk-toggleable__control:checked~div.sk-toggleable__content {max-height: 200px;max-width: 100%;overflow: auto;}#sk-container-id-8 input.sk-toggleable__control:checked~label.sk-toggleable__label-arrow:before {content: \"▾\";}#sk-container-id-8 div.sk-estimator input.sk-toggleable__control:checked~label.sk-toggleable__label {background-color: #d4ebff;}#sk-container-id-8 div.sk-label input.sk-toggleable__control:checked~label.sk-toggleable__label {background-color: #d4ebff;}#sk-container-id-8 input.sk-hidden--visually {border: 0;clip: rect(1px 1px 1px 1px);clip: rect(1px, 1px, 1px, 1px);height: 1px;margin: -1px;overflow: hidden;padding: 0;position: absolute;width: 1px;}#sk-container-id-8 div.sk-estimator {font-family: monospace;background-color: #f0f8ff;border: 1px dotted black;border-radius: 0.25em;box-sizing: border-box;margin-bottom: 0.5em;}#sk-container-id-8 div.sk-estimator:hover {background-color: #d4ebff;}#sk-container-id-8 div.sk-parallel-item::after {content: \"\";width: 100%;border-bottom: 1px solid gray;flex-grow: 1;}#sk-container-id-8 div.sk-label:hover label.sk-toggleable__label {background-color: #d4ebff;}#sk-container-id-8 div.sk-serial::before {content: \"\";position: absolute;border-left: 1px solid gray;box-sizing: border-box;top: 0;bottom: 0;left: 50%;z-index: 0;}#sk-container-id-8 div.sk-serial {display: flex;flex-direction: column;align-items: center;background-color: white;padding-right: 0.2em;padding-left: 0.2em;position: relative;}#sk-container-id-8 div.sk-item {position: relative;z-index: 1;}#sk-container-id-8 div.sk-parallel {display: flex;align-items: stretch;justify-content: center;background-color: white;position: relative;}#sk-container-id-8 div.sk-item::before, #sk-container-id-8 div.sk-parallel-item::before {content: \"\";position: absolute;border-left: 1px solid gray;box-sizing: border-box;top: 0;bottom: 0;left: 50%;z-index: -1;}#sk-container-id-8 div.sk-parallel-item {display: flex;flex-direction: column;z-index: 1;position: relative;background-color: white;}#sk-container-id-8 div.sk-parallel-item:first-child::after {align-self: flex-end;width: 50%;}#sk-container-id-8 div.sk-parallel-item:last-child::after {align-self: flex-start;width: 50%;}#sk-container-id-8 div.sk-parallel-item:only-child::after {width: 0;}#sk-container-id-8 div.sk-dashed-wrapped {border: 1px dashed gray;margin: 0 0.4em 0.5em 0.4em;box-sizing: border-box;padding-bottom: 0.4em;background-color: white;}#sk-container-id-8 div.sk-label label {font-family: monospace;font-weight: bold;display: inline-block;line-height: 1.2em;}#sk-container-id-8 div.sk-label-container {text-align: center;}#sk-container-id-8 div.sk-container {/* jupyter's `normalize.less` sets `[hidden] { display: none; }` but bootstrap.min.css set `[hidden] { display: none !important; }` so we also need the `!important` here to be able to override the default hidden behavior on the sphinx rendered scikit-learn.org. See: https://github.com/scikit-learn/scikit-learn/issues/21755 */display: inline-block !important;position: relative;}#sk-container-id-8 div.sk-text-repr-fallback {display: none;}</style><div id=\"sk-container-id-8\" class=\"sk-top-container\"><div class=\"sk-text-repr-fallback\"><pre>RandomForestClassifier(max_depth=15, max_features=2, n_estimators=700)</pre><b>In a Jupyter environment, please rerun this cell to show the HTML representation or trust the notebook. <br />On GitHub, the HTML representation is unable to render, please try loading this page with nbviewer.org.</b></div><div class=\"sk-container\" hidden><div class=\"sk-item\"><div class=\"sk-estimator sk-toggleable\"><input class=\"sk-toggleable__control sk-hidden--visually\" id=\"sk-estimator-id-12\" type=\"checkbox\" checked><label for=\"sk-estimator-id-12\" class=\"sk-toggleable__label sk-toggleable__label-arrow\">RandomForestClassifier</label><div class=\"sk-toggleable__content\"><pre>RandomForestClassifier(max_depth=15, max_features=2, n_estimators=700)</pre></div></div></div></div></div>"
      ],
      "text/plain": [
       "RandomForestClassifier(max_depth=15, max_features=2, n_estimators=700)"
      ]
     },
     "execution_count": 67,
     "metadata": {},
     "output_type": "execute_result"
    }
   ],
   "source": [
    "rfcc_model_churn_new = RandomForestClassifier(n_estimators=700, max_depth=15, max_features=2)\n",
    "rfcc_model_churn_new.fit(X_train, y_train)"
   ]
  },
  {
   "cell_type": "code",
   "execution_count": 68,
   "id": "9d55e5be",
   "metadata": {},
   "outputs": [],
   "source": [
    "y_pred = rfcc_model_churn_new.predict(X_test)"
   ]
  },
  {
   "cell_type": "code",
   "execution_count": 69,
   "id": "858914cf",
   "metadata": {},
   "outputs": [
    {
     "data": {
      "text/plain": [
       "0.811618926018566"
      ]
     },
     "execution_count": 69,
     "metadata": {},
     "output_type": "execute_result"
    }
   ],
   "source": [
    "f1_score(y_test, y_pred, average='macro')"
   ]
  },
  {
   "cell_type": "code",
   "execution_count": 70,
   "id": "4152bfec",
   "metadata": {},
   "outputs": [
    {
     "data": {
      "text/plain": [
       "0.928"
      ]
     },
     "execution_count": 70,
     "metadata": {},
     "output_type": "execute_result"
    }
   ],
   "source": [
    "f1_score(y_test, y_pred, average='micro')"
   ]
  },
  {
   "cell_type": "markdown",
   "id": "b25feae2",
   "metadata": {},
   "source": [
    "Так как в нашем датасете наблюдается дисбаланс классов, необходимо для оценки использовать f1_score 'weighted', чтобы учесть этот дисбаланс и взять взвешенное среднее"
   ]
  },
  {
   "cell_type": "code",
   "execution_count": 71,
   "id": "9b466a60",
   "metadata": {},
   "outputs": [
    {
     "data": {
      "text/plain": [
       "0.9173391382612427"
      ]
     },
     "execution_count": 71,
     "metadata": {},
     "output_type": "execute_result"
    }
   ],
   "source": [
    "f1_score(y_test, y_pred, average='weighted')"
   ]
  },
  {
   "cell_type": "markdown",
   "id": "bf282b12",
   "metadata": {},
   "source": [
    "#### На данных после балансировки классов"
   ]
  },
  {
   "cell_type": "code",
   "execution_count": 72,
   "id": "9031d650",
   "metadata": {},
   "outputs": [
    {
     "data": {
      "text/html": [
       "<style>#sk-container-id-9 {color: black;background-color: white;}#sk-container-id-9 pre{padding: 0;}#sk-container-id-9 div.sk-toggleable {background-color: white;}#sk-container-id-9 label.sk-toggleable__label {cursor: pointer;display: block;width: 100%;margin-bottom: 0;padding: 0.3em;box-sizing: border-box;text-align: center;}#sk-container-id-9 label.sk-toggleable__label-arrow:before {content: \"▸\";float: left;margin-right: 0.25em;color: #696969;}#sk-container-id-9 label.sk-toggleable__label-arrow:hover:before {color: black;}#sk-container-id-9 div.sk-estimator:hover label.sk-toggleable__label-arrow:before {color: black;}#sk-container-id-9 div.sk-toggleable__content {max-height: 0;max-width: 0;overflow: hidden;text-align: left;background-color: #f0f8ff;}#sk-container-id-9 div.sk-toggleable__content pre {margin: 0.2em;color: black;border-radius: 0.25em;background-color: #f0f8ff;}#sk-container-id-9 input.sk-toggleable__control:checked~div.sk-toggleable__content {max-height: 200px;max-width: 100%;overflow: auto;}#sk-container-id-9 input.sk-toggleable__control:checked~label.sk-toggleable__label-arrow:before {content: \"▾\";}#sk-container-id-9 div.sk-estimator input.sk-toggleable__control:checked~label.sk-toggleable__label {background-color: #d4ebff;}#sk-container-id-9 div.sk-label input.sk-toggleable__control:checked~label.sk-toggleable__label {background-color: #d4ebff;}#sk-container-id-9 input.sk-hidden--visually {border: 0;clip: rect(1px 1px 1px 1px);clip: rect(1px, 1px, 1px, 1px);height: 1px;margin: -1px;overflow: hidden;padding: 0;position: absolute;width: 1px;}#sk-container-id-9 div.sk-estimator {font-family: monospace;background-color: #f0f8ff;border: 1px dotted black;border-radius: 0.25em;box-sizing: border-box;margin-bottom: 0.5em;}#sk-container-id-9 div.sk-estimator:hover {background-color: #d4ebff;}#sk-container-id-9 div.sk-parallel-item::after {content: \"\";width: 100%;border-bottom: 1px solid gray;flex-grow: 1;}#sk-container-id-9 div.sk-label:hover label.sk-toggleable__label {background-color: #d4ebff;}#sk-container-id-9 div.sk-serial::before {content: \"\";position: absolute;border-left: 1px solid gray;box-sizing: border-box;top: 0;bottom: 0;left: 50%;z-index: 0;}#sk-container-id-9 div.sk-serial {display: flex;flex-direction: column;align-items: center;background-color: white;padding-right: 0.2em;padding-left: 0.2em;position: relative;}#sk-container-id-9 div.sk-item {position: relative;z-index: 1;}#sk-container-id-9 div.sk-parallel {display: flex;align-items: stretch;justify-content: center;background-color: white;position: relative;}#sk-container-id-9 div.sk-item::before, #sk-container-id-9 div.sk-parallel-item::before {content: \"\";position: absolute;border-left: 1px solid gray;box-sizing: border-box;top: 0;bottom: 0;left: 50%;z-index: -1;}#sk-container-id-9 div.sk-parallel-item {display: flex;flex-direction: column;z-index: 1;position: relative;background-color: white;}#sk-container-id-9 div.sk-parallel-item:first-child::after {align-self: flex-end;width: 50%;}#sk-container-id-9 div.sk-parallel-item:last-child::after {align-self: flex-start;width: 50%;}#sk-container-id-9 div.sk-parallel-item:only-child::after {width: 0;}#sk-container-id-9 div.sk-dashed-wrapped {border: 1px dashed gray;margin: 0 0.4em 0.5em 0.4em;box-sizing: border-box;padding-bottom: 0.4em;background-color: white;}#sk-container-id-9 div.sk-label label {font-family: monospace;font-weight: bold;display: inline-block;line-height: 1.2em;}#sk-container-id-9 div.sk-label-container {text-align: center;}#sk-container-id-9 div.sk-container {/* jupyter's `normalize.less` sets `[hidden] { display: none; }` but bootstrap.min.css set `[hidden] { display: none !important; }` so we also need the `!important` here to be able to override the default hidden behavior on the sphinx rendered scikit-learn.org. See: https://github.com/scikit-learn/scikit-learn/issues/21755 */display: inline-block !important;position: relative;}#sk-container-id-9 div.sk-text-repr-fallback {display: none;}</style><div id=\"sk-container-id-9\" class=\"sk-top-container\"><div class=\"sk-text-repr-fallback\"><pre>RandomForestClassifier()</pre><b>In a Jupyter environment, please rerun this cell to show the HTML representation or trust the notebook. <br />On GitHub, the HTML representation is unable to render, please try loading this page with nbviewer.org.</b></div><div class=\"sk-container\" hidden><div class=\"sk-item\"><div class=\"sk-estimator sk-toggleable\"><input class=\"sk-toggleable__control sk-hidden--visually\" id=\"sk-estimator-id-13\" type=\"checkbox\" checked><label for=\"sk-estimator-id-13\" class=\"sk-toggleable__label sk-toggleable__label-arrow\">RandomForestClassifier</label><div class=\"sk-toggleable__content\"><pre>RandomForestClassifier()</pre></div></div></div></div></div>"
      ],
      "text/plain": [
       "RandomForestClassifier()"
      ]
     },
     "execution_count": 72,
     "metadata": {},
     "output_type": "execute_result"
    }
   ],
   "source": [
    "rfcc_model_churn_bal = RandomForestClassifier()\n",
    "rfcc_model_churn_bal.fit(X_train_balance, y_train_balance)"
   ]
  },
  {
   "cell_type": "code",
   "execution_count": 73,
   "id": "9a7da282",
   "metadata": {},
   "outputs": [
    {
     "name": "stdout",
     "output_type": "stream",
     "text": [
      "CPU times: user 3.05 s, sys: 411 ms, total: 3.46 s\n",
      "Wall time: 7min 40s\n"
     ]
    },
    {
     "data": {
      "text/html": [
       "<style>#sk-container-id-10 {color: black;background-color: white;}#sk-container-id-10 pre{padding: 0;}#sk-container-id-10 div.sk-toggleable {background-color: white;}#sk-container-id-10 label.sk-toggleable__label {cursor: pointer;display: block;width: 100%;margin-bottom: 0;padding: 0.3em;box-sizing: border-box;text-align: center;}#sk-container-id-10 label.sk-toggleable__label-arrow:before {content: \"▸\";float: left;margin-right: 0.25em;color: #696969;}#sk-container-id-10 label.sk-toggleable__label-arrow:hover:before {color: black;}#sk-container-id-10 div.sk-estimator:hover label.sk-toggleable__label-arrow:before {color: black;}#sk-container-id-10 div.sk-toggleable__content {max-height: 0;max-width: 0;overflow: hidden;text-align: left;background-color: #f0f8ff;}#sk-container-id-10 div.sk-toggleable__content pre {margin: 0.2em;color: black;border-radius: 0.25em;background-color: #f0f8ff;}#sk-container-id-10 input.sk-toggleable__control:checked~div.sk-toggleable__content {max-height: 200px;max-width: 100%;overflow: auto;}#sk-container-id-10 input.sk-toggleable__control:checked~label.sk-toggleable__label-arrow:before {content: \"▾\";}#sk-container-id-10 div.sk-estimator input.sk-toggleable__control:checked~label.sk-toggleable__label {background-color: #d4ebff;}#sk-container-id-10 div.sk-label input.sk-toggleable__control:checked~label.sk-toggleable__label {background-color: #d4ebff;}#sk-container-id-10 input.sk-hidden--visually {border: 0;clip: rect(1px 1px 1px 1px);clip: rect(1px, 1px, 1px, 1px);height: 1px;margin: -1px;overflow: hidden;padding: 0;position: absolute;width: 1px;}#sk-container-id-10 div.sk-estimator {font-family: monospace;background-color: #f0f8ff;border: 1px dotted black;border-radius: 0.25em;box-sizing: border-box;margin-bottom: 0.5em;}#sk-container-id-10 div.sk-estimator:hover {background-color: #d4ebff;}#sk-container-id-10 div.sk-parallel-item::after {content: \"\";width: 100%;border-bottom: 1px solid gray;flex-grow: 1;}#sk-container-id-10 div.sk-label:hover label.sk-toggleable__label {background-color: #d4ebff;}#sk-container-id-10 div.sk-serial::before {content: \"\";position: absolute;border-left: 1px solid gray;box-sizing: border-box;top: 0;bottom: 0;left: 50%;z-index: 0;}#sk-container-id-10 div.sk-serial {display: flex;flex-direction: column;align-items: center;background-color: white;padding-right: 0.2em;padding-left: 0.2em;position: relative;}#sk-container-id-10 div.sk-item {position: relative;z-index: 1;}#sk-container-id-10 div.sk-parallel {display: flex;align-items: stretch;justify-content: center;background-color: white;position: relative;}#sk-container-id-10 div.sk-item::before, #sk-container-id-10 div.sk-parallel-item::before {content: \"\";position: absolute;border-left: 1px solid gray;box-sizing: border-box;top: 0;bottom: 0;left: 50%;z-index: -1;}#sk-container-id-10 div.sk-parallel-item {display: flex;flex-direction: column;z-index: 1;position: relative;background-color: white;}#sk-container-id-10 div.sk-parallel-item:first-child::after {align-self: flex-end;width: 50%;}#sk-container-id-10 div.sk-parallel-item:last-child::after {align-self: flex-start;width: 50%;}#sk-container-id-10 div.sk-parallel-item:only-child::after {width: 0;}#sk-container-id-10 div.sk-dashed-wrapped {border: 1px dashed gray;margin: 0 0.4em 0.5em 0.4em;box-sizing: border-box;padding-bottom: 0.4em;background-color: white;}#sk-container-id-10 div.sk-label label {font-family: monospace;font-weight: bold;display: inline-block;line-height: 1.2em;}#sk-container-id-10 div.sk-label-container {text-align: center;}#sk-container-id-10 div.sk-container {/* jupyter's `normalize.less` sets `[hidden] { display: none; }` but bootstrap.min.css set `[hidden] { display: none !important; }` so we also need the `!important` here to be able to override the default hidden behavior on the sphinx rendered scikit-learn.org. See: https://github.com/scikit-learn/scikit-learn/issues/21755 */display: inline-block !important;position: relative;}#sk-container-id-10 div.sk-text-repr-fallback {display: none;}</style><div id=\"sk-container-id-10\" class=\"sk-top-container\"><div class=\"sk-text-repr-fallback\"><pre>GridSearchCV(estimator=RandomForestClassifier(), n_jobs=-1,\n",
       "             param_grid={&#x27;max_depth&#x27;: [3, 5, 7, 10, 15], &#x27;max_features&#x27;: [1, 2],\n",
       "                         &#x27;n_estimators&#x27;: [10, 20, 30, 40, 50, 100, 200, 500,\n",
       "                                          700, 1000, 1200, 1500]},\n",
       "             scoring=&#x27;f1&#x27;)</pre><b>In a Jupyter environment, please rerun this cell to show the HTML representation or trust the notebook. <br />On GitHub, the HTML representation is unable to render, please try loading this page with nbviewer.org.</b></div><div class=\"sk-container\" hidden><div class=\"sk-item sk-dashed-wrapped\"><div class=\"sk-label-container\"><div class=\"sk-label sk-toggleable\"><input class=\"sk-toggleable__control sk-hidden--visually\" id=\"sk-estimator-id-14\" type=\"checkbox\" ><label for=\"sk-estimator-id-14\" class=\"sk-toggleable__label sk-toggleable__label-arrow\">GridSearchCV</label><div class=\"sk-toggleable__content\"><pre>GridSearchCV(estimator=RandomForestClassifier(), n_jobs=-1,\n",
       "             param_grid={&#x27;max_depth&#x27;: [3, 5, 7, 10, 15], &#x27;max_features&#x27;: [1, 2],\n",
       "                         &#x27;n_estimators&#x27;: [10, 20, 30, 40, 50, 100, 200, 500,\n",
       "                                          700, 1000, 1200, 1500]},\n",
       "             scoring=&#x27;f1&#x27;)</pre></div></div></div><div class=\"sk-parallel\"><div class=\"sk-parallel-item\"><div class=\"sk-item\"><div class=\"sk-label-container\"><div class=\"sk-label sk-toggleable\"><input class=\"sk-toggleable__control sk-hidden--visually\" id=\"sk-estimator-id-15\" type=\"checkbox\" ><label for=\"sk-estimator-id-15\" class=\"sk-toggleable__label sk-toggleable__label-arrow\">estimator: RandomForestClassifier</label><div class=\"sk-toggleable__content\"><pre>RandomForestClassifier()</pre></div></div></div><div class=\"sk-serial\"><div class=\"sk-item\"><div class=\"sk-estimator sk-toggleable\"><input class=\"sk-toggleable__control sk-hidden--visually\" id=\"sk-estimator-id-16\" type=\"checkbox\" ><label for=\"sk-estimator-id-16\" class=\"sk-toggleable__label sk-toggleable__label-arrow\">RandomForestClassifier</label><div class=\"sk-toggleable__content\"><pre>RandomForestClassifier()</pre></div></div></div></div></div></div></div></div></div></div>"
      ],
      "text/plain": [
       "GridSearchCV(estimator=RandomForestClassifier(), n_jobs=-1,\n",
       "             param_grid={'max_depth': [3, 5, 7, 10, 15], 'max_features': [1, 2],\n",
       "                         'n_estimators': [10, 20, 30, 40, 50, 100, 200, 500,\n",
       "                                          700, 1000, 1200, 1500]},\n",
       "             scoring='f1')"
      ]
     },
     "execution_count": 73,
     "metadata": {},
     "output_type": "execute_result"
    }
   ],
   "source": [
    "%%time\n",
    "\n",
    "gs_rfcc_churn_bal = GridSearchCV(rfcc_model_churn_bal, params, scoring='f1', n_jobs=-1)\n",
    "gs_rfcc_churn_bal.fit(X_train_balance, y_train_balance)"
   ]
  },
  {
   "cell_type": "code",
   "execution_count": 74,
   "id": "21ab728e",
   "metadata": {},
   "outputs": [
    {
     "data": {
      "text/plain": [
       "{'max_depth': 15, 'max_features': 1, 'n_estimators': 200}"
      ]
     },
     "execution_count": 74,
     "metadata": {},
     "output_type": "execute_result"
    }
   ],
   "source": [
    "gs_rfcc_churn_bal.best_params_"
   ]
  },
  {
   "cell_type": "code",
   "execution_count": 75,
   "id": "a0a5f0e0",
   "metadata": {},
   "outputs": [
    {
     "data": {
      "text/plain": [
       "0.9882922365673202"
      ]
     },
     "execution_count": 75,
     "metadata": {},
     "output_type": "execute_result"
    }
   ],
   "source": [
    "gs_rfcc_churn_bal.best_score_"
   ]
  },
  {
   "cell_type": "markdown",
   "id": "fccb08af",
   "metadata": {},
   "source": [
    "Строим и обучаем модель с полученными гиперпараметрами:"
   ]
  },
  {
   "cell_type": "code",
   "execution_count": 76,
   "id": "18ab0733",
   "metadata": {},
   "outputs": [
    {
     "data": {
      "text/html": [
       "<style>#sk-container-id-11 {color: black;background-color: white;}#sk-container-id-11 pre{padding: 0;}#sk-container-id-11 div.sk-toggleable {background-color: white;}#sk-container-id-11 label.sk-toggleable__label {cursor: pointer;display: block;width: 100%;margin-bottom: 0;padding: 0.3em;box-sizing: border-box;text-align: center;}#sk-container-id-11 label.sk-toggleable__label-arrow:before {content: \"▸\";float: left;margin-right: 0.25em;color: #696969;}#sk-container-id-11 label.sk-toggleable__label-arrow:hover:before {color: black;}#sk-container-id-11 div.sk-estimator:hover label.sk-toggleable__label-arrow:before {color: black;}#sk-container-id-11 div.sk-toggleable__content {max-height: 0;max-width: 0;overflow: hidden;text-align: left;background-color: #f0f8ff;}#sk-container-id-11 div.sk-toggleable__content pre {margin: 0.2em;color: black;border-radius: 0.25em;background-color: #f0f8ff;}#sk-container-id-11 input.sk-toggleable__control:checked~div.sk-toggleable__content {max-height: 200px;max-width: 100%;overflow: auto;}#sk-container-id-11 input.sk-toggleable__control:checked~label.sk-toggleable__label-arrow:before {content: \"▾\";}#sk-container-id-11 div.sk-estimator input.sk-toggleable__control:checked~label.sk-toggleable__label {background-color: #d4ebff;}#sk-container-id-11 div.sk-label input.sk-toggleable__control:checked~label.sk-toggleable__label {background-color: #d4ebff;}#sk-container-id-11 input.sk-hidden--visually {border: 0;clip: rect(1px 1px 1px 1px);clip: rect(1px, 1px, 1px, 1px);height: 1px;margin: -1px;overflow: hidden;padding: 0;position: absolute;width: 1px;}#sk-container-id-11 div.sk-estimator {font-family: monospace;background-color: #f0f8ff;border: 1px dotted black;border-radius: 0.25em;box-sizing: border-box;margin-bottom: 0.5em;}#sk-container-id-11 div.sk-estimator:hover {background-color: #d4ebff;}#sk-container-id-11 div.sk-parallel-item::after {content: \"\";width: 100%;border-bottom: 1px solid gray;flex-grow: 1;}#sk-container-id-11 div.sk-label:hover label.sk-toggleable__label {background-color: #d4ebff;}#sk-container-id-11 div.sk-serial::before {content: \"\";position: absolute;border-left: 1px solid gray;box-sizing: border-box;top: 0;bottom: 0;left: 50%;z-index: 0;}#sk-container-id-11 div.sk-serial {display: flex;flex-direction: column;align-items: center;background-color: white;padding-right: 0.2em;padding-left: 0.2em;position: relative;}#sk-container-id-11 div.sk-item {position: relative;z-index: 1;}#sk-container-id-11 div.sk-parallel {display: flex;align-items: stretch;justify-content: center;background-color: white;position: relative;}#sk-container-id-11 div.sk-item::before, #sk-container-id-11 div.sk-parallel-item::before {content: \"\";position: absolute;border-left: 1px solid gray;box-sizing: border-box;top: 0;bottom: 0;left: 50%;z-index: -1;}#sk-container-id-11 div.sk-parallel-item {display: flex;flex-direction: column;z-index: 1;position: relative;background-color: white;}#sk-container-id-11 div.sk-parallel-item:first-child::after {align-self: flex-end;width: 50%;}#sk-container-id-11 div.sk-parallel-item:last-child::after {align-self: flex-start;width: 50%;}#sk-container-id-11 div.sk-parallel-item:only-child::after {width: 0;}#sk-container-id-11 div.sk-dashed-wrapped {border: 1px dashed gray;margin: 0 0.4em 0.5em 0.4em;box-sizing: border-box;padding-bottom: 0.4em;background-color: white;}#sk-container-id-11 div.sk-label label {font-family: monospace;font-weight: bold;display: inline-block;line-height: 1.2em;}#sk-container-id-11 div.sk-label-container {text-align: center;}#sk-container-id-11 div.sk-container {/* jupyter's `normalize.less` sets `[hidden] { display: none; }` but bootstrap.min.css set `[hidden] { display: none !important; }` so we also need the `!important` here to be able to override the default hidden behavior on the sphinx rendered scikit-learn.org. See: https://github.com/scikit-learn/scikit-learn/issues/21755 */display: inline-block !important;position: relative;}#sk-container-id-11 div.sk-text-repr-fallback {display: none;}</style><div id=\"sk-container-id-11\" class=\"sk-top-container\"><div class=\"sk-text-repr-fallback\"><pre>RandomForestClassifier(max_depth=15, max_features=1, n_estimators=50)</pre><b>In a Jupyter environment, please rerun this cell to show the HTML representation or trust the notebook. <br />On GitHub, the HTML representation is unable to render, please try loading this page with nbviewer.org.</b></div><div class=\"sk-container\" hidden><div class=\"sk-item\"><div class=\"sk-estimator sk-toggleable\"><input class=\"sk-toggleable__control sk-hidden--visually\" id=\"sk-estimator-id-17\" type=\"checkbox\" checked><label for=\"sk-estimator-id-17\" class=\"sk-toggleable__label sk-toggleable__label-arrow\">RandomForestClassifier</label><div class=\"sk-toggleable__content\"><pre>RandomForestClassifier(max_depth=15, max_features=1, n_estimators=50)</pre></div></div></div></div></div>"
      ],
      "text/plain": [
       "RandomForestClassifier(max_depth=15, max_features=1, n_estimators=50)"
      ]
     },
     "execution_count": 76,
     "metadata": {},
     "output_type": "execute_result"
    }
   ],
   "source": [
    "rfcc_model_churn_bal_new = RandomForestClassifier(n_estimators=50, max_depth=15, max_features=1)\n",
    "rfcc_model_churn_bal_new.fit(X_train_balance, y_train_balance)"
   ]
  },
  {
   "cell_type": "code",
   "execution_count": 77,
   "id": "38c20178",
   "metadata": {},
   "outputs": [
    {
     "name": "stdout",
     "output_type": "stream",
     "text": [
      "TRAIN\n",
      "\n",
      "              precision    recall  f1-score   support\n",
      "\n",
      "           0       1.00      1.00      1.00      1993\n",
      "           1       1.00      1.00      1.00      1700\n",
      "\n",
      "    accuracy                           1.00      3693\n",
      "   macro avg       1.00      1.00      1.00      3693\n",
      "weighted avg       1.00      1.00      1.00      3693\n",
      "\n",
      "TEST\n",
      "\n",
      "              precision    recall  f1-score   support\n",
      "\n",
      "           0       0.93      0.99      0.96       857\n",
      "           1       0.94      0.54      0.68       143\n",
      "\n",
      "    accuracy                           0.93      1000\n",
      "   macro avg       0.93      0.77      0.82      1000\n",
      "weighted avg       0.93      0.93      0.92      1000\n",
      "\n",
      "CONFUSION MATRIX\n",
      "\n",
      "col_0    0   1\n",
      "row_0         \n",
      "0      852   5\n",
      "1       66  77\n"
     ]
    }
   ],
   "source": [
    "y_test_pred = rfcc_model_churn_bal_new.predict(X_test)\n",
    "y_train_pred = rfcc_model_churn_bal_new.predict(X_train_balance)\n",
    "\n",
    "get_classification_report(y_train_balance, y_train_pred, y_test, y_test_pred)"
   ]
  },
  {
   "cell_type": "code",
   "execution_count": 78,
   "id": "32f80494",
   "metadata": {},
   "outputs": [
    {
     "data": {
      "text/plain": [
       "0.928"
      ]
     },
     "execution_count": 78,
     "metadata": {},
     "output_type": "execute_result"
    }
   ],
   "source": [
    "f1_score(y_test, y_pred, average='micro')"
   ]
  },
  {
   "cell_type": "markdown",
   "id": "8f83c2fe",
   "metadata": {},
   "source": [
    "**Выводы:**\n",
    "* до балансировки классов: метрика f1_score 'weighted' = **0.92** (учитываем именно ее, так как важно взять взвешенное среднее (то есть учесть какой класс сколько объектов содержит))\n",
    "* после балансировки: метрика f1_score 'weighted' = **0.91**, метрика f1_score 'micro' = **0.93** (здесь наверно можно учесть micro, так как дисбаланс классов поправлен)"
   ]
  },
  {
   "cell_type": "markdown",
   "id": "2d10eb1b",
   "metadata": {},
   "source": [
    "### LightGBM Classifier"
   ]
  },
  {
   "cell_type": "markdown",
   "id": "5f3a2cb8",
   "metadata": {},
   "source": [
    "Построим модель с параметрами по умолчанию и посмотрим на score:"
   ]
  },
  {
   "cell_type": "code",
   "execution_count": 79,
   "id": "ef1eb261",
   "metadata": {},
   "outputs": [
    {
     "name": "stdout",
     "output_type": "stream",
     "text": [
      "TRAIN\n",
      "\n",
      "              precision    recall  f1-score   support\n",
      "\n",
      "           0       1.00      1.00      1.00      1993\n",
      "           1       1.00      1.00      1.00       340\n",
      "\n",
      "    accuracy                           1.00      2333\n",
      "   macro avg       1.00      1.00      1.00      2333\n",
      "weighted avg       1.00      1.00      1.00      2333\n",
      "\n",
      "TEST\n",
      "\n",
      "              precision    recall  f1-score   support\n",
      "\n",
      "           0       0.96      0.99      0.97       857\n",
      "           1       0.95      0.72      0.82       143\n",
      "\n",
      "    accuracy                           0.95      1000\n",
      "   macro avg       0.95      0.86      0.90      1000\n",
      "weighted avg       0.95      0.95      0.95      1000\n",
      "\n",
      "CONFUSION MATRIX\n",
      "\n",
      "col_0    0    1\n",
      "row_0          \n",
      "0      852    5\n",
      "1       40  103\n"
     ]
    }
   ],
   "source": [
    "model_lgbm = lightgbm.LGBMClassifier(random_state=21)\n",
    "model_lgbm.fit(X_train, y_train)\n",
    "\n",
    "y_train_pred = model_lgbm.predict(X_train)\n",
    "y_test_pred = model_lgbm.predict(X_test)\n",
    "\n",
    "get_classification_report(y_train, y_train_pred, y_test, y_test_pred)"
   ]
  },
  {
   "cell_type": "markdown",
   "id": "4300eb9b",
   "metadata": {},
   "source": [
    "С гиперпараметрами по умолчанию модель предсказывает хорошо)"
   ]
  },
  {
   "cell_type": "markdown",
   "id": "89d4daf6",
   "metadata": {},
   "source": [
    "Но попробуем подобрать гиперпараметры и сделать модель еще лучше \\\n",
    "Для лучшего значения accuracy рекомендуется подобрать значения для гиперпараметров n_estimators и learning_rate:"
   ]
  },
  {
   "cell_type": "code",
   "execution_count": 80,
   "id": "4daf4b6a",
   "metadata": {},
   "outputs": [],
   "source": [
    "params_lgbm = {'n_estimators':[20, 30, 50, 100, 150, 200, 500, 700, 1000, 1200, 1500], # кол-во деревьев в ансамбле\n",
    "          'learning_rate':[0.01, 0.05, 0.1, 0.2, 0.5]}"
   ]
  },
  {
   "cell_type": "code",
   "execution_count": 81,
   "id": "895f0dfc",
   "metadata": {},
   "outputs": [
    {
     "name": "stdout",
     "output_type": "stream",
     "text": [
      "CPU times: user 6.21 s, sys: 133 ms, total: 6.35 s\n",
      "Wall time: 18.1 s\n"
     ]
    },
    {
     "data": {
      "text/html": [
       "<style>#sk-container-id-12 {color: black;background-color: white;}#sk-container-id-12 pre{padding: 0;}#sk-container-id-12 div.sk-toggleable {background-color: white;}#sk-container-id-12 label.sk-toggleable__label {cursor: pointer;display: block;width: 100%;margin-bottom: 0;padding: 0.3em;box-sizing: border-box;text-align: center;}#sk-container-id-12 label.sk-toggleable__label-arrow:before {content: \"▸\";float: left;margin-right: 0.25em;color: #696969;}#sk-container-id-12 label.sk-toggleable__label-arrow:hover:before {color: black;}#sk-container-id-12 div.sk-estimator:hover label.sk-toggleable__label-arrow:before {color: black;}#sk-container-id-12 div.sk-toggleable__content {max-height: 0;max-width: 0;overflow: hidden;text-align: left;background-color: #f0f8ff;}#sk-container-id-12 div.sk-toggleable__content pre {margin: 0.2em;color: black;border-radius: 0.25em;background-color: #f0f8ff;}#sk-container-id-12 input.sk-toggleable__control:checked~div.sk-toggleable__content {max-height: 200px;max-width: 100%;overflow: auto;}#sk-container-id-12 input.sk-toggleable__control:checked~label.sk-toggleable__label-arrow:before {content: \"▾\";}#sk-container-id-12 div.sk-estimator input.sk-toggleable__control:checked~label.sk-toggleable__label {background-color: #d4ebff;}#sk-container-id-12 div.sk-label input.sk-toggleable__control:checked~label.sk-toggleable__label {background-color: #d4ebff;}#sk-container-id-12 input.sk-hidden--visually {border: 0;clip: rect(1px 1px 1px 1px);clip: rect(1px, 1px, 1px, 1px);height: 1px;margin: -1px;overflow: hidden;padding: 0;position: absolute;width: 1px;}#sk-container-id-12 div.sk-estimator {font-family: monospace;background-color: #f0f8ff;border: 1px dotted black;border-radius: 0.25em;box-sizing: border-box;margin-bottom: 0.5em;}#sk-container-id-12 div.sk-estimator:hover {background-color: #d4ebff;}#sk-container-id-12 div.sk-parallel-item::after {content: \"\";width: 100%;border-bottom: 1px solid gray;flex-grow: 1;}#sk-container-id-12 div.sk-label:hover label.sk-toggleable__label {background-color: #d4ebff;}#sk-container-id-12 div.sk-serial::before {content: \"\";position: absolute;border-left: 1px solid gray;box-sizing: border-box;top: 0;bottom: 0;left: 50%;z-index: 0;}#sk-container-id-12 div.sk-serial {display: flex;flex-direction: column;align-items: center;background-color: white;padding-right: 0.2em;padding-left: 0.2em;position: relative;}#sk-container-id-12 div.sk-item {position: relative;z-index: 1;}#sk-container-id-12 div.sk-parallel {display: flex;align-items: stretch;justify-content: center;background-color: white;position: relative;}#sk-container-id-12 div.sk-item::before, #sk-container-id-12 div.sk-parallel-item::before {content: \"\";position: absolute;border-left: 1px solid gray;box-sizing: border-box;top: 0;bottom: 0;left: 50%;z-index: -1;}#sk-container-id-12 div.sk-parallel-item {display: flex;flex-direction: column;z-index: 1;position: relative;background-color: white;}#sk-container-id-12 div.sk-parallel-item:first-child::after {align-self: flex-end;width: 50%;}#sk-container-id-12 div.sk-parallel-item:last-child::after {align-self: flex-start;width: 50%;}#sk-container-id-12 div.sk-parallel-item:only-child::after {width: 0;}#sk-container-id-12 div.sk-dashed-wrapped {border: 1px dashed gray;margin: 0 0.4em 0.5em 0.4em;box-sizing: border-box;padding-bottom: 0.4em;background-color: white;}#sk-container-id-12 div.sk-label label {font-family: monospace;font-weight: bold;display: inline-block;line-height: 1.2em;}#sk-container-id-12 div.sk-label-container {text-align: center;}#sk-container-id-12 div.sk-container {/* jupyter's `normalize.less` sets `[hidden] { display: none; }` but bootstrap.min.css set `[hidden] { display: none !important; }` so we also need the `!important` here to be able to override the default hidden behavior on the sphinx rendered scikit-learn.org. See: https://github.com/scikit-learn/scikit-learn/issues/21755 */display: inline-block !important;position: relative;}#sk-container-id-12 div.sk-text-repr-fallback {display: none;}</style><div id=\"sk-container-id-12\" class=\"sk-top-container\"><div class=\"sk-text-repr-fallback\"><pre>RandomizedSearchCV(estimator=LGBMClassifier(random_state=21), n_jobs=-1,\n",
       "                   param_distributions={&#x27;learning_rate&#x27;: [0.01, 0.05, 0.1, 0.2,\n",
       "                                                          0.5],\n",
       "                                        &#x27;n_estimators&#x27;: [20, 30, 50, 100, 150,\n",
       "                                                         200, 500, 700, 1000,\n",
       "                                                         1200, 1500]},\n",
       "                   scoring=&#x27;f1&#x27;)</pre><b>In a Jupyter environment, please rerun this cell to show the HTML representation or trust the notebook. <br />On GitHub, the HTML representation is unable to render, please try loading this page with nbviewer.org.</b></div><div class=\"sk-container\" hidden><div class=\"sk-item sk-dashed-wrapped\"><div class=\"sk-label-container\"><div class=\"sk-label sk-toggleable\"><input class=\"sk-toggleable__control sk-hidden--visually\" id=\"sk-estimator-id-18\" type=\"checkbox\" ><label for=\"sk-estimator-id-18\" class=\"sk-toggleable__label sk-toggleable__label-arrow\">RandomizedSearchCV</label><div class=\"sk-toggleable__content\"><pre>RandomizedSearchCV(estimator=LGBMClassifier(random_state=21), n_jobs=-1,\n",
       "                   param_distributions={&#x27;learning_rate&#x27;: [0.01, 0.05, 0.1, 0.2,\n",
       "                                                          0.5],\n",
       "                                        &#x27;n_estimators&#x27;: [20, 30, 50, 100, 150,\n",
       "                                                         200, 500, 700, 1000,\n",
       "                                                         1200, 1500]},\n",
       "                   scoring=&#x27;f1&#x27;)</pre></div></div></div><div class=\"sk-parallel\"><div class=\"sk-parallel-item\"><div class=\"sk-item\"><div class=\"sk-label-container\"><div class=\"sk-label sk-toggleable\"><input class=\"sk-toggleable__control sk-hidden--visually\" id=\"sk-estimator-id-19\" type=\"checkbox\" ><label for=\"sk-estimator-id-19\" class=\"sk-toggleable__label sk-toggleable__label-arrow\">estimator: LGBMClassifier</label><div class=\"sk-toggleable__content\"><pre>LGBMClassifier(random_state=21)</pre></div></div></div><div class=\"sk-serial\"><div class=\"sk-item\"><div class=\"sk-estimator sk-toggleable\"><input class=\"sk-toggleable__control sk-hidden--visually\" id=\"sk-estimator-id-20\" type=\"checkbox\" ><label for=\"sk-estimator-id-20\" class=\"sk-toggleable__label sk-toggleable__label-arrow\">LGBMClassifier</label><div class=\"sk-toggleable__content\"><pre>LGBMClassifier(random_state=21)</pre></div></div></div></div></div></div></div></div></div></div>"
      ],
      "text/plain": [
       "RandomizedSearchCV(estimator=LGBMClassifier(random_state=21), n_jobs=-1,\n",
       "                   param_distributions={'learning_rate': [0.01, 0.05, 0.1, 0.2,\n",
       "                                                          0.5],\n",
       "                                        'n_estimators': [20, 30, 50, 100, 150,\n",
       "                                                         200, 500, 700, 1000,\n",
       "                                                         1200, 1500]},\n",
       "                   scoring='f1')"
      ]
     },
     "execution_count": 81,
     "metadata": {},
     "output_type": "execute_result"
    }
   ],
   "source": [
    "%%time\n",
    "\n",
    "model_tuned_lgbm = RandomizedSearchCV(model_lgbm, params_lgbm, scoring='f1', n_jobs=-1)\n",
    "model_tuned_lgbm.fit(X_train, y_train)"
   ]
  },
  {
   "cell_type": "code",
   "execution_count": 82,
   "id": "7ac42562",
   "metadata": {},
   "outputs": [
    {
     "data": {
      "text/plain": [
       "{'n_estimators': 1500, 'learning_rate': 0.05}"
      ]
     },
     "execution_count": 82,
     "metadata": {},
     "output_type": "execute_result"
    }
   ],
   "source": [
    "model_tuned_lgbm.best_params_"
   ]
  },
  {
   "cell_type": "code",
   "execution_count": 83,
   "id": "aa731ca0",
   "metadata": {},
   "outputs": [
    {
     "data": {
      "text/plain": [
       "0.8388487288135593"
      ]
     },
     "execution_count": 83,
     "metadata": {},
     "output_type": "execute_result"
    }
   ],
   "source": [
    "model_tuned_lgbm.best_score_"
   ]
  },
  {
   "cell_type": "markdown",
   "id": "aeff26f6",
   "metadata": {},
   "source": [
    "Обучение и оценка новой модели:"
   ]
  },
  {
   "cell_type": "code",
   "execution_count": 87,
   "id": "f15f4bee",
   "metadata": {},
   "outputs": [
    {
     "name": "stdout",
     "output_type": "stream",
     "text": [
      "TRAIN\n",
      "\n",
      "              precision    recall  f1-score   support\n",
      "\n",
      "           0       1.00      1.00      1.00      1993\n",
      "           1       1.00      1.00      1.00       340\n",
      "\n",
      "    accuracy                           1.00      2333\n",
      "   macro avg       1.00      1.00      1.00      2333\n",
      "weighted avg       1.00      1.00      1.00      2333\n",
      "\n",
      "TEST\n",
      "\n",
      "              precision    recall  f1-score   support\n",
      "\n",
      "           0       0.95      0.99      0.97       857\n",
      "           1       0.93      0.70      0.80       143\n",
      "\n",
      "    accuracy                           0.95      1000\n",
      "   macro avg       0.94      0.85      0.89      1000\n",
      "weighted avg       0.95      0.95      0.95      1000\n",
      "\n",
      "CONFUSION MATRIX\n",
      "\n",
      "col_0    0    1\n",
      "row_0          \n",
      "0      850    7\n",
      "1       43  100\n"
     ]
    }
   ],
   "source": [
    "model_tuned_lgbm = lightgbm.LGBMClassifier(n_estimators=1500, learning_rate = 0.05,\n",
    "                                      silent=True, random_state=21)\n",
    "model_tuned_lgbm.fit(X_train, y_train)\n",
    "\n",
    "y_train_pred = model_tuned_lgbm.predict(X_train)\n",
    "y_test_pred = model_tuned_lgbm.predict(X_test)\n",
    "\n",
    "get_classification_report(y_train, y_train_pred, y_test, y_test_pred)"
   ]
  },
  {
   "cell_type": "markdown",
   "id": "c42fdbe4",
   "metadata": {},
   "source": [
    "Значения метрик после подбора гиперпараметров немного ухудшились по сравнению с baseline"
   ]
  },
  {
   "cell_type": "markdown",
   "id": "aa8e8a43",
   "metadata": {},
   "source": [
    "### CatBoostClassifier"
   ]
  },
  {
   "cell_type": "code",
   "execution_count": 85,
   "id": "b600930f",
   "metadata": {},
   "outputs": [
    {
     "name": "stdout",
     "output_type": "stream",
     "text": [
      "Learning rate set to 0.014792\n",
      "0:\tlearn: 0.6742704\ttotal: 5.9ms\tremaining: 5.9s\n",
      "1:\tlearn: 0.6567427\ttotal: 9.56ms\tremaining: 4.77s\n",
      "2:\tlearn: 0.6443922\ttotal: 13ms\tremaining: 4.32s\n",
      "3:\tlearn: 0.6318001\ttotal: 16.3ms\tremaining: 4.07s\n",
      "4:\tlearn: 0.6166955\ttotal: 19.8ms\tremaining: 3.93s\n",
      "5:\tlearn: 0.6036142\ttotal: 23.1ms\tremaining: 3.82s\n",
      "6:\tlearn: 0.5914820\ttotal: 26.3ms\tremaining: 3.73s\n",
      "7:\tlearn: 0.5815611\ttotal: 29.6ms\tremaining: 3.67s\n",
      "8:\tlearn: 0.5718997\ttotal: 32.7ms\tremaining: 3.6s\n",
      "9:\tlearn: 0.5613796\ttotal: 36.1ms\tremaining: 3.57s\n",
      "10:\tlearn: 0.5486105\ttotal: 39.5ms\tremaining: 3.55s\n",
      "11:\tlearn: 0.5390556\ttotal: 42.7ms\tremaining: 3.52s\n",
      "12:\tlearn: 0.5277140\ttotal: 46.1ms\tremaining: 3.5s\n",
      "13:\tlearn: 0.5196354\ttotal: 49.4ms\tremaining: 3.48s\n",
      "14:\tlearn: 0.5117397\ttotal: 52.5ms\tremaining: 3.45s\n",
      "15:\tlearn: 0.5023406\ttotal: 55.8ms\tremaining: 3.43s\n",
      "16:\tlearn: 0.4945287\ttotal: 59ms\tremaining: 3.41s\n",
      "17:\tlearn: 0.4839459\ttotal: 62.1ms\tremaining: 3.39s\n",
      "18:\tlearn: 0.4744597\ttotal: 65.7ms\tremaining: 3.39s\n",
      "19:\tlearn: 0.4675929\ttotal: 72.9ms\tremaining: 3.57s\n",
      "20:\tlearn: 0.4606656\ttotal: 77.4ms\tremaining: 3.61s\n",
      "21:\tlearn: 0.4538177\ttotal: 82ms\tremaining: 3.64s\n",
      "22:\tlearn: 0.4458430\ttotal: 86.5ms\tremaining: 3.67s\n",
      "23:\tlearn: 0.4377732\ttotal: 91.2ms\tremaining: 3.71s\n",
      "24:\tlearn: 0.4317728\ttotal: 96.8ms\tremaining: 3.78s\n",
      "25:\tlearn: 0.4255088\ttotal: 102ms\tremaining: 3.83s\n",
      "26:\tlearn: 0.4193179\ttotal: 106ms\tremaining: 3.81s\n",
      "27:\tlearn: 0.4125623\ttotal: 109ms\tremaining: 3.78s\n",
      "28:\tlearn: 0.4073294\ttotal: 112ms\tremaining: 3.75s\n",
      "29:\tlearn: 0.4016015\ttotal: 116ms\tremaining: 3.74s\n",
      "30:\tlearn: 0.3959270\ttotal: 120ms\tremaining: 3.76s\n",
      "31:\tlearn: 0.3902724\ttotal: 124ms\tremaining: 3.76s\n",
      "32:\tlearn: 0.3860386\ttotal: 129ms\tremaining: 3.77s\n",
      "33:\tlearn: 0.3818037\ttotal: 132ms\tremaining: 3.74s\n",
      "34:\tlearn: 0.3774801\ttotal: 135ms\tremaining: 3.72s\n",
      "35:\tlearn: 0.3714076\ttotal: 138ms\tremaining: 3.7s\n",
      "36:\tlearn: 0.3665579\ttotal: 141ms\tremaining: 3.67s\n",
      "37:\tlearn: 0.3611886\ttotal: 144ms\tremaining: 3.65s\n",
      "38:\tlearn: 0.3573408\ttotal: 147ms\tremaining: 3.63s\n",
      "39:\tlearn: 0.3529239\ttotal: 150ms\tremaining: 3.61s\n",
      "40:\tlearn: 0.3478517\ttotal: 153ms\tremaining: 3.58s\n",
      "41:\tlearn: 0.3444774\ttotal: 156ms\tremaining: 3.57s\n",
      "42:\tlearn: 0.3394825\ttotal: 160ms\tremaining: 3.55s\n",
      "43:\tlearn: 0.3365842\ttotal: 163ms\tremaining: 3.54s\n",
      "44:\tlearn: 0.3333046\ttotal: 166ms\tremaining: 3.52s\n",
      "45:\tlearn: 0.3302797\ttotal: 169ms\tremaining: 3.51s\n",
      "46:\tlearn: 0.3270205\ttotal: 172ms\tremaining: 3.49s\n",
      "47:\tlearn: 0.3242402\ttotal: 175ms\tremaining: 3.48s\n",
      "48:\tlearn: 0.3212184\ttotal: 179ms\tremaining: 3.46s\n",
      "49:\tlearn: 0.3180147\ttotal: 182ms\tremaining: 3.45s\n",
      "50:\tlearn: 0.3140449\ttotal: 185ms\tremaining: 3.44s\n",
      "51:\tlearn: 0.3111555\ttotal: 188ms\tremaining: 3.43s\n",
      "52:\tlearn: 0.3082064\ttotal: 191ms\tremaining: 3.41s\n",
      "53:\tlearn: 0.3053948\ttotal: 198ms\tremaining: 3.47s\n",
      "54:\tlearn: 0.3022081\ttotal: 203ms\tremaining: 3.48s\n",
      "55:\tlearn: 0.2995162\ttotal: 207ms\tremaining: 3.49s\n",
      "56:\tlearn: 0.2967567\ttotal: 212ms\tremaining: 3.5s\n",
      "57:\tlearn: 0.2931346\ttotal: 216ms\tremaining: 3.51s\n",
      "58:\tlearn: 0.2896008\ttotal: 221ms\tremaining: 3.53s\n",
      "59:\tlearn: 0.2871667\ttotal: 228ms\tremaining: 3.57s\n",
      "60:\tlearn: 0.2848164\ttotal: 232ms\tremaining: 3.58s\n",
      "61:\tlearn: 0.2834128\ttotal: 236ms\tremaining: 3.56s\n",
      "62:\tlearn: 0.2802001\ttotal: 238ms\tremaining: 3.55s\n",
      "63:\tlearn: 0.2785616\ttotal: 243ms\tremaining: 3.55s\n",
      "64:\tlearn: 0.2770834\ttotal: 247ms\tremaining: 3.55s\n",
      "65:\tlearn: 0.2750260\ttotal: 251ms\tremaining: 3.55s\n",
      "66:\tlearn: 0.2720634\ttotal: 256ms\tremaining: 3.56s\n",
      "67:\tlearn: 0.2699094\ttotal: 259ms\tremaining: 3.55s\n",
      "68:\tlearn: 0.2678557\ttotal: 267ms\tremaining: 3.61s\n",
      "69:\tlearn: 0.2655633\ttotal: 272ms\tremaining: 3.62s\n",
      "70:\tlearn: 0.2639586\ttotal: 277ms\tremaining: 3.62s\n",
      "71:\tlearn: 0.2619692\ttotal: 281ms\tremaining: 3.63s\n",
      "72:\tlearn: 0.2605720\ttotal: 286ms\tremaining: 3.63s\n",
      "73:\tlearn: 0.2589387\ttotal: 291ms\tremaining: 3.64s\n",
      "74:\tlearn: 0.2575444\ttotal: 295ms\tremaining: 3.64s\n",
      "75:\tlearn: 0.2560658\ttotal: 300ms\tremaining: 3.64s\n",
      "76:\tlearn: 0.2544918\ttotal: 307ms\tremaining: 3.67s\n",
      "77:\tlearn: 0.2529721\ttotal: 311ms\tremaining: 3.68s\n",
      "78:\tlearn: 0.2507010\ttotal: 314ms\tremaining: 3.66s\n",
      "79:\tlearn: 0.2492649\ttotal: 317ms\tremaining: 3.65s\n",
      "80:\tlearn: 0.2480868\ttotal: 320ms\tremaining: 3.63s\n",
      "81:\tlearn: 0.2460498\ttotal: 325ms\tremaining: 3.64s\n",
      "82:\tlearn: 0.2445050\ttotal: 330ms\tremaining: 3.64s\n",
      "83:\tlearn: 0.2431085\ttotal: 334ms\tremaining: 3.64s\n",
      "84:\tlearn: 0.2414067\ttotal: 337ms\tremaining: 3.63s\n",
      "85:\tlearn: 0.2401806\ttotal: 340ms\tremaining: 3.62s\n",
      "86:\tlearn: 0.2393822\ttotal: 344ms\tremaining: 3.61s\n",
      "87:\tlearn: 0.2379480\ttotal: 347ms\tremaining: 3.59s\n",
      "88:\tlearn: 0.2365337\ttotal: 350ms\tremaining: 3.58s\n",
      "89:\tlearn: 0.2353127\ttotal: 353ms\tremaining: 3.57s\n",
      "90:\tlearn: 0.2341893\ttotal: 356ms\tremaining: 3.56s\n",
      "91:\tlearn: 0.2326304\ttotal: 359ms\tremaining: 3.55s\n",
      "92:\tlearn: 0.2314479\ttotal: 362ms\tremaining: 3.53s\n",
      "93:\tlearn: 0.2296711\ttotal: 365ms\tremaining: 3.52s\n",
      "94:\tlearn: 0.2284719\ttotal: 368ms\tremaining: 3.51s\n",
      "95:\tlearn: 0.2271589\ttotal: 371ms\tremaining: 3.5s\n",
      "96:\tlearn: 0.2259015\ttotal: 374ms\tremaining: 3.48s\n",
      "97:\tlearn: 0.2248527\ttotal: 378ms\tremaining: 3.48s\n",
      "98:\tlearn: 0.2237363\ttotal: 381ms\tremaining: 3.46s\n",
      "99:\tlearn: 0.2225891\ttotal: 384ms\tremaining: 3.45s\n",
      "100:\tlearn: 0.2216376\ttotal: 387ms\tremaining: 3.44s\n",
      "101:\tlearn: 0.2209027\ttotal: 390ms\tremaining: 3.43s\n",
      "102:\tlearn: 0.2199716\ttotal: 397ms\tremaining: 3.45s\n",
      "103:\tlearn: 0.2190364\ttotal: 401ms\tremaining: 3.46s\n",
      "104:\tlearn: 0.2182640\ttotal: 406ms\tremaining: 3.46s\n",
      "105:\tlearn: 0.2171477\ttotal: 411ms\tremaining: 3.47s\n",
      "106:\tlearn: 0.2163239\ttotal: 416ms\tremaining: 3.47s\n",
      "107:\tlearn: 0.2153678\ttotal: 421ms\tremaining: 3.48s\n",
      "108:\tlearn: 0.2143156\ttotal: 428ms\tremaining: 3.5s\n",
      "109:\tlearn: 0.2134228\ttotal: 432ms\tremaining: 3.49s\n",
      "110:\tlearn: 0.2125875\ttotal: 436ms\tremaining: 3.49s\n",
      "111:\tlearn: 0.2115544\ttotal: 442ms\tremaining: 3.51s\n",
      "112:\tlearn: 0.2107111\ttotal: 448ms\tremaining: 3.51s\n",
      "113:\tlearn: 0.2097759\ttotal: 452ms\tremaining: 3.51s\n",
      "114:\tlearn: 0.2088444\ttotal: 455ms\tremaining: 3.5s\n",
      "115:\tlearn: 0.2078135\ttotal: 458ms\tremaining: 3.49s\n",
      "116:\tlearn: 0.2071162\ttotal: 461ms\tremaining: 3.48s\n",
      "117:\tlearn: 0.2062784\ttotal: 465ms\tremaining: 3.48s\n",
      "118:\tlearn: 0.2054237\ttotal: 470ms\tremaining: 3.48s\n",
      "119:\tlearn: 0.2045760\ttotal: 475ms\tremaining: 3.48s\n",
      "120:\tlearn: 0.2040016\ttotal: 480ms\tremaining: 3.48s\n",
      "121:\tlearn: 0.2034992\ttotal: 484ms\tremaining: 3.49s\n",
      "122:\tlearn: 0.2027396\ttotal: 490ms\tremaining: 3.49s\n",
      "123:\tlearn: 0.2018539\ttotal: 499ms\tremaining: 3.53s\n",
      "124:\tlearn: 0.2012714\ttotal: 505ms\tremaining: 3.53s\n",
      "125:\tlearn: 0.2004996\ttotal: 510ms\tremaining: 3.53s\n",
      "126:\tlearn: 0.1996498\ttotal: 517ms\tremaining: 3.56s\n",
      "127:\tlearn: 0.1988760\ttotal: 525ms\tremaining: 3.57s\n",
      "128:\tlearn: 0.1981478\ttotal: 531ms\tremaining: 3.59s\n",
      "129:\tlearn: 0.1976749\ttotal: 543ms\tremaining: 3.64s\n",
      "130:\tlearn: 0.1969045\ttotal: 549ms\tremaining: 3.64s\n",
      "131:\tlearn: 0.1959683\ttotal: 552ms\tremaining: 3.63s\n",
      "132:\tlearn: 0.1954883\ttotal: 556ms\tremaining: 3.62s\n",
      "133:\tlearn: 0.1948087\ttotal: 559ms\tremaining: 3.61s\n",
      "134:\tlearn: 0.1940967\ttotal: 563ms\tremaining: 3.61s\n",
      "135:\tlearn: 0.1934218\ttotal: 567ms\tremaining: 3.6s\n",
      "136:\tlearn: 0.1928154\ttotal: 571ms\tremaining: 3.6s\n",
      "137:\tlearn: 0.1923617\ttotal: 575ms\tremaining: 3.59s\n",
      "138:\tlearn: 0.1917394\ttotal: 578ms\tremaining: 3.58s\n",
      "139:\tlearn: 0.1911907\ttotal: 581ms\tremaining: 3.57s\n",
      "140:\tlearn: 0.1906380\ttotal: 585ms\tremaining: 3.56s\n",
      "141:\tlearn: 0.1898623\ttotal: 588ms\tremaining: 3.56s\n",
      "142:\tlearn: 0.1891730\ttotal: 595ms\tremaining: 3.57s\n",
      "143:\tlearn: 0.1886913\ttotal: 600ms\tremaining: 3.56s\n",
      "144:\tlearn: 0.1879448\ttotal: 605ms\tremaining: 3.56s\n",
      "145:\tlearn: 0.1874548\ttotal: 609ms\tremaining: 3.56s\n",
      "146:\tlearn: 0.1869100\ttotal: 614ms\tremaining: 3.56s\n",
      "147:\tlearn: 0.1863475\ttotal: 620ms\tremaining: 3.57s\n",
      "148:\tlearn: 0.1858837\ttotal: 623ms\tremaining: 3.56s\n",
      "149:\tlearn: 0.1853341\ttotal: 626ms\tremaining: 3.55s\n",
      "150:\tlearn: 0.1847702\ttotal: 630ms\tremaining: 3.54s\n",
      "151:\tlearn: 0.1842037\ttotal: 633ms\tremaining: 3.53s\n",
      "152:\tlearn: 0.1835491\ttotal: 636ms\tremaining: 3.52s\n",
      "153:\tlearn: 0.1829142\ttotal: 639ms\tremaining: 3.51s\n",
      "154:\tlearn: 0.1823880\ttotal: 644ms\tremaining: 3.51s\n",
      "155:\tlearn: 0.1818890\ttotal: 648ms\tremaining: 3.5s\n",
      "156:\tlearn: 0.1813528\ttotal: 651ms\tremaining: 3.5s\n",
      "157:\tlearn: 0.1809017\ttotal: 654ms\tremaining: 3.48s\n",
      "158:\tlearn: 0.1802712\ttotal: 658ms\tremaining: 3.48s\n",
      "159:\tlearn: 0.1799433\ttotal: 665ms\tremaining: 3.49s\n",
      "160:\tlearn: 0.1795257\ttotal: 669ms\tremaining: 3.49s\n",
      "161:\tlearn: 0.1791174\ttotal: 674ms\tremaining: 3.48s\n",
      "162:\tlearn: 0.1787544\ttotal: 679ms\tremaining: 3.48s\n",
      "163:\tlearn: 0.1786125\ttotal: 686ms\tremaining: 3.5s\n",
      "164:\tlearn: 0.1781076\ttotal: 693ms\tremaining: 3.5s\n",
      "165:\tlearn: 0.1776682\ttotal: 696ms\tremaining: 3.5s\n",
      "166:\tlearn: 0.1771921\ttotal: 699ms\tremaining: 3.49s\n",
      "167:\tlearn: 0.1769581\ttotal: 702ms\tremaining: 3.48s\n",
      "168:\tlearn: 0.1764692\ttotal: 706ms\tremaining: 3.47s\n",
      "169:\tlearn: 0.1760550\ttotal: 711ms\tremaining: 3.47s\n",
      "170:\tlearn: 0.1754965\ttotal: 714ms\tremaining: 3.46s\n",
      "171:\tlearn: 0.1749797\ttotal: 717ms\tremaining: 3.45s\n",
      "172:\tlearn: 0.1744958\ttotal: 720ms\tremaining: 3.44s\n",
      "173:\tlearn: 0.1739792\ttotal: 723ms\tremaining: 3.43s\n",
      "174:\tlearn: 0.1733866\ttotal: 727ms\tremaining: 3.42s\n",
      "175:\tlearn: 0.1729466\ttotal: 730ms\tremaining: 3.42s\n",
      "176:\tlearn: 0.1725234\ttotal: 733ms\tremaining: 3.41s\n",
      "177:\tlearn: 0.1721168\ttotal: 737ms\tremaining: 3.4s\n",
      "178:\tlearn: 0.1716905\ttotal: 740ms\tremaining: 3.39s\n",
      "179:\tlearn: 0.1713165\ttotal: 743ms\tremaining: 3.38s\n",
      "180:\tlearn: 0.1709213\ttotal: 746ms\tremaining: 3.38s\n",
      "181:\tlearn: 0.1704935\ttotal: 749ms\tremaining: 3.37s\n",
      "182:\tlearn: 0.1701228\ttotal: 752ms\tremaining: 3.36s\n",
      "183:\tlearn: 0.1695144\ttotal: 755ms\tremaining: 3.35s\n",
      "184:\tlearn: 0.1690134\ttotal: 758ms\tremaining: 3.34s\n",
      "185:\tlearn: 0.1685065\ttotal: 761ms\tremaining: 3.33s\n",
      "186:\tlearn: 0.1680992\ttotal: 764ms\tremaining: 3.32s\n",
      "187:\tlearn: 0.1676311\ttotal: 770ms\tremaining: 3.33s\n",
      "188:\tlearn: 0.1673255\ttotal: 775ms\tremaining: 3.32s\n",
      "189:\tlearn: 0.1670832\ttotal: 779ms\tremaining: 3.32s\n",
      "190:\tlearn: 0.1667487\ttotal: 782ms\tremaining: 3.31s\n"
     ]
    },
    {
     "name": "stdout",
     "output_type": "stream",
     "text": [
      "191:\tlearn: 0.1665130\ttotal: 791ms\tremaining: 3.33s\n",
      "192:\tlearn: 0.1661690\ttotal: 796ms\tremaining: 3.33s\n",
      "193:\tlearn: 0.1660611\ttotal: 800ms\tremaining: 3.32s\n",
      "194:\tlearn: 0.1656719\ttotal: 805ms\tremaining: 3.32s\n",
      "195:\tlearn: 0.1653220\ttotal: 810ms\tremaining: 3.32s\n",
      "196:\tlearn: 0.1649174\ttotal: 814ms\tremaining: 3.32s\n",
      "197:\tlearn: 0.1645241\ttotal: 819ms\tremaining: 3.32s\n",
      "198:\tlearn: 0.1641200\ttotal: 823ms\tremaining: 3.31s\n",
      "199:\tlearn: 0.1637555\ttotal: 826ms\tremaining: 3.3s\n",
      "200:\tlearn: 0.1633701\ttotal: 829ms\tremaining: 3.29s\n",
      "201:\tlearn: 0.1630147\ttotal: 833ms\tremaining: 3.29s\n",
      "202:\tlearn: 0.1626509\ttotal: 838ms\tremaining: 3.29s\n",
      "203:\tlearn: 0.1622757\ttotal: 841ms\tremaining: 3.28s\n",
      "204:\tlearn: 0.1619385\ttotal: 844ms\tremaining: 3.27s\n",
      "205:\tlearn: 0.1616540\ttotal: 847ms\tremaining: 3.27s\n",
      "206:\tlearn: 0.1613010\ttotal: 850ms\tremaining: 3.26s\n",
      "207:\tlearn: 0.1609550\ttotal: 854ms\tremaining: 3.25s\n",
      "208:\tlearn: 0.1605017\ttotal: 861ms\tremaining: 3.26s\n",
      "209:\tlearn: 0.1602842\ttotal: 865ms\tremaining: 3.25s\n",
      "210:\tlearn: 0.1601247\ttotal: 870ms\tremaining: 3.25s\n",
      "211:\tlearn: 0.1596544\ttotal: 874ms\tremaining: 3.25s\n",
      "212:\tlearn: 0.1593768\ttotal: 879ms\tremaining: 3.25s\n",
      "213:\tlearn: 0.1589983\ttotal: 882ms\tremaining: 3.24s\n",
      "214:\tlearn: 0.1587094\ttotal: 885ms\tremaining: 3.23s\n",
      "215:\tlearn: 0.1583287\ttotal: 888ms\tremaining: 3.22s\n",
      "216:\tlearn: 0.1581037\ttotal: 891ms\tremaining: 3.21s\n",
      "217:\tlearn: 0.1579019\ttotal: 894ms\tremaining: 3.21s\n",
      "218:\tlearn: 0.1576040\ttotal: 899ms\tremaining: 3.21s\n",
      "219:\tlearn: 0.1572987\ttotal: 903ms\tremaining: 3.2s\n",
      "220:\tlearn: 0.1569277\ttotal: 906ms\tremaining: 3.19s\n",
      "221:\tlearn: 0.1566330\ttotal: 911ms\tremaining: 3.19s\n",
      "222:\tlearn: 0.1564252\ttotal: 915ms\tremaining: 3.19s\n",
      "223:\tlearn: 0.1562480\ttotal: 918ms\tremaining: 3.18s\n",
      "224:\tlearn: 0.1559493\ttotal: 921ms\tremaining: 3.17s\n",
      "225:\tlearn: 0.1556996\ttotal: 924ms\tremaining: 3.16s\n",
      "226:\tlearn: 0.1553412\ttotal: 927ms\tremaining: 3.16s\n",
      "227:\tlearn: 0.1550814\ttotal: 930ms\tremaining: 3.15s\n",
      "228:\tlearn: 0.1548314\ttotal: 933ms\tremaining: 3.14s\n",
      "229:\tlearn: 0.1545484\ttotal: 936ms\tremaining: 3.13s\n",
      "230:\tlearn: 0.1542651\ttotal: 939ms\tremaining: 3.13s\n",
      "231:\tlearn: 0.1540084\ttotal: 942ms\tremaining: 3.12s\n",
      "232:\tlearn: 0.1537303\ttotal: 945ms\tremaining: 3.11s\n",
      "233:\tlearn: 0.1534933\ttotal: 949ms\tremaining: 3.1s\n",
      "234:\tlearn: 0.1532734\ttotal: 952ms\tremaining: 3.1s\n",
      "235:\tlearn: 0.1530588\ttotal: 955ms\tremaining: 3.09s\n",
      "236:\tlearn: 0.1528304\ttotal: 958ms\tremaining: 3.08s\n",
      "237:\tlearn: 0.1526633\ttotal: 961ms\tremaining: 3.08s\n",
      "238:\tlearn: 0.1524594\ttotal: 964ms\tremaining: 3.07s\n",
      "239:\tlearn: 0.1522876\ttotal: 968ms\tremaining: 3.06s\n",
      "240:\tlearn: 0.1520377\ttotal: 971ms\tremaining: 3.06s\n",
      "241:\tlearn: 0.1517039\ttotal: 974ms\tremaining: 3.05s\n",
      "242:\tlearn: 0.1514763\ttotal: 977ms\tremaining: 3.04s\n",
      "243:\tlearn: 0.1512431\ttotal: 980ms\tremaining: 3.04s\n",
      "244:\tlearn: 0.1510727\ttotal: 983ms\tremaining: 3.03s\n",
      "245:\tlearn: 0.1509191\ttotal: 986ms\tremaining: 3.02s\n",
      "246:\tlearn: 0.1507254\ttotal: 989ms\tremaining: 3.02s\n",
      "247:\tlearn: 0.1505808\ttotal: 1s\tremaining: 3.04s\n",
      "248:\tlearn: 0.1503104\ttotal: 1.01s\tremaining: 3.04s\n",
      "249:\tlearn: 0.1501437\ttotal: 1.01s\tremaining: 3.03s\n",
      "250:\tlearn: 0.1499782\ttotal: 1.02s\tremaining: 3.04s\n",
      "251:\tlearn: 0.1498121\ttotal: 1.02s\tremaining: 3.04s\n",
      "252:\tlearn: 0.1496305\ttotal: 1.03s\tremaining: 3.04s\n",
      "253:\tlearn: 0.1493478\ttotal: 1.03s\tremaining: 3.04s\n",
      "254:\tlearn: 0.1491243\ttotal: 1.04s\tremaining: 3.03s\n",
      "255:\tlearn: 0.1489410\ttotal: 1.04s\tremaining: 3.03s\n",
      "256:\tlearn: 0.1487145\ttotal: 1.05s\tremaining: 3.02s\n",
      "257:\tlearn: 0.1484980\ttotal: 1.05s\tremaining: 3.03s\n",
      "258:\tlearn: 0.1483065\ttotal: 1.06s\tremaining: 3.03s\n",
      "259:\tlearn: 0.1481650\ttotal: 1.07s\tremaining: 3.05s\n",
      "260:\tlearn: 0.1479775\ttotal: 1.07s\tremaining: 3.04s\n",
      "261:\tlearn: 0.1477661\ttotal: 1.08s\tremaining: 3.04s\n",
      "262:\tlearn: 0.1476251\ttotal: 1.09s\tremaining: 3.04s\n",
      "263:\tlearn: 0.1473333\ttotal: 1.09s\tremaining: 3.04s\n",
      "264:\tlearn: 0.1472248\ttotal: 1.09s\tremaining: 3.03s\n",
      "265:\tlearn: 0.1470019\ttotal: 1.1s\tremaining: 3.03s\n",
      "266:\tlearn: 0.1468132\ttotal: 1.1s\tremaining: 3.02s\n",
      "267:\tlearn: 0.1466229\ttotal: 1.1s\tremaining: 3.02s\n",
      "268:\tlearn: 0.1464457\ttotal: 1.11s\tremaining: 3.01s\n",
      "269:\tlearn: 0.1463847\ttotal: 1.11s\tremaining: 3s\n",
      "270:\tlearn: 0.1461730\ttotal: 1.11s\tremaining: 3s\n",
      "271:\tlearn: 0.1459450\ttotal: 1.12s\tremaining: 2.99s\n",
      "272:\tlearn: 0.1458904\ttotal: 1.12s\tremaining: 2.98s\n",
      "273:\tlearn: 0.1457352\ttotal: 1.12s\tremaining: 2.98s\n",
      "274:\tlearn: 0.1456648\ttotal: 1.13s\tremaining: 2.97s\n",
      "275:\tlearn: 0.1454275\ttotal: 1.13s\tremaining: 2.96s\n",
      "276:\tlearn: 0.1452941\ttotal: 1.13s\tremaining: 2.96s\n",
      "277:\tlearn: 0.1449833\ttotal: 1.14s\tremaining: 2.95s\n",
      "278:\tlearn: 0.1447659\ttotal: 1.14s\tremaining: 2.94s\n",
      "279:\tlearn: 0.1444996\ttotal: 1.14s\tremaining: 2.93s\n",
      "280:\tlearn: 0.1443837\ttotal: 1.14s\tremaining: 2.93s\n",
      "281:\tlearn: 0.1442276\ttotal: 1.15s\tremaining: 2.92s\n",
      "282:\tlearn: 0.1440812\ttotal: 1.15s\tremaining: 2.91s\n",
      "283:\tlearn: 0.1438547\ttotal: 1.15s\tremaining: 2.91s\n",
      "284:\tlearn: 0.1436772\ttotal: 1.16s\tremaining: 2.9s\n",
      "285:\tlearn: 0.1435536\ttotal: 1.16s\tremaining: 2.89s\n",
      "286:\tlearn: 0.1434485\ttotal: 1.16s\tremaining: 2.89s\n",
      "287:\tlearn: 0.1432057\ttotal: 1.17s\tremaining: 2.88s\n",
      "288:\tlearn: 0.1428962\ttotal: 1.17s\tremaining: 2.88s\n",
      "289:\tlearn: 0.1426243\ttotal: 1.17s\tremaining: 2.87s\n",
      "290:\tlearn: 0.1423192\ttotal: 1.18s\tremaining: 2.87s\n",
      "291:\tlearn: 0.1421492\ttotal: 1.18s\tremaining: 2.87s\n",
      "292:\tlearn: 0.1420443\ttotal: 1.19s\tremaining: 2.87s\n",
      "293:\tlearn: 0.1417487\ttotal: 1.2s\tremaining: 2.87s\n",
      "294:\tlearn: 0.1415825\ttotal: 1.2s\tremaining: 2.87s\n",
      "295:\tlearn: 0.1413625\ttotal: 1.21s\tremaining: 2.87s\n",
      "296:\tlearn: 0.1411323\ttotal: 1.21s\tremaining: 2.86s\n",
      "297:\tlearn: 0.1409058\ttotal: 1.21s\tremaining: 2.86s\n",
      "298:\tlearn: 0.1407495\ttotal: 1.22s\tremaining: 2.85s\n",
      "299:\tlearn: 0.1405261\ttotal: 1.22s\tremaining: 2.84s\n",
      "300:\tlearn: 0.1402682\ttotal: 1.22s\tremaining: 2.84s\n",
      "301:\tlearn: 0.1401041\ttotal: 1.23s\tremaining: 2.83s\n",
      "302:\tlearn: 0.1399349\ttotal: 1.23s\tremaining: 2.83s\n",
      "303:\tlearn: 0.1397797\ttotal: 1.23s\tremaining: 2.82s\n",
      "304:\tlearn: 0.1394472\ttotal: 1.24s\tremaining: 2.82s\n",
      "305:\tlearn: 0.1392987\ttotal: 1.24s\tremaining: 2.82s\n",
      "306:\tlearn: 0.1391839\ttotal: 1.25s\tremaining: 2.82s\n",
      "307:\tlearn: 0.1389031\ttotal: 1.25s\tremaining: 2.82s\n",
      "308:\tlearn: 0.1387445\ttotal: 1.26s\tremaining: 2.82s\n",
      "309:\tlearn: 0.1385045\ttotal: 1.26s\tremaining: 2.82s\n",
      "310:\tlearn: 0.1383125\ttotal: 1.27s\tremaining: 2.82s\n",
      "311:\tlearn: 0.1382261\ttotal: 1.28s\tremaining: 2.81s\n",
      "312:\tlearn: 0.1380102\ttotal: 1.28s\tremaining: 2.81s\n",
      "313:\tlearn: 0.1378727\ttotal: 1.29s\tremaining: 2.81s\n",
      "314:\tlearn: 0.1377030\ttotal: 1.29s\tremaining: 2.81s\n",
      "315:\tlearn: 0.1375249\ttotal: 1.3s\tremaining: 2.81s\n",
      "316:\tlearn: 0.1373736\ttotal: 1.3s\tremaining: 2.8s\n",
      "317:\tlearn: 0.1372270\ttotal: 1.3s\tremaining: 2.8s\n",
      "318:\tlearn: 0.1370641\ttotal: 1.31s\tremaining: 2.79s\n",
      "319:\tlearn: 0.1368215\ttotal: 1.31s\tremaining: 2.79s\n",
      "320:\tlearn: 0.1366496\ttotal: 1.31s\tremaining: 2.78s\n",
      "321:\tlearn: 0.1364642\ttotal: 1.32s\tremaining: 2.78s\n",
      "322:\tlearn: 0.1363696\ttotal: 1.32s\tremaining: 2.77s\n",
      "323:\tlearn: 0.1362995\ttotal: 1.32s\tremaining: 2.76s\n",
      "324:\tlearn: 0.1361615\ttotal: 1.33s\tremaining: 2.76s\n",
      "325:\tlearn: 0.1360916\ttotal: 1.33s\tremaining: 2.75s\n",
      "326:\tlearn: 0.1360168\ttotal: 1.33s\tremaining: 2.75s\n",
      "327:\tlearn: 0.1359034\ttotal: 1.34s\tremaining: 2.74s\n",
      "328:\tlearn: 0.1358356\ttotal: 1.34s\tremaining: 2.73s\n",
      "329:\tlearn: 0.1356933\ttotal: 1.35s\tremaining: 2.73s\n",
      "330:\tlearn: 0.1355412\ttotal: 1.35s\tremaining: 2.73s\n",
      "331:\tlearn: 0.1353814\ttotal: 1.35s\tremaining: 2.72s\n",
      "332:\tlearn: 0.1352794\ttotal: 1.35s\tremaining: 2.71s\n",
      "333:\tlearn: 0.1351256\ttotal: 1.36s\tremaining: 2.71s\n",
      "334:\tlearn: 0.1350288\ttotal: 1.36s\tremaining: 2.7s\n",
      "335:\tlearn: 0.1349463\ttotal: 1.36s\tremaining: 2.7s\n",
      "336:\tlearn: 0.1347104\ttotal: 1.37s\tremaining: 2.69s\n",
      "337:\tlearn: 0.1345941\ttotal: 1.38s\tremaining: 2.69s\n",
      "338:\tlearn: 0.1344215\ttotal: 1.38s\tremaining: 2.69s\n",
      "339:\tlearn: 0.1343118\ttotal: 1.39s\tremaining: 2.69s\n",
      "340:\tlearn: 0.1341901\ttotal: 1.39s\tremaining: 2.69s\n",
      "341:\tlearn: 0.1340618\ttotal: 1.4s\tremaining: 2.69s\n",
      "342:\tlearn: 0.1338963\ttotal: 1.4s\tremaining: 2.69s\n",
      "343:\tlearn: 0.1337584\ttotal: 1.41s\tremaining: 2.68s\n",
      "344:\tlearn: 0.1336047\ttotal: 1.41s\tremaining: 2.68s\n",
      "345:\tlearn: 0.1334553\ttotal: 1.41s\tremaining: 2.67s\n",
      "346:\tlearn: 0.1333617\ttotal: 1.42s\tremaining: 2.67s\n",
      "347:\tlearn: 0.1331410\ttotal: 1.42s\tremaining: 2.66s\n",
      "348:\tlearn: 0.1330417\ttotal: 1.42s\tremaining: 2.66s\n",
      "349:\tlearn: 0.1329465\ttotal: 1.43s\tremaining: 2.65s\n"
     ]
    },
    {
     "name": "stdout",
     "output_type": "stream",
     "text": [
      "350:\tlearn: 0.1327796\ttotal: 1.43s\tremaining: 2.65s\n",
      "351:\tlearn: 0.1325799\ttotal: 1.44s\tremaining: 2.65s\n",
      "352:\tlearn: 0.1324515\ttotal: 1.44s\tremaining: 2.64s\n",
      "353:\tlearn: 0.1323208\ttotal: 1.45s\tremaining: 2.64s\n",
      "354:\tlearn: 0.1321757\ttotal: 1.45s\tremaining: 2.64s\n",
      "355:\tlearn: 0.1320479\ttotal: 1.46s\tremaining: 2.63s\n",
      "356:\tlearn: 0.1318847\ttotal: 1.46s\tremaining: 2.63s\n",
      "357:\tlearn: 0.1317207\ttotal: 1.47s\tremaining: 2.63s\n",
      "358:\tlearn: 0.1315788\ttotal: 1.47s\tremaining: 2.62s\n",
      "359:\tlearn: 0.1314814\ttotal: 1.47s\tremaining: 2.62s\n",
      "360:\tlearn: 0.1312980\ttotal: 1.48s\tremaining: 2.61s\n",
      "361:\tlearn: 0.1312002\ttotal: 1.48s\tremaining: 2.61s\n",
      "362:\tlearn: 0.1310198\ttotal: 1.48s\tremaining: 2.6s\n",
      "363:\tlearn: 0.1308313\ttotal: 1.49s\tremaining: 2.6s\n",
      "364:\tlearn: 0.1307389\ttotal: 1.49s\tremaining: 2.59s\n",
      "365:\tlearn: 0.1306257\ttotal: 1.49s\tremaining: 2.59s\n",
      "366:\tlearn: 0.1304099\ttotal: 1.5s\tremaining: 2.58s\n",
      "367:\tlearn: 0.1302294\ttotal: 1.5s\tremaining: 2.58s\n",
      "368:\tlearn: 0.1300361\ttotal: 1.5s\tremaining: 2.57s\n",
      "369:\tlearn: 0.1298982\ttotal: 1.5s\tremaining: 2.56s\n",
      "370:\tlearn: 0.1297191\ttotal: 1.51s\tremaining: 2.56s\n",
      "371:\tlearn: 0.1295380\ttotal: 1.51s\tremaining: 2.55s\n",
      "372:\tlearn: 0.1294317\ttotal: 1.51s\tremaining: 2.55s\n",
      "373:\tlearn: 0.1292500\ttotal: 1.52s\tremaining: 2.54s\n",
      "374:\tlearn: 0.1291235\ttotal: 1.52s\tremaining: 2.54s\n",
      "375:\tlearn: 0.1289969\ttotal: 1.52s\tremaining: 2.53s\n",
      "376:\tlearn: 0.1287855\ttotal: 1.53s\tremaining: 2.52s\n",
      "377:\tlearn: 0.1287272\ttotal: 1.53s\tremaining: 2.52s\n",
      "378:\tlearn: 0.1285437\ttotal: 1.53s\tremaining: 2.51s\n",
      "379:\tlearn: 0.1283488\ttotal: 1.54s\tremaining: 2.51s\n",
      "380:\tlearn: 0.1281453\ttotal: 1.54s\tremaining: 2.5s\n",
      "381:\tlearn: 0.1280343\ttotal: 1.54s\tremaining: 2.5s\n",
      "382:\tlearn: 0.1279724\ttotal: 1.55s\tremaining: 2.49s\n",
      "383:\tlearn: 0.1278281\ttotal: 1.55s\tremaining: 2.48s\n",
      "384:\tlearn: 0.1277584\ttotal: 1.55s\tremaining: 2.48s\n",
      "385:\tlearn: 0.1275969\ttotal: 1.55s\tremaining: 2.48s\n",
      "386:\tlearn: 0.1274685\ttotal: 1.56s\tremaining: 2.47s\n",
      "387:\tlearn: 0.1273341\ttotal: 1.57s\tremaining: 2.47s\n",
      "388:\tlearn: 0.1271937\ttotal: 1.57s\tremaining: 2.47s\n",
      "389:\tlearn: 0.1270650\ttotal: 1.57s\tremaining: 2.46s\n",
      "390:\tlearn: 0.1269636\ttotal: 1.58s\tremaining: 2.46s\n",
      "391:\tlearn: 0.1267640\ttotal: 1.59s\tremaining: 2.46s\n",
      "392:\tlearn: 0.1266047\ttotal: 1.59s\tremaining: 2.46s\n",
      "393:\tlearn: 0.1265170\ttotal: 1.59s\tremaining: 2.45s\n",
      "394:\tlearn: 0.1264364\ttotal: 1.6s\tremaining: 2.45s\n",
      "395:\tlearn: 0.1261481\ttotal: 1.6s\tremaining: 2.44s\n",
      "396:\tlearn: 0.1258979\ttotal: 1.6s\tremaining: 2.44s\n",
      "397:\tlearn: 0.1257103\ttotal: 1.61s\tremaining: 2.43s\n",
      "398:\tlearn: 0.1255199\ttotal: 1.61s\tremaining: 2.43s\n",
      "399:\tlearn: 0.1253821\ttotal: 1.61s\tremaining: 2.42s\n",
      "400:\tlearn: 0.1251863\ttotal: 1.62s\tremaining: 2.42s\n",
      "401:\tlearn: 0.1251321\ttotal: 1.62s\tremaining: 2.41s\n",
      "402:\tlearn: 0.1249895\ttotal: 1.62s\tremaining: 2.4s\n",
      "403:\tlearn: 0.1248887\ttotal: 1.63s\tremaining: 2.4s\n",
      "404:\tlearn: 0.1247018\ttotal: 1.63s\tremaining: 2.4s\n",
      "405:\tlearn: 0.1246240\ttotal: 1.64s\tremaining: 2.4s\n",
      "406:\tlearn: 0.1244907\ttotal: 1.64s\tremaining: 2.4s\n",
      "407:\tlearn: 0.1243747\ttotal: 1.65s\tremaining: 2.39s\n",
      "408:\tlearn: 0.1242651\ttotal: 1.65s\tremaining: 2.39s\n",
      "409:\tlearn: 0.1240658\ttotal: 1.66s\tremaining: 2.38s\n",
      "410:\tlearn: 0.1238302\ttotal: 1.66s\tremaining: 2.38s\n",
      "411:\tlearn: 0.1236864\ttotal: 1.66s\tremaining: 2.38s\n",
      "412:\tlearn: 0.1235085\ttotal: 1.67s\tremaining: 2.37s\n",
      "413:\tlearn: 0.1233507\ttotal: 1.67s\tremaining: 2.37s\n",
      "414:\tlearn: 0.1231768\ttotal: 1.68s\tremaining: 2.36s\n",
      "415:\tlearn: 0.1230334\ttotal: 1.68s\tremaining: 2.35s\n",
      "416:\tlearn: 0.1228859\ttotal: 1.68s\tremaining: 2.35s\n",
      "417:\tlearn: 0.1227406\ttotal: 1.69s\tremaining: 2.35s\n",
      "418:\tlearn: 0.1225807\ttotal: 1.69s\tremaining: 2.34s\n",
      "419:\tlearn: 0.1224607\ttotal: 1.69s\tremaining: 2.34s\n",
      "420:\tlearn: 0.1223426\ttotal: 1.7s\tremaining: 2.33s\n",
      "421:\tlearn: 0.1222035\ttotal: 1.7s\tremaining: 2.33s\n",
      "422:\tlearn: 0.1220565\ttotal: 1.7s\tremaining: 2.32s\n",
      "423:\tlearn: 0.1218831\ttotal: 1.71s\tremaining: 2.32s\n",
      "424:\tlearn: 0.1218051\ttotal: 1.71s\tremaining: 2.31s\n",
      "425:\tlearn: 0.1216614\ttotal: 1.71s\tremaining: 2.31s\n",
      "426:\tlearn: 0.1215202\ttotal: 1.72s\tremaining: 2.3s\n",
      "427:\tlearn: 0.1212991\ttotal: 1.72s\tremaining: 2.3s\n",
      "428:\tlearn: 0.1211805\ttotal: 1.72s\tremaining: 2.29s\n",
      "429:\tlearn: 0.1209493\ttotal: 1.72s\tremaining: 2.29s\n",
      "430:\tlearn: 0.1208663\ttotal: 1.73s\tremaining: 2.28s\n",
      "431:\tlearn: 0.1207854\ttotal: 1.73s\tremaining: 2.27s\n",
      "432:\tlearn: 0.1206481\ttotal: 1.73s\tremaining: 2.27s\n",
      "433:\tlearn: 0.1204790\ttotal: 1.74s\tremaining: 2.27s\n",
      "434:\tlearn: 0.1203481\ttotal: 1.74s\tremaining: 2.26s\n",
      "435:\tlearn: 0.1202716\ttotal: 1.74s\tremaining: 2.25s\n",
      "436:\tlearn: 0.1201202\ttotal: 1.75s\tremaining: 2.25s\n",
      "437:\tlearn: 0.1200940\ttotal: 1.75s\tremaining: 2.24s\n",
      "438:\tlearn: 0.1198728\ttotal: 1.75s\tremaining: 2.24s\n",
      "439:\tlearn: 0.1198027\ttotal: 1.75s\tremaining: 2.23s\n",
      "440:\tlearn: 0.1196896\ttotal: 1.76s\tremaining: 2.23s\n",
      "441:\tlearn: 0.1196425\ttotal: 1.77s\tremaining: 2.23s\n",
      "442:\tlearn: 0.1195035\ttotal: 1.77s\tremaining: 2.23s\n",
      "443:\tlearn: 0.1192256\ttotal: 1.77s\tremaining: 2.22s\n",
      "444:\tlearn: 0.1191287\ttotal: 1.78s\tremaining: 2.22s\n",
      "445:\tlearn: 0.1190679\ttotal: 1.78s\tremaining: 2.22s\n",
      "446:\tlearn: 0.1190015\ttotal: 1.79s\tremaining: 2.21s\n",
      "447:\tlearn: 0.1189444\ttotal: 1.79s\tremaining: 2.21s\n",
      "448:\tlearn: 0.1188652\ttotal: 1.8s\tremaining: 2.21s\n",
      "449:\tlearn: 0.1186717\ttotal: 1.81s\tremaining: 2.21s\n",
      "450:\tlearn: 0.1185728\ttotal: 1.81s\tremaining: 2.21s\n",
      "451:\tlearn: 0.1184968\ttotal: 1.81s\tremaining: 2.2s\n",
      "452:\tlearn: 0.1184339\ttotal: 1.82s\tremaining: 2.19s\n",
      "453:\tlearn: 0.1182830\ttotal: 1.82s\tremaining: 2.19s\n",
      "454:\tlearn: 0.1182047\ttotal: 1.83s\tremaining: 2.19s\n",
      "455:\tlearn: 0.1180907\ttotal: 1.83s\tremaining: 2.19s\n",
      "456:\tlearn: 0.1180417\ttotal: 1.84s\tremaining: 2.18s\n",
      "457:\tlearn: 0.1179446\ttotal: 1.84s\tremaining: 2.18s\n",
      "458:\tlearn: 0.1177768\ttotal: 1.85s\tremaining: 2.18s\n",
      "459:\tlearn: 0.1176493\ttotal: 1.85s\tremaining: 2.17s\n",
      "460:\tlearn: 0.1175673\ttotal: 1.86s\tremaining: 2.17s\n",
      "461:\tlearn: 0.1174700\ttotal: 1.86s\tremaining: 2.17s\n",
      "462:\tlearn: 0.1173171\ttotal: 1.86s\tremaining: 2.16s\n",
      "463:\tlearn: 0.1171961\ttotal: 1.87s\tremaining: 2.16s\n",
      "464:\tlearn: 0.1171652\ttotal: 1.87s\tremaining: 2.15s\n",
      "465:\tlearn: 0.1171503\ttotal: 1.88s\tremaining: 2.15s\n",
      "466:\tlearn: 0.1170580\ttotal: 1.88s\tremaining: 2.14s\n",
      "467:\tlearn: 0.1169563\ttotal: 1.88s\tremaining: 2.14s\n",
      "468:\tlearn: 0.1168526\ttotal: 1.88s\tremaining: 2.13s\n",
      "469:\tlearn: 0.1167304\ttotal: 1.89s\tremaining: 2.13s\n",
      "470:\tlearn: 0.1166291\ttotal: 1.89s\tremaining: 2.12s\n",
      "471:\tlearn: 0.1164831\ttotal: 1.89s\tremaining: 2.12s\n",
      "472:\tlearn: 0.1163963\ttotal: 1.9s\tremaining: 2.11s\n",
      "473:\tlearn: 0.1163562\ttotal: 1.9s\tremaining: 2.11s\n",
      "474:\tlearn: 0.1162847\ttotal: 1.9s\tremaining: 2.1s\n",
      "475:\tlearn: 0.1161273\ttotal: 1.91s\tremaining: 2.1s\n",
      "476:\tlearn: 0.1159599\ttotal: 1.91s\tremaining: 2.09s\n",
      "477:\tlearn: 0.1157995\ttotal: 1.91s\tremaining: 2.09s\n",
      "478:\tlearn: 0.1156906\ttotal: 1.92s\tremaining: 2.08s\n",
      "479:\tlearn: 0.1156603\ttotal: 1.92s\tremaining: 2.08s\n",
      "480:\tlearn: 0.1154449\ttotal: 1.92s\tremaining: 2.07s\n",
      "481:\tlearn: 0.1153315\ttotal: 1.93s\tremaining: 2.07s\n",
      "482:\tlearn: 0.1151751\ttotal: 1.93s\tremaining: 2.06s\n",
      "483:\tlearn: 0.1150627\ttotal: 1.93s\tremaining: 2.06s\n",
      "484:\tlearn: 0.1150299\ttotal: 1.93s\tremaining: 2.05s\n",
      "485:\tlearn: 0.1149651\ttotal: 1.94s\tremaining: 2.05s\n",
      "486:\tlearn: 0.1148150\ttotal: 1.94s\tremaining: 2.04s\n",
      "487:\tlearn: 0.1147900\ttotal: 1.94s\tremaining: 2.04s\n",
      "488:\tlearn: 0.1146123\ttotal: 1.95s\tremaining: 2.03s\n",
      "489:\tlearn: 0.1145165\ttotal: 1.95s\tremaining: 2.03s\n",
      "490:\tlearn: 0.1144504\ttotal: 1.95s\tremaining: 2.02s\n",
      "491:\tlearn: 0.1143235\ttotal: 1.96s\tremaining: 2.02s\n",
      "492:\tlearn: 0.1142509\ttotal: 1.96s\tremaining: 2.02s\n",
      "493:\tlearn: 0.1141586\ttotal: 1.97s\tremaining: 2.02s\n",
      "494:\tlearn: 0.1140849\ttotal: 1.97s\tremaining: 2.01s\n",
      "495:\tlearn: 0.1139920\ttotal: 1.98s\tremaining: 2.01s\n",
      "496:\tlearn: 0.1138087\ttotal: 1.98s\tremaining: 2.01s\n",
      "497:\tlearn: 0.1137704\ttotal: 1.99s\tremaining: 2s\n",
      "498:\tlearn: 0.1136246\ttotal: 1.99s\tremaining: 2s\n",
      "499:\tlearn: 0.1134748\ttotal: 1.99s\tremaining: 1.99s\n",
      "500:\tlearn: 0.1133715\ttotal: 2s\tremaining: 1.99s\n",
      "501:\tlearn: 0.1132282\ttotal: 2s\tremaining: 1.99s\n",
      "502:\tlearn: 0.1131405\ttotal: 2.01s\tremaining: 1.98s\n",
      "503:\tlearn: 0.1130383\ttotal: 2.01s\tremaining: 1.98s\n",
      "504:\tlearn: 0.1129046\ttotal: 2.01s\tremaining: 1.97s\n",
      "505:\tlearn: 0.1127247\ttotal: 2.02s\tremaining: 1.97s\n",
      "506:\tlearn: 0.1126112\ttotal: 2.02s\tremaining: 1.96s\n",
      "507:\tlearn: 0.1124539\ttotal: 2.03s\tremaining: 1.96s\n",
      "508:\tlearn: 0.1123955\ttotal: 2.03s\tremaining: 1.96s\n",
      "509:\tlearn: 0.1123251\ttotal: 2.04s\tremaining: 1.96s\n",
      "510:\tlearn: 0.1121517\ttotal: 2.04s\tremaining: 1.95s\n",
      "511:\tlearn: 0.1120675\ttotal: 2.04s\tremaining: 1.95s\n",
      "512:\tlearn: 0.1118486\ttotal: 2.05s\tremaining: 1.95s\n",
      "513:\tlearn: 0.1118074\ttotal: 2.05s\tremaining: 1.94s\n",
      "514:\tlearn: 0.1116819\ttotal: 2.06s\tremaining: 1.94s\n",
      "515:\tlearn: 0.1115918\ttotal: 2.06s\tremaining: 1.93s\n",
      "516:\tlearn: 0.1114907\ttotal: 2.06s\tremaining: 1.93s\n",
      "517:\tlearn: 0.1113812\ttotal: 2.07s\tremaining: 1.93s\n",
      "518:\tlearn: 0.1112984\ttotal: 2.07s\tremaining: 1.92s\n",
      "519:\tlearn: 0.1111950\ttotal: 2.08s\tremaining: 1.92s\n",
      "520:\tlearn: 0.1111107\ttotal: 2.08s\tremaining: 1.91s\n",
      "521:\tlearn: 0.1110041\ttotal: 2.08s\tremaining: 1.91s\n",
      "522:\tlearn: 0.1109152\ttotal: 2.08s\tremaining: 1.9s\n",
      "523:\tlearn: 0.1108307\ttotal: 2.09s\tremaining: 1.9s\n",
      "524:\tlearn: 0.1107419\ttotal: 2.09s\tremaining: 1.89s\n",
      "525:\tlearn: 0.1106344\ttotal: 2.09s\tremaining: 1.89s\n",
      "526:\tlearn: 0.1104900\ttotal: 2.1s\tremaining: 1.88s\n",
      "527:\tlearn: 0.1103608\ttotal: 2.1s\tremaining: 1.88s\n",
      "528:\tlearn: 0.1101988\ttotal: 2.1s\tremaining: 1.87s\n",
      "529:\tlearn: 0.1101302\ttotal: 2.11s\tremaining: 1.87s\n",
      "530:\tlearn: 0.1100806\ttotal: 2.11s\tremaining: 1.86s\n",
      "531:\tlearn: 0.1099775\ttotal: 2.11s\tremaining: 1.86s\n",
      "532:\tlearn: 0.1098748\ttotal: 2.12s\tremaining: 1.85s\n",
      "533:\tlearn: 0.1098225\ttotal: 2.12s\tremaining: 1.85s\n",
      "534:\tlearn: 0.1097166\ttotal: 2.12s\tremaining: 1.84s\n",
      "535:\tlearn: 0.1096676\ttotal: 2.12s\tremaining: 1.84s\n",
      "536:\tlearn: 0.1095472\ttotal: 2.13s\tremaining: 1.83s\n",
      "537:\tlearn: 0.1094814\ttotal: 2.13s\tremaining: 1.83s\n",
      "538:\tlearn: 0.1093606\ttotal: 2.13s\tremaining: 1.82s\n",
      "539:\tlearn: 0.1092564\ttotal: 2.14s\tremaining: 1.82s\n",
      "540:\tlearn: 0.1091006\ttotal: 2.14s\tremaining: 1.81s\n",
      "541:\tlearn: 0.1090316\ttotal: 2.14s\tremaining: 1.81s\n"
     ]
    },
    {
     "name": "stdout",
     "output_type": "stream",
     "text": [
      "542:\tlearn: 0.1088904\ttotal: 2.15s\tremaining: 1.81s\n",
      "543:\tlearn: 0.1087850\ttotal: 2.15s\tremaining: 1.8s\n",
      "544:\tlearn: 0.1087406\ttotal: 2.16s\tremaining: 1.8s\n",
      "545:\tlearn: 0.1085851\ttotal: 2.16s\tremaining: 1.8s\n",
      "546:\tlearn: 0.1084767\ttotal: 2.17s\tremaining: 1.79s\n",
      "547:\tlearn: 0.1083773\ttotal: 2.17s\tremaining: 1.79s\n",
      "548:\tlearn: 0.1082650\ttotal: 2.18s\tremaining: 1.79s\n",
      "549:\tlearn: 0.1081773\ttotal: 2.18s\tremaining: 1.78s\n",
      "550:\tlearn: 0.1080859\ttotal: 2.19s\tremaining: 1.78s\n",
      "551:\tlearn: 0.1079334\ttotal: 2.19s\tremaining: 1.78s\n",
      "552:\tlearn: 0.1079104\ttotal: 2.19s\tremaining: 1.77s\n",
      "553:\tlearn: 0.1077150\ttotal: 2.2s\tremaining: 1.77s\n",
      "554:\tlearn: 0.1075883\ttotal: 2.2s\tremaining: 1.76s\n",
      "555:\tlearn: 0.1075285\ttotal: 2.2s\tremaining: 1.76s\n",
      "556:\tlearn: 0.1075104\ttotal: 2.21s\tremaining: 1.75s\n",
      "557:\tlearn: 0.1072730\ttotal: 2.21s\tremaining: 1.75s\n",
      "558:\tlearn: 0.1071394\ttotal: 2.21s\tremaining: 1.75s\n",
      "559:\tlearn: 0.1070728\ttotal: 2.22s\tremaining: 1.75s\n",
      "560:\tlearn: 0.1069851\ttotal: 2.23s\tremaining: 1.74s\n",
      "561:\tlearn: 0.1068872\ttotal: 2.23s\tremaining: 1.74s\n",
      "562:\tlearn: 0.1067886\ttotal: 2.23s\tremaining: 1.74s\n",
      "563:\tlearn: 0.1067052\ttotal: 2.24s\tremaining: 1.73s\n",
      "564:\tlearn: 0.1066327\ttotal: 2.24s\tremaining: 1.73s\n",
      "565:\tlearn: 0.1065665\ttotal: 2.25s\tremaining: 1.72s\n",
      "566:\tlearn: 0.1064952\ttotal: 2.25s\tremaining: 1.72s\n",
      "567:\tlearn: 0.1064468\ttotal: 2.25s\tremaining: 1.71s\n",
      "568:\tlearn: 0.1063039\ttotal: 2.26s\tremaining: 1.71s\n",
      "569:\tlearn: 0.1061095\ttotal: 2.26s\tremaining: 1.71s\n",
      "570:\tlearn: 0.1060298\ttotal: 2.26s\tremaining: 1.7s\n",
      "571:\tlearn: 0.1059242\ttotal: 2.27s\tremaining: 1.7s\n",
      "572:\tlearn: 0.1057881\ttotal: 2.27s\tremaining: 1.69s\n",
      "573:\tlearn: 0.1057672\ttotal: 2.27s\tremaining: 1.69s\n",
      "574:\tlearn: 0.1056916\ttotal: 2.28s\tremaining: 1.68s\n",
      "575:\tlearn: 0.1055837\ttotal: 2.28s\tremaining: 1.68s\n",
      "576:\tlearn: 0.1054268\ttotal: 2.28s\tremaining: 1.67s\n",
      "577:\tlearn: 0.1053577\ttotal: 2.29s\tremaining: 1.67s\n",
      "578:\tlearn: 0.1053320\ttotal: 2.29s\tremaining: 1.66s\n",
      "579:\tlearn: 0.1051992\ttotal: 2.29s\tremaining: 1.66s\n",
      "580:\tlearn: 0.1050592\ttotal: 2.29s\tremaining: 1.66s\n",
      "581:\tlearn: 0.1049198\ttotal: 2.3s\tremaining: 1.65s\n",
      "582:\tlearn: 0.1048031\ttotal: 2.3s\tremaining: 1.65s\n",
      "583:\tlearn: 0.1047082\ttotal: 2.31s\tremaining: 1.64s\n",
      "584:\tlearn: 0.1046416\ttotal: 2.31s\tremaining: 1.64s\n",
      "585:\tlearn: 0.1045055\ttotal: 2.31s\tremaining: 1.64s\n",
      "586:\tlearn: 0.1044071\ttotal: 2.32s\tremaining: 1.63s\n",
      "587:\tlearn: 0.1042813\ttotal: 2.32s\tremaining: 1.63s\n",
      "588:\tlearn: 0.1041600\ttotal: 2.33s\tremaining: 1.62s\n",
      "589:\tlearn: 0.1040986\ttotal: 2.33s\tremaining: 1.62s\n",
      "590:\tlearn: 0.1040117\ttotal: 2.33s\tremaining: 1.61s\n",
      "591:\tlearn: 0.1038769\ttotal: 2.34s\tremaining: 1.61s\n",
      "592:\tlearn: 0.1037358\ttotal: 2.34s\tremaining: 1.61s\n",
      "593:\tlearn: 0.1035223\ttotal: 2.35s\tremaining: 1.6s\n",
      "594:\tlearn: 0.1034156\ttotal: 2.35s\tremaining: 1.6s\n",
      "595:\tlearn: 0.1033406\ttotal: 2.36s\tremaining: 1.6s\n",
      "596:\tlearn: 0.1032787\ttotal: 2.36s\tremaining: 1.59s\n",
      "597:\tlearn: 0.1031823\ttotal: 2.37s\tremaining: 1.59s\n",
      "598:\tlearn: 0.1031079\ttotal: 2.37s\tremaining: 1.59s\n",
      "599:\tlearn: 0.1029291\ttotal: 2.37s\tremaining: 1.58s\n",
      "600:\tlearn: 0.1028157\ttotal: 2.38s\tremaining: 1.58s\n",
      "601:\tlearn: 0.1027497\ttotal: 2.38s\tremaining: 1.57s\n",
      "602:\tlearn: 0.1026618\ttotal: 2.39s\tremaining: 1.57s\n",
      "603:\tlearn: 0.1026280\ttotal: 2.39s\tremaining: 1.57s\n",
      "604:\tlearn: 0.1024893\ttotal: 2.39s\tremaining: 1.56s\n",
      "605:\tlearn: 0.1024294\ttotal: 2.4s\tremaining: 1.56s\n",
      "606:\tlearn: 0.1023933\ttotal: 2.4s\tremaining: 1.55s\n",
      "607:\tlearn: 0.1023113\ttotal: 2.4s\tremaining: 1.55s\n",
      "608:\tlearn: 0.1022916\ttotal: 2.4s\tremaining: 1.54s\n",
      "609:\tlearn: 0.1021885\ttotal: 2.41s\tremaining: 1.54s\n",
      "610:\tlearn: 0.1020299\ttotal: 2.42s\tremaining: 1.54s\n",
      "611:\tlearn: 0.1019586\ttotal: 2.42s\tremaining: 1.53s\n",
      "612:\tlearn: 0.1018254\ttotal: 2.42s\tremaining: 1.53s\n",
      "613:\tlearn: 0.1017328\ttotal: 2.43s\tremaining: 1.53s\n",
      "614:\tlearn: 0.1016399\ttotal: 2.44s\tremaining: 1.52s\n",
      "615:\tlearn: 0.1015931\ttotal: 2.44s\tremaining: 1.52s\n",
      "616:\tlearn: 0.1014861\ttotal: 2.44s\tremaining: 1.52s\n",
      "617:\tlearn: 0.1014007\ttotal: 2.45s\tremaining: 1.51s\n",
      "618:\tlearn: 0.1012891\ttotal: 2.45s\tremaining: 1.51s\n",
      "619:\tlearn: 0.1012170\ttotal: 2.45s\tremaining: 1.5s\n",
      "620:\tlearn: 0.1011360\ttotal: 2.46s\tremaining: 1.5s\n",
      "621:\tlearn: 0.1010073\ttotal: 2.46s\tremaining: 1.5s\n",
      "622:\tlearn: 0.1009699\ttotal: 2.46s\tremaining: 1.49s\n",
      "623:\tlearn: 0.1008396\ttotal: 2.47s\tremaining: 1.49s\n",
      "624:\tlearn: 0.1007492\ttotal: 2.47s\tremaining: 1.48s\n",
      "625:\tlearn: 0.1006120\ttotal: 2.47s\tremaining: 1.48s\n",
      "626:\tlearn: 0.1005512\ttotal: 2.48s\tremaining: 1.47s\n",
      "627:\tlearn: 0.1005379\ttotal: 2.48s\tremaining: 1.47s\n",
      "628:\tlearn: 0.1004730\ttotal: 2.48s\tremaining: 1.46s\n",
      "629:\tlearn: 0.1003325\ttotal: 2.48s\tremaining: 1.46s\n",
      "630:\tlearn: 0.1002630\ttotal: 2.49s\tremaining: 1.45s\n",
      "631:\tlearn: 0.1001578\ttotal: 2.49s\tremaining: 1.45s\n",
      "632:\tlearn: 0.1000958\ttotal: 2.49s\tremaining: 1.45s\n",
      "633:\tlearn: 0.0999366\ttotal: 2.5s\tremaining: 1.44s\n",
      "634:\tlearn: 0.0998461\ttotal: 2.5s\tremaining: 1.44s\n",
      "635:\tlearn: 0.0998059\ttotal: 2.5s\tremaining: 1.43s\n",
      "636:\tlearn: 0.0997249\ttotal: 2.51s\tremaining: 1.43s\n",
      "637:\tlearn: 0.0995745\ttotal: 2.51s\tremaining: 1.42s\n",
      "638:\tlearn: 0.0995653\ttotal: 2.51s\tremaining: 1.42s\n",
      "639:\tlearn: 0.0994417\ttotal: 2.52s\tremaining: 1.42s\n",
      "640:\tlearn: 0.0993218\ttotal: 2.52s\tremaining: 1.41s\n",
      "641:\tlearn: 0.0991698\ttotal: 2.52s\tremaining: 1.41s\n",
      "642:\tlearn: 0.0990657\ttotal: 2.52s\tremaining: 1.4s\n",
      "643:\tlearn: 0.0989268\ttotal: 2.53s\tremaining: 1.4s\n",
      "644:\tlearn: 0.0987627\ttotal: 2.53s\tremaining: 1.39s\n",
      "645:\tlearn: 0.0986428\ttotal: 2.53s\tremaining: 1.39s\n",
      "646:\tlearn: 0.0984460\ttotal: 2.54s\tremaining: 1.39s\n",
      "647:\tlearn: 0.0983487\ttotal: 2.55s\tremaining: 1.38s\n",
      "648:\tlearn: 0.0982546\ttotal: 2.55s\tremaining: 1.38s\n",
      "649:\tlearn: 0.0981781\ttotal: 2.56s\tremaining: 1.38s\n",
      "650:\tlearn: 0.0980794\ttotal: 2.56s\tremaining: 1.37s\n",
      "651:\tlearn: 0.0979702\ttotal: 2.57s\tremaining: 1.37s\n",
      "652:\tlearn: 0.0979453\ttotal: 2.57s\tremaining: 1.36s\n",
      "653:\tlearn: 0.0978828\ttotal: 2.58s\tremaining: 1.36s\n",
      "654:\tlearn: 0.0977747\ttotal: 2.58s\tremaining: 1.36s\n",
      "655:\tlearn: 0.0976732\ttotal: 2.58s\tremaining: 1.35s\n",
      "656:\tlearn: 0.0976489\ttotal: 2.58s\tremaining: 1.35s\n",
      "657:\tlearn: 0.0975972\ttotal: 2.59s\tremaining: 1.34s\n",
      "658:\tlearn: 0.0975685\ttotal: 2.59s\tremaining: 1.34s\n",
      "659:\tlearn: 0.0974506\ttotal: 2.59s\tremaining: 1.34s\n",
      "660:\tlearn: 0.0973358\ttotal: 2.6s\tremaining: 1.33s\n",
      "661:\tlearn: 0.0972241\ttotal: 2.6s\tremaining: 1.33s\n",
      "662:\tlearn: 0.0971185\ttotal: 2.6s\tremaining: 1.32s\n",
      "663:\tlearn: 0.0969607\ttotal: 2.61s\tremaining: 1.32s\n",
      "664:\tlearn: 0.0968686\ttotal: 2.62s\tremaining: 1.32s\n",
      "665:\tlearn: 0.0968333\ttotal: 2.62s\tremaining: 1.31s\n",
      "666:\tlearn: 0.0967887\ttotal: 2.62s\tremaining: 1.31s\n",
      "667:\tlearn: 0.0967392\ttotal: 2.63s\tremaining: 1.31s\n",
      "668:\tlearn: 0.0967088\ttotal: 2.63s\tremaining: 1.3s\n",
      "669:\tlearn: 0.0966521\ttotal: 2.64s\tremaining: 1.3s\n",
      "670:\tlearn: 0.0966128\ttotal: 2.64s\tremaining: 1.29s\n",
      "671:\tlearn: 0.0965662\ttotal: 2.64s\tremaining: 1.29s\n",
      "672:\tlearn: 0.0964001\ttotal: 2.65s\tremaining: 1.29s\n",
      "673:\tlearn: 0.0963111\ttotal: 2.65s\tremaining: 1.28s\n",
      "674:\tlearn: 0.0962906\ttotal: 2.66s\tremaining: 1.28s\n",
      "675:\tlearn: 0.0962121\ttotal: 2.66s\tremaining: 1.27s\n",
      "676:\tlearn: 0.0961575\ttotal: 2.66s\tremaining: 1.27s\n",
      "677:\tlearn: 0.0960844\ttotal: 2.67s\tremaining: 1.27s\n",
      "678:\tlearn: 0.0960479\ttotal: 2.67s\tremaining: 1.26s\n",
      "679:\tlearn: 0.0959467\ttotal: 2.67s\tremaining: 1.26s\n",
      "680:\tlearn: 0.0958530\ttotal: 2.68s\tremaining: 1.25s\n",
      "681:\tlearn: 0.0957531\ttotal: 2.68s\tremaining: 1.25s\n",
      "682:\tlearn: 0.0956773\ttotal: 2.68s\tremaining: 1.24s\n",
      "683:\tlearn: 0.0956573\ttotal: 2.69s\tremaining: 1.24s\n",
      "684:\tlearn: 0.0956056\ttotal: 2.69s\tremaining: 1.24s\n",
      "685:\tlearn: 0.0955240\ttotal: 2.69s\tremaining: 1.23s\n",
      "686:\tlearn: 0.0954401\ttotal: 2.7s\tremaining: 1.23s\n",
      "687:\tlearn: 0.0954076\ttotal: 2.7s\tremaining: 1.22s\n",
      "688:\tlearn: 0.0953004\ttotal: 2.7s\tremaining: 1.22s\n",
      "689:\tlearn: 0.0952768\ttotal: 2.71s\tremaining: 1.22s\n",
      "690:\tlearn: 0.0952225\ttotal: 2.71s\tremaining: 1.21s\n",
      "691:\tlearn: 0.0951397\ttotal: 2.71s\tremaining: 1.21s\n",
      "692:\tlearn: 0.0949933\ttotal: 2.72s\tremaining: 1.2s\n",
      "693:\tlearn: 0.0948790\ttotal: 2.72s\tremaining: 1.2s\n",
      "694:\tlearn: 0.0948292\ttotal: 2.72s\tremaining: 1.19s\n",
      "695:\tlearn: 0.0947845\ttotal: 2.73s\tremaining: 1.19s\n",
      "696:\tlearn: 0.0946864\ttotal: 2.73s\tremaining: 1.19s\n",
      "697:\tlearn: 0.0945611\ttotal: 2.74s\tremaining: 1.18s\n",
      "698:\tlearn: 0.0944558\ttotal: 2.74s\tremaining: 1.18s\n",
      "699:\tlearn: 0.0944092\ttotal: 2.75s\tremaining: 1.18s\n",
      "700:\tlearn: 0.0943402\ttotal: 2.75s\tremaining: 1.17s\n",
      "701:\tlearn: 0.0943176\ttotal: 2.76s\tremaining: 1.17s\n",
      "702:\tlearn: 0.0942706\ttotal: 2.76s\tremaining: 1.17s\n",
      "703:\tlearn: 0.0941304\ttotal: 2.77s\tremaining: 1.16s\n",
      "704:\tlearn: 0.0939914\ttotal: 2.77s\tremaining: 1.16s\n",
      "705:\tlearn: 0.0939269\ttotal: 2.77s\tremaining: 1.15s\n",
      "706:\tlearn: 0.0938013\ttotal: 2.78s\tremaining: 1.15s\n",
      "707:\tlearn: 0.0937834\ttotal: 2.78s\tremaining: 1.15s\n",
      "708:\tlearn: 0.0937007\ttotal: 2.79s\tremaining: 1.14s\n",
      "709:\tlearn: 0.0935979\ttotal: 2.79s\tremaining: 1.14s\n",
      "710:\tlearn: 0.0935498\ttotal: 2.79s\tremaining: 1.14s\n",
      "711:\tlearn: 0.0933906\ttotal: 2.8s\tremaining: 1.13s\n",
      "712:\tlearn: 0.0932659\ttotal: 2.8s\tremaining: 1.13s\n"
     ]
    },
    {
     "name": "stdout",
     "output_type": "stream",
     "text": [
      "713:\tlearn: 0.0932112\ttotal: 2.8s\tremaining: 1.12s\n",
      "714:\tlearn: 0.0930833\ttotal: 2.81s\tremaining: 1.12s\n",
      "715:\tlearn: 0.0928991\ttotal: 2.82s\tremaining: 1.12s\n",
      "716:\tlearn: 0.0928329\ttotal: 2.82s\tremaining: 1.11s\n",
      "717:\tlearn: 0.0926250\ttotal: 2.83s\tremaining: 1.11s\n",
      "718:\tlearn: 0.0925666\ttotal: 2.83s\tremaining: 1.11s\n",
      "719:\tlearn: 0.0924745\ttotal: 2.83s\tremaining: 1.1s\n",
      "720:\tlearn: 0.0924398\ttotal: 2.84s\tremaining: 1.1s\n",
      "721:\tlearn: 0.0923754\ttotal: 2.85s\tremaining: 1.09s\n",
      "722:\tlearn: 0.0922541\ttotal: 2.85s\tremaining: 1.09s\n",
      "723:\tlearn: 0.0921174\ttotal: 2.85s\tremaining: 1.09s\n",
      "724:\tlearn: 0.0919816\ttotal: 2.86s\tremaining: 1.08s\n",
      "725:\tlearn: 0.0919042\ttotal: 2.86s\tremaining: 1.08s\n",
      "726:\tlearn: 0.0917818\ttotal: 2.87s\tremaining: 1.08s\n",
      "727:\tlearn: 0.0916986\ttotal: 2.87s\tremaining: 1.07s\n",
      "728:\tlearn: 0.0915857\ttotal: 2.87s\tremaining: 1.07s\n",
      "729:\tlearn: 0.0914398\ttotal: 2.88s\tremaining: 1.06s\n",
      "730:\tlearn: 0.0913988\ttotal: 2.88s\tremaining: 1.06s\n",
      "731:\tlearn: 0.0912299\ttotal: 2.88s\tremaining: 1.05s\n",
      "732:\tlearn: 0.0911771\ttotal: 2.88s\tremaining: 1.05s\n",
      "733:\tlearn: 0.0910998\ttotal: 2.89s\tremaining: 1.05s\n",
      "734:\tlearn: 0.0909986\ttotal: 2.89s\tremaining: 1.04s\n",
      "735:\tlearn: 0.0908501\ttotal: 2.9s\tremaining: 1.04s\n",
      "736:\tlearn: 0.0908140\ttotal: 2.9s\tremaining: 1.03s\n",
      "737:\tlearn: 0.0906498\ttotal: 2.9s\tremaining: 1.03s\n",
      "738:\tlearn: 0.0905311\ttotal: 2.9s\tremaining: 1.03s\n",
      "739:\tlearn: 0.0904814\ttotal: 2.91s\tremaining: 1.02s\n",
      "740:\tlearn: 0.0903507\ttotal: 2.91s\tremaining: 1.02s\n",
      "741:\tlearn: 0.0902655\ttotal: 2.92s\tremaining: 1.01s\n",
      "742:\tlearn: 0.0901839\ttotal: 2.92s\tremaining: 1.01s\n",
      "743:\tlearn: 0.0900563\ttotal: 2.92s\tremaining: 1s\n",
      "744:\tlearn: 0.0900167\ttotal: 2.92s\tremaining: 1s\n",
      "745:\tlearn: 0.0899442\ttotal: 2.93s\tremaining: 997ms\n",
      "746:\tlearn: 0.0899114\ttotal: 2.93s\tremaining: 994ms\n",
      "747:\tlearn: 0.0898312\ttotal: 2.94s\tremaining: 990ms\n",
      "748:\tlearn: 0.0897022\ttotal: 2.94s\tremaining: 987ms\n",
      "749:\tlearn: 0.0896571\ttotal: 2.95s\tremaining: 983ms\n",
      "750:\tlearn: 0.0895291\ttotal: 2.95s\tremaining: 980ms\n",
      "751:\tlearn: 0.0894455\ttotal: 2.96s\tremaining: 976ms\n",
      "752:\tlearn: 0.0893646\ttotal: 2.96s\tremaining: 971ms\n",
      "753:\tlearn: 0.0892722\ttotal: 2.96s\tremaining: 967ms\n",
      "754:\tlearn: 0.0891463\ttotal: 2.97s\tremaining: 963ms\n",
      "755:\tlearn: 0.0890685\ttotal: 2.97s\tremaining: 959ms\n",
      "756:\tlearn: 0.0889938\ttotal: 2.98s\tremaining: 955ms\n",
      "757:\tlearn: 0.0889067\ttotal: 2.98s\tremaining: 951ms\n",
      "758:\tlearn: 0.0887538\ttotal: 2.98s\tremaining: 947ms\n",
      "759:\tlearn: 0.0886375\ttotal: 2.98s\tremaining: 943ms\n",
      "760:\tlearn: 0.0885840\ttotal: 2.99s\tremaining: 938ms\n",
      "761:\tlearn: 0.0885613\ttotal: 2.99s\tremaining: 934ms\n",
      "762:\tlearn: 0.0885406\ttotal: 2.99s\tremaining: 930ms\n",
      "763:\tlearn: 0.0884806\ttotal: 3s\tremaining: 926ms\n",
      "764:\tlearn: 0.0884446\ttotal: 3s\tremaining: 922ms\n",
      "765:\tlearn: 0.0883971\ttotal: 3.01s\tremaining: 918ms\n",
      "766:\tlearn: 0.0882486\ttotal: 3.01s\tremaining: 915ms\n",
      "767:\tlearn: 0.0882204\ttotal: 3.02s\tremaining: 911ms\n",
      "768:\tlearn: 0.0881919\ttotal: 3.02s\tremaining: 907ms\n",
      "769:\tlearn: 0.0880293\ttotal: 3.02s\tremaining: 904ms\n",
      "770:\tlearn: 0.0880013\ttotal: 3.03s\tremaining: 900ms\n",
      "771:\tlearn: 0.0878830\ttotal: 3.03s\tremaining: 896ms\n",
      "772:\tlearn: 0.0877787\ttotal: 3.04s\tremaining: 892ms\n",
      "773:\tlearn: 0.0876991\ttotal: 3.04s\tremaining: 888ms\n",
      "774:\tlearn: 0.0875750\ttotal: 3.04s\tremaining: 884ms\n",
      "775:\tlearn: 0.0874625\ttotal: 3.05s\tremaining: 880ms\n",
      "776:\tlearn: 0.0873538\ttotal: 3.05s\tremaining: 876ms\n",
      "777:\tlearn: 0.0872680\ttotal: 3.05s\tremaining: 872ms\n",
      "778:\tlearn: 0.0871258\ttotal: 3.06s\tremaining: 868ms\n",
      "779:\tlearn: 0.0870276\ttotal: 3.06s\tremaining: 864ms\n",
      "780:\tlearn: 0.0869996\ttotal: 3.06s\tremaining: 859ms\n",
      "781:\tlearn: 0.0869814\ttotal: 3.07s\tremaining: 855ms\n",
      "782:\tlearn: 0.0869206\ttotal: 3.07s\tremaining: 851ms\n",
      "783:\tlearn: 0.0868655\ttotal: 3.07s\tremaining: 847ms\n",
      "784:\tlearn: 0.0866702\ttotal: 3.08s\tremaining: 843ms\n",
      "785:\tlearn: 0.0866274\ttotal: 3.08s\tremaining: 839ms\n",
      "786:\tlearn: 0.0864881\ttotal: 3.08s\tremaining: 834ms\n",
      "787:\tlearn: 0.0864107\ttotal: 3.08s\tremaining: 830ms\n",
      "788:\tlearn: 0.0863273\ttotal: 3.09s\tremaining: 826ms\n",
      "789:\tlearn: 0.0862624\ttotal: 3.09s\tremaining: 822ms\n",
      "790:\tlearn: 0.0861700\ttotal: 3.09s\tremaining: 818ms\n",
      "791:\tlearn: 0.0860759\ttotal: 3.1s\tremaining: 814ms\n",
      "792:\tlearn: 0.0860048\ttotal: 3.1s\tremaining: 809ms\n",
      "793:\tlearn: 0.0859829\ttotal: 3.1s\tremaining: 805ms\n",
      "794:\tlearn: 0.0859579\ttotal: 3.11s\tremaining: 801ms\n",
      "795:\tlearn: 0.0858465\ttotal: 3.11s\tremaining: 797ms\n",
      "796:\tlearn: 0.0857998\ttotal: 3.11s\tremaining: 793ms\n",
      "797:\tlearn: 0.0857635\ttotal: 3.12s\tremaining: 789ms\n",
      "798:\tlearn: 0.0857161\ttotal: 3.12s\tremaining: 785ms\n",
      "799:\tlearn: 0.0856874\ttotal: 3.12s\tremaining: 781ms\n",
      "800:\tlearn: 0.0855684\ttotal: 3.13s\tremaining: 777ms\n",
      "801:\tlearn: 0.0855137\ttotal: 3.13s\tremaining: 774ms\n",
      "802:\tlearn: 0.0853844\ttotal: 3.14s\tremaining: 770ms\n",
      "803:\tlearn: 0.0852773\ttotal: 3.14s\tremaining: 766ms\n",
      "804:\tlearn: 0.0851980\ttotal: 3.15s\tremaining: 763ms\n",
      "805:\tlearn: 0.0851605\ttotal: 3.15s\tremaining: 759ms\n",
      "806:\tlearn: 0.0850567\ttotal: 3.15s\tremaining: 755ms\n",
      "807:\tlearn: 0.0850425\ttotal: 3.16s\tremaining: 751ms\n",
      "808:\tlearn: 0.0849653\ttotal: 3.16s\tremaining: 747ms\n",
      "809:\tlearn: 0.0848565\ttotal: 3.17s\tremaining: 743ms\n",
      "810:\tlearn: 0.0847467\ttotal: 3.17s\tremaining: 739ms\n",
      "811:\tlearn: 0.0846561\ttotal: 3.17s\tremaining: 735ms\n",
      "812:\tlearn: 0.0845442\ttotal: 3.17s\tremaining: 730ms\n",
      "813:\tlearn: 0.0844227\ttotal: 3.18s\tremaining: 726ms\n",
      "814:\tlearn: 0.0843971\ttotal: 3.18s\tremaining: 722ms\n",
      "815:\tlearn: 0.0843521\ttotal: 3.19s\tremaining: 718ms\n",
      "816:\tlearn: 0.0842405\ttotal: 3.19s\tremaining: 714ms\n",
      "817:\tlearn: 0.0842317\ttotal: 3.19s\tremaining: 710ms\n",
      "818:\tlearn: 0.0841187\ttotal: 3.19s\tremaining: 706ms\n",
      "819:\tlearn: 0.0840183\ttotal: 3.2s\tremaining: 702ms\n",
      "820:\tlearn: 0.0839646\ttotal: 3.2s\tremaining: 698ms\n",
      "821:\tlearn: 0.0838589\ttotal: 3.21s\tremaining: 695ms\n",
      "822:\tlearn: 0.0836999\ttotal: 3.21s\tremaining: 691ms\n",
      "823:\tlearn: 0.0835717\ttotal: 3.22s\tremaining: 687ms\n",
      "824:\tlearn: 0.0835601\ttotal: 3.22s\tremaining: 683ms\n",
      "825:\tlearn: 0.0834139\ttotal: 3.23s\tremaining: 680ms\n",
      "826:\tlearn: 0.0833245\ttotal: 3.23s\tremaining: 676ms\n",
      "827:\tlearn: 0.0832960\ttotal: 3.23s\tremaining: 672ms\n",
      "828:\tlearn: 0.0831741\ttotal: 3.24s\tremaining: 668ms\n",
      "829:\tlearn: 0.0830867\ttotal: 3.24s\tremaining: 664ms\n",
      "830:\tlearn: 0.0830017\ttotal: 3.25s\tremaining: 660ms\n",
      "831:\tlearn: 0.0829527\ttotal: 3.25s\tremaining: 656ms\n",
      "832:\tlearn: 0.0829170\ttotal: 3.25s\tremaining: 652ms\n",
      "833:\tlearn: 0.0829138\ttotal: 3.25s\tremaining: 648ms\n",
      "834:\tlearn: 0.0828497\ttotal: 3.26s\tremaining: 644ms\n",
      "835:\tlearn: 0.0828209\ttotal: 3.26s\tremaining: 640ms\n",
      "836:\tlearn: 0.0827846\ttotal: 3.26s\tremaining: 636ms\n",
      "837:\tlearn: 0.0826681\ttotal: 3.27s\tremaining: 632ms\n",
      "838:\tlearn: 0.0826422\ttotal: 3.27s\tremaining: 628ms\n",
      "839:\tlearn: 0.0825211\ttotal: 3.27s\tremaining: 624ms\n",
      "840:\tlearn: 0.0825094\ttotal: 3.28s\tremaining: 619ms\n",
      "841:\tlearn: 0.0824253\ttotal: 3.28s\tremaining: 615ms\n",
      "842:\tlearn: 0.0823230\ttotal: 3.28s\tremaining: 611ms\n",
      "843:\tlearn: 0.0822886\ttotal: 3.29s\tremaining: 607ms\n",
      "844:\tlearn: 0.0822632\ttotal: 3.29s\tremaining: 603ms\n",
      "845:\tlearn: 0.0821611\ttotal: 3.29s\tremaining: 599ms\n",
      "846:\tlearn: 0.0820324\ttotal: 3.29s\tremaining: 595ms\n",
      "847:\tlearn: 0.0819036\ttotal: 3.3s\tremaining: 591ms\n",
      "848:\tlearn: 0.0817978\ttotal: 3.3s\tremaining: 587ms\n",
      "849:\tlearn: 0.0817851\ttotal: 3.3s\tremaining: 583ms\n",
      "850:\tlearn: 0.0816367\ttotal: 3.31s\tremaining: 579ms\n",
      "851:\tlearn: 0.0815015\ttotal: 3.31s\tremaining: 575ms\n",
      "852:\tlearn: 0.0813984\ttotal: 3.31s\tremaining: 571ms\n",
      "853:\tlearn: 0.0813849\ttotal: 3.32s\tremaining: 568ms\n",
      "854:\tlearn: 0.0813564\ttotal: 3.33s\tremaining: 564ms\n",
      "855:\tlearn: 0.0812488\ttotal: 3.33s\tremaining: 560ms\n",
      "856:\tlearn: 0.0811506\ttotal: 3.34s\tremaining: 557ms\n",
      "857:\tlearn: 0.0810434\ttotal: 3.34s\tremaining: 553ms\n",
      "858:\tlearn: 0.0808986\ttotal: 3.35s\tremaining: 549ms\n",
      "859:\tlearn: 0.0808064\ttotal: 3.35s\tremaining: 546ms\n",
      "860:\tlearn: 0.0806987\ttotal: 3.36s\tremaining: 542ms\n",
      "861:\tlearn: 0.0806311\ttotal: 3.36s\tremaining: 538ms\n",
      "862:\tlearn: 0.0805295\ttotal: 3.36s\tremaining: 534ms\n",
      "863:\tlearn: 0.0804793\ttotal: 3.37s\tremaining: 530ms\n",
      "864:\tlearn: 0.0803815\ttotal: 3.37s\tremaining: 526ms\n",
      "865:\tlearn: 0.0803574\ttotal: 3.37s\tremaining: 522ms\n",
      "866:\tlearn: 0.0802390\ttotal: 3.38s\tremaining: 518ms\n",
      "867:\tlearn: 0.0801703\ttotal: 3.38s\tremaining: 514ms\n",
      "868:\tlearn: 0.0800811\ttotal: 3.38s\tremaining: 510ms\n",
      "869:\tlearn: 0.0799592\ttotal: 3.39s\tremaining: 506ms\n",
      "870:\tlearn: 0.0798667\ttotal: 3.39s\tremaining: 502ms\n",
      "871:\tlearn: 0.0797668\ttotal: 3.39s\tremaining: 498ms\n",
      "872:\tlearn: 0.0796867\ttotal: 3.4s\tremaining: 494ms\n"
     ]
    },
    {
     "name": "stdout",
     "output_type": "stream",
     "text": [
      "873:\tlearn: 0.0796462\ttotal: 3.4s\tremaining: 490ms\n",
      "874:\tlearn: 0.0795407\ttotal: 3.41s\tremaining: 487ms\n",
      "875:\tlearn: 0.0794092\ttotal: 3.41s\tremaining: 483ms\n",
      "876:\tlearn: 0.0793321\ttotal: 3.42s\tremaining: 479ms\n",
      "877:\tlearn: 0.0792332\ttotal: 3.42s\tremaining: 475ms\n",
      "878:\tlearn: 0.0790610\ttotal: 3.42s\tremaining: 472ms\n",
      "879:\tlearn: 0.0790373\ttotal: 3.43s\tremaining: 468ms\n",
      "880:\tlearn: 0.0789432\ttotal: 3.43s\tremaining: 464ms\n",
      "881:\tlearn: 0.0789171\ttotal: 3.44s\tremaining: 460ms\n",
      "882:\tlearn: 0.0788187\ttotal: 3.44s\tremaining: 456ms\n",
      "883:\tlearn: 0.0787354\ttotal: 3.44s\tremaining: 452ms\n",
      "884:\tlearn: 0.0786137\ttotal: 3.45s\tremaining: 448ms\n",
      "885:\tlearn: 0.0785872\ttotal: 3.45s\tremaining: 444ms\n",
      "886:\tlearn: 0.0784723\ttotal: 3.45s\tremaining: 440ms\n",
      "887:\tlearn: 0.0783993\ttotal: 3.46s\tremaining: 436ms\n",
      "888:\tlearn: 0.0782810\ttotal: 3.46s\tremaining: 432ms\n",
      "889:\tlearn: 0.0782226\ttotal: 3.46s\tremaining: 428ms\n",
      "890:\tlearn: 0.0781786\ttotal: 3.47s\tremaining: 424ms\n",
      "891:\tlearn: 0.0780484\ttotal: 3.47s\tremaining: 420ms\n",
      "892:\tlearn: 0.0780087\ttotal: 3.47s\tremaining: 416ms\n",
      "893:\tlearn: 0.0779157\ttotal: 3.48s\tremaining: 412ms\n",
      "894:\tlearn: 0.0778729\ttotal: 3.48s\tremaining: 408ms\n",
      "895:\tlearn: 0.0777809\ttotal: 3.48s\tremaining: 404ms\n",
      "896:\tlearn: 0.0777580\ttotal: 3.48s\tremaining: 400ms\n",
      "897:\tlearn: 0.0776900\ttotal: 3.49s\tremaining: 396ms\n",
      "898:\tlearn: 0.0776606\ttotal: 3.49s\tremaining: 392ms\n",
      "899:\tlearn: 0.0776365\ttotal: 3.5s\tremaining: 388ms\n",
      "900:\tlearn: 0.0776066\ttotal: 3.5s\tremaining: 384ms\n",
      "901:\tlearn: 0.0775840\ttotal: 3.5s\tremaining: 380ms\n",
      "902:\tlearn: 0.0775578\ttotal: 3.5s\tremaining: 376ms\n",
      "903:\tlearn: 0.0774817\ttotal: 3.51s\tremaining: 372ms\n",
      "904:\tlearn: 0.0774018\ttotal: 3.51s\tremaining: 368ms\n",
      "905:\tlearn: 0.0773259\ttotal: 3.51s\tremaining: 365ms\n",
      "906:\tlearn: 0.0773040\ttotal: 3.52s\tremaining: 361ms\n",
      "907:\tlearn: 0.0772931\ttotal: 3.52s\tremaining: 357ms\n",
      "908:\tlearn: 0.0772712\ttotal: 3.53s\tremaining: 353ms\n",
      "909:\tlearn: 0.0771547\ttotal: 3.53s\tremaining: 349ms\n",
      "910:\tlearn: 0.0770463\ttotal: 3.54s\tremaining: 346ms\n",
      "911:\tlearn: 0.0769004\ttotal: 3.54s\tremaining: 342ms\n",
      "912:\tlearn: 0.0768238\ttotal: 3.55s\tremaining: 338ms\n",
      "913:\tlearn: 0.0768022\ttotal: 3.55s\tremaining: 334ms\n",
      "914:\tlearn: 0.0767216\ttotal: 3.55s\tremaining: 330ms\n",
      "915:\tlearn: 0.0766609\ttotal: 3.56s\tremaining: 326ms\n",
      "916:\tlearn: 0.0765892\ttotal: 3.56s\tremaining: 322ms\n",
      "917:\tlearn: 0.0764891\ttotal: 3.56s\tremaining: 318ms\n",
      "918:\tlearn: 0.0764591\ttotal: 3.57s\tremaining: 314ms\n",
      "919:\tlearn: 0.0763923\ttotal: 3.57s\tremaining: 310ms\n",
      "920:\tlearn: 0.0763405\ttotal: 3.57s\tremaining: 307ms\n",
      "921:\tlearn: 0.0761869\ttotal: 3.58s\tremaining: 303ms\n",
      "922:\tlearn: 0.0760893\ttotal: 3.58s\tremaining: 299ms\n",
      "923:\tlearn: 0.0760310\ttotal: 3.58s\tremaining: 295ms\n",
      "924:\tlearn: 0.0759805\ttotal: 3.58s\tremaining: 291ms\n",
      "925:\tlearn: 0.0759275\ttotal: 3.59s\tremaining: 287ms\n",
      "926:\tlearn: 0.0757890\ttotal: 3.59s\tremaining: 283ms\n",
      "927:\tlearn: 0.0757336\ttotal: 3.6s\tremaining: 279ms\n",
      "928:\tlearn: 0.0756878\ttotal: 3.6s\tremaining: 275ms\n",
      "929:\tlearn: 0.0755980\ttotal: 3.61s\tremaining: 272ms\n",
      "930:\tlearn: 0.0755472\ttotal: 3.61s\tremaining: 268ms\n",
      "931:\tlearn: 0.0754741\ttotal: 3.62s\tremaining: 264ms\n",
      "932:\tlearn: 0.0753865\ttotal: 3.62s\tremaining: 260ms\n",
      "933:\tlearn: 0.0753620\ttotal: 3.63s\tremaining: 256ms\n",
      "934:\tlearn: 0.0753109\ttotal: 3.63s\tremaining: 252ms\n",
      "935:\tlearn: 0.0752303\ttotal: 3.63s\tremaining: 248ms\n",
      "936:\tlearn: 0.0751913\ttotal: 3.63s\tremaining: 244ms\n",
      "937:\tlearn: 0.0750947\ttotal: 3.64s\tremaining: 241ms\n",
      "938:\tlearn: 0.0750751\ttotal: 3.64s\tremaining: 237ms\n",
      "939:\tlearn: 0.0749224\ttotal: 3.65s\tremaining: 233ms\n",
      "940:\tlearn: 0.0748427\ttotal: 3.65s\tremaining: 229ms\n",
      "941:\tlearn: 0.0747960\ttotal: 3.65s\tremaining: 225ms\n",
      "942:\tlearn: 0.0747666\ttotal: 3.66s\tremaining: 221ms\n",
      "943:\tlearn: 0.0746996\ttotal: 3.66s\tremaining: 217ms\n",
      "944:\tlearn: 0.0746126\ttotal: 3.66s\tremaining: 213ms\n",
      "945:\tlearn: 0.0745946\ttotal: 3.67s\tremaining: 209ms\n",
      "946:\tlearn: 0.0745187\ttotal: 3.67s\tremaining: 205ms\n",
      "947:\tlearn: 0.0745020\ttotal: 3.67s\tremaining: 201ms\n",
      "948:\tlearn: 0.0744080\ttotal: 3.67s\tremaining: 197ms\n",
      "949:\tlearn: 0.0743581\ttotal: 3.68s\tremaining: 194ms\n",
      "950:\tlearn: 0.0743190\ttotal: 3.68s\tremaining: 190ms\n",
      "951:\tlearn: 0.0741791\ttotal: 3.68s\tremaining: 186ms\n",
      "952:\tlearn: 0.0741381\ttotal: 3.69s\tremaining: 182ms\n",
      "953:\tlearn: 0.0740277\ttotal: 3.69s\tremaining: 178ms\n",
      "954:\tlearn: 0.0739178\ttotal: 3.69s\tremaining: 174ms\n",
      "955:\tlearn: 0.0738665\ttotal: 3.69s\tremaining: 170ms\n",
      "956:\tlearn: 0.0737716\ttotal: 3.7s\tremaining: 166ms\n",
      "957:\tlearn: 0.0736917\ttotal: 3.7s\tremaining: 162ms\n",
      "958:\tlearn: 0.0735846\ttotal: 3.7s\tremaining: 158ms\n",
      "959:\tlearn: 0.0734943\ttotal: 3.71s\tremaining: 154ms\n",
      "960:\tlearn: 0.0734209\ttotal: 3.71s\tremaining: 151ms\n",
      "961:\tlearn: 0.0733375\ttotal: 3.71s\tremaining: 147ms\n",
      "962:\tlearn: 0.0732470\ttotal: 3.72s\tremaining: 143ms\n",
      "963:\tlearn: 0.0731621\ttotal: 3.73s\tremaining: 139ms\n",
      "964:\tlearn: 0.0730754\ttotal: 3.73s\tremaining: 135ms\n",
      "965:\tlearn: 0.0730125\ttotal: 3.73s\tremaining: 131ms\n",
      "966:\tlearn: 0.0729276\ttotal: 3.74s\tremaining: 128ms\n",
      "967:\tlearn: 0.0727839\ttotal: 3.74s\tremaining: 124ms\n",
      "968:\tlearn: 0.0727594\ttotal: 3.75s\tremaining: 120ms\n",
      "969:\tlearn: 0.0727333\ttotal: 3.75s\tremaining: 116ms\n",
      "970:\tlearn: 0.0727154\ttotal: 3.75s\tremaining: 112ms\n",
      "971:\tlearn: 0.0726870\ttotal: 3.76s\tremaining: 108ms\n",
      "972:\tlearn: 0.0726065\ttotal: 3.76s\tremaining: 104ms\n",
      "973:\tlearn: 0.0725607\ttotal: 3.77s\tremaining: 101ms\n",
      "974:\tlearn: 0.0725156\ttotal: 3.77s\tremaining: 96.6ms\n",
      "975:\tlearn: 0.0724262\ttotal: 3.77s\tremaining: 92.7ms\n",
      "976:\tlearn: 0.0724043\ttotal: 3.77s\tremaining: 88.9ms\n",
      "977:\tlearn: 0.0723696\ttotal: 3.78s\tremaining: 85ms\n",
      "978:\tlearn: 0.0723294\ttotal: 3.78s\tremaining: 81.1ms\n",
      "979:\tlearn: 0.0722163\ttotal: 3.78s\tremaining: 77.2ms\n",
      "980:\tlearn: 0.0721288\ttotal: 3.79s\tremaining: 73.3ms\n",
      "981:\tlearn: 0.0720806\ttotal: 3.79s\tremaining: 69.5ms\n",
      "982:\tlearn: 0.0720361\ttotal: 3.8s\tremaining: 65.7ms\n",
      "983:\tlearn: 0.0719994\ttotal: 3.8s\tremaining: 61.8ms\n",
      "984:\tlearn: 0.0719196\ttotal: 3.81s\tremaining: 58ms\n",
      "985:\tlearn: 0.0718322\ttotal: 3.81s\tremaining: 54.1ms\n",
      "986:\tlearn: 0.0717394\ttotal: 3.82s\tremaining: 50.3ms\n",
      "987:\tlearn: 0.0716033\ttotal: 3.82s\tremaining: 46.4ms\n",
      "988:\tlearn: 0.0714676\ttotal: 3.83s\tremaining: 42.6ms\n",
      "989:\tlearn: 0.0713036\ttotal: 3.83s\tremaining: 38.7ms\n",
      "990:\tlearn: 0.0712291\ttotal: 3.84s\tremaining: 34.9ms\n",
      "991:\tlearn: 0.0710926\ttotal: 3.84s\tremaining: 31ms\n",
      "992:\tlearn: 0.0709868\ttotal: 3.84s\tremaining: 27.1ms\n",
      "993:\tlearn: 0.0708908\ttotal: 3.85s\tremaining: 23.2ms\n",
      "994:\tlearn: 0.0708661\ttotal: 3.85s\tremaining: 19.4ms\n",
      "995:\tlearn: 0.0708277\ttotal: 3.85s\tremaining: 15.5ms\n",
      "996:\tlearn: 0.0707621\ttotal: 3.86s\tremaining: 11.6ms\n",
      "997:\tlearn: 0.0707287\ttotal: 3.86s\tremaining: 7.74ms\n",
      "998:\tlearn: 0.0706654\ttotal: 3.86s\tremaining: 3.87ms\n",
      "999:\tlearn: 0.0706438\ttotal: 3.87s\tremaining: 0us\n",
      "TRAIN\n",
      "\n",
      "              precision    recall  f1-score   support\n",
      "\n",
      "           0       0.98      1.00      0.99      1993\n",
      "           1       1.00      0.88      0.93       340\n",
      "\n",
      "    accuracy                           0.98      2333\n",
      "   macro avg       0.99      0.94      0.96      2333\n",
      "weighted avg       0.98      0.98      0.98      2333\n",
      "\n",
      "TEST\n",
      "\n",
      "              precision    recall  f1-score   support\n",
      "\n",
      "           0       0.96      1.00      0.98       857\n",
      "           1       0.97      0.72      0.83       143\n",
      "\n",
      "    accuracy                           0.96      1000\n",
      "   macro avg       0.96      0.86      0.90      1000\n",
      "weighted avg       0.96      0.96      0.95      1000\n",
      "\n",
      "CONFUSION MATRIX\n",
      "\n",
      "col_0    0    1\n",
      "row_0          \n",
      "0      854    3\n",
      "1       40  103\n"
     ]
    }
   ],
   "source": [
    "model_cat = catboost.CatBoostClassifier(random_state=21)\n",
    "model_cat.fit(X_train, y_train)\n",
    "\n",
    "y_train_pred = model_cat.predict(X_train)\n",
    "y_test_pred = model_cat.predict(X_test)\n",
    "\n",
    "get_classification_report(y_train, y_train_pred, y_test, y_test_pred)"
   ]
  },
  {
   "cell_type": "markdown",
   "id": "432f3725",
   "metadata": {},
   "source": [
    "CatBoost при значениях гиперпараметров по умолчанию так же показал высокие значения метрик"
   ]
  },
  {
   "cell_type": "markdown",
   "id": "aed4b39e-db2b-4891-9c83-26cf78bcba8c",
   "metadata": {},
   "source": [
    "### Задание 5. Рисуем\n",
    "\n",
    "**дополнительно 0.5 балла**\n",
    "\n",
    "Наверняка, в процессе выполнения этого задания вас переполняли какие-то эмоции. Нарисуйте что-то, что бы могло бы передать их (я сам не умею, так что, если это будет просто квадрат, тоже подойдет). Прикрепите сюда свой рисунок:"
   ]
  },
  {
   "cell_type": "code",
   "execution_count": 86,
   "id": "17b2bb34-4dd9-44ab-b441-e5132ea5039b",
   "metadata": {},
   "outputs": [],
   "source": [
    "## PASTE YOUR MASTERPIECE HERE (/¯◡ ‿ ◡)/¯☆*##"
   ]
  },
  {
   "cell_type": "code",
   "execution_count": null,
   "id": "e1434723-a8b2-4311-a786-6a76dd1b1526",
   "metadata": {},
   "outputs": [],
   "source": []
  },
  {
   "cell_type": "markdown",
   "id": "e6c52141-d648-49a7-8c2a-06724d3e88af",
   "metadata": {},
   "source": [
    "### Therapy time\n",
    "\n",
    "Напишите здесь ваши впечатления о задании (можно и не о задании): было ли интересно, было ли слишком легко или наоборот сложно и тд. Также сюда можно написать свои идеи по улучшению заданий, а также предложить данные, на основе которых вы бы хотели построить следующие дз.\n",
    "\n",
    "**Ваши мысли:**"
   ]
  },
  {
   "cell_type": "code",
   "execution_count": null,
   "id": "e3db0b95-89ca-48a2-9600-53a28090b241",
   "metadata": {},
   "outputs": [],
   "source": []
  }
 ],
 "metadata": {
  "kernelspec": {
   "display_name": "Python 3 (ipykernel)",
   "language": "python",
   "name": "python3"
  },
  "language_info": {
   "codemirror_mode": {
    "name": "ipython",
    "version": 3
   },
   "file_extension": ".py",
   "mimetype": "text/x-python",
   "name": "python",
   "nbconvert_exporter": "python",
   "pygments_lexer": "ipython3",
   "version": "3.10.0"
  }
 },
 "nbformat": 4,
 "nbformat_minor": 5
}
